{
 "cells": [
  {
   "cell_type": "markdown",
   "metadata": {},
   "source": [
    "# Lab 6 - Pandas II\n",
    "\n",
    "\n",
    "## Due: Thursday, February 8th, 2018,  11:59:00pm\n",
    "\n",
    "### Submission instructions\n",
    "After completing this homework, you will turn in three files via Canvas ->  Assignments -> Lab 6:\n",
    "Your Notebook, named si330-lab6-YOUR_UNIQUE_NAME.ipynb and\n",
    "the HTML file, named si330-lab6-YOUR_UNIQUE_NAME.html\n",
    "\n",
    "### Name:  libby murray\n",
    "### Uniqname: libbymur\n",
    "### People you worked with: Rhea Cheeci\n",
    "\n",
    "\n",
    "## Objectives\n",
    "After completing this Lab, you should know how to:\n",
    "* Web scraping using BeautifulSoup and Pandas.\n"
   ]
  },
  {
   "cell_type": "code",
   "execution_count": 1,
   "metadata": {
    "collapsed": true
   },
   "outputs": [],
   "source": [
    "from bs4 import BeautifulSoup\n",
    "import pandas as pd\n",
    "import requests"
   ]
  },
  {
   "cell_type": "markdown",
   "metadata": {},
   "source": [
    "## Step 1\n",
    "\n",
    "We will first import the table from the wikipedia page for the 2017 NBA Draft picks (https://en.wikipedia.org/wiki/2017_NBA_draft) using Beautiful Soup. After that we will attempt the same thing again using read_html and compare the results."
   ]
  },
  {
   "cell_type": "markdown",
   "metadata": {},
   "source": [
    "## Step 1.1 Reading HTML pages using BS4\n",
    "\n",
    "First we will read the entire contents of the webpage using BS4 and parse it into html. It might be useful to brush up on how BS4 works. You can find the documentation here: https://www.crummy.com/software/BeautifulSoup/bs4/doc/. The noteboook accompanying the lecture (https://umich.instructure.com/courses/189228/files/folder/Week%206?preview=7162322) provides a working example of how to use BS4 to retrieve data from html pages.\n",
    "\n",
    "**<font color=\"magenta\">1.1.1 Get the contents of the html page from the url provided and parse it using BeautifulSoup</font>**"
   ]
  },
  {
   "cell_type": "code",
   "execution_count": 2,
   "metadata": {
    "collapsed": true
   },
   "outputs": [],
   "source": [
    "url = \"https://en.wikipedia.org/wiki/2017_NBA_draft\"\n",
    "\n",
    "html = requests.get(url)\n",
    "soup = BeautifulSoup(html.content, 'html.parser')\n",
    "\n",
    "# Write your code here."
   ]
  },
  {
   "cell_type": "markdown",
   "metadata": {},
   "source": [
    "This is a big page so **do not print it out**. To get a better idea of how the table is formatted, go to the html page and inspect the table you are interested in.\n",
    "\n",
    "There are several tables in this page. We want to read the draft pick data (the 3rd table) under the <i>Draft Selections</i> section. There are two other smaller tables before this in the same section.\n",
    "\n",
    "The table that we are interested in looks something like this -\n",
    "```\n",
    "<table class=\"wikitable sortable\" style=\"text-align:left\">\n",
    "    <tr>\n",
    "        <th style=\"width:20px;\">\n",
    "            <abbr title=\"Draft round\">\n",
    "            Rnd.\n",
    "            </abbr>\n",
    "        </th>\n",
    "       .\n",
    "       .\n",
    "       .\n",
    "   <tr>\n",
    "   .\n",
    "   .\n",
    "   .       \n",
    "<table>\n",
    "```\n",
    "\n",
    "This gives us a good idea of what to look for using BeautifulSoup.\n",
    "\n",
    "The first step would be to select and store the entire contents of this table in a variable using BS4. We can then use BS4 to get the headers and rows from this table, by considering both the tag and it's CSS classes. There are several BeautifulSoup methods that you can use here such as ```.select()``` or ```.find_all()```. Look up in the documentation how you would use these methods. **Which method did you pick? Explain why?**\n",
    "\n",
    "**<font color=\"magenta\">1.1.2 Write the code below to get the entire contents of the table.</font>**"
   ]
  },
  {
   "cell_type": "code",
   "execution_count": 3,
   "metadata": {
    "collapsed": true
   },
   "outputs": [],
   "source": [
    "# change this\n",
    "draft_picks = soup.select(\"table.wikitable.sortable\")[0]"
   ]
  },
  {
   "cell_type": "markdown",
   "metadata": {},
   "source": [
    "Now that you have the table, you will need to retrieve the headers. \n",
    "\n",
    "**<font color=\"magenta\">1.1.3 First find the row where the headers are stored, and then get the text using the ```.getText()``` method from all the cells in that row.</font>**"
   ]
  },
  {
   "cell_type": "code",
   "execution_count": 4,
   "metadata": {},
   "outputs": [
    {
     "data": {
      "text/plain": [
       "['Rnd.',\n",
       " 'Pick',\n",
       " 'Player',\n",
       " 'Pos.',\n",
       " 'Nationality[n 1]',\n",
       " 'Team',\n",
       " 'School / club team']"
      ]
     },
     "execution_count": 4,
     "metadata": {},
     "output_type": "execute_result"
    }
   ],
   "source": [
    "# write your code to and store it in this list\n",
    "column_headers = []\n",
    "column_header_row = draft_picks.find(\"tr\")\n",
    "for cell in column_header_row.find_all(\"th\"):\n",
    "    column_headers.append((cell.getText()))\n",
    "column_headers"
   ]
  },
  {
   "cell_type": "markdown",
   "metadata": {},
   "source": [
    "Next you will retrieve all the rows from the table and store it in a data structure.\n",
    "\n",
    "**<font color=\"magenta\">1.1.4 Create a data structure which stores the Round, Pick number, Player, Nationality and Team for all the rows.</font>**"
   ]
  },
  {
   "cell_type": "code",
   "execution_count": 5,
   "metadata": {
    "collapsed": true
   },
   "outputs": [],
   "source": [
    "# Write your code here.\n",
    "data_rows = draft_picks.find_all('tr')[1:]"
   ]
  },
  {
   "cell_type": "markdown",
   "metadata": {},
   "source": [
    "The data is a bit messy. For eg. the names are being repeated and concatenated together as strings.\n",
    "\n",
    "**<font color=\"magenta\">1.1.5 Try to retrieve the names of the top 10 draft picks. Use the ```.getText()``` to retrieve the text.</font>**"
   ]
  },
  {
   "cell_type": "code",
   "execution_count": 6,
   "metadata": {},
   "outputs": [
    {
     "name": "stdout",
     "output_type": "stream",
     "text": [
      "Fultz, Markelle\n",
      "Ball, Lonzo\n",
      "Tatum, Jayson\n",
      "Jackson, Josh\n",
      "Fox, De'Aaron\n",
      "Isaac, Jonathan\n",
      "Markkanen, Lauri\n",
      "Ntilikina, Frank\n",
      "Smith Jr., Dennis\n",
      "Collins, Zach\n"
     ]
    }
   ],
   "source": [
    "# write your code here\n",
    "\n",
    "for i in range(10):\n",
    "    print(data_rows[i].find_all(\"td\")[2].select(\"span.sortkey\")[0].getText())"
   ]
  },
  {
   "cell_type": "markdown",
   "metadata": {},
   "source": [
    "Now you will store all the data from the table in a data structure called ```player_data```. This is similar to what you did to get column headers, but you will need to do it for all the rows in the table.\n",
    "\n",
    "Once you have stored the data in ```player_data```, create a new dataframe using ```player_data```, where each row corresponds to a row from the table and the column names are the column headers. You will find that your results are a bit messy such as the Player Name, some of the column headers etc.\n",
    "\n",
    "**<font color=\"magenta\">1.1.6 Get the data from all the rows of the table and store it into player_data</font>**"
   ]
  },
  {
   "cell_type": "code",
   "execution_count": 8,
   "metadata": {},
   "outputs": [],
   "source": [
    "player_data = []\n",
    "for i in range(len(data_rows)):\n",
    "    temp = []\n",
    "    for td in data_rows[i].find_all('td'):\n",
    "        temp.append(td.getText())\n",
    "    player_data.append(temp)\n"
   ]
  },
  {
   "cell_type": "code",
   "execution_count": 12,
   "metadata": {},
   "outputs": [
    {
     "data": {
      "text/html": [
       "<div>\n",
       "<style>\n",
       "    .dataframe thead tr:only-child th {\n",
       "        text-align: right;\n",
       "    }\n",
       "\n",
       "    .dataframe thead th {\n",
       "        text-align: left;\n",
       "    }\n",
       "\n",
       "    .dataframe tbody tr th {\n",
       "        vertical-align: top;\n",
       "    }\n",
       "</style>\n",
       "<table border=\"1\" class=\"dataframe\">\n",
       "  <thead>\n",
       "    <tr style=\"text-align: right;\">\n",
       "      <th></th>\n",
       "      <th>Rnd.</th>\n",
       "      <th>Pick</th>\n",
       "      <th>Player</th>\n",
       "      <th>Pos.</th>\n",
       "      <th>Nationality[n 1]</th>\n",
       "      <th>Team</th>\n",
       "      <th>School / club team</th>\n",
       "    </tr>\n",
       "  </thead>\n",
       "  <tbody>\n",
       "    <tr>\n",
       "      <th>0</th>\n",
       "      <td>1</td>\n",
       "      <td>1</td>\n",
       "      <td>Fultz, MarkelleMarkelle Fultz</td>\n",
       "      <td>PG/SG</td>\n",
       "      <td>United States</td>\n",
       "      <td>Philadelphia 76ers (from Brooklyn via Boston)[...</td>\n",
       "      <td>Washington (Fr.)</td>\n",
       "    </tr>\n",
       "    <tr>\n",
       "      <th>1</th>\n",
       "      <td>1</td>\n",
       "      <td>2</td>\n",
       "      <td>Ball, LonzoLonzo Ball</td>\n",
       "      <td>PG</td>\n",
       "      <td>United States</td>\n",
       "      <td>Los Angeles Lakers</td>\n",
       "      <td>UCLA (Fr.)</td>\n",
       "    </tr>\n",
       "    <tr>\n",
       "      <th>2</th>\n",
       "      <td>1</td>\n",
       "      <td>3</td>\n",
       "      <td>Tatum, JaysonJayson Tatum</td>\n",
       "      <td>SF</td>\n",
       "      <td>United States</td>\n",
       "      <td>Boston Celtics (from Sacramento via Philadelph...</td>\n",
       "      <td>Duke (Fr.)</td>\n",
       "    </tr>\n",
       "    <tr>\n",
       "      <th>3</th>\n",
       "      <td>1</td>\n",
       "      <td>4</td>\n",
       "      <td>Jackson, JoshJosh Jackson</td>\n",
       "      <td>SF</td>\n",
       "      <td>United States</td>\n",
       "      <td>Phoenix Suns</td>\n",
       "      <td>Kansas (Fr.)</td>\n",
       "    </tr>\n",
       "    <tr>\n",
       "      <th>4</th>\n",
       "      <td>1</td>\n",
       "      <td>5</td>\n",
       "      <td>Fox, De'AaronDe'Aaron Fox</td>\n",
       "      <td>PG</td>\n",
       "      <td>United States</td>\n",
       "      <td>Sacramento Kings (from Philadelphia)[C]</td>\n",
       "      <td>Kentucky (Fr.)</td>\n",
       "    </tr>\n",
       "  </tbody>\n",
       "</table>\n",
       "</div>"
      ],
      "text/plain": [
       "  Rnd. Pick                         Player   Pos. Nationality[n 1]  \\\n",
       "0    1    1  Fultz, MarkelleMarkelle Fultz  PG/SG    United States   \n",
       "1    1    2          Ball, LonzoLonzo Ball     PG    United States   \n",
       "2    1    3      Tatum, JaysonJayson Tatum     SF    United States   \n",
       "3    1    4      Jackson, JoshJosh Jackson     SF    United States   \n",
       "4    1    5      Fox, De'AaronDe'Aaron Fox     PG    United States   \n",
       "\n",
       "                                                Team School / club team  \n",
       "0  Philadelphia 76ers (from Brooklyn via Boston)[...   Washington (Fr.)  \n",
       "1                                 Los Angeles Lakers         UCLA (Fr.)  \n",
       "2  Boston Celtics (from Sacramento via Philadelph...         Duke (Fr.)  \n",
       "3                                       Phoenix Suns       Kansas (Fr.)  \n",
       "4            Sacramento Kings (from Philadelphia)[C]     Kentucky (Fr.)  "
      ]
     },
     "execution_count": 12,
     "metadata": {},
     "output_type": "execute_result"
    }
   ],
   "source": [
    "df = pd.DataFrame(player_data, columns=column_headers)\n",
    "df.head()"
   ]
  },
  {
   "cell_type": "markdown",
   "metadata": {},
   "source": [
    "## Step 1.2\n",
    "\n",
    "Let's try the same thing using ```read_html```. Remember that read_html will retrieve all the tables from the webpage.\n",
    "\n",
    "**<font color=\"magenta\">1.2.1 Use ```.read_html()``` to read the tables from the web_page. Store the correct table into the dataframe.</font>**"
   ]
  },
  {
   "cell_type": "code",
   "execution_count": 13,
   "metadata": {},
   "outputs": [],
   "source": [
    "# Write your code here\n",
    "dataframe = pd.read_html(url, header=0)[3]"
   ]
  },
  {
   "cell_type": "code",
   "execution_count": 14,
   "metadata": {},
   "outputs": [
    {
     "data": {
      "text/html": [
       "<div>\n",
       "<style>\n",
       "    .dataframe thead tr:only-child th {\n",
       "        text-align: right;\n",
       "    }\n",
       "\n",
       "    .dataframe thead th {\n",
       "        text-align: left;\n",
       "    }\n",
       "\n",
       "    .dataframe tbody tr th {\n",
       "        vertical-align: top;\n",
       "    }\n",
       "</style>\n",
       "<table border=\"1\" class=\"dataframe\">\n",
       "  <thead>\n",
       "    <tr style=\"text-align: right;\">\n",
       "      <th></th>\n",
       "      <th>Rnd.</th>\n",
       "      <th>Pick</th>\n",
       "      <th>Player</th>\n",
       "      <th>Pos.</th>\n",
       "      <th>Nationality[n 1]</th>\n",
       "      <th>Team</th>\n",
       "      <th>School / club team</th>\n",
       "    </tr>\n",
       "  </thead>\n",
       "  <tbody>\n",
       "    <tr>\n",
       "      <th>0</th>\n",
       "      <td>1</td>\n",
       "      <td>1</td>\n",
       "      <td>Fultz, MarkelleMarkelle Fultz</td>\n",
       "      <td>PG/SG</td>\n",
       "      <td>United States</td>\n",
       "      <td>Philadelphia 76ers (from Brooklyn via Boston)[...</td>\n",
       "      <td>Washington (Fr.)</td>\n",
       "    </tr>\n",
       "    <tr>\n",
       "      <th>1</th>\n",
       "      <td>1</td>\n",
       "      <td>2</td>\n",
       "      <td>Ball, LonzoLonzo Ball</td>\n",
       "      <td>PG</td>\n",
       "      <td>United States</td>\n",
       "      <td>Los Angeles Lakers</td>\n",
       "      <td>UCLA (Fr.)</td>\n",
       "    </tr>\n",
       "    <tr>\n",
       "      <th>2</th>\n",
       "      <td>1</td>\n",
       "      <td>3</td>\n",
       "      <td>Tatum, JaysonJayson Tatum</td>\n",
       "      <td>SF</td>\n",
       "      <td>United States</td>\n",
       "      <td>Boston Celtics (from Sacramento via Philadelph...</td>\n",
       "      <td>Duke (Fr.)</td>\n",
       "    </tr>\n",
       "    <tr>\n",
       "      <th>3</th>\n",
       "      <td>1</td>\n",
       "      <td>4</td>\n",
       "      <td>Jackson, JoshJosh Jackson</td>\n",
       "      <td>SF</td>\n",
       "      <td>United States</td>\n",
       "      <td>Phoenix Suns</td>\n",
       "      <td>Kansas (Fr.)</td>\n",
       "    </tr>\n",
       "    <tr>\n",
       "      <th>4</th>\n",
       "      <td>1</td>\n",
       "      <td>5</td>\n",
       "      <td>Fox, De'AaronDe'Aaron Fox</td>\n",
       "      <td>PG</td>\n",
       "      <td>United States</td>\n",
       "      <td>Sacramento Kings (from Philadelphia)[C]</td>\n",
       "      <td>Kentucky (Fr.)</td>\n",
       "    </tr>\n",
       "  </tbody>\n",
       "</table>\n",
       "</div>"
      ],
      "text/plain": [
       "   Rnd.  Pick                         Player   Pos. Nationality[n 1]  \\\n",
       "0     1     1  Fultz, MarkelleMarkelle Fultz  PG/SG    United States   \n",
       "1     1     2          Ball, LonzoLonzo Ball     PG    United States   \n",
       "2     1     3      Tatum, JaysonJayson Tatum     SF    United States   \n",
       "3     1     4      Jackson, JoshJosh Jackson     SF    United States   \n",
       "4     1     5      Fox, De'AaronDe'Aaron Fox     PG    United States   \n",
       "\n",
       "                                                Team School / club team  \n",
       "0  Philadelphia 76ers (from Brooklyn via Boston)[...   Washington (Fr.)  \n",
       "1                                 Los Angeles Lakers         UCLA (Fr.)  \n",
       "2  Boston Celtics (from Sacramento via Philadelph...         Duke (Fr.)  \n",
       "3                                       Phoenix Suns       Kansas (Fr.)  \n",
       "4            Sacramento Kings (from Philadelphia)[C]     Kentucky (Fr.)  "
      ]
     },
     "execution_count": 14,
     "metadata": {},
     "output_type": "execute_result"
    }
   ],
   "source": [
    "dataframe.head()"
   ]
  },
  {
   "cell_type": "markdown",
   "metadata": {},
   "source": [
    "## Step 2\n",
    "\n",
    "Next, you are going to analyse data from https://www.basketball-reference.com/draft/NBA_2017.html\n",
    "This table is a little complicated to read, so we have provided the data as a csv file. Download it from Canvas.\n",
    "The data is not complete and you will learn how to handle missing data points."
   ]
  },
  {
   "cell_type": "code",
   "execution_count": 15,
   "metadata": {
    "collapsed": true
   },
   "outputs": [],
   "source": [
    "df = pd.read_csv('nba_draft.csv')"
   ]
  },
  {
   "cell_type": "markdown",
   "metadata": {},
   "source": [
    "There are a lot of missing points in the data such as the 24th row. \n",
    "\n",
    "**<font color=\"magenta\">2.1 Print out and see what that looks like.</font>**"
   ]
  },
  {
   "cell_type": "code",
   "execution_count": 16,
   "metadata": {},
   "outputs": [
    {
     "data": {
      "text/html": [
       "<div>\n",
       "<style>\n",
       "    .dataframe thead tr:only-child th {\n",
       "        text-align: right;\n",
       "    }\n",
       "\n",
       "    .dataframe thead th {\n",
       "        text-align: left;\n",
       "    }\n",
       "\n",
       "    .dataframe tbody tr th {\n",
       "        vertical-align: top;\n",
       "    }\n",
       "</style>\n",
       "<table border=\"1\" class=\"dataframe\">\n",
       "  <thead>\n",
       "    <tr style=\"text-align: right;\">\n",
       "      <th></th>\n",
       "      <th>Rk</th>\n",
       "      <th>Pk</th>\n",
       "      <th>Tm</th>\n",
       "      <th>Player</th>\n",
       "      <th>College</th>\n",
       "      <th>Yrs</th>\n",
       "      <th>G</th>\n",
       "      <th>MP</th>\n",
       "      <th>PTS</th>\n",
       "      <th>TRB</th>\n",
       "      <th>AST</th>\n",
       "      <th>MP/Game</th>\n",
       "      <th>PTS/Game</th>\n",
       "      <th>TRB/Game</th>\n",
       "      <th>AST/Game</th>\n",
       "    </tr>\n",
       "  </thead>\n",
       "  <tbody>\n",
       "    <tr>\n",
       "      <th>0</th>\n",
       "      <td>1</td>\n",
       "      <td>1</td>\n",
       "      <td>PHI</td>\n",
       "      <td>Markelle Fultz</td>\n",
       "      <td>University of Washington</td>\n",
       "      <td>1.0</td>\n",
       "      <td>4.0</td>\n",
       "      <td>76.0</td>\n",
       "      <td>24.0</td>\n",
       "      <td>9.0</td>\n",
       "      <td>7.0</td>\n",
       "      <td>19.0</td>\n",
       "      <td>6.0</td>\n",
       "      <td>2.3</td>\n",
       "      <td>1.8</td>\n",
       "    </tr>\n",
       "    <tr>\n",
       "      <th>1</th>\n",
       "      <td>1</td>\n",
       "      <td>2</td>\n",
       "      <td>LAL</td>\n",
       "      <td>Lonzo Ball</td>\n",
       "      <td>University of California, Los Angeles</td>\n",
       "      <td>1.0</td>\n",
       "      <td>36.0</td>\n",
       "      <td>1222.0</td>\n",
       "      <td>367.0</td>\n",
       "      <td>257.0</td>\n",
       "      <td>255.0</td>\n",
       "      <td>33.9</td>\n",
       "      <td>10.2</td>\n",
       "      <td>7.1</td>\n",
       "      <td>7.1</td>\n",
       "    </tr>\n",
       "    <tr>\n",
       "      <th>2</th>\n",
       "      <td>1</td>\n",
       "      <td>3</td>\n",
       "      <td>BOS</td>\n",
       "      <td>Jayson Tatum</td>\n",
       "      <td>Duke University</td>\n",
       "      <td>1.0</td>\n",
       "      <td>58.0</td>\n",
       "      <td>1796.0</td>\n",
       "      <td>787.0</td>\n",
       "      <td>298.0</td>\n",
       "      <td>81.0</td>\n",
       "      <td>31.0</td>\n",
       "      <td>13.6</td>\n",
       "      <td>5.1</td>\n",
       "      <td>1.4</td>\n",
       "    </tr>\n",
       "    <tr>\n",
       "      <th>3</th>\n",
       "      <td>1</td>\n",
       "      <td>4</td>\n",
       "      <td>PHO</td>\n",
       "      <td>Josh Jackson</td>\n",
       "      <td>University of Kansas</td>\n",
       "      <td>1.0</td>\n",
       "      <td>56.0</td>\n",
       "      <td>1305.0</td>\n",
       "      <td>617.0</td>\n",
       "      <td>227.0</td>\n",
       "      <td>67.0</td>\n",
       "      <td>23.3</td>\n",
       "      <td>11.0</td>\n",
       "      <td>4.1</td>\n",
       "      <td>1.2</td>\n",
       "    </tr>\n",
       "    <tr>\n",
       "      <th>4</th>\n",
       "      <td>1</td>\n",
       "      <td>5</td>\n",
       "      <td>SAC</td>\n",
       "      <td>De'Aaron Fox</td>\n",
       "      <td>University of Kentucky</td>\n",
       "      <td>1.0</td>\n",
       "      <td>48.0</td>\n",
       "      <td>1303.0</td>\n",
       "      <td>543.0</td>\n",
       "      <td>126.0</td>\n",
       "      <td>204.0</td>\n",
       "      <td>27.1</td>\n",
       "      <td>11.3</td>\n",
       "      <td>2.6</td>\n",
       "      <td>4.3</td>\n",
       "    </tr>\n",
       "  </tbody>\n",
       "</table>\n",
       "</div>"
      ],
      "text/plain": [
       "   Rk  Pk   Tm          Player                                College  Yrs  \\\n",
       "0   1   1  PHI  Markelle Fultz               University of Washington  1.0   \n",
       "1   1   2  LAL      Lonzo Ball  University of California, Los Angeles  1.0   \n",
       "2   1   3  BOS    Jayson Tatum                        Duke University  1.0   \n",
       "3   1   4  PHO    Josh Jackson                   University of Kansas  1.0   \n",
       "4   1   5  SAC    De'Aaron Fox                 University of Kentucky  1.0   \n",
       "\n",
       "      G      MP    PTS    TRB    AST  MP/Game  PTS/Game  TRB/Game  AST/Game  \n",
       "0   4.0    76.0   24.0    9.0    7.0     19.0       6.0       2.3       1.8  \n",
       "1  36.0  1222.0  367.0  257.0  255.0     33.9      10.2       7.1       7.1  \n",
       "2  58.0  1796.0  787.0  298.0   81.0     31.0      13.6       5.1       1.4  \n",
       "3  56.0  1305.0  617.0  227.0   67.0     23.3      11.0       4.1       1.2  \n",
       "4  48.0  1303.0  543.0  126.0  204.0     27.1      11.3       2.6       4.3  "
      ]
     },
     "execution_count": 16,
     "metadata": {},
     "output_type": "execute_result"
    }
   ],
   "source": [
    "# Write your code here\n",
    "df.head()"
   ]
  },
  {
   "cell_type": "markdown",
   "metadata": {},
   "source": [
    "Now you want to remove all the Nan (Not a Number) values with zero in this case. Keep in mind that this is not going to be appropriate for all the columns, such as the column for college.\n",
    "\n",
    "**<font color=\"magenta\">Replace all the missing values with 0 for the appropriate columns. Hint: There is a pandas method which will do this for you.</font>**"
   ]
  },
  {
   "cell_type": "code",
   "execution_count": 17,
   "metadata": {
    "collapsed": true
   },
   "outputs": [],
   "source": [
    "df.iloc[24]\n",
    "df[['Yrs', 'G', 'MP', 'PTS', 'TRB', 'AST', 'MP/Game', 'PTS/Game', 'TRB/Game', 'AST/Game']] = df[['Yrs', 'G', 'MP', 'PTS', 'TRB', 'AST', 'MP/Game', 'PTS/Game', 'TRB/Game', 'AST/Game']].fillna(0)"
   ]
  },
  {
   "cell_type": "markdown",
   "metadata": {},
   "source": [
    "## Step 3. Visualization\n",
    "\n",
    "The data frame that we have here is multi-dimensional i.e. each row has data points which correspond to more than one dimensions (Pick, Minutes Played, Points, Rebounds, Assists, Minutes Played per Game, Points per Game, Rebounds per Game, Assists per Game). You might want to quickly check if there's any correlation / patterns between these dimensions. The easiest way to do this is to use **scatterplot matrix**.\n",
    "\n",
    "A scatter plot matrix shows relationships among several variables taken two at a time. Scatter plot matrices can reveal a wealth of information, including dependencies such as linear correlation, clusters, and outliers. You can explore the relationship between when a player was picked and how they perform over the rest of the season along various dimensions.\n",
    "\n",
    "You can easily implement this using seaborn. Go through this example first: https://seaborn.pydata.org/examples/scatterplot_matrix.html\n",
    "\n",
    "Create a Scatterplot matrix for the following dimensions: \n",
    "* Pick\n",
    "* Minutes Played per Game\n",
    "* Points per Game\n",
    "* Rebounds per Game\n",
    "* Assists per Game"
   ]
  },
  {
   "cell_type": "code",
   "execution_count": 22,
   "metadata": {},
   "outputs": [
    {
     "data": {
      "text/plain": [
       "<seaborn.axisgrid.PairGrid at 0x1a254ef2e8>"
      ]
     },
     "execution_count": 22,
     "metadata": {},
     "output_type": "execute_result"
    },
    {
     "data": {
      "image/png": "[encoded data removed]",
      "text/plain": [
       "<matplotlib.figure.Figure at 0x1a254ef5c0>"
      ]
     },
     "metadata": {},
     "output_type": "display_data"
    }
   ],
   "source": [
    "# Write your code to create the visualization\n",
    "import seaborn as sns\n",
    "import matplotlib.pyplot as plt\n",
    "%matplotlib inline\n",
    "sns.set(style=\"ticks\")\n",
    "\n",
    "sns.pairplot(df[['Pk', 'MP/Game', 'PTS/Game', 'TRB/Game', 'AST/Game']], dropna = True)\n",
    "\n",
    "# Write your code to create the visualization"
   ]
  }
 ],
 "metadata": {
  "kernelspec": {
   "display_name": "Python 3",
   "language": "python",
   "name": "python3"
  },
  "language_info": {
   "codemirror_mode": {
    "name": "ipython",
    "version": 3
   },
   "file_extension": ".py",
   "mimetype": "text/x-python",
   "name": "python",
   "nbconvert_exporter": "python",
   "pygments_lexer": "ipython3",
   "version": "3.6.8"
  }
 },
 "nbformat": 4,
 "nbformat_minor": 2
}
