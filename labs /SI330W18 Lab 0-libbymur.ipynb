{
 "cells": [
  {
   "cell_type": "markdown",
   "metadata": {},
   "source": [
    "# SI 330 - Lab 0: Introduction to Jupyter\n",
    "\n",
    "## Objectives\n",
    "1. To become familiar with Jupyter\n",
    "2. To become familiar with the download-work-save-upload workflow we'll be using for Lab and Homework assignments."
   ]
  },
  {
   "cell_type": "markdown",
   "metadata": {},
   "source": [
    "## **Submission Instructions:**\n",
    "After completing this lab exercise, you should turn in two files via Canvas > Assignments:\n",
    "1. A Jupyter Notebook file named lab0-YOUR_UNIQUE_NAME.ipynb. \n",
    "2. An html file named lab0-YOUR_UNIQUE_NAME.html showing the preview of the above Jupyter Notebook. To create this file, select File > Download as HTML. We want this in case something breaks when we load your notebook.  This will let us see what you saw when you were done."
   ]
  },
  {
   "cell_type": "markdown",
   "metadata": {},
   "source": [
    "## Please fill in... \n",
    "### * Your name: Libby Murray \n",
    "\n",
    "### * People you worked with:  [If you didn't work with anyone, write \"I worked by myself\" here] I worked by myself"
   ]
  },
  {
   "cell_type": "markdown",
   "metadata": {},
   "source": [
    "We're going to create a list of dictionaries to work with.  We'll be covering compound data structures next week,\n",
    "but this is a good warm-up."
   ]
  },
  {
   "cell_type": "code",
   "execution_count": 3,
   "metadata": {
    "collapsed": true
   },
   "outputs": [],
   "source": [
    "animal_companions = [{'name': 'Bonnie', 'type':'pony'},\n",
    "                     {'name': 'Solo', 'type': 'horse'},\n",
    "                     {'name': 'Finney', 'type': 'dog'},\n",
    "                     {'name': 'Pacey', 'type': 'cat'}]"
   ]
  },
  {
   "cell_type": "markdown",
   "metadata": {},
   "source": [
    "Now we're going to print out a sorted list of critter names (we'll be covering sorting and lambdas next week too):"
   ]
  },
  {
   "cell_type": "code",
   "execution_count": 4,
   "metadata": {
    "scrolled": true
   },
   "outputs": [
    {
     "name": "stdout",
     "output_type": "stream",
     "text": [
      "Bonnie\n",
      "Finney\n",
      "Pacey\n",
      "Solo\n"
     ]
    }
   ],
   "source": [
    "\n",
    "\n",
    "for critter in sorted(animal_companions, key=lambda x: x['name']):\n",
    "    print(critter['name'])"
   ]
  },
  {
   "cell_type": "code",
   "execution_count": null,
   "metadata": {
    "collapsed": true
   },
   "outputs": [],
   "source": []
  }
 ],
 "metadata": {
  "kernelspec": {
   "display_name": "Python 3",
   "language": "python",
   "name": "python3"
  },
  "language_info": {
   "codemirror_mode": {
    "name": "ipython",
    "version": 3
   },
   "file_extension": ".py",
   "mimetype": "text/x-python",
   "name": "python",
   "nbconvert_exporter": "python",
   "pygments_lexer": "ipython3",
   "version": "3.6.7"
  }
 },
 "nbformat": 4,
 "nbformat_minor": 2
}
