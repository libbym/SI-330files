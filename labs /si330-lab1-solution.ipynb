{
 "cells": [
  {
   "cell_type": "markdown",
   "metadata": {},
   "source": [
    "# Lab 1 - Data Structures and Sorting\n",
    "\n",
    "\n",
    "### Submission instructions\n",
    "#### Turn in the lab via Canvas Assignments today (Thus, ) by 11:59pm today.\n",
    "After completing this lab, you will turn in two files via Canvas ->  Assignments -> Homework 1:\n",
    "Your Notebook, named si330-hw1-YOUR_UNIQUE_NAME.ipynb and\n",
    "the HTML file, named si330-hw1-YOUR_UNIQUE_NAME.html\n",
    "\n",
    "### Name:  YOUR NAME GOES HERE\n",
    "### Uniqname: YOUR UNIQNAME GOES HERE\n",
    "### People you worked with: [if you didn't work with anyone else write \"I worked by myself\" here].\n",
    "\n",
    "## Objectives\n",
    "After completing this homework assignment, you should know how to\n",
    "* use compound data structures\n",
    "* perform simple and complex sorting\n",
    "* use lambda functions\n",
    "\n",
    "In addition, this assignment will provide an opportunity to work with a large (100,000 row) data set.\n",
    "\n",
    "## Background\n",
    "\n",
    "Massive Open Online Courses (MOOCs) are a popular way for people to learn new skills.  The University of Michigan\n",
    "offers many different MOOCs, which are produced by faculty members and supported by the Office of Academic \n",
    "Innovation.\n",
    "\n",
    "MOOCs tend to be used by hundreds to hundreds of thousands of users.  These users leave \"digital exhaust\" when\n",
    "they work through the MOOC in the form of web server log entries.  We have obtained a small sample of these data\n",
    "files from Prof. Chris Brooks, who is a colleague here at UMSI.  The data files are de-identified: anything\n",
    "that could identify a person, such as their UMID or their IP address are \"hashed\" (encrypted).  Each line in the\n",
    "data file represents a \"page view\" by a user.  The schema for each line is:\n",
    "\n",
    "```umich_user_id, hashed_session_cookie_id, server_timestamp, hashed_ip, user_agent, url, initial_referrer_url, rowser_language, course_id, country_cd, region_cd, timezone, os, browser, key, value```\n",
    "\n",
    "**For this lab we will only concern ourselves with ```UMICH_USER_ID```, which identifies each user.**\n",
    "\n",
    "We will use the files **mooc_small.csv** and **countrycodes.tsv** for this lab.\n",
    "\n",
    "In the lab, we will go through the motions of some manipulation of the MOOC log data. These concepts would be tested in your homework assignment, where you will use these manipulations to answer some real world questions."
   ]
  },
  {
   "cell_type": "code",
   "execution_count": 1,
   "metadata": {
    "collapsed": true
   },
   "outputs": [],
   "source": [
    "import csv\n",
    "from collections import defaultdict"
   ]
  },
  {
   "cell_type": "markdown",
   "metadata": {},
   "source": [
    "### Importing the data\n",
    "\n",
    "The first step is to load the data. All the data about mooc usage and users are in the file mooc_small.csv. We also need the data from countrycodes.tsv to interpret the names of the country which are represented as country codes in ```mooc_small.csv```\n",
    "\n",
    "We want to know for a given two digit ```country_cd``` in ```mooc_small.csv```, the complete name of the country. Hence, we will import the country codes into a dictionary."
   ]
  },
  {
   "cell_type": "markdown",
   "metadata": {},
   "source": [
    "<font color=\"red\">**Q: Explain why a dictionary is the best data structure to store this?**</font>"
   ]
  },
  {
   "cell_type": "markdown",
   "metadata": {},
   "source": [
    "Write your answer here..."
   ]
  },
  {
   "cell_type": "code",
   "execution_count": 2,
   "metadata": {
    "collapsed": true
   },
   "outputs": [],
   "source": [
    "### This chunk of code reads from a tab separated value file and stores the data in a dictionary\n",
    "country_names = {}\n",
    "\n",
    "with open(\"countrycodes.tsv\", \"r\") as csvfile:\n",
    "    reader = csv.DictReader(csvfile, delimiter = \"\\t\", quotechar = '\"')\n",
    "    for row in reader:\n",
    "        country_names[row['ISO ALPHA-2 Code']] = row['Country or Area Name']"
   ]
  },
  {
   "cell_type": "markdown",
   "metadata": {},
   "source": [
    "Next we will import the data from ```mooc_small.csv``` into a list."
   ]
  },
  {
   "cell_type": "code",
   "execution_count": 3,
   "metadata": {
    "collapsed": true
   },
   "outputs": [],
   "source": [
    "# Solution block: to be deleted before distribution\n",
    "mooc_data_file_name = \"mooc.csv\" # Remember to change this later\n",
    "\n",
    "mooc_data = []\n",
    "\n",
    "with open(mooc_data_file_name, \"r\") as csvfile:\n",
    "    reader = csv.DictReader(csvfile, delimiter = \",\", quotechar = '\"')\n",
    "    for row in reader:\n",
    "        mooc_data.append(row)"
   ]
  },
  {
   "cell_type": "markdown",
   "metadata": {},
   "source": [
    "Read the **first 10 lines** from ```mooc_data```. We will output the ```user id```, ```country code``` and ```full name of the country```.\n",
    "<font color=\"red\">You will modify the next block of code to print.</font>"
   ]
  },
  {
   "cell_type": "code",
   "execution_count": 4,
   "metadata": {},
   "outputs": [
    {
     "name": "stdout",
     "output_type": "stream",
     "text": [
      "0ea5cc6ff0ca76782e6c0a81f070cae9cf0971d9 PF French Polynesia\n",
      "0ea5cc6ff0ca76782e6c0a81f070cae9cf0971d9 PF French Polynesia\n",
      "5450de1c9e1874d613a9649a39352a10313a3b8f IT Italy\n",
      "0ea5cc6ff0ca76782e6c0a81f070cae9cf0971d9 PF French Polynesia\n",
      "25424b1007637699cf0c672edc7a64c2b65268fa US United States of America\n",
      "a95f04999ccf8fcd0f26fb0851745073a147e009 CZ Czech Republic\n",
      "4ea0a18ab02a30290dda02bdb2da8a7a6a469245 US United States of America\n",
      "25424b1007637699cf0c672edc7a64c2b65268fa US United States of America\n",
      "44185055eece5d1bc7986d743d240a7633d968ff US United States of America\n",
      "005aa91c779e6fe84b49398793dbda670dd6c352 NO Norway\n"
     ]
    }
   ],
   "source": [
    "# Solution block: to be deleted before distribution\n",
    "for row in mooc_data[:10]:\n",
    "    print(row['umich_user_id'], row['country_cd'], country_names[row['country_cd']])"
   ]
  },
  {
   "cell_type": "markdown",
   "metadata": {},
   "source": [
    "### Manipulating the data\n",
    "\n",
    "Next, we want to store the data into a data structure which will make it easier for us to perform operations on it later. We will create a dictionary of lists. \n",
    "<font color='red'>Using ```defaultdict```, store for each country a list of log entries. For now, we will only store the ```umich_user_id``` for the log.</font>"
   ]
  },
  {
   "cell_type": "code",
   "execution_count": 5,
   "metadata": {
    "collapsed": true
   },
   "outputs": [],
   "source": [
    "# Solution block: to be deleted before distribution\n",
    "country_user_data = defaultdict(list)\n",
    "for i in mooc_data:\n",
    "    country_user_data[i['country_cd']].append(i['umich_user_id'])"
   ]
  },
  {
   "cell_type": "markdown",
   "metadata": {},
   "source": [
    "### Filtering the data\n",
    "\n",
    "We want to find out the number of different users overall, and from the US. For that we will first need to filter ```country_user_data``` to retrieve data from the US, and store it in ```us_user_data```. Since we are using a dictionary, this is relatively straightforward."
   ]
  },
  {
   "cell_type": "code",
   "execution_count": 6,
   "metadata": {
    "collapsed": true
   },
   "outputs": [],
   "source": [
    "us_user_data = country_user_data['US']"
   ]
  },
  {
   "cell_type": "markdown",
   "metadata": {},
   "source": [
    "### Operations on the data\n",
    "\n",
    "To get the number of unique users in the data, we can do it in two different ways - **dictionaries** and **sets**.\n",
    "\n",
    "Dictionaries are commonly used. The advantage of dictionaries is that each key will be that of an unique user, while the corresponding value to that key will allow you to store the number of logs for that user."
   ]
  },
  {
   "cell_type": "markdown",
   "metadata": {},
   "source": [
    "<font color=\"red\">In the following code block you will use **dictionaries** to count unique users and the number of logs for each. Write down the code using ```defaultdict```.</font>"
   ]
  },
  {
   "cell_type": "code",
   "execution_count": 7,
   "metadata": {},
   "outputs": [
    {
     "name": "stdout",
     "output_type": "stream",
     "text": [
      "Total no. of unique users:  51\n",
      "No. of unique users from the US:  25\n"
     ]
    }
   ],
   "source": [
    "# Solution block: to be deleted before distribution\n",
    "### Using Dictionaries\n",
    "unique_user_data_overall = defaultdict(int)\n",
    "unique_user_data_us = defaultdict(int)\n",
    "for i in mooc_data:\n",
    "    unique_user_data_overall[i['umich_user_id']] += 1\n",
    "    if i['country_cd'] == 'US':\n",
    "        unique_user_data_us[i['umich_user_id']] += 1\n",
    "\n",
    "print(\"Total no. of unique users: \", len(unique_user_data_overall))\n",
    "print(\"No. of unique users from the US: \", len(unique_user_data_us))"
   ]
  },
  {
   "cell_type": "markdown",
   "metadata": {},
   "source": [
    "Another way of counting unique users in using sets. In the following block you will create two sets to store the ids of users globally, and from the US. A set will only store unique ids, unlike a list.\n",
    "<font color='red'>In the following chunk, we get a set of all the unique users globally. Write down the code to store in a separate set ```unique_us_users``` the set of users from the US."
   ]
  },
  {
   "cell_type": "code",
   "execution_count": 8,
   "metadata": {},
   "outputs": [
    {
     "name": "stdout",
     "output_type": "stream",
     "text": [
      "Total no. of unique users:  51\n",
      "No. of unique users from the US:  25\n"
     ]
    }
   ],
   "source": [
    "# Solution block: to be deleted before distribution\n",
    "### Using Sets\n",
    "unique_users = set()\n",
    "unique_us_users = set()\n",
    "for i in mooc_data:\n",
    "    unique_users.add(i['umich_user_id'])\n",
    "    if i['country_cd'] == 'US':\n",
    "        unique_us_users.add(i['umich_user_id'])\n",
    "\n",
    "print(\"Total no. of unique users: \", len(unique_users))\n",
    "print(\"No. of unique users from the US: \", len(unique_us_users))"
   ]
  },
  {
   "cell_type": "markdown",
   "metadata": {},
   "source": [
    "#### Average number of logs globally, and for users from the US.\n",
    "Here we will write the code to get the average number of logs for each user. We can use the dictionaries that we created previously, ```unique_user_data_overall``` and ```unique_user_data_us``` to compute this."
   ]
  },
  {
   "cell_type": "code",
   "execution_count": 9,
   "metadata": {},
   "outputs": [
    {
     "name": "stdout",
     "output_type": "stream",
     "text": [
      "1.9607843137254901 1.76\n"
     ]
    }
   ],
   "source": [
    "# Solution block: to be deleted before distribution\n",
    "global_mean_logs_per_user = sum(unique_user_data_overall.values())/len(unique_user_data_overall)\n",
    "us_mean_logs_per_user = sum(unique_user_data_us.values())/len(unique_user_data_us)\n",
    "\n",
    "print(global_mean_logs_per_user, us_mean_logs_per_user)"
   ]
  },
  {
   "cell_type": "markdown",
   "metadata": {},
   "source": [
    "### Sorting\n",
    "Getting the ```user_id``` of the top 10 users who visited the most pages, globally and from the US. We will implement the ```sorted``` and pass a ```lambda``` function through the ```key``` parameter.\n",
    "\n",
    "**<font color=\"red\">Write down the code for the lambda function.</font>**"
   ]
  },
  {
   "cell_type": "code",
   "execution_count": 10,
   "metadata": {},
   "outputs": [
    {
     "name": "stdout",
     "output_type": "stream",
     "text": [
      "('c7e0b7e873392815abee61a53c231a1d5866a659', 6)\n",
      "('1066a697903937dcb2bba46698b65c9067602b13', 4)\n",
      "('44185055eece5d1bc7986d743d240a7633d968ff', 3)\n",
      "('95cffc5948af183853735930299a0bc48c1cdc6c', 3)\n",
      "('70d530b2e677aa82a680b36ba534dbabc884e010', 3)\n"
     ]
    }
   ],
   "source": [
    "# Solution block: to be deleted before distribution\n",
    "sorted_us_data = sorted(unique_user_data_us.items(), key = lambda x: x[1], reverse = True)\n",
    "\n",
    "for i in range(5):\n",
    "    print(sorted_us_data[i])"
   ]
  }
 ],
 "metadata": {
  "kernelspec": {
   "display_name": "Python 3",
   "language": "python",
   "name": "python3"
  },
  "language_info": {
   "codemirror_mode": {
    "name": "ipython",
    "version": 3
   },
   "file_extension": ".py",
   "mimetype": "text/x-python",
   "name": "python",
   "nbconvert_exporter": "python",
   "pygments_lexer": "ipython3",
   "version": "3.6.3"
  }
 },
 "nbformat": 4,
 "nbformat_minor": 2
}
