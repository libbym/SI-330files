{
 "cells": [
  {
   "cell_type": "markdown",
   "metadata": {},
   "source": [
    "# Lab 8 - SQL\n",
    "\n",
    "\n",
    "## Due: Thursday, March 8th, 2018,  11:59:00pm\n",
    "\n",
    "### Submission instructions\n",
    "After completing this homework, you will turn in three files via Canvas ->  Assignments -> Lab 8:\n",
    "Your Notebook, named si330-lab8-YOUR_UNIQUE_NAME.ipynb and\n",
    "the HTML file, named si330-lab8-YOUR_UNIQUE_NAME.html\n",
    "\n",
    "### Name:  YOUR NAME GOES HERE\n",
    "### Uniqname: YOUR UNIQNAME GOES HERE\n",
    "### People you worked with: [if you didn't work with anyone else write \"I worked by myself\" here].\n",
    "\n",
    "\n",
    "## Objectives\n",
    "After completing this Lab, you should know how to:\n",
    "\n",
    "\n",
    "### Required actions on your part are indicated in <font color=\"orange\">orange</font>.  Required input (e.g. answers to questions) are indicated in <font color=\"magenta\">magenta</font>."
   ]
  },
  {
   "cell_type": "markdown",
   "metadata": {},
   "source": [
    "## Step 3: Using python to store and retrieve data from your database"
   ]
  },
  {
   "cell_type": "code",
   "execution_count": 2,
   "metadata": {},
   "outputs": [],
   "source": [
    "## You'll need to install this first\n",
    "import psycopg2"
   ]
  },
  {
   "cell_type": "markdown",
   "metadata": {},
   "source": [
    "### Step 3.1: Connecting to your Database\n",
    "To set up a connection to the Database, you'll need to pass a four parameters as a string - host, dbname, user, password in the following format.\n",
    "\"host='*[insertHostAddress]*' dbname='*[insertDBname]*' user='*[yourMasterUsername]*' password='*[yourMasterPassword]*'\"\n",
    "\n",
    "<font color=\"magenta\">Write down the string which will allow you to connect to the database</font>\n",
    "\n",
    "** When you submit the lab, make sure you remove your login credentials before turning in your lab **"
   ]
  },
  {
   "cell_type": "code",
   "execution_count": 3,
   "metadata": {
    "scrolled": true
   },
   "outputs": [],
   "source": [
    "## This won't work because I have not provided my actual credentials. Make sure you enter your own before running this\n",
    "\n",
    "connection_string = \"host='si330-abhsarma.czqegfu9nqud.us-east-2.rds.amazonaws.com' dbname='music' user='root' password='rootroot'\"\n",
    "connection = psycopg2.connect(connection_string)"
   ]
  },
  {
   "cell_type": "code",
   "execution_count": 4,
   "metadata": {},
   "outputs": [],
   "source": [
    "# This sets up a connection \n",
    "mark = connection.cursor()"
   ]
  },
  {
   "cell_type": "markdown",
   "metadata": {},
   "source": [
    "### Step 3.2 Making queries to your Database\n",
    "\n",
    "You'll use ```mark.execute()``` to pass your SQL queries as strings. Specify the SQL query to CREATE a Table named songs with the following columns: ```id (integer)```, ```title (varchar)```, ```album (varchar)```.\n",
    "\n",
    "<font color=\"magenta\">Write your query to Create a Table, which you'll pass into the execute() function</font>"
   ]
  },
  {
   "cell_type": "code",
   "execution_count": 5,
   "metadata": {},
   "outputs": [],
   "source": [
    "mark.execute(\"CREATE TABLE IF NOT EXISTS songs_demo (id integer PRIMARY KEY, title varchar, album varchar);\")"
   ]
  },
  {
   "cell_type": "code",
   "execution_count": 6,
   "metadata": {},
   "outputs": [],
   "source": [
    "# This will commit your query to the server. Without this, your query is not complete.\n",
    "connection.commit()"
   ]
  },
  {
   "cell_type": "markdown",
   "metadata": {},
   "source": [
    "In the cell below write your SQL query to Insert into the table the following data:\n",
    "Key: 1\n",
    "Song: Dreams\n",
    "Artist: Fleetwood Mac\n",
    "Album: Rumours\n",
    "\n",
    "<font color=\"magenta\">Write your SQL query in the following code block. Also remember to commit</font>"
   ]
  },
  {
   "cell_type": "code",
   "execution_count": 16,
   "metadata": {},
   "outputs": [],
   "source": [
    "# Solution\n",
    "\n",
    "## If your table is already populated, this will return an error\n",
    "mark.execute(\"INSERT INTO songs_demo (id, title, album) VALUES (1, 'Dreams', 'Rumours')\")\n",
    "connection.commit()"
   ]
  },
  {
   "cell_type": "markdown",
   "metadata": {},
   "source": [
    "Below we show two examples of retrieving data from the table. ```fetchall()``` allows you to get all the rows from the table. This will return a list of tuples.\n",
    "\n",
    "On the other hand, if you are just interested in the first row, you could use ```fetchone()``` which returns the first row from the table. This will return a tuple.\n",
    "\n",
    "**If you've successfully stored the data into the database, the next two chunks should output a list of tuples. **"
   ]
  },
  {
   "cell_type": "code",
   "execution_count": 7,
   "metadata": {},
   "outputs": [
    {
     "data": {
      "text/plain": [
       "[(1, 'Dreams', 'Rumours'),\n",
       " (2, 'Every Rose Has Its Thorn', 'Poison'),\n",
       " (3, 'Jump', '1984'),\n",
       " (4, 'The Chain', 'Rumours')]"
      ]
     },
     "execution_count": 7,
     "metadata": {},
     "output_type": "execute_result"
    }
   ],
   "source": [
    "## You can check the contents of your table using this\n",
    "\n",
    "mark.execute(\"SELECT * FROM songs_demo\")\n",
    "records = mark.fetchall()\n",
    "records"
   ]
  },
  {
   "cell_type": "code",
   "execution_count": 8,
   "metadata": {
    "scrolled": true
   },
   "outputs": [],
   "source": [
    "mark.execute(\"SELECT * FROM songs_demo\")\n",
    "records = mark.fetchone()\n",
    "records\n",
    "connection.commit()"
   ]
  },
  {
   "cell_type": "markdown",
   "metadata": {},
   "source": [
    "How do you count the number of rows that you have returned?\n",
    "The SQL COUNT function is used to count the number of rows returned in a SELECT statement."
   ]
  },
  {
   "cell_type": "code",
   "execution_count": 19,
   "metadata": {},
   "outputs": [],
   "source": [
    "connection.commit()"
   ]
  },
  {
   "cell_type": "code",
   "execution_count": 20,
   "metadata": {},
   "outputs": [
    {
     "data": {
      "text/plain": [
       "('Dreams',)"
      ]
     },
     "execution_count": 20,
     "metadata": {},
     "output_type": "execute_result"
    }
   ],
   "source": [
    "mark.execute(\"SELECT title from songs_demo where title like '%a%'\")\n",
    "records = mark.fetchone()\n",
    "records"
   ]
  },
  {
   "cell_type": "markdown",
   "metadata": {},
   "source": [
    "### Step 3.3 Storing data from a list to the database\n",
    "\n",
    "You are usually not going to populate your database with just one row of data - you'll probably want to store large amounts of data in multiple rows. Let's see how we can do that. ```list_of_songs``` is a list of tuples where each tuple is (*id*, *song_name*, *album_name*).\n",
    "\n",
    "You can use ```executemany``` to write such a data structure into a table, as shown below."
   ]
  },
  {
   "cell_type": "code",
   "execution_count": 19,
   "metadata": {},
   "outputs": [],
   "source": [
    "list_of_songs = [(2, 'Every Rose Has Its Thorn', 'Poison'), \n",
    "                (3, 'Jump', '1984'), \n",
    "                (4, 'The Chain', 'Rumours')]"
   ]
  },
  {
   "cell_type": "code",
   "execution_count": 20,
   "metadata": {},
   "outputs": [],
   "source": [
    "mark.executemany(\"INSERT INTO songs_demo (id, title, album) VALUES (%s, %s, %s)\", list_of_songs)\n",
    "connection.commit()"
   ]
  },
  {
   "cell_type": "code",
   "execution_count": 21,
   "metadata": {},
   "outputs": [],
   "source": [
    "connection.commit()"
   ]
  },
  {
   "cell_type": "code",
   "execution_count": null,
   "metadata": {},
   "outputs": [],
   "source": [
    "connection.close()"
   ]
  },
  {
   "cell_type": "markdown",
   "metadata": {},
   "source": [
    "### Note: If your table has already been created, or it has been populated but you want to create a new table in place of the old one, or you want to empty your table, here are some commands that you can use "
   ]
  },
  {
   "cell_type": "code",
   "execution_count": null,
   "metadata": {},
   "outputs": [],
   "source": [
    "## This will drop the table i.e. delete it\n",
    "\n",
    "mark.execute(\"DROP TABLE songs_demo\")\n",
    "connection.commit()"
   ]
  },
  {
   "cell_type": "code",
   "execution_count": null,
   "metadata": {},
   "outputs": [],
   "source": [
    "## This will empty your the table i.e. remove all the rows\n",
    "\n",
    "mark.execute(\"DELETE FROM songs_demo\")\n",
    "connection.commit()"
   ]
  },
  {
   "cell_type": "code",
   "execution_count": null,
   "metadata": {},
   "outputs": [],
   "source": [
    "## You can also add / delete columns from your table\n",
    "\n",
    "# Adding a column\n",
    "mark.execute(\"ALTER TABLE songs ADD artist_name\")\n",
    "connection.commit()\n",
    "\n",
    "\n",
    "# Deleting a column\n",
    "mark.execute(\"ALTER TABLE songs DROP COLUMN artist_name\")\n",
    "connection.commit()"
   ]
  },
  {
   "cell_type": "markdown",
   "metadata": {},
   "source": [
    "### Step 3.4 More on Retrieving Data\n",
    "\n",
    "We have provided two data structures for you. Perform the following steps:\n",
    "\n",
    "* Create a table named **Songs** with columns *id, song_title, album_name, artistID*\n",
    "* Create a second table named **Artists** with columns *artistID, artist_name*\n",
    "* Select the columns *id, song_title, album_name, artist_name* from the two tables such that artistID from **Songs** table is the same as artistID from the **Artists** table. (There are two ways you can do this - using JOINs or using the WHERE funtion)\n",
    "* Print the output\n",
    "\n",
    "<font color=\"magenta\">Write your SQL queris to create the two tables, insert data into them, and then retrieve the data as specified</font>"
   ]
  },
  {
   "cell_type": "code",
   "execution_count": 9,
   "metadata": {},
   "outputs": [],
   "source": [
    "list_of_songs = [(1, 'Dreams', 'Poison', 1),\n",
    "                (2, 'Every Rose Has Its Thorn', 'Poison', 2), \n",
    "                (3, 'Jump', '1984', 3), \n",
    "                (4, 'The Chain', 'Rumours', 1)]\n",
    "\n",
    "list_of_artists = [(1, 'Fleetwood Mac'),\n",
    "                (2, 'Poison'), \n",
    "                (3, 'Van Halen')]"
   ]
  },
  {
   "cell_type": "code",
   "execution_count": 10,
   "metadata": {},
   "outputs": [],
   "source": [
    "connection = psycopg2.connect(connection_string)\n",
    "mark = connection.cursor()"
   ]
  },
  {
   "cell_type": "code",
   "execution_count": 11,
   "metadata": {},
   "outputs": [],
   "source": [
    "mark.execute(\"CREATE TABLE IF NOT EXISTS songs (id integer PRIMARY KEY, title varchar, album varchar, artistID integer);\")\n",
    "connection.commit()"
   ]
  },
  {
   "cell_type": "code",
   "execution_count": null,
   "metadata": {},
   "outputs": [],
   "source": [
    "mark.executemany(\"INSERT INTO songs (id, title, album, artistID) VALUES (%s, %s, %s, %s)\", list_of_songs)\n",
    "connection.commit()"
   ]
  },
  {
   "cell_type": "code",
   "execution_count": 32,
   "metadata": {},
   "outputs": [],
   "source": [
    "mark.execute(\"CREATE TABLE IF NOT EXISTS artists (id integer PRIMARY KEY, artist varchar);\")\n",
    "mark.executemany(\"INSERT INTO artists (id, artist) VALUES (%s, %s)\", list_of_artists)\n",
    "connection.commit()"
   ]
  },
  {
   "cell_type": "code",
   "execution_count": 33,
   "metadata": {},
   "outputs": [
    {
     "data": {
      "text/plain": [
       "[(1, 'Dreams', 'Poison', 1, 1, 'Fleetwood Mac'),\n",
       " (2, 'Every Rose Has Its Thorn', 'Poison', 2, 2, 'Poison'),\n",
       " (3, 'Jump', '1984', 3, 3, 'Van Halen'),\n",
       " (4, 'The Chain', 'Rumours', 1, 1, 'Fleetwood Mac')]"
      ]
     },
     "execution_count": 33,
     "metadata": {},
     "output_type": "execute_result"
    }
   ],
   "source": [
    "mark.execute(\"\"\"SELECT * FROM songs, artists \n",
    "            WHERE artistID = artists.id\"\"\")\n",
    "mark.fetchall()"
   ]
  },
  {
   "cell_type": "code",
   "execution_count": 34,
   "metadata": {},
   "outputs": [
    {
     "data": {
      "text/plain": [
       "[(1, 'Dreams', 'Poison', 'Fleetwood Mac'),\n",
       " (2, 'Every Rose Has Its Thorn', 'Poison', 'Poison'),\n",
       " (3, 'Jump', '1984', 'Van Halen'),\n",
       " (4, 'The Chain', 'Rumours', 'Fleetwood Mac')]"
      ]
     },
     "execution_count": 34,
     "metadata": {},
     "output_type": "execute_result"
    }
   ],
   "source": [
    "mark.execute(\"\"\"SELECT songs.id, songs.title, songs.album, artists.artist \n",
    "             FROM songs \n",
    "             INNER JOIN artists \n",
    "             ON songs.artistID = artists.id\"\"\")\n",
    "mark.fetchall()"
   ]
  }
 ],
 "metadata": {
  "kernelspec": {
   "display_name": "Python 3",
   "language": "python",
   "name": "python3"
  },
  "language_info": {
   "codemirror_mode": {
    "name": "ipython",
    "version": 3
   },
   "file_extension": ".py",
   "mimetype": "text/x-python",
   "name": "python",
   "nbconvert_exporter": "python",
   "pygments_lexer": "ipython3",
   "version": "3.6.5"
  }
 },
 "nbformat": 4,
 "nbformat_minor": 2
}
