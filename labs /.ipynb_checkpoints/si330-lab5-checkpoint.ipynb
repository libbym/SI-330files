{
 "cells": [
  {
   "cell_type": "markdown",
   "metadata": {},
   "source": [
    "# Lab 5 - Intro to Numpy and Pandas\n",
    "\n",
    "\n",
    "## Due: Thursday, February 8th, 2018,  11:59:00pm\n",
    "\n",
    "### Submission instructions\n",
    "After completing this homework, you will turn in three files via Canvas ->  Assignments -> Lab 5:\n",
    "Your Notebook, named si330-lab5-YOUR_UNIQUE_NAME.ipynb and\n",
    "the HTML file, named si330-lab5-YOUR_UNIQUE_NAME.html\n",
    "\n",
    "### Name:  Libby Murray \n",
    "### Uniqname: 90594386\n",
    "### People you worked with: [if you didn't work with anyone else write \"I worked by myself\" here].\n",
    "\n",
    "\n",
    "## Objectives\n",
    "After completing this Lab, you should know how to:\n",
    "* Intro to NumPy concepts.\n",
    "* Intro to Pandas concepts.\n"
   ]
  },
  {
   "cell_type": "markdown",
   "metadata": {},
   "source": [
    "# Survey says...\n",
    "\n",
    "Last year, students in several courses filled out a survey in the beginning of the course where they were asked questions such as Expected Grade, Expected Number of Hours, Enthusiasm, Worry and some questions about their proficiency in Python. We are going to use and do some simple manipulation tasks using Pandas.\n",
    "\n",
    "### <font color=\"magenta\">The tasks that you need to do are highlighted in magenta.</font>"
   ]
  },
  {
   "cell_type": "markdown",
   "metadata": {},
   "source": [
    "## Step 1. Load the data into Pandas\n",
    "\n",
    "The following chunk of code reads the data as a Pandas DataFrame."
   ]
  },
  {
   "cell_type": "code",
   "execution_count": 18,
   "metadata": {
    "collapsed": true
   },
   "outputs": [],
   "source": [
    "import numpy as np\n",
    "import pandas as pd\n",
    "df = pd.read_csv('deidentified-survey.csv')"
   ]
  },
  {
   "cell_type": "markdown",
   "metadata": {},
   "source": [
    "### <font color=\"magenta\">Run the command ```df.head()``` to print the first 6 rows of the DataFrame. Try passing integers into ```head()``` and see how the output changes.</font>"
   ]
  },
  {
   "cell_type": "code",
   "execution_count": 19,
   "metadata": {},
   "outputs": [
    {
     "data": {
      "text/html": [
       "<div>\n",
       "<style>\n",
       "    .dataframe thead tr:only-child th {\n",
       "        text-align: right;\n",
       "    }\n",
       "\n",
       "    .dataframe thead th {\n",
       "        text-align: left;\n",
       "    }\n",
       "\n",
       "    .dataframe tbody tr th {\n",
       "        vertical-align: top;\n",
       "    }\n",
       "</style>\n",
       "<table border=\"1\" class=\"dataframe\">\n",
       "  <thead>\n",
       "    <tr style=\"text-align: right;\">\n",
       "      <th></th>\n",
       "      <th>First name</th>\n",
       "      <th>Last name</th>\n",
       "      <th>What grade do you expect to get in this course?</th>\n",
       "      <th>How many hours outside of lecture and lab do you plan to spend on this course (per week)?</th>\n",
       "      <th>How enthusiastic are you about taking this course?</th>\n",
       "      <th>How worried are you about this course?</th>\n",
       "      <th>In Python, how do you create a variable \"a\" that is equal to 2?</th>\n",
       "      <th>How would you cast the string variable \"a\" that is equal to \"2\" into the integer 2?</th>\n",
       "      <th>Which of the following is a valid dictionary in Python?</th>\n",
       "      <th>What will you see if you execute the following:</th>\n",
       "      <th>What will the output of the following code be?</th>\n",
       "      <th>What grade did you give yourself?</th>\n",
       "    </tr>\n",
       "  </thead>\n",
       "  <tbody>\n",
       "    <tr>\n",
       "      <th>0</th>\n",
       "      <td>September</td>\n",
       "      <td>Maestas</td>\n",
       "      <td>A</td>\n",
       "      <td>12 hours</td>\n",
       "      <td>3</td>\n",
       "      <td>4</td>\n",
       "      <td>a=2</td>\n",
       "      <td>int(a)</td>\n",
       "      <td>myExample = {'someItem': 2, 'otherItem': 20}</td>\n",
       "      <td>[4, 5]</td>\n",
       "      <td>5.0</td>\n",
       "      <td>8</td>\n",
       "    </tr>\n",
       "    <tr>\n",
       "      <th>1</th>\n",
       "      <td>Jarod</td>\n",
       "      <td>Tracy</td>\n",
       "      <td>A</td>\n",
       "      <td>10</td>\n",
       "      <td>5</td>\n",
       "      <td>2</td>\n",
       "      <td>a=2</td>\n",
       "      <td>int(a)</td>\n",
       "      <td>myExample = {'someItem': 2, 'otherItem': 20}</td>\n",
       "      <td>[4, 5]</td>\n",
       "      <td>5.0</td>\n",
       "      <td>9</td>\n",
       "    </tr>\n",
       "    <tr>\n",
       "      <th>2</th>\n",
       "      <td>Digna</td>\n",
       "      <td>Dickey</td>\n",
       "      <td>A-</td>\n",
       "      <td>As much as needed?</td>\n",
       "      <td>4</td>\n",
       "      <td>4</td>\n",
       "      <td>a=2</td>\n",
       "      <td>int(a)</td>\n",
       "      <td>myExample = {'someItem': 2, 'otherItem': 20}</td>\n",
       "      <td>[4, 5]</td>\n",
       "      <td>5.0</td>\n",
       "      <td>7</td>\n",
       "    </tr>\n",
       "    <tr>\n",
       "      <th>3</th>\n",
       "      <td>Minda</td>\n",
       "      <td>Mcclain</td>\n",
       "      <td>A</td>\n",
       "      <td>10-15 (hopefully less)</td>\n",
       "      <td>4</td>\n",
       "      <td>4</td>\n",
       "      <td>a=2</td>\n",
       "      <td>int(a)</td>\n",
       "      <td>myExample = {'someItem': 2, 'otherItem': 20}</td>\n",
       "      <td>[4, 5]</td>\n",
       "      <td>1.0</td>\n",
       "      <td>6</td>\n",
       "    </tr>\n",
       "    <tr>\n",
       "      <th>4</th>\n",
       "      <td>Lan</td>\n",
       "      <td>Pitts</td>\n",
       "      <td>A</td>\n",
       "      <td>6</td>\n",
       "      <td>5</td>\n",
       "      <td>3</td>\n",
       "      <td>a=2</td>\n",
       "      <td>int(a)</td>\n",
       "      <td>myExample = {'someItem': 2, 'otherItem': 20}</td>\n",
       "      <td>[4, 5]</td>\n",
       "      <td>5.0</td>\n",
       "      <td>10</td>\n",
       "    </tr>\n",
       "  </tbody>\n",
       "</table>\n",
       "</div>"
      ],
      "text/plain": [
       "  First name Last name What grade do you expect to get in this course?  \\\n",
       "0  September   Maestas                                               A   \n",
       "1      Jarod     Tracy                                               A   \n",
       "2      Digna    Dickey                                              A-   \n",
       "3      Minda   Mcclain                                               A   \n",
       "4        Lan     Pitts                                               A   \n",
       "\n",
       "  How many hours outside of lecture and lab do you plan to spend on this course (per week)?  \\\n",
       "0                                           12 hours                                          \n",
       "1                                                 10                                          \n",
       "2                                 As much as needed?                                          \n",
       "3                             10-15 (hopefully less)                                          \n",
       "4                                                  6                                          \n",
       "\n",
       "   How enthusiastic are you about taking this course?  \\\n",
       "0                                                  3    \n",
       "1                                                  5    \n",
       "2                                                  4    \n",
       "3                                                  4    \n",
       "4                                                  5    \n",
       "\n",
       "   How worried are you about this course?  \\\n",
       "0                                       4   \n",
       "1                                       2   \n",
       "2                                       4   \n",
       "3                                       4   \n",
       "4                                       3   \n",
       "\n",
       "  In Python, how do you create a variable \"a\" that is equal to 2?  \\\n",
       "0                                                a=2                \n",
       "1                                                a=2                \n",
       "2                                                a=2                \n",
       "3                                                a=2                \n",
       "4                                                a=2                \n",
       "\n",
       "  How would you cast the string variable \"a\" that is equal to \"2\" into the integer 2?  \\\n",
       "0                                             int(a)                                    \n",
       "1                                             int(a)                                    \n",
       "2                                             int(a)                                    \n",
       "3                                             int(a)                                    \n",
       "4                                             int(a)                                    \n",
       "\n",
       "  Which of the following is a valid dictionary in Python?  \\\n",
       "0       myExample = {'someItem': 2, 'otherItem': 20}        \n",
       "1       myExample = {'someItem': 2, 'otherItem': 20}        \n",
       "2       myExample = {'someItem': 2, 'otherItem': 20}        \n",
       "3       myExample = {'someItem': 2, 'otherItem': 20}        \n",
       "4       myExample = {'someItem': 2, 'otherItem': 20}        \n",
       "\n",
       "  What will you see if you execute the following:  \\\n",
       "0                                          [4, 5]   \n",
       "1                                          [4, 5]   \n",
       "2                                          [4, 5]   \n",
       "3                                          [4, 5]   \n",
       "4                                          [4, 5]   \n",
       "\n",
       "   What will the output of the following code be?  \\\n",
       "0                                             5.0   \n",
       "1                                             5.0   \n",
       "2                                             5.0   \n",
       "3                                             1.0   \n",
       "4                                             5.0   \n",
       "\n",
       "   What grade did you give yourself?  \n",
       "0                                  8  \n",
       "1                                  9  \n",
       "2                                  7  \n",
       "3                                  6  \n",
       "4                                 10  "
      ]
     },
     "execution_count": 19,
     "metadata": {},
     "output_type": "execute_result"
    }
   ],
   "source": [
    "# Write your code here\n",
    "\n",
    "df.head()"
   ]
  },
  {
   "cell_type": "code",
   "execution_count": 20,
   "metadata": {},
   "outputs": [
    {
     "data": {
      "text/html": [
       "<div>\n",
       "<style>\n",
       "    .dataframe thead tr:only-child th {\n",
       "        text-align: right;\n",
       "    }\n",
       "\n",
       "    .dataframe thead th {\n",
       "        text-align: left;\n",
       "    }\n",
       "\n",
       "    .dataframe tbody tr th {\n",
       "        vertical-align: top;\n",
       "    }\n",
       "</style>\n",
       "<table border=\"1\" class=\"dataframe\">\n",
       "  <thead>\n",
       "    <tr style=\"text-align: right;\">\n",
       "      <th></th>\n",
       "      <th>First name</th>\n",
       "      <th>Last name</th>\n",
       "      <th>What grade do you expect to get in this course?</th>\n",
       "      <th>How many hours outside of lecture and lab do you plan to spend on this course (per week)?</th>\n",
       "      <th>How enthusiastic are you about taking this course?</th>\n",
       "      <th>How worried are you about this course?</th>\n",
       "      <th>In Python, how do you create a variable \"a\" that is equal to 2?</th>\n",
       "      <th>How would you cast the string variable \"a\" that is equal to \"2\" into the integer 2?</th>\n",
       "      <th>Which of the following is a valid dictionary in Python?</th>\n",
       "      <th>What will you see if you execute the following:</th>\n",
       "      <th>What will the output of the following code be?</th>\n",
       "      <th>What grade did you give yourself?</th>\n",
       "    </tr>\n",
       "  </thead>\n",
       "  <tbody>\n",
       "    <tr>\n",
       "      <th>0</th>\n",
       "      <td>September</td>\n",
       "      <td>Maestas</td>\n",
       "      <td>A</td>\n",
       "      <td>12 hours</td>\n",
       "      <td>3</td>\n",
       "      <td>4</td>\n",
       "      <td>a=2</td>\n",
       "      <td>int(a)</td>\n",
       "      <td>myExample = {'someItem': 2, 'otherItem': 20}</td>\n",
       "      <td>[4, 5]</td>\n",
       "      <td>5.0</td>\n",
       "      <td>8</td>\n",
       "    </tr>\n",
       "    <tr>\n",
       "      <th>1</th>\n",
       "      <td>Jarod</td>\n",
       "      <td>Tracy</td>\n",
       "      <td>A</td>\n",
       "      <td>10</td>\n",
       "      <td>5</td>\n",
       "      <td>2</td>\n",
       "      <td>a=2</td>\n",
       "      <td>int(a)</td>\n",
       "      <td>myExample = {'someItem': 2, 'otherItem': 20}</td>\n",
       "      <td>[4, 5]</td>\n",
       "      <td>5.0</td>\n",
       "      <td>9</td>\n",
       "    </tr>\n",
       "    <tr>\n",
       "      <th>2</th>\n",
       "      <td>Digna</td>\n",
       "      <td>Dickey</td>\n",
       "      <td>A-</td>\n",
       "      <td>As much as needed?</td>\n",
       "      <td>4</td>\n",
       "      <td>4</td>\n",
       "      <td>a=2</td>\n",
       "      <td>int(a)</td>\n",
       "      <td>myExample = {'someItem': 2, 'otherItem': 20}</td>\n",
       "      <td>[4, 5]</td>\n",
       "      <td>5.0</td>\n",
       "      <td>7</td>\n",
       "    </tr>\n",
       "    <tr>\n",
       "      <th>3</th>\n",
       "      <td>Minda</td>\n",
       "      <td>Mcclain</td>\n",
       "      <td>A</td>\n",
       "      <td>10-15 (hopefully less)</td>\n",
       "      <td>4</td>\n",
       "      <td>4</td>\n",
       "      <td>a=2</td>\n",
       "      <td>int(a)</td>\n",
       "      <td>myExample = {'someItem': 2, 'otherItem': 20}</td>\n",
       "      <td>[4, 5]</td>\n",
       "      <td>1.0</td>\n",
       "      <td>6</td>\n",
       "    </tr>\n",
       "    <tr>\n",
       "      <th>4</th>\n",
       "      <td>Lan</td>\n",
       "      <td>Pitts</td>\n",
       "      <td>A</td>\n",
       "      <td>6</td>\n",
       "      <td>5</td>\n",
       "      <td>3</td>\n",
       "      <td>a=2</td>\n",
       "      <td>int(a)</td>\n",
       "      <td>myExample = {'someItem': 2, 'otherItem': 20}</td>\n",
       "      <td>[4, 5]</td>\n",
       "      <td>5.0</td>\n",
       "      <td>10</td>\n",
       "    </tr>\n",
       "    <tr>\n",
       "      <th>5</th>\n",
       "      <td>Rosina</td>\n",
       "      <td>Venegas</td>\n",
       "      <td>A</td>\n",
       "      <td>5-6</td>\n",
       "      <td>3</td>\n",
       "      <td>3</td>\n",
       "      <td>a=2</td>\n",
       "      <td>int(a)</td>\n",
       "      <td>myExample = {'someItem': 2, 'otherItem': 20}</td>\n",
       "      <td>4, 5, 2006</td>\n",
       "      <td>5.0</td>\n",
       "      <td>8</td>\n",
       "    </tr>\n",
       "    <tr>\n",
       "      <th>6</th>\n",
       "      <td>Candyce</td>\n",
       "      <td>Thorpe</td>\n",
       "      <td>A</td>\n",
       "      <td>at least 6</td>\n",
       "      <td>4</td>\n",
       "      <td>3</td>\n",
       "      <td>a=2</td>\n",
       "      <td>int(a)</td>\n",
       "      <td>myExample = {'someItem': 2, 'otherItem': 20}</td>\n",
       "      <td>[4, 5]</td>\n",
       "      <td>5.0</td>\n",
       "      <td>10</td>\n",
       "    </tr>\n",
       "    <tr>\n",
       "      <th>7</th>\n",
       "      <td>Garth</td>\n",
       "      <td>Fitch</td>\n",
       "      <td>A</td>\n",
       "      <td>6</td>\n",
       "      <td>4</td>\n",
       "      <td>1</td>\n",
       "      <td>a=2</td>\n",
       "      <td>int(a)</td>\n",
       "      <td>myExample = {'someItem': 2, 'otherItem': 20}</td>\n",
       "      <td>[4, 5]</td>\n",
       "      <td>5.0</td>\n",
       "      <td>8</td>\n",
       "    </tr>\n",
       "    <tr>\n",
       "      <th>8</th>\n",
       "      <td>Mafalda</td>\n",
       "      <td>Bullock</td>\n",
       "      <td>A</td>\n",
       "      <td>10</td>\n",
       "      <td>4</td>\n",
       "      <td>2</td>\n",
       "      <td>a=2</td>\n",
       "      <td>int(a)</td>\n",
       "      <td>myExample = {'someItem': 2, 'otherItem': 20}</td>\n",
       "      <td>[4, 5]</td>\n",
       "      <td>5.0</td>\n",
       "      <td>10</td>\n",
       "    </tr>\n",
       "    <tr>\n",
       "      <th>9</th>\n",
       "      <td>Twana</td>\n",
       "      <td>Larose</td>\n",
       "      <td>A-</td>\n",
       "      <td>5</td>\n",
       "      <td>3</td>\n",
       "      <td>5</td>\n",
       "      <td>a=2</td>\n",
       "      <td>int(a)</td>\n",
       "      <td>myExample = {'someItem': 2, 'otherItem': 20}</td>\n",
       "      <td>[4, 5]</td>\n",
       "      <td>5.0</td>\n",
       "      <td>9</td>\n",
       "    </tr>\n",
       "  </tbody>\n",
       "</table>\n",
       "</div>"
      ],
      "text/plain": [
       "  First name Last name What grade do you expect to get in this course?  \\\n",
       "0  September   Maestas                                               A   \n",
       "1      Jarod     Tracy                                               A   \n",
       "2      Digna    Dickey                                              A-   \n",
       "3      Minda   Mcclain                                               A   \n",
       "4        Lan     Pitts                                               A   \n",
       "5     Rosina   Venegas                                               A   \n",
       "6    Candyce    Thorpe                                               A   \n",
       "7      Garth     Fitch                                               A   \n",
       "8    Mafalda   Bullock                                               A   \n",
       "9      Twana    Larose                                              A-   \n",
       "\n",
       "  How many hours outside of lecture and lab do you plan to spend on this course (per week)?  \\\n",
       "0                                           12 hours                                          \n",
       "1                                                 10                                          \n",
       "2                                 As much as needed?                                          \n",
       "3                             10-15 (hopefully less)                                          \n",
       "4                                                  6                                          \n",
       "5                                                5-6                                          \n",
       "6                                         at least 6                                          \n",
       "7                                                  6                                          \n",
       "8                                                 10                                          \n",
       "9                                                  5                                          \n",
       "\n",
       "   How enthusiastic are you about taking this course?  \\\n",
       "0                                                  3    \n",
       "1                                                  5    \n",
       "2                                                  4    \n",
       "3                                                  4    \n",
       "4                                                  5    \n",
       "5                                                  3    \n",
       "6                                                  4    \n",
       "7                                                  4    \n",
       "8                                                  4    \n",
       "9                                                  3    \n",
       "\n",
       "   How worried are you about this course?  \\\n",
       "0                                       4   \n",
       "1                                       2   \n",
       "2                                       4   \n",
       "3                                       4   \n",
       "4                                       3   \n",
       "5                                       3   \n",
       "6                                       3   \n",
       "7                                       1   \n",
       "8                                       2   \n",
       "9                                       5   \n",
       "\n",
       "  In Python, how do you create a variable \"a\" that is equal to 2?  \\\n",
       "0                                                a=2                \n",
       "1                                                a=2                \n",
       "2                                                a=2                \n",
       "3                                                a=2                \n",
       "4                                                a=2                \n",
       "5                                                a=2                \n",
       "6                                                a=2                \n",
       "7                                                a=2                \n",
       "8                                                a=2                \n",
       "9                                                a=2                \n",
       "\n",
       "  How would you cast the string variable \"a\" that is equal to \"2\" into the integer 2?  \\\n",
       "0                                             int(a)                                    \n",
       "1                                             int(a)                                    \n",
       "2                                             int(a)                                    \n",
       "3                                             int(a)                                    \n",
       "4                                             int(a)                                    \n",
       "5                                             int(a)                                    \n",
       "6                                             int(a)                                    \n",
       "7                                             int(a)                                    \n",
       "8                                             int(a)                                    \n",
       "9                                             int(a)                                    \n",
       "\n",
       "  Which of the following is a valid dictionary in Python?  \\\n",
       "0       myExample = {'someItem': 2, 'otherItem': 20}        \n",
       "1       myExample = {'someItem': 2, 'otherItem': 20}        \n",
       "2       myExample = {'someItem': 2, 'otherItem': 20}        \n",
       "3       myExample = {'someItem': 2, 'otherItem': 20}        \n",
       "4       myExample = {'someItem': 2, 'otherItem': 20}        \n",
       "5       myExample = {'someItem': 2, 'otherItem': 20}        \n",
       "6       myExample = {'someItem': 2, 'otherItem': 20}        \n",
       "7       myExample = {'someItem': 2, 'otherItem': 20}        \n",
       "8       myExample = {'someItem': 2, 'otherItem': 20}        \n",
       "9       myExample = {'someItem': 2, 'otherItem': 20}        \n",
       "\n",
       "  What will you see if you execute the following:  \\\n",
       "0                                          [4, 5]   \n",
       "1                                          [4, 5]   \n",
       "2                                          [4, 5]   \n",
       "3                                          [4, 5]   \n",
       "4                                          [4, 5]   \n",
       "5                                      4, 5, 2006   \n",
       "6                                          [4, 5]   \n",
       "7                                          [4, 5]   \n",
       "8                                          [4, 5]   \n",
       "9                                          [4, 5]   \n",
       "\n",
       "   What will the output of the following code be?  \\\n",
       "0                                             5.0   \n",
       "1                                             5.0   \n",
       "2                                             5.0   \n",
       "3                                             1.0   \n",
       "4                                             5.0   \n",
       "5                                             5.0   \n",
       "6                                             5.0   \n",
       "7                                             5.0   \n",
       "8                                             5.0   \n",
       "9                                             5.0   \n",
       "\n",
       "   What grade did you give yourself?  \n",
       "0                                  8  \n",
       "1                                  9  \n",
       "2                                  7  \n",
       "3                                  6  \n",
       "4                                 10  \n",
       "5                                  8  \n",
       "6                                 10  \n",
       "7                                  8  \n",
       "8                                 10  \n",
       "9                                  9  "
      ]
     },
     "execution_count": 20,
     "metadata": {},
     "output_type": "execute_result"
    }
   ],
   "source": [
    "df.head(10)\n"
   ]
  },
  {
   "cell_type": "markdown",
   "metadata": {},
   "source": [
    "## Step 2.1 Reading columns\n",
    "\n",
    "One of the most useful features of Pandas is the ability to work on columns. In the following cell, we have stored all the responses to the question ```What grade do you expect to get in this course?``` as a column.\n"
   ]
  },
  {
   "cell_type": "code",
   "execution_count": 21,
   "metadata": {
    "collapsed": true
   },
   "outputs": [],
   "source": [
    "# the grade expectation of the class  \n",
    "grade_expectation = df['What grade do you expect to get in this course?']   "
   ]
  },
  {
   "cell_type": "code",
   "execution_count": 22,
   "metadata": {},
   "outputs": [
    {
     "name": "stdout",
     "output_type": "stream",
     "text": [
      "<class 'pandas.core.series.Series'>\n",
      "<class 'numpy.ndarray'>\n"
     ]
    },
    {
     "data": {
      "text/plain": [
       "array(['A', 'A', 'A-', 'A', 'A', 'A', 'A', 'A', 'A', 'A-', 'A', 'A', 'A',\n",
       "       'A', 'A-', 'A-', 'A-', 'A', 'A-', 'A', 'A', 'A', 'A-', 'A', 'A',\n",
       "       'A', 'A', 'B', 'A', 'A', 'A', 'A', 'A-', 'A+', 'A', 'A', 'A-', 'A+',\n",
       "       'A', 'A-', 'A-', 'A', 'A'], dtype=object)"
      ]
     },
     "execution_count": 22,
     "metadata": {},
     "output_type": "execute_result"
    }
   ],
   "source": [
    "print(type(grade_expectation))\n",
    "print(type(grade_expectation.values))\n",
    "grade_expectation.values"
   ]
  },
  {
   "cell_type": "markdown",
   "metadata": {},
   "source": [
    "### <font color=\"magenta\">In the cell below store the values of ```How enthusiastic are you about taking this course?``` and ```How worried are you about this course?``` into the variables. Print them out.</font>"
   ]
  },
  {
   "cell_type": "code",
   "execution_count": 23,
   "metadata": {},
   "outputs": [
    {
     "name": "stdout",
     "output_type": "stream",
     "text": [
      "[4 2 4 4 3 3 3 1 2 5 1 4 4 2 3 3 4 4 5 1 1 3 4 5 4 4 4 4 2 5 4 4 4 5 3 2 4\n",
      " 3 3 4 3 3 2]\n"
     ]
    }
   ],
   "source": [
    "enthusiasm_scores =df['How enthusiastic are you about taking this course?'].values # the enthusiasm score of the class stored as a numpy array\n",
    "\n",
    "worry_scores = df['How worried are you about this course?'].values # the worry score of the class stored as a numpy array\n",
    "\n",
    "print(worry_scores)"
   ]
  },
  {
   "cell_type": "markdown",
   "metadata": {},
   "source": [
    "## Step 2.2 Renaming the columns\n",
    "Now those column names are pretty nasty, and it's easy to make a typo when you're trying to use them. Let's reassign better (shorter) names:\n",
    "\n",
    "#### Note: be careful in this step. If the length of your list doesn't match the number of columns, you'll get an error."
   ]
  },
  {
   "cell_type": "code",
   "execution_count": 24,
   "metadata": {
    "collapsed": true
   },
   "outputs": [],
   "source": [
    "df.columns = ['firstName','lastName','expectedGrade','hours','enthusiasm','worry','q1','q2','q3','q4','q5', 'overallScore']"
   ]
  },
  {
   "cell_type": "markdown",
   "metadata": {},
   "source": [
    "### <font color=\"magenta\">Retrieve the values in the column planned hours column and store it in planned_hours.</font>"
   ]
  },
  {
   "cell_type": "code",
   "execution_count": 25,
   "metadata": {},
   "outputs": [
    {
     "data": {
      "text/plain": [
       "0                                              12 hours\n",
       "1                                                    10\n",
       "2                                    As much as needed?\n",
       "3                                10-15 (hopefully less)\n",
       "4                                                     6\n",
       "5                                                   5-6\n",
       "6                                            at least 6\n",
       "7                                                     6\n",
       "8                                                    10\n",
       "9                                                     5\n",
       "10                                                    4\n",
       "11                                                  5-6\n",
       "12                                                    8\n",
       "13                                                   10\n",
       "14                                                   10\n",
       "15                                                 9-12\n",
       "16                                                   10\n",
       "17                                                   10\n",
       "18                                                   10\n",
       "19                                                    4\n",
       "20                                                   10\n",
       "21                                                    4\n",
       "22                                                    6\n",
       "23                                                   10\n",
       "24    A lot. I have a feeling this will be my most c...\n",
       "25                                                    4\n",
       "26                                                   10\n",
       "27                                                    4\n",
       "28                                                  4-5\n",
       "29                                                   10\n",
       "30                                                    8\n",
       "31                                                   10\n",
       "32                                                    7\n",
       "33                                                   10\n",
       "34                                                  5-6\n",
       "35                                                    5\n",
       "36                                                    4\n",
       "37                                                    4\n",
       "38                                                   10\n",
       "39                                                  5-6\n",
       "40                                                   10\n",
       "41                                                    6\n",
       "42                                                    6\n",
       "Name: hours, dtype: object"
      ]
     },
     "execution_count": 25,
     "metadata": {},
     "output_type": "execute_result"
    }
   ],
   "source": [
    "# and try it out by retrieving the nparray that underpins that series.\n",
    "planned_hours = df['hours']\n",
    "\n",
    "planned_hours # Should print out the values as an array\n",
    "# this variable needs some data cleaning for future analysis"
   ]
  },
  {
   "cell_type": "markdown",
   "metadata": {
    "scrolled": true
   },
   "source": [
    "## Step 3.1 Manipulating the data using ufuncs\n",
    "\n",
    "A universal function (or ufunc for short) is a function that operates on ndarrays in an element-by-element fashion. We'll use ufuncs to calculate relaxation scores. In the survey students filled a 5 - point Likert scale with values from 1 - 5 to describe how worried they were about the course. \n",
    "\n",
    "We want to calculate the relaxation score such that for a person whose worry score is 5 would have a relaxation score of 1. Correspondingly, for someone whose worry score is 2, their relaxation score would be 4.\n",
    "\n",
    "### <font color=\"magenta\">Calculate the relaxation scores of the students.</font>"
   ]
  },
  {
   "cell_type": "code",
   "execution_count": 30,
   "metadata": {},
   "outputs": [
    {
     "data": {
      "text/plain": [
       "array([2, 4, 2, 2, 3, 3, 3, 5, 4, 1, 5, 2, 2, 4, 3, 3, 2, 2, 1, 5, 5, 3, 2,\n",
       "       1, 2, 2, 2, 2, 4, 1, 2, 2, 2, 1, 3, 4, 2, 3, 3, 2, 3, 3, 4])"
      ]
     },
     "execution_count": 30,
     "metadata": {},
     "output_type": "execute_result"
    }
   ],
   "source": [
    "relaxation_scores = 6 - worry_scores  # fix this\n",
    "\n",
    "relaxation_scores"
   ]
  },
  {
   "cell_type": "markdown",
   "metadata": {},
   "source": [
    "## Step 3.2 Masking\n",
    "\n",
    "Now we want to find the students who are either to relaxed about the course (relaxation scores > 4) or too stressed out (relaxation scores < 2)\n",
    "\n",
    "You can use masking to return an object of the same shape and whose corresponding entries are from self (the object that you are manipulating viz. relaxation scores) where cond is True or False."
   ]
  },
  {
   "cell_type": "code",
   "execution_count": 31,
   "metadata": {},
   "outputs": [
    {
     "data": {
      "text/plain": [
       "array([False, False, False, False, False, False, False,  True, False,\n",
       "        True,  True, False, False, False, False, False, False, False,\n",
       "        True,  True,  True, False, False,  True, False, False, False,\n",
       "       False, False,  True, False, False, False,  True, False, False,\n",
       "       False, False, False, False, False, False, False], dtype=bool)"
      ]
     },
     "execution_count": 31,
     "metadata": {},
     "output_type": "execute_result"
    }
   ],
   "source": [
    "(relaxation_scores > 4) | (relaxation_scores < 2)\n"
   ]
  },
  {
   "cell_type": "code",
   "execution_count": 34,
   "metadata": {},
   "outputs": [
    {
     "data": {
      "text/plain": [
       "array(['September', 'Jarod', 'Digna', 'Minda', 'Lan', 'Rosina', 'Candyce',\n",
       "       'Garth', 'Mafalda', 'Twana', 'Loyce', 'Barabara', 'Genaro',\n",
       "       'Karisa', 'Hertha', 'Pattie', 'Harmony', 'Ivana', 'Latarsha',\n",
       "       'Imogene', 'Nicolette', 'Pa', 'Amal', 'Gennie', 'Collen', 'Janeen',\n",
       "       'Oneida', 'Adell', 'Holley', 'Makeda', 'Lawana', 'Iliana', 'Leisha',\n",
       "       'Susana', 'Sherrill', 'Ha', 'Angelita', 'Travis', 'Lemuel', 'Bong',\n",
       "       'Latashia', 'Laurette', 'Devorah'], dtype=object)"
      ]
     },
     "execution_count": 34,
     "metadata": {},
     "output_type": "execute_result"
    }
   ],
   "source": [
    "firstname= df['firstName'].values \n",
    "firstname "
   ]
  },
  {
   "cell_type": "markdown",
   "metadata": {},
   "source": [
    "### <font color=\"magenta\">Store the names of the students in a separate variable called Name by combining the two columns: ```firstName``` and ```lastName```. Then return the names of the students who are either too relaxed or too stressed out.</font>"
   ]
  },
  {
   "cell_type": "code",
   "execution_count": 43,
   "metadata": {},
   "outputs": [
    {
     "data": {
      "text/plain": [
       "7           Garth Fitch\n",
       "9          Twana Larose\n",
       "10         Loyce Hewitt\n",
       "18     Latarsha Snowden\n",
       "19      Imogene Provost\n",
       "20    Nicolette Rickard\n",
       "23          Gennie Frey\n",
       "29        Makeda Corona\n",
       "33        Susana Saxton\n",
       "dtype: object"
      ]
     },
     "execution_count": 43,
     "metadata": {},
     "output_type": "execute_result"
    }
   ],
   "source": [
    "df['fullName'] = df['firstName'] +\" \"+ df['lastName']\n",
    "\n",
    "df.head()\n",
    "\n",
    "fullName[(relaxation_scores > 4) | (relaxation_scores < 2)] # Print out the names of the students who have a very high or very low relaxation score."
   ]
  },
  {
   "cell_type": "markdown",
   "metadata": {},
   "source": [
    "We want to know which students both feel relatively worried about the class and have lower enthusiasm. \n",
    "\n",
    "### <font color=\"magenta\">Write one line of code to figure out the number of students in the dataset that have a worry score score between 4 and 5 (inclusive), excluding those with an enthusiastic score between 4 and 5.</font>"
   ]
  },
  {
   "cell_type": "code",
   "execution_count": 37,
   "metadata": {},
   "outputs": [
    {
     "name": "stdout",
     "output_type": "stream",
     "text": [
      "22\n"
     ]
    }
   ],
   "source": [
    "print(sum((worry_scores <= 5) & (worry_scores >= 4) & (relaxation_scores >= 1) &(relaxation_scores <= 3) ))\n",
    "\n",
    "\n",
    "#using negation:  print(sum((worry_scores <= 5) & (worry_scores >= 4) & ~((relaxation_scores <= 5) &(relaxation_scores >= 4)) ))\n",
    " "
   ]
  },
  {
   "cell_type": "markdown",
   "metadata": {},
   "source": [
    "## Step 3.3 Calculating mean & median\n",
    "\n",
    "no.mean() and np.median allows you to pass an array or array-like data and return the mean and median respectively.\n",
    "\n",
    "### <font color=\"magenta\">What are the mean and median worry and enthusiasm scores?</font>"
   ]
  },
  {
   "cell_type": "code",
   "execution_count": 38,
   "metadata": {},
   "outputs": [
    {
     "name": "stdout",
     "output_type": "stream",
     "text": [
      "3.88372093023\n",
      "4.0\n"
     ]
    }
   ],
   "source": [
    "print(np.mean(enthusiasm_scores))\n",
    "print(np.median(enthusiasm_scores))"
   ]
  },
  {
   "cell_type": "markdown",
   "metadata": {},
   "source": [
    "## Step 4. Retrieve Specific Scores</font>\n"
   ]
  },
  {
   "cell_type": "markdown",
   "metadata": {
    "collapsed": true
   },
   "source": [
    "One issue we observe with the dataset is that it is difficult to figure out characteristics of each student when we have the columns in multiple arrays. What are other options that we learned for this purpose?\n",
    "\n",
    "* Loading all the data in a 2-dimentional NumPy array? But we learned that NumPy does not support multiple datatypes in its arrays.\n",
    "* Creating a Python dictionary with student names as keys and lists of other survey responses as values? Then it will be too costly to calculate statistics (such as mean, max, variance, ...) of each specification.\n",
    "\n",
    "Pandas provides a solution to this issue, but to the expense of indexing all the data that is a slow process in large datasets. (For more information, look at https://penandpants.com/2014/09/05/performance-of-pandas-series-vs-numpy-arrays/)\n",
    "\n",
    "In the EDA problems that we deal with, datasets have fairly small scales, so we do not need to worry about their load time that much. On the other hand, in most of the data analysis tasks, statistical models includes both numerical and categorical values. In thse cases it is almost impossible to use NumPy.\n",
    "\n",
    "In our current problem, we want to explore the data to identify students. For this purpose, we can use pandas series.\n",
    "\n",
    "Write a piece of code to create a pandas Series object that has the student's first name as the index and the relaxation scores as the value.  Fix the import statement to make this work."
   ]
  },
  {
   "cell_type": "code",
   "execution_count": 18,
   "metadata": {
    "scrolled": true
   },
   "outputs": [
    {
     "name": "stdout",
     "output_type": "stream",
     "text": [
      "firstName\n",
      "September    2\n",
      "Jarod        4\n",
      "Digna        2\n",
      "Minda        2\n",
      "Lan          3\n",
      "Rosina       3\n",
      "Candyce      3\n",
      "Garth        5\n",
      "Mafalda      4\n",
      "Twana        1\n",
      "Loyce        5\n",
      "Barabara     2\n",
      "Genaro       2\n",
      "Karisa       4\n",
      "Hertha       3\n",
      "Pattie       3\n",
      "Harmony      2\n",
      "Ivana        2\n",
      "Latarsha     1\n",
      "Imogene      5\n",
      "Nicolette    5\n",
      "Pa           3\n",
      "Amal         2\n",
      "Gennie       1\n",
      "Collen       2\n",
      "Janeen       2\n",
      "Oneida       2\n",
      "Adell        2\n",
      "Holley       4\n",
      "Makeda       1\n",
      "Lawana       2\n",
      "Iliana       2\n",
      "Leisha       2\n",
      "Susana       1\n",
      "Sherrill     3\n",
      "Ha           4\n",
      "Angelita     2\n",
      "Travis       3\n",
      "Lemuel       3\n",
      "Bong         2\n",
      "Latashia     3\n",
      "Laurette     3\n",
      "Devorah      4\n",
      "dtype: int64\n"
     ]
    }
   ],
   "source": [
    "import pandas as pd\n",
    "#from pandas import Series   # fix this line\n",
    "\n",
    "relaxationSeries = pd.Series(relaxation_scores, index = df['firstName'])  # fix this line\n",
    "print(relaxationSeries)"
   ]
  },
  {
   "cell_type": "markdown",
   "metadata": {},
   "source": [
    "Now that you learned how to create a correspondence between relaxation scores and names,\n",
    "\n",
    "### <font color=\"magenta\">Write one line of code to retrieve relaxation scores of the following students: September, Lan, Candyce, Garth</font>"
   ]
  },
  {
   "cell_type": "code",
   "execution_count": 47,
   "metadata": {
    "scrolled": true
   },
   "outputs": [
    {
     "data": {
      "text/plain": [
       "firstName\n",
       "Lan    3\n",
       "dtype: int64"
      ]
     },
     "execution_count": 47,
     "metadata": {},
     "output_type": "execute_result"
    }
   ],
   "source": [
    "relaxationSeries[ ['September'] ]\n",
    "relaxationSeries[['Lan']]"
   ]
  },
  {
   "cell_type": "markdown",
   "metadata": {},
   "source": [
    "## Step 5. Identification Task\n",
    "\n",
    "We just identified the highest worry score, lowest enthusiasm score. But these are not necessarily directing us to the same student. Write a piece of code that solves this issue and filters the dataset to find the closest students that Dr. Teplovs is looking for. What kind of information do you think we should provide for you to make your recommendation better?\n"
   ]
  },
  {
   "cell_type": "markdown",
   "metadata": {},
   "source": [
    "### <font color=\"magenta\">Step 5.1: Invent a score that combines some of the 'features' from the original data into something interesting.  </font>\n",
    "For example, if we wanted students with high resolution, we might say:\n",
    "\n",
    "score = enthusiasm score - worry score\n",
    "\n",
    "(as enthusiasm score goes up, score goes up; as worry score goes up, score goes down). Think about whether you want to use the \"raw\" values or something normalized."
   ]
  },
  {
   "cell_type": "code",
   "execution_count": null,
   "metadata": {
    "collapsed": true,
    "scrolled": true
   },
   "outputs": [],
   "source": [
    "responses['score'] = df['enthusiasm_scores'] - df['worry_scores'] # modify this to create the score\n",
    "responses.head()"
   ]
  }
 ],
 "metadata": {
  "anaconda-cloud": {},
  "kernelspec": {
   "display_name": "Python 3",
   "language": "python",
   "name": "python3"
  },
  "language_info": {
   "codemirror_mode": {
    "name": "ipython",
    "version": 3
   },
   "file_extension": ".py",
   "mimetype": "text/x-python",
   "name": "python",
   "nbconvert_exporter": "python",
   "pygments_lexer": "ipython3",
   "version": "3.6.3"
  }
 },
 "nbformat": 4,
 "nbformat_minor": 2
}
