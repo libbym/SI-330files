{
 "cells": [
  {
   "cell_type": "markdown",
   "metadata": {},
   "source": [
    "# Lab 8 - SQL\n",
    "\n",
    "\n",
    "## Due: Thursday, March 8th, 2018,  11:59:00pm\n",
    "\n",
    "### Submission instructions\n",
    "After completing this homework, you will turn in three files via Canvas ->  Assignments -> Lab 8:\n",
    "Your Notebook, named si330-lab8-YOUR_UNIQUE_NAME.ipynb and\n",
    "the HTML file, named si330-lab8-YOUR_UNIQUE_NAME.html\n",
    "\n",
    "### Name:  YOUR NAME GOES HERE\n",
    "### Uniqname: YOUR UNIQNAME GOES HERE\n",
    "### People you worked with: [if you didn't work with anyone else write \"I worked by myself\" here].\n",
    "\n",
    "\n",
    "## Objectives\n",
    "After completing this Lab, you should know how to:\n",
    "\n",
    "\n",
    "### Required actions on your part are indicated in <font color=\"orange\">orange</font>.  Required input (e.g. answers to questions) are indicated in <font color=\"magenta\">magenta</font>."
   ]
  },
  {
   "cell_type": "markdown",
   "metadata": {},
   "source": [
    "## Step 1: Setting up your Database\n",
    "\n",
    "### <font color=\"orange\">1.1: Log into your AWS account and navigate to All Services > Database > Relational Database Service > Get Started Now\n",
    "\n",
    "![](s301.png)\n",
    "\n",
    "### <font color=\"orange\">1.2: Click on the checkbox at the bottom of the page which says ```Only enable options eligible for RDS Free Usage Tier``` > Select postgreSQL > Click Next.</font> \n",
    "The default - Amazon Aurora is not free, and postgreSQL is more widely used.\n",
    "\n",
    "![](s302.png)\n",
    "\n",
    "### <font color=\"orange\">1.3: Don't change anything here. Scroll down to the bottom of this page to Settings. In the settings section, enter ```DB instance identifier```, ```Master username``` and ```Master password```. Make sure you set your password so that you recall it easily - otherwise you'll have to set up the database again.\n",
    "\n",
    "![](s303.png)\n",
    "\n",
    "### <font color=\"orange\">1.4: Change ```Public accessibility``` to Yes. Leave everything else as is.\n",
    "\n",
    "![](s304.png)\n",
    "\n",
    "### <font color=\"orange\">1.5: Scroll down to ```Database options``` section. Give your database a name as shown. Click \"Create DB instance\".\n",
    "    \n",
    "![](s305.png)\n",
    "\n",
    "### <font color=\"orange\">1.6: Click \"View DB instance details\"\n",
    "\n",
    "![](s306.png)\n",
    "\n",
    "### <font color=\"orange\">1.7: This will take you to your database. It takes a few minutes to create your database. You can check this through \"DB instance status\".\n",
    "\n",
    "![](s307.png)\n",
    "\n",
    "\n",
    "## Step 2: Download and setup pgAdmin\n",
    "\n",
    "### <font color=\"orange\">2.1: Download the installer for pgAdmin4 v2.1 from https://www.pgadmin.org/ and install  and open it. Click on \"Add new server\".\n",
    "\n",
    "![](s308.png)\n",
    "\n",
    "### <font color=\"orange\">2.2: Go back to your Amazon RDS account. Scroll down to the \"Details\" section - under the column - \"Security and network\" copy the server address under the header \"Endpoint\" (highlighted in the following screenshot).\n",
    "\n",
    "![](s309.png)\n",
    "\n",
    "### <font color=\"orange\">2.3: Give a name to your server.\n",
    "\n",
    "![](s310.png)\n",
    "\n",
    "### <font color=\"orange\">2.4: Under \"Connection\", enter the server address from Step 2.2 to \"Host name / address\". Your username should be the one you set for \"Master username\", and the password the one for \"Master password\".\n",
    "\n",
    "![](s311.png)\n",
    "\n",
    "### <font color=\"orange\">2.5: On the \"Browser\" panel, expand Servers > <i>yourServerName</i> > Databases > music.\n",
    "\n",
    "![](s312.png)\n"
   ]
  },
  {
   "cell_type": "markdown",
   "metadata": {},
   "source": [
    "## Step 3: Using python to store and retrieve data from your database"
   ]
  },
  {
   "cell_type": "code",
   "execution_count": 5,
   "metadata": {},
   "outputs": [],
   "source": [
    "## You'll need to install this first\n",
    "import psycopg2"
   ]
  },
  {
   "cell_type": "markdown",
   "metadata": {},
   "source": [
    "### Step 3.1: Connecting to your Database\n",
    "To set up a connection to the Database, you'll need to pass a four parameters as a string - host, dbname, user, password in the following format.\n",
    "\"host='*[insertHostAddress]*' dbname='*[insertDBname]*' user='*[yourMasterUsername]*' password='*[yourMasterPassword]*'\"\n",
    "\n",
    "<font color=\"magenta\">Write down the string which will allow you to connect to the database</font>\n",
    "\n",
    "** When you submit the lab, make sure you remove your login credentials before turning in your lab **"
   ]
  },
  {
   "cell_type": "code",
   "execution_count": 15,
   "metadata": {
    "scrolled": true
   },
   "outputs": [],
   "source": [
    "connection_string = \"host='si330-libbymur.clqth2h5kxt9.us-east-2.rds.amazonaws.com' dbname='music' user='root'password='D1oy14xFcS6V'\"\n",
    "connection = psycopg2.connect(connection_string)"
   ]
  },
  {
   "cell_type": "code",
   "execution_count": 18,
   "metadata": {
    "collapsed": true
   },
   "outputs": [],
   "source": [
    "# This sets up a connection \n",
    "mark = connection.cursor()"
   ]
  },
  {
   "cell_type": "markdown",
   "metadata": {},
   "source": [
    "### Step 3.2 Making queries to your Database\n",
    "\n",
    "You'll use ```mark.execute()``` to pass your SQL queries as strings. Specify the SQL query to CREATE a Table named songs with the following columns: ```id (integer)```, ```title (varchar)```, ```album (varchar)```.\n",
    "\n",
    "<font color=\"magenta\">Write your query to Create a Table, which you'll pass into the execute() function</font>"
   ]
  },
  {
   "cell_type": "code",
   "execution_count": 23,
   "metadata": {},
   "outputs": [
    {
     "ename": "ProgrammingError",
     "evalue": "relation \"songs_demo\" already exists\n",
     "output_type": "error",
     "traceback": [
      "\u001b[0;31m---------------------------------------------------------------------------\u001b[0m",
      "\u001b[0;31mProgrammingError\u001b[0m                          Traceback (most recent call last)",
      "\u001b[0;32m<ipython-input-23-b98319dbb1e1>\u001b[0m in \u001b[0;36m<module>\u001b[0;34m()\u001b[0m\n\u001b[0;32m----> 1\u001b[0;31m \u001b[0mmark\u001b[0m\u001b[0;34m.\u001b[0m\u001b[0mexecute\u001b[0m\u001b[0;34m(\u001b[0m\u001b[0;34m'CREATE TABLE songs_demo(id integer PRIMARY KEY, title varchar, album varchar)'\u001b[0m\u001b[0;34m)\u001b[0m\u001b[0;34m\u001b[0m\u001b[0m\n\u001b[0m",
      "\u001b[0;31mProgrammingError\u001b[0m: relation \"songs_demo\" already exists\n"
     ]
    }
   ],
   "source": [
    "mark.execute('CREATE TABLE songs_demo(id integer PRIMARY KEY, title varchar, album varchar)')"
   ]
  },
  {
   "cell_type": "code",
   "execution_count": 22,
   "metadata": {
    "collapsed": true
   },
   "outputs": [],
   "source": [
    "# This will commit your query to the server. Without this, your query is not complete.\n",
    "connection.commit()"
   ]
  },
  {
   "cell_type": "markdown",
   "metadata": {},
   "source": [
    "In the cell below write your SQL query to Insert into the table the following data:\n",
    "Key: 1\n",
    "Song: Dreams\n",
    "Artist: Fleetwood Mac\n",
    "Album: Rumours\n",
    "\n",
    "<font color=\"magenta\">Write your SQL query in the following code block. Also remember to commit</font>"
   ]
  },
  {
   "cell_type": "code",
   "execution_count": 28,
   "metadata": {},
   "outputs": [
    {
     "ename": "SyntaxError",
     "evalue": "invalid syntax (<ipython-input-28-199b7ae90993>, line 1)",
     "output_type": "error",
     "traceback": [
      "\u001b[0;36m  File \u001b[0;32m\"<ipython-input-28-199b7ae90993>\"\u001b[0;36m, line \u001b[0;32m1\u001b[0m\n\u001b[0;31m    mark.execute('INSERT INTO songs_demo(id,title,album) VALUES (1,'Dreams','Rumours')')\u001b[0m\n\u001b[0m                                                                         ^\u001b[0m\n\u001b[0;31mSyntaxError\u001b[0m\u001b[0;31m:\u001b[0m invalid syntax\n"
     ]
    }
   ],
   "source": [
    "mark.execute('INSERT INTO songs_demo(id,title,album) VALUES (1,'Dreams','Rumours')')\n",
    "connection.commit()          "
   ]
  },
  {
   "cell_type": "markdown",
   "metadata": {},
   "source": [
    "### <font color=\"magenta\">Note: If you get an error in your code, you might have to reconnect to your database.</font>"
   ]
  },
  {
   "cell_type": "markdown",
   "metadata": {},
   "source": [
    "Below we show two examples of retrieving data from the table. ```fetchall()``` allows you to get all the rows from the table. This will return a list of tuples.\n",
    "\n",
    "On the other hand, if you are just interested in the first row, you could use ```fetchone()``` which returns the first row from the table. This will return a tuple.\n",
    "\n",
    "**If you've successfully stored the data into the database, the next two chunks should output a list of tuples. **"
   ]
  },
  {
   "cell_type": "code",
   "execution_count": null,
   "metadata": {
    "collapsed": true
   },
   "outputs": [],
   "source": [
    "mark.execute(\"SELECT * FROM songs_demo\")\n",
    "records = mark.fetchall()\n",
    "records"
   ]
  },
  {
   "cell_type": "code",
   "execution_count": null,
   "metadata": {
    "collapsed": true
   },
   "outputs": [],
   "source": [
    "mark.execute(\"SELECT * FROM songs_demo\")\n",
    "records = mark.fetchone()\n",
    "records"
   ]
  },
  {
   "cell_type": "markdown",
   "metadata": {},
   "source": [
    "How do you count the number of rows that you have returned?\n",
    "The SQL COUNT function is used to count the number of rows returned in a SELECT statement."
   ]
  },
  {
   "cell_type": "code",
   "execution_count": null,
   "metadata": {
    "collapsed": true
   },
   "outputs": [],
   "source": [
    "mark.execute(\"SELECT COUNT(*) FROM songs_demo\")\n",
    "records = mark.fetchone()\n",
    "records"
   ]
  },
  {
   "cell_type": "markdown",
   "metadata": {},
   "source": [
    "### Step 3.3 Storing data from a list to the database\n",
    "\n",
    "You are usually not going to populate your database with just one row of data - you'll probably want to store large amounts of data in multiple rows. Let's see how we can do that. ```list_of_songs``` is a list of tuples where each tuple is (*id*, *song_name*, *album_name*).\n",
    "\n",
    "You can use ```executemany``` to write such a data structure into a table, as shown below."
   ]
  },
  {
   "cell_type": "code",
   "execution_count": null,
   "metadata": {
    "collapsed": true
   },
   "outputs": [],
   "source": [
    "list_of_songs = [(2, 'Every Rose Has Its Thorn', 'Poison'), \n",
    "                (3, 'Jump', '1984'), \n",
    "                (4, 'The Chain', 'Rumours')]"
   ]
  },
  {
   "cell_type": "code",
   "execution_count": null,
   "metadata": {
    "collapsed": true
   },
   "outputs": [],
   "source": [
    "mark.executemany(\"INSERT INTO songs_demo (id, title, album) VALUES (%s, %s, %s)\", list_of_songs)\n",
    "connection.commit()"
   ]
  },
  {
   "cell_type": "markdown",
   "metadata": {},
   "source": [
    "### Step 3.4 More on Retrieving Data\n",
    "\n",
    "We have provided two data structures for you. Perform the following steps:\n",
    "\n",
    "* Create a table named **Songs** with columns *id, song_title, album_name, artistID*\n",
    "* Create a second table named **Artists** with columns *artistID, artist_name*\n",
    "* Select the columns *id, song_title, album_name, artist_name* from the two tables such that artistID from **Songs** table is the same as artistID from the **Artists** table. (There are two ways you can do this - using JOINs or using the WHERE funtion)\n",
    "* Print the output\n",
    "\n",
    "<font color=\"magenta\">Write your SQL queris to create the two tables, insert data into them, and then retrieve the data as specified</font>"
   ]
  },
  {
   "cell_type": "code",
   "execution_count": null,
   "metadata": {
    "collapsed": true
   },
   "outputs": [],
   "source": [
    "list_of_songs = [(1, 'Dreams', 'Poison', 1),\n",
    "                (2, 'Every Rose Has Its Thorn', 'Poison', 2), \n",
    "                (3, 'Jump', '1984', 3), \n",
    "                (4, 'The Chain', 'Rumours', 1)]\n",
    "\n",
    "list_of_artists = [(1, 'Fleetwood Mac'),\n",
    "                (2, 'Poison'), \n",
    "                (3, 'Van Halen')]"
   ]
  },
  {
   "cell_type": "code",
   "execution_count": null,
   "metadata": {
    "collapsed": true
   },
   "outputs": [],
   "source": [
    "## Write your solution here"
   ]
  }
 ],
 "metadata": {
  "kernelspec": {
   "display_name": "Python 3",
   "language": "python",
   "name": "python3"
  },
  "language_info": {
   "codemirror_mode": {
    "name": "ipython",
    "version": 3
   },
   "file_extension": ".py",
   "mimetype": "text/x-python",
   "name": "python",
   "nbconvert_exporter": "python",
   "pygments_lexer": "ipython3",
   "version": "3.6.3"
  }
 },
 "nbformat": 4,
 "nbformat_minor": 2
}
