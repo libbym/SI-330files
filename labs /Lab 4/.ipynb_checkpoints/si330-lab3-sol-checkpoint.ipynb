{
 "cells": [
  {
   "cell_type": "markdown",
   "metadata": {},
   "source": [
    "# Lab 3 - Natural Language Processing with NLTK\n",
    "\n",
    "\n",
    "## Due: Thursday, January 25, 2018,  11:59:00pm\n",
    "\n",
    "### Submission instructions\n",
    "After completing this homework, you will turn in three files via Canvas ->  Assignments -> Lab 3:\n",
    "Your Notebook, named si330-lab3-YOUR_UNIQUE_NAME.ipynb and\n",
    "the HTML file, named si330-lab3-YOUR_UNIQUE_NAME.html\n",
    "\n",
    "### Name:  YOUR NAME GOES HERE\n",
    "### Uniqname: YOUR UNIQNAME GOES HERE\n",
    "### People you worked with: [if you didn't work with anyone else write \"I worked by myself\" here].\n",
    "\n",
    "\n",
    "## Objectives\n",
    "After completing this Lab, you should know how to use NLTK to:\n",
    "* Normalize and Tokenize your text data\n",
    "* Parts of Speech tagging of a sentence\n"
   ]
  },
  {
   "cell_type": "markdown",
   "metadata": {},
   "source": [
    "## Part A - Installing NLTK\n",
    "\n",
    "The Natural Language Toolkit, or more commonly NLTK, is a suite of libraries and programs for symbolic and statistical natural language processing (NLP) for English written in the Python.\n",
    "\n",
    "You will install a package directly from Jupyter Notebooks.\n",
    "<font color=\"magenta\"><b>Make sure you are in the SI 330 environment when you run your Jupyter notebook. In your Jupyter notebook run the following command</b></font>"
   ]
  },
  {
   "cell_type": "code",
   "execution_count": null,
   "metadata": {
    "collapsed": true
   },
   "outputs": [],
   "source": [
    "First run this cell\n",
    "import sys\n",
    "!conda install --yes --prefix {sys.prefix} nltk"
   ]
  },
  {
   "cell_type": "markdown",
   "metadata": {},
   "source": [
    "NLTK comes with many corpora, toy grammars, trained models, etc. A complete list is posted at: http://nltk.org/nltk_data/\n",
    "\n",
    "In the next code chunk, you will install the data."
   ]
  },
  {
   "cell_type": "code",
   "execution_count": null,
   "metadata": {
    "collapsed": true
   },
   "outputs": [],
   "source": [
    "# Remove this cell once you've installed it, so that you don't accidently run this again.\n",
    "nltk.download()"
   ]
  },
  {
   "cell_type": "markdown",
   "metadata": {},
   "source": [
    "## Background\n",
    "\n",
    "NLTK's corpora contains texts from the Gutenberg project. In today's lab we will be working on text from Shakespeare's Julius Caesar. In the chunk below, you can see what books are available in this corpus."
   ]
  },
  {
   "cell_type": "code",
   "execution_count": 2,
   "metadata": {},
   "outputs": [
    {
     "name": "stdout",
     "output_type": "stream",
     "text": [
      "austen-emma.txt\n",
      "austen-persuasion.txt\n",
      "austen-sense.txt\n",
      "bible-kjv.txt\n",
      "blake-poems.txt\n",
      "bryant-stories.txt\n",
      "burgess-busterbrown.txt\n",
      "carroll-alice.txt\n",
      "chesterton-ball.txt\n",
      "chesterton-brown.txt\n",
      "chesterton-thursday.txt\n",
      "edgeworth-parents.txt\n",
      "melville-moby_dick.txt\n",
      "milton-paradise.txt\n",
      "shakespeare-caesar.txt\n",
      "shakespeare-hamlet.txt\n",
      "shakespeare-macbeth.txt\n",
      "whitman-leaves.txt\n"
     ]
    }
   ],
   "source": [
    "import nltk, re\n",
    "from collections import defaultdict\n",
    "\n",
    "# Texts present in the Gutenberg Corpora\n",
    "for i in nltk.corpus.gutenberg.fileids():\n",
    "    print(i)"
   ]
  },
  {
   "cell_type": "markdown",
   "metadata": {},
   "source": [
    "Now, we will import Julius Caesar and save it in a variable. <font color=\"magenta\">Print and see what it looks like.</font> "
   ]
  },
  {
   "cell_type": "code",
   "execution_count": 43,
   "metadata": {},
   "outputs": [
    {
     "name": "stdout",
     "output_type": "stream",
     "text": [
      "[The Tragedie of Julius Caesar by William Shakespeare 1599]\n",
      "\n",
      "\n",
      "Actus Primus. Scoena Prima.\n",
      "\n",
      "Enter Flauius, Murellus, and certaine Commoners ouer the Stage.\n",
      "\n",
      "  Flauius. Hence: home you idle Creatures, get you home:\n",
      "Is this a Holiday? What, know you not\n",
      "(Being Mechanicall) you ought not walke\n",
      "Vpon a labouring day, without the signe\n",
      "Of your Profession? Speake, what Trade art thou?\n",
      "  Car. Why Sir, a Carpenter\n",
      "\n",
      "   Mur. Where is thy Leather Apron, and thy Rule?\n",
      "What dost thou with thy best Apparrell on?\n",
      "You sir, what Trade are you?\n",
      "  Cobl. Truely Sir, in respect of a fine Workman, I am\n",
      "but as you would say, a Cobler\n",
      "\n",
      "   Mur. But what Trade art thou? Answer me directly\n",
      "\n",
      "   Cob. A Trade Sir, that I hope I may vse, with a safe\n",
      "Conscience, which is indeed Sir, a Mender of bad soules\n",
      "\n",
      "   Fla. What Trade thou knaue? Thou naughty knaue,\n",
      "what Trade?\n",
      "  Cobl. Nay I beseech you Sir, be not out with me: yet\n",
      "if you be out Sir, I can mend you\n",
      "\n",
      "   Mur. What mean'st thou by that? Mend mee, thou\n",
      "sawcy Fellow?\n"
     ]
    }
   ],
   "source": [
    "# Solution\n",
    "\n",
    "# We want to get Julius Caesar as raw text. \n",
    "# There are other ways in which you could load text from this corpus, but we will use raw text\n",
    "caesar = nltk.corpus.gutenberg.raw('shakespeare-caesar.txt')\n",
    "\n",
    "# Print the first 1000 characters of Julius Caesar. Why are we printing characters?\n",
    "print(caesar[:1000])"
   ]
  },
  {
   "cell_type": "markdown",
   "metadata": {},
   "source": [
    "Next, we will normalize and tokenize the text from the play. We will use the <b>```RegexpTokenizer```</b> from  <b>```nltk.tokenizer```</b> package. This will allow us to write our own regular expression and tokenize the text. You only want the words, so write your regular expression accordingly.\n",
    "\n",
    "<font color=\"magenta\">Write down the code to normalize the text. Then tokenize the text using regex.</font>"
   ]
  },
  {
   "cell_type": "code",
   "execution_count": 44,
   "metadata": {
    "collapsed": true
   },
   "outputs": [],
   "source": [
    "# Solution\n",
    "from nltk.tokenize import RegexpTokenizer\n",
    "from nltk.corpus import stopwords\n",
    "\n",
    "tokenizer = RegexpTokenizer(r'\\w+') # Fill in with the right regular expression.\n",
    "\n",
    "word_tokens = tokenizer.tokenize(caesar.lower())"
   ]
  },
  {
   "cell_type": "markdown",
   "metadata": {},
   "source": [
    "A useful measure to calculate is the type-token ratio (TTR). For that, we would need to calculate the total number of word types, which is the collection of unique words, and tokens, which here is an instance of a word.\n",
    "<font color=\"magenta\">Calculate total number of word types, word tokens, and type-token ratio for the text.</font>"
   ]
  },
  {
   "cell_type": "code",
   "execution_count": 45,
   "metadata": {},
   "outputs": [
    {
     "name": "stdout",
     "output_type": "stream",
     "text": [
      "0.1446366118909596\n"
     ]
    }
   ],
   "source": [
    "# Solution\n",
    "\n",
    "diction_words_caesar = defaultdict(int)\n",
    "for word in word_tokens:\n",
    "    diction_words_caesar[word] += 1\n",
    "\n",
    "type_token_ratio = len(diction_words_caesar)/sum(diction_words_caesar.values())\n",
    "print(type_token_ratio)"
   ]
  },
  {
   "cell_type": "markdown",
   "metadata": {},
   "source": [
    "Bigram or digram are a sequence of two adjacent elements from a string of tokens, which are typically letters, syllables, or words. A bigram is an n-gram for n=2. The frequency distribution of every bigram in a string is commonly used for simple statistical analysis of text in many applications, including in computational linguistics, cryptography, speech recognition, and so on.\n",
    "\n",
    "Here, you will retrieve all the bigrams from the text, store them in a dictionary, and count the number of times each bigram occurs.\n",
    "\n",
    "<font color=\"magenta\">Calculate the bigram counts - two words occuring one after the other - and store it in a dictionary, along with the number of times it has occured.</font>"
   ]
  },
  {
   "cell_type": "code",
   "execution_count": 46,
   "metadata": {},
   "outputs": [
    {
     "name": "stdout",
     "output_type": "stream",
     "text": [
      "('i', 'will') 50\n",
      "('i', 'am') 48\n",
      "('my', 'lord') 40\n",
      "('in', 'the') 40\n",
      "('it', 'is') 37\n",
      "('i', 'haue') 36\n",
      "('to', 'the') 34\n",
      "('that', 'i') 31\n",
      "('i', 'do') 31\n",
      "('of', 'the') 24\n",
      "('and', 'i') 24\n",
      "('all', 'the') 23\n",
      "('you', 'are') 22\n",
      "('he', 'is') 21\n",
      "('i', 'know') 21\n",
      "('to', 'day') 20\n",
      "('my', 'selfe') 20\n",
      "('is', 'a') 19\n",
      "('there', 'is') 19\n",
      "('cassi', 'i') 18\n"
     ]
    }
   ],
   "source": [
    "# Solution\n",
    "bigram_counts = defaultdict(int)\n",
    "for i in range(len(word_tokens) - 1):\n",
    "    bigram_counts[(word_tokens[i], word_tokens[i+1])] += 1\n",
    "\n",
    "sorted_bigram_counts = sorted(bigram_counts.items(), key = lambda x: x[1], reverse = True)\n",
    "for k, v in sorted_bigram_counts[:20]:\n",
    "    print(k, v)"
   ]
  },
  {
   "cell_type": "markdown",
   "metadata": {},
   "source": [
    "Next, we will use Part of Speech tagging to tag the words from the play. We need to pass tokenized words to this <b>```pos_tag```</b> function, which returns a list of type - tag tuples. The first two lines in the cell below import the necessary functions. \n",
    "\n",
    "<font color=\"magenta\">Pass the set of word types into pos_tag.</font>"
   ]
  },
  {
   "cell_type": "markdown",
   "metadata": {},
   "source": [
    "Next, we will calculate the frequency distribution of each word type. We will use the <b>```nltk.FreqDist()```</b>."
   ]
  },
  {
   "cell_type": "code",
   "execution_count": 47,
   "metadata": {},
   "outputs": [
    {
     "data": {
      "image/png": "[encoded data removed]",
      "text/plain": [
       "<matplotlib.figure.Figure at 0x119164668>"
      ]
     },
     "metadata": {},
     "output_type": "display_data"
    }
   ],
   "source": [
    "# Solution\n",
    "\n",
    "from nltk.tag import pos_tag\n",
    "import matplotlib.pyplot as plt\n",
    "\n",
    "word_tags = pos_tag(word_tokens)\n",
    "\n",
    "fd = nltk.FreqDist(tag for (word, tag) in word_tags)\n",
    "fd.plot()"
   ]
  },
  {
   "cell_type": "markdown",
   "metadata": {},
   "source": [
    "Get the names of all the characters (cast members for clarity) from the play. Cast members are the ones with the lines. This can be done using either <b>```nltk's RegexpTokenizer```</b> or <b>```re.findall```</b>. First try out the <b>```nltk's RegexpTokenizer```</b>. Print the set of character names. (Make sure the character names don't appear twice.)\n",
    "\n",
    "<b>Note: we will be using the raw text, stored in the variable ```caesar``` for this, and not your tokenized words.</b>\n",
    "\n",
    "<font color=\"magenta\">Write the regular expression to tokenize and return only the cast member names. The tokenizer is a method which you will use and store the output in word_tokens. Print out the names of the cast members and the number of different cast members.</font>"
   ]
  },
  {
   "cell_type": "code",
   "execution_count": 66,
   "metadata": {},
   "outputs": [
    {
     "name": "stdout",
     "output_type": "stream",
     "text": [
      "{'Ple.', 'Cic.', 'Cask.', 'Cin.', 'Dec.', 'Octa.', 'Fla.', 'King.', 'Treb.', 'Cato.', 'Art.', 'Cobl.', 'Bed.', 'Ant.', 'Cai.', 'Army.', 'Ser.', 'Mur.', 'Dard.', 'Rome.', 'Tit.', 'Clau.', 'Cas.', 'Calp.', 'Mess.', 'Pind.', 'Caes.', 'Met.', 'Oct.', 'Drum.', 'Sold.', 'Song.', 'Clit.', 'Vol.', 'Luc.', 'Cly.', 'Sir.', 'Poet.', 'Bru.', 'Cyn.', 'Var.', 'Deci.', 'Oath.', 'Cal.', 'Por.', 'Pub.', 'All.', 'Wife.', 'Stra.', 'Cob.', 'Lep.', 'Car.', 'Cass.', 'Pin.', 'Dyes.', 'Both.', 'Lord.', 'Brut.', 'Mes.'} 59\n"
     ]
    }
   ],
   "source": [
    "# Solution\n",
    "tokenizer = RegexpTokenizer(r'([A-Z][a-z]{2,3}\\.)') #Fill in with the right regular expression.\n",
    "\n",
    "word_tokens = set(tokenizer.tokenize(caesar))\n",
    "print(word_tokens, len(word_tokens))"
   ]
  },
  {
   "cell_type": "code",
   "execution_count": 48,
   "metadata": {},
   "outputs": [
    {
     "name": "stdout",
     "output_type": "stream",
     "text": [
      "{'Ant.', 'Cic.', 'Cai.', 'Brut.', 'Cal.', 'Army.', 'Poet.', 'Fla.', 'Mes.', 'Clit.', 'Drum.', 'Dard.', 'Cob.', 'Ser.', 'Pin.', 'Cass.', 'Sir.', 'Tit.', 'Vol.', 'Pind.', 'Car.', 'Wife.', 'Calp.', 'Luc.', 'Cyn.', 'Bed.', 'Stra.', 'King.', 'Caes.', 'Deci.', 'Rome.', 'Octa.', 'Oath.', 'Cato.', 'Treb.', 'Oct.', 'Bru.', 'Cas.', 'Song.', 'Pub.', 'Cly.', 'Dyes.', 'Clau.', 'All.', 'Lep.', 'Cobl.', 'Mess.', 'Both.', 'Por.', 'Var.', 'Art.', 'Dec.', 'Met.', 'Cin.', 'Cask.', 'Lord.', 'Mur.', 'Ple.', 'Sold.'}\n"
     ]
    }
   ],
   "source": [
    "# Alternate solution\n",
    "characters = set(re.findall(r'([A-Z][a-z]{2,3}\\.)', caesar)) #Fill in with the right regular expression.\n",
    "\n",
    "print(characters)"
   ]
  }
 ],
 "metadata": {
  "kernelspec": {
   "display_name": "Python 3",
   "language": "python",
   "name": "python3"
  },
  "language_info": {
   "codemirror_mode": {
    "name": "ipython",
    "version": 3
   },
   "file_extension": ".py",
   "mimetype": "text/x-python",
   "name": "python",
   "nbconvert_exporter": "python",
   "pygments_lexer": "ipython3",
   "version": "3.6.3"
  }
 },
 "nbformat": 4,
 "nbformat_minor": 2
}
