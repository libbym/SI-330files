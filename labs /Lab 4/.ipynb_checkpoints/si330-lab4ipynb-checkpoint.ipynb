{
 "cells": [
  {
   "cell_type": "markdown",
   "metadata": {},
   "source": [
    "# Lab 4 - Exploring AWS Lambda and API Gateway\n",
    "\n",
    "\n",
    "## Due: Thursday, February 1st, 2018,  11:59:00pm\n",
    "\n",
    "### Submission instructions\n",
    "After completing this homework, you will turn in three files via Canvas ->  Assignments -> Lab 4:\n",
    "Your Notebook, named si330-lab4-YOUR_UNIQUE_NAME.ipynb and\n",
    "the HTML file, named si330-lab4-YOUR_UNIQUE_NAME.html\n",
    "\n",
    "### Name:  YOUR NAME GOES HERE\n",
    "### Uniqname: YOUR UNIQNAME GOES HERE\n",
    "### People you worked with: [if you didn't work with anyone else write \"I worked by myself\" here].\n",
    "\n",
    "\n",
    "## Objectives\n",
    "After completing this Lab, you should know how to:\n",
    "* log into your AWS account\n",
    "* create an S3 bucket\n",
    "* create an AWS Lambda function\n",
    "* add an API Gateway to access your Lambda function\n",
    "\n",
    "### Required actions on your part are indicated in <font color=\"orange\">orange</font>.  Required input (e.g. answers to questions) are indicated in <font color=\"magenta\">magenta</font>.\n"
   ]
  },
  {
   "cell_type": "markdown",
   "metadata": {},
   "source": [
    "## Part A - Setting up your S3 bucket\n",
    "\n",
    "### <font color=\"orange\">A1: Log into your AWS account and navigate to All Services > Storage > S3, then click on \"+ Create Bucket\"\n",
    "\n",
    "![](s301.png)\n",
    "\n",
    "### <font color=\"orange\">A2: Fill in the bucket name with si330w18-YOUR_UNIQNAME.  Leave the \"Region\" and \"Copy...\" settings as they are.\n",
    "\n",
    "![](s302.png)\n",
    "\n",
    "### <font color=\"orange\">A3: Click \"Next\"\n",
    "\n",
    "![](s303.png)\n",
    "\n",
    "### <font color=\"orange\">A4: Don't change anything here.  Click \"Next\"\n",
    "\n",
    "![](s304.png)\n",
    "\n",
    "### <font color=\"orange\">A5: Change \"Manage public permissions\" to \"Grant public read access to this bucket\".  Click \"Next\".\n",
    "\n",
    "![](s305.png)\n",
    "\n",
    "### <font color=\"orange\">A6: Click \"Create bucket\"\n",
    "\n",
    "![](s306.png)\n",
    "\n",
    "### <font color=\"orange\">A7: Click on the bucket you just created\n",
    "\n",
    "![](s307.png)\n",
    "\n",
    "### <font color=\"orange\">A8: Click \"Upload\"\n",
    "\n",
    "![](s308.png)\n",
    "\n",
    "### <font color=\"orange\">A9: Select the dickens-totc.txt file that's included with this lab, then click \"Next\"\n",
    "\n",
    "![](s309.png)\n",
    "\n",
    "### <font color=\"orange\">A10: Change \"Manage public permissions\" to \"Grant public read access to this object(s)\". Click \"Next\".\n",
    "\n",
    "![](s310.png)\n",
    "\n",
    "### <font color=\"orange\">A11: Don't change anything here.  Click \"Next\"\n",
    "\n",
    "![](s311.png)\n",
    "\n",
    "### <font color=\"orange\">A12: Click \"Upload\"\n",
    "\n",
    "![](s312.png)\n",
    "\n",
    "### <font color=\"orange\">A13: Click on \"dickens-totc.txt\"\n",
    "\n",
    "![](s313.png)\n",
    "\n",
    "### <font color=\"orange\">A14: On this Overview tab, click the URL under Link\n",
    "\n",
    "![](s314.png)\n",
    "\n",
    "### <font color=\"orange\">A15: You should see the following:\n",
    "\n",
    "![](s315.png)"
   ]
  },
  {
   "cell_type": "markdown",
   "metadata": {},
   "source": [
    "### <font color=\"magenta\">Question 1: Record the URL of the link that points to your dickens-totc.txt file in the next markdown block</font>"
   ]
  },
  {
   "cell_type": "markdown",
   "metadata": {},
   "source": [
    "My URL:"
   ]
  },
  {
   "cell_type": "markdown",
   "metadata": {},
   "source": [
    "## Part B - Writing your code in Lambda"
   ]
  },
  {
   "cell_type": "markdown",
   "metadata": {},
   "source": [
    "Lambda is AWS's serverless computing service. Coupled with the API gateway, you can create your own API and make requests to it. This part of the lab will get you familiar with the interface and how to create a Python file on Lambda and make requests to it via the API Gateway to return JSON objects."
   ]
  },
  {
   "cell_type": "markdown",
   "metadata": {},
   "source": [
    "* Sign in to your AWS Management Console\n",
    "* Navigate to All Services > Compute > Lambda \n",
    "* You should see something like the attached image\n",
    "\n",
    "### <font color=\"orange\">B1: Click on \"Create a function\"\n",
    "\n",
    "![](aws01.png)\n",
    "\n"
   ]
  },
  {
   "cell_type": "markdown",
   "metadata": {},
   "source": [
    "You'll see screen similar to the following.  \n",
    "### <font color=\"orange\">B2: Click on \"Blueprints\" and enter \"microservice\" in the search box.  Select \"microservice-http-endpoint-python3\" (the \"python3\" is important):\n",
    "![](aws03.png)"
   ]
  },
  {
   "cell_type": "markdown",
   "metadata": {},
   "source": [
    "### <font color=\"orange\">B3: On the following screen, fill in the \"Name\" box with \"splitit\", leave Role as \"Create new role from template(s)\", enter \"splititRole\" as the Role name. **NOTE: The screen cap below uses \"splitter\" instead of \"splitit\". Please use \"splitit\" as your function name.**\n",
    "\n",
    "![](aws04.png)"
   ]
  },
  {
   "cell_type": "markdown",
   "metadata": {},
   "source": [
    "### <font color=\"orange\">B4: Scroll down to the \"api-gateway\" section and change the \"Security\" option to \"Open\":\n",
    "\n",
    "![](aws05.png)"
   ]
  },
  {
   "cell_type": "markdown",
   "metadata": {},
   "source": [
    "### <font color=\"orange\">B5: Then scroll down to the bottom (you can't edit the code on this page), and click on \"Create function\":\n",
    "\n",
    "![](aws06.png)"
   ]
  },
  {
   "cell_type": "markdown",
   "metadata": {},
   "source": [
    "### <font color=\"orange\">B6: On the next page, scroll down and replace the python code with the code from the next block:\n",
    "![](aws16.png)"
   ]
  },
  {
   "cell_type": "code",
   "execution_count": null,
   "metadata": {},
   "outputs": [],
   "source": [
    "\"\"\"\n",
    "A simple module to split a string into words\n",
    "\"\"\"\n",
    "import json\n",
    "import re\n",
    "\n",
    "\"\"\"\n",
    "Helper method to split string using re.split.  \n",
    "Returns a dictionary with key text set to the list of \n",
    "resulting words.\n",
    "\"\"\"\n",
    "\n",
    "def lambda_handler(event, context):\n",
    "   method = event['httpMethod']\n",
    "   text = \"\"\n",
    "   d = {\"text\": \"\"}\n",
    "   # Handle GET method\n",
    "   if method == 'GET':\n",
    "       if event['queryStringParameters'] != None:\n",
    "           if 'text' in event['queryStringParameters']:\n",
    "               #d = split_text()\n",
    "               d['text'] = re.split('\\W+',event['queryStringParameters']['text'])\n",
    "   \n",
    "   # Note the strict format of the return dictionary\n",
    "   # It must contain these three elements, and the body\n",
    "   # must be a stringified JSON object (i.e. you have to call \n",
    "   # json.dumps on the JSON structure you're returning)\n",
    "   return { \n",
    "       \"statusCode\": 200,\n",
    "       \"headers\": {\"Content-Type\": \"application/json\"},\n",
    "       \"body\": json.dumps(d),\n",
    "   }"
   ]
  },
  {
   "cell_type": "markdown",
   "metadata": {},
   "source": [
    "Once you do that, you'll return to the function overview page.  \n",
    "### <font color=\"orange\">B7: Click on \"API Gateway\", then scroll to \"Lambda Microservice\":\n",
    "![](aws08.png)"
   ]
  },
  {
   "cell_type": "markdown",
   "metadata": {},
   "source": [
    "###  <font color=\"orange\"> B8: On the API page, click on \"ANY\" under the \"/splitit\" to reveal the API workflow:\n",
    "![](aws09.png)"
   ]
  },
  {
   "cell_type": "markdown",
   "metadata": {},
   "source": [
    "### <font color=\"orange\">B9: Click on \"TEST\", then add \"text=The quick brown fox\" in the Query Strings box:\n",
    "![](aws10.png)"
   ]
  },
  {
   "cell_type": "markdown",
   "metadata": {},
   "source": [
    "### <font color=\"orange\">B10: Click \"Test\" (at the bottom of the page).  You should see something like the following image.  You want to ensure you see \"Status: 200\" as the second line on the right:\n",
    "![](aws11.png)"
   ]
  },
  {
   "cell_type": "markdown",
   "metadata": {},
   "source": [
    "### <font color=\"orange\">B11: Click on \"Stages\" on the left side of the page, open up \"prod\", then \"/\", then \"/splitit\" and click on \"GET\".  You should see a screen similar to:\n",
    "![](aws12.png)"
   ]
  },
  {
   "cell_type": "markdown",
   "metadata": {},
   "source": [
    "### <font color=\"orange\">B12: Click the \"Invoke URL\" link and you should see a new tab that looks like:\n",
    "![](aws13.png)"
   ]
  },
  {
   "cell_type": "markdown",
   "metadata": {},
   "source": [
    "### <font color=\"orange\">B13: Add `\"?text=This is a test\"` to the end of the URL and press return.  You should see something like:\n",
    "![](aws14.png)\n",
    "![](aws15.png)"
   ]
  },
  {
   "cell_type": "markdown",
   "metadata": {},
   "source": [
    "### <font color=\"magenta\">Q2: Enter the URL from the previous cell"
   ]
  },
  {
   "cell_type": "markdown",
   "metadata": {},
   "source": [
    "Put your URL here."
   ]
  },
  {
   "cell_type": "markdown",
   "metadata": {},
   "source": [
    "### <font color=\"magenta\">Q3: Access your API using `requests`\n",
    "For the final step of this lab, you'll be using the `requests` library to access your new API.  \n",
    "Enter your URL (with the `?text=This is a test` at the end) in the next code block and run it."
   ]
  },
  {
   "cell_type": "code",
   "execution_count": null,
   "metadata": {},
   "outputs": [],
   "source": [
    "import requests\n",
    "\n",
    "my_api = \"https://REPLACE_THIS.execute-api.us-east-1.amazonaws.com/prod/splitit?text=This is a test.\"\n",
    "\n",
    "response = requests.get(my_api)\n",
    "\n",
    "print(response.text)\n",
    "print()\n",
    "print(response.headers)\n"
   ]
  },
  {
   "cell_type": "markdown",
   "metadata": {},
   "source": [
    "## Save your notebook, then download it as HTML.  SUBMIT BOTH FILES VIA CANVAS."
   ]
  }
 ],
 "metadata": {
  "kernelspec": {
   "display_name": "Python [default]",
   "language": "python",
   "name": "python3"
  },
  "language_info": {
   "codemirror_mode": {
    "name": "ipython",
    "version": 3
   },
   "file_extension": ".py",
   "mimetype": "text/x-python",
   "name": "python",
   "nbconvert_exporter": "python",
   "pygments_lexer": "ipython3",
   "version": "3.6.3"
  }
 },
 "nbformat": 4,
 "nbformat_minor": 2
}
