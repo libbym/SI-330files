{
 "cells": [
  {
   "cell_type": "markdown",
   "metadata": {},
   "source": [
    "# Lab 3 - Natural Language Processing with NLTK\n",
    "\n",
    "\n",
    "## Due: Thursday, January 25, 2018,  11:59:00pm\n",
    "\n",
    "### Submission instructions\n",
    "After completing this homework, you will turn in three files via Canvas ->  Assignments -> Lab 3:\n",
    "Your Notebook, named si330-lab3-YOUR_UNIQUE_NAME.ipynb and\n",
    "the HTML file, named si330-lab3-YOUR_UNIQUE_NAME.html\n",
    "\n",
    "### Name:  YOUR NAME GOES HERE\n",
    "### Uniqname: YOUR UNIQNAME GOES HERE\n",
    "### People you worked with: [if you didn't work with anyone else write \"I worked by myself\" here].\n",
    "\n",
    "\n",
    "## Objectives\n",
    "After completing this Lab, you should know how to use NLTK to:\n",
    "* Normalize and Tokenize your text data\n",
    "* Parts of Speech tagging of a sentence\n"
   ]
  },
  {
   "cell_type": "markdown",
   "metadata": {},
   "source": [
    "## Part A - Installing NLTK\n",
    "\n",
    "The Natural Language Toolkit, or more commonly NLTK, is a suite of libraries and programs for symbolic and statistical natural language processing (NLP) for English written in the Python.\n",
    "\n",
    "You will install a package directly from Jupyter Notebooks.\n",
    "<font color=\"magenta\"><b>Make sure you are in the SI 330 environment when you run your Jupyter notebook. In your Jupyter notebook run the following command</b></font>"
   ]
  },
  {
   "cell_type": "code",
   "execution_count": null,
   "metadata": {
    "collapsed": true
   },
   "outputs": [],
   "source": [
    "# First run this cell\n",
    "# import sys\n",
    "# !conda install --yes --prefix {sys.prefix} nltk"
   ]
  },
  {
   "cell_type": "markdown",
   "metadata": {},
   "source": [
    "NLTK comes with many corpora, toy grammars, trained models, etc. A complete list is posted at: http://nltk.org/nltk_data/\n",
    "\n",
    "In the next code chunk, you will install the data."
   ]
  },
  {
   "cell_type": "code",
   "execution_count": null,
   "metadata": {
    "collapsed": true
   },
   "outputs": [],
   "source": [
    "# nltk.download()"
   ]
  },
  {
   "cell_type": "markdown",
   "metadata": {},
   "source": [
    "## Background\n",
    "\n",
    "NLTK's corpora contains texts from the Gutenberg project. In today's lab we will be working on text from Shakespeare's Julius Caesar. In the chunk below, you can see what books are available in this corpus."
   ]
  },
  {
   "cell_type": "code",
   "execution_count": 21,
   "metadata": {},
   "outputs": [
    {
     "name": "stdout",
     "output_type": "stream",
     "text": [
      "austen-emma.txt\n",
      "austen-persuasion.txt\n",
      "austen-sense.txt\n",
      "bible-kjv.txt\n",
      "blake-poems.txt\n",
      "bryant-stories.txt\n",
      "burgess-busterbrown.txt\n",
      "carroll-alice.txt\n",
      "chesterton-ball.txt\n",
      "chesterton-brown.txt\n",
      "chesterton-thursday.txt\n",
      "edgeworth-parents.txt\n",
      "melville-moby_dick.txt\n",
      "milton-paradise.txt\n",
      "shakespeare-caesar.txt\n",
      "shakespeare-hamlet.txt\n",
      "shakespeare-macbeth.txt\n",
      "whitman-leaves.txt\n"
     ]
    }
   ],
   "source": [
    "import nltk, re\n",
    "from collections import defaultdict\n",
    "\n",
    "# Texts present in the Gutenberg Corpora\n",
    "for i in nltk.corpus.gutenberg.fileids():\n",
    "    print(i)"
   ]
  },
  {
   "cell_type": "markdown",
   "metadata": {},
   "source": [
    "Now, we will import Julius Caesar and save it in a variable. <font color=\"magenta\">Print and see what it looks like.</font> "
   ]
  },
  {
   "cell_type": "code",
   "execution_count": 18,
   "metadata": {},
   "outputs": [
    {
     "name": "stdout",
     "output_type": "stream",
     "text": [
      "[The Tragedie of Julius Caesar by William Shakespeare 1599]\n",
      "\n",
      "\n",
      "Actus Primus. Scoena Prima.\n",
      "\n",
      "Enter Flauius, Murellus, and certaine Commoners ouer the Stage.\n",
      "\n",
      "  Flauius. Hence: home you idle Creatures, get you home:\n",
      "Is this a Holiday? What, know you not\n",
      "(Being Mechanicall) you ought not walke\n",
      "Vpon a labouring day, without the signe\n",
      "Of your Profession? Speake, what Trade art thou?\n",
      "  Car. Why Sir, a Carpenter\n",
      "\n",
      "   Mur. Where is thy Leather Apron, and thy Rule?\n",
      "What dost thou with thy best Apparrell on?\n",
      "You sir, what Trade are you?\n",
      "  Cobl. Truely Sir, in respect of a fine Workman, I am\n",
      "but as you would say, a Cobler\n",
      "\n",
      "   Mur. But what Trade art thou? Answer me directly\n",
      "\n",
      "   Cob. A Trade Sir, that I hope I may vse, with a safe\n",
      "Conscience, which is indeed Sir, a Mender of bad soules\n",
      "\n",
      "   Fla. What Trade thou knaue? Thou naughty knaue,\n",
      "what Trade?\n",
      "  Cobl. Nay I beseech you Sir, be not out with me: yet\n",
      "if you be out Sir, I can mend you\n",
      "\n",
      "   Mur. What mean'st thou by that? Mend mee, thou\n",
      "sawcy Fellow?\n",
      "  Cob. Why sir, Cobble you\n",
      "\n",
      "   Fla. Thou art a Cobler, art thou?\n",
      "  Cob. Truly sir, all that I liue by, is with the Aule: I\n",
      "meddle with no Tradesmans matters, nor womens matters;\n",
      "but withal I am indeed Sir, a Surgeon to old shooes:\n",
      "when they are in great danger, I recouer them. As proper\n",
      "men as euer trod vpon Neats Leather, haue gone vpon\n",
      "my handy-worke\n",
      "\n",
      "   Fla. But wherefore art not in thy Shop to day?\n",
      "Why do'st thou leade these men about the streets?\n",
      "  Cob. Truly sir, to weare out their shooes, to get my\n",
      "selfe into more worke. But indeede sir, we make Holyday\n",
      "to see Caesar, and to reioyce in his Triumph\n",
      "\n",
      "   Mur. Wherefore reioyce?\n",
      "What Conquest brings he home?\n",
      "What Tributaries follow him to Rome,\n",
      "To grace in Captiue bonds his Chariot Wheeles?\n",
      "You Blockes, you stones, you worse then senslesse things:\n",
      "O you hard hearts, you cruell men of Rome,\n",
      "Knew you not Pompey many a time and oft?\n",
      "Haue you climb'd vp to Walles and Battlements,\n",
      "To Towres and Windowes? Yea, to Chimney tops,\n",
      "Your Infants in your Armes, and there haue sate\n",
      "The liue-long day, with patient expectation,\n",
      "To see great Pompey passe the streets of Rome:\n",
      "And when you saw his Chariot but appeare,\n",
      "Haue you not made an Vniuersall shout,\n",
      "That Tyber trembled vnderneath her bankes\n",
      "To heare the replication of your sounds,\n",
      "Made in her Concaue Shores?\n",
      "And do you now put on your best attyre?\n",
      "And do you now cull out a Holyday?\n",
      "And do you now strew Flowers in his way,\n",
      "That comes in Triumph ouer Pompeyes blood?\n",
      "Be gone,\n",
      "Runne to your houses, fall vpon your knees,\n",
      "Pray to the Gods to intermit the plague\n",
      "That needs must light on this Ingratitude\n",
      "\n",
      "   Fla. Go, go, good Countrymen, and for this fault\n",
      "Assemble all the poore men of your sort;\n",
      "Draw them to Tyber bankes, and weepe your teares\n",
      "Into the Channell, till the lowest streame\n",
      "Do kisse the most exalted Shores of all.\n",
      "\n",
      "Exeunt. all the Commoners.\n",
      "\n",
      "See where their basest mettle be not mou'd,\n",
      "They vanish tongue-tyed in their guiltinesse:\n",
      "Go you downe that way towards the Capitoll,\n",
      "This way will I: Disrobe the Images,\n",
      "If you do finde them deckt with Ceremonies\n",
      "\n",
      "   Mur. May we do so?\n",
      "You know it is the Feast of Lupercall\n",
      "\n",
      "   Fla. It is no matter, let no Images\n",
      "Be hung with Caesars Trophees: Ile about,\n",
      "And driue away the Vulgar from the streets;\n",
      "So do you too, where you perceiue them thicke.\n",
      "These growing Feathers, pluckt from Caesars wing,\n",
      "Will make him flye an ordinary pitch,\n",
      "Who else would soare aboue the view of men,\n",
      "And keepe vs all in seruile fearefulnesse.\n",
      "\n",
      "Exeunt.\n",
      "\n",
      "Enter Caesar, Antony for the Course, Calphurnia, Portia, Decius,\n",
      "Cicero,\n",
      "Brutus, Cassius, Caska, a Soothsayer: after them Murellus and\n",
      "Flauius.\n",
      "\n",
      "  Caes. Calphurnia\n",
      "\n",
      "   Cask. Peace ho, Caesar speakes\n",
      "\n",
      "   Caes. Calphurnia\n",
      "\n",
      "   Calp. Heere my Lord\n",
      "\n",
      "   Caes. Stand you directly in Antonio's way,\n",
      "When he doth run his course. Antonio\n",
      "\n",
      "   Ant. Cæsar, my Lord\n",
      "\n",
      "   Caes. Forget not in your speed Antonio,\n",
      "To touch Calphurnia: for our Elders say,\n",
      "The Barren touched in this holy chace,\n",
      "Shake off their sterrile curse\n",
      "\n",
      "   Ant. I shall remember,\n",
      "When Caesar sayes, Do this; it is perform'd\n",
      "\n",
      "   Caes. Set on, and leaue no Ceremony out\n",
      "\n",
      "   Sooth. Caesar\n",
      "\n",
      "   Caes. Ha? Who calles?\n",
      "  Cask. Bid euery noyse be still: peace yet againe\n",
      "\n",
      "   Caes. Who is it in the presse, that calles on me?\n",
      "I heare a Tongue shriller then all the Musicke\n",
      "Cry, Caesar: Speake, Caesar is turn'd to heare\n",
      "\n",
      "   Sooth. Beware the Ides of March\n",
      "\n",
      "   Caes. What man is that?\n",
      "  Br. A Sooth-sayer bids you beware the Ides of March\n",
      "  Caes. Set him before me, let me see his face\n",
      "\n",
      "   Cassi. Fellow, come from the throng, look vpon Caesar\n",
      "\n",
      "   Caes. What sayst thou to me now? Speak once againe,\n",
      "  Sooth. Beware the Ides of March\n",
      "\n",
      "   Caes. He is a Dreamer, let vs leaue him: Passe.\n",
      "\n",
      "Sennet\n",
      "\n",
      "Exeunt. Manet Brut. & Cass.\n",
      "\n",
      "  Cassi. Will you go see the order of the course?\n",
      "  Brut. Not I\n",
      "\n",
      "   Cassi. I pray you do\n",
      "\n",
      "   Brut. I am not Gamesom: I do lacke some part\n",
      "Of that quicke Spirit that is in Antony:\n",
      "Let me not hinder Cassius your desires;\n",
      "Ile leaue you\n",
      "\n",
      "   Cassi. Brutus, I do obserue you now of late:\n",
      "I haue not from your eyes, that gentlenesse\n",
      "And shew of Loue, as I was wont to haue:\n",
      "You beare too stubborne, and too strange a hand\n",
      "Ouer your Friend, that loues you\n",
      "\n",
      "   Bru. Cassius,\n",
      "Be not deceiu'd: If I haue veyl'd my looke,\n",
      "I turne the trouble of my Countenance\n",
      "Meerely vpon my selfe. Vexed I am\n",
      "Of late, with passions of some difference,\n",
      "Conceptions onely proper to my selfe,\n",
      "Which giue some soyle (perhaps) to my Behauiours:\n",
      "But let not therefore my good Friends be greeu'd\n",
      "(Among which number Cassius be you one)\n",
      "Nor construe any further my neglect,\n",
      "Then that poore Brutus with himselfe at warre,\n",
      "Forgets the shewes of Loue to other men\n",
      "\n",
      "   Cassi. Then Brutus, I haue much mistook your passion,\n",
      "By meanes whereof, this Brest of mine hath buried\n",
      "Thoughts of great value, worthy Cogitations.\n",
      "Tell me good Brutus, Can you see your face?\n",
      "  Brutus. No Cassius:\n",
      "For the eye sees not it selfe but by reflection,\n",
      "By some other things\n",
      "\n",
      "   Cassius. 'Tis iust,\n",
      "And it is very much lamented Brutus,\n",
      "That you haue no such Mirrors, as will turne\n",
      "Your hidden worthinesse into your eye,\n",
      "That you might see your shadow:\n",
      "I haue heard,\n",
      "Where many of the best respect in Rome,\n",
      "(Except immortall Caesar) speaking of Brutus,\n",
      "And groaning vnderneath this Ages yoake,\n",
      "Haue wish'd, that Noble Brutus had his eyes\n",
      "\n",
      "   Bru. Into what dangers, would you\n",
      "Leade me Cassius?\n",
      "That you would haue me seeke into my selfe,\n",
      "For that which is not in me?\n",
      "  Cas. Therefore good Brutus, be prepar'd to heare:\n",
      "And since you know, you cannot see your selfe\n",
      "So well as by Reflection; I your Glasse,\n",
      "Will modestly discouer to your selfe\n",
      "That of your selfe, which you yet know not of.\n",
      "And be not iealous on me, gentle Brutus:\n",
      "Were I a common Laughter, or did vse\n",
      "To stale with ordinary Oathes my loue\n",
      "To euery new Protester: if you know,\n",
      "That I do fawne on men, and hugge them hard,\n",
      "And after scandall them: Or if you know,\n",
      "That I professe my selfe in Banquetting\n",
      "To all the Rout, then hold me dangerous.\n",
      "\n",
      "Flourish, and Shout.\n",
      "\n",
      "  Bru. What meanes this Showting?\n",
      "I do feare, the People choose Caesar\n",
      "For their King\n",
      "\n",
      "   Cassi. I, do you feare it?\n",
      "Then must I thinke you would not haue it so\n",
      "\n",
      "   Bru. I would not Cassius, yet I loue him well:\n",
      "But wherefore do you hold me heere so long?\n",
      "What is it, that you would impart to me?\n",
      "If it be ought toward the generall good,\n",
      "Set Honor in one eye, and Death i'th other,\n",
      "And I will looke on both indifferently:\n",
      "For let the Gods so speed mee, as I loue\n",
      "The name of Honor, more then I feare death\n",
      "\n",
      "   Cassi. I know that vertue to be in you Brutus,\n",
      "As well as I do know your outward fauour.\n",
      "Well, Honor is the subiect of my Story:\n",
      "I cannot tell, what you and other men\n",
      "Thinke of this life: But for my single selfe,\n",
      "I had as liefe not be, as liue to be\n",
      "In awe of such a Thing, as I my selfe.\n",
      "I was borne free as Caesar, so were you,\n",
      "We both haue fed as well, and we can both\n",
      "Endure the Winters cold, as well as hee.\n",
      "For once, vpon a Rawe and Gustie day,\n",
      "The troubled Tyber, chafing with her Shores,\n",
      "Caesar saide to me, Dar'st thou Cassius now\n",
      "Leape in with me into this angry Flood,\n",
      "And swim to yonder Point? Vpon the word,\n",
      "Accoutred as I was, I plunged in,\n",
      "And bad him follow: so indeed he did.\n",
      "The Torrent roar'd, and we did buffet it\n",
      "With lusty Sinewes, throwing it aside,\n",
      "And stemming it with hearts of Controuersie.\n",
      "But ere we could arriue the Point propos'd,\n",
      "Caesar cride, Helpe me Cassius, or I sinke.\n",
      "I (as Aeneas, our great Ancestor,\n",
      "Did from the Flames of Troy, vpon his shoulder\n",
      "The old Anchyses beare) so, from the waues of Tyber\n",
      "Did I the tyred Caesar: And this Man,\n",
      "Is now become a God, and Cassius is\n",
      "A wretched Creature, and must bend his body,\n",
      "If Caesar carelesly but nod on him.\n",
      "He had a Feauer when he was in Spaine,\n",
      "And when the Fit was on him, I did marke\n",
      "How he did shake: Tis true, this God did shake,\n",
      "His Coward lippes did from their colour flye,\n",
      "And that same Eye, whose bend doth awe the World,\n",
      "Did loose his Lustre: I did heare him grone:\n",
      "I, and that Tongue of his, that bad the Romans\n",
      "Marke him, and write his Speeches in their Bookes,\n",
      "Alas, it cried, Giue me some drinke Titinius,\n",
      "As a sicke Girle: Ye Gods, it doth amaze me,\n",
      "A man of such a feeble temper should\n",
      "So get the start of the Maiesticke world,\n",
      "And beare the Palme alone.\n",
      "\n",
      "Shout. Flourish.\n",
      "\n",
      "  Bru. Another generall shout?\n",
      "I do beleeue, that these applauses are\n",
      "For some new Honors, that are heap'd on Caesar\n",
      "\n",
      "   Cassi. Why man, he doth bestride the narrow world\n",
      "Like a Colossus, and we petty men\n",
      "Walke vnder his huge legges, and peepe about\n",
      "To finde our selues dishonourable Graues.\n",
      "Men at sometime, are Masters of their Fates.\n",
      "The fault (deere Brutus) is not in our Starres,\n",
      "But in our Selues, that we are vnderlings.\n",
      "Brutus and Caesar: What should be in that Caesar?\n",
      "Why should that name be sounded more then yours\n",
      "Write them together: Yours, is as faire a Name:\n",
      "Sound them, it doth become the mouth aswell:\n",
      "Weigh them, it is as heauy: Coniure with 'em,\n",
      "Bru\n"
     ]
    }
   ],
   "source": [
    "# We want to get Julius Caesar as raw text. There are other ways in which you could load text from this corpus\n",
    "caesar = nltk.corpus.gutenberg.raw('shakespeare-caesar.txt')\n",
    "\n",
    "# The prints the first 1000 characters of Julius Caesar."
   ]
  },
  {
   "cell_type": "markdown",
   "metadata": {},
   "source": [
    "Next, we will normalize and tokenize the text from the play. We will use the <b>```RegexpTokenizer```</b> from  <b>```nltk.tokenizer```</b> package. This will allow us to write our own regular expression and tokenize the text. You only want the words, so write your regular expression accordingly.\n",
    "\n",
    "<font color=\"magenta\">Write down the code to normalize the text. Then tokenize the text using regex.</font>"
   ]
  },
  {
   "cell_type": "code",
   "execution_count": 78,
   "metadata": {
    "collapsed": true
   },
   "outputs": [],
   "source": [
    "from nltk.tokenize import RegexpTokenizer\n",
    "from nltk.corpus import stopwords\n",
    "\n",
    "tokenizer = RegexpTokenizer(r'\\w+') #Fill in with the write regular expression.\n",
    "\n",
    "word_tokens = tokenizer.tokenize(caesar.lower())"
   ]
  },
  {
   "cell_type": "markdown",
   "metadata": {},
   "source": [
    "A useful measure to calculate is the type-token ratio (TTR). For that, we would need to calculate the total number of word types and tokens.\n",
    "<font color=\"magenta\">Calculate total number of word types, word tokens, and type-token ratio for the text.</font>"
   ]
  },
  {
   "cell_type": "code",
   "execution_count": 79,
   "metadata": {},
   "outputs": [
    {
     "name": "stdout",
     "output_type": "stream",
     "text": [
      "0.1446366118909596\n"
     ]
    }
   ],
   "source": [
    "diction_words_caesar = defaultdict(int)\n",
    "for word in word_tokens:\n",
    "    diction_words_caesar[word] += 1\n",
    "\n",
    "# sorted_words_caesar = sorted(diction_words_caesar.items(), key = lambda x: x[1], reverse = True)\n",
    "# for k, v in sorted_words_caesar[:20]:\n",
    "#     print(k, v)\n",
    "\n",
    "type_token_ratio = print(len(diction_words_caesar)/len(word_tokens))"
   ]
  },
  {
   "cell_type": "markdown",
   "metadata": {},
   "source": [
    "Bigram or digram are a sequence of two adjacent elements from a string of tokens, which are typically letters, syllables, or words. A bigram is an n-gram for n=2. The frequency distribution of every bigram in a string is commonly used for simple statistical analysis of text in many applications, including in computational linguistics, cryptography, speech recognition, and so on.\n",
    "\n",
    "Here, you will retrieve all the bigrams from the text and count the number of times each bigram occurs.\n",
    "\n",
    "<font color=\"magenta\">Calculate the bigrams - two words occuring one after the other - and store it in a dictionary, along with the number of times it has occured.</font>"
   ]
  },
  {
   "cell_type": "code",
   "execution_count": 91,
   "metadata": {},
   "outputs": [
    {
     "name": "stdout",
     "output_type": "stream",
     "text": [
      "('i', 'will') 50\n",
      "('i', 'am') 48\n",
      "('my', 'lord') 40\n",
      "('in', 'the') 40\n",
      "('it', 'is') 37\n",
      "('i', 'haue') 36\n",
      "('to', 'the') 34\n",
      "('that', 'i') 31\n",
      "('i', 'do') 31\n",
      "('of', 'the') 24\n",
      "('and', 'i') 24\n",
      "('all', 'the') 23\n",
      "('you', 'are') 22\n",
      "('he', 'is') 21\n",
      "('i', 'know') 21\n",
      "('to', 'day') 20\n",
      "('my', 'selfe') 20\n",
      "('is', 'a') 19\n",
      "('there', 'is') 19\n",
      "('cassi', 'i') 18\n"
     ]
    }
   ],
   "source": [
    "bigrams = defaultdict(int)\n",
    "for i in range(len(word_tokens) - 1):\n",
    "    bigrams[(word_tokens[i], word_tokens[i+1])] += 1\n",
    "\n",
    "sorted_bigram_counts = sorted(bigrams.items(), key = lambda x: x[1], reverse = True)\n",
    "for k, v in sorted_bigram_counts[:20]:\n",
    "    print(k, v)"
   ]
  },
  {
   "cell_type": "code",
   "execution_count": 55,
   "metadata": {},
   "outputs": [
    {
     "data": {
      "text/plain": [
       "FreqDist({'CC': 8,\n",
       "          'CD': 10,\n",
       "          'DT': 14,\n",
       "          'FW': 7,\n",
       "          'IN': 52,\n",
       "          'JJ': 564,\n",
       "          'JJR': 12,\n",
       "          'JJS': 27,\n",
       "          'MD': 11,\n",
       "          'NN': 1042,\n",
       "          'NNP': 3,\n",
       "          'NNS': 428,\n",
       "          'PRP': 10,\n",
       "          'PRP$': 6,\n",
       "          'RB': 149,\n",
       "          'RBR': 6,\n",
       "          'RBS': 1,\n",
       "          'RP': 4,\n",
       "          'TO': 1,\n",
       "          'VB': 46,\n",
       "          'VBD': 133,\n",
       "          'VBG': 122,\n",
       "          'VBN': 48,\n",
       "          'VBP': 242,\n",
       "          'VBZ': 64,\n",
       "          'WDT': 1,\n",
       "          'WP': 3,\n",
       "          'WP$': 1,\n",
       "          'WRB': 4})"
      ]
     },
     "execution_count": 55,
     "metadata": {},
     "output_type": "execute_result"
    }
   ],
   "source": [
    "from nltk.tag import pos_tag\n",
    "\n",
    "word_tags = pos_tag(diction_words_caesar.keys())\n",
    "\n",
    "nltk.FreqDist(tag for (word, tag) in word_tags)"
   ]
  },
  {
   "cell_type": "markdown",
   "metadata": {},
   "source": [
    "Get the names of all the characters (cast members for clarity) from the play. Cast members are the ones with the lines. You can use either <b>```nltk's RegexpTokenizer```</b> or <b>```re.findall```</b> as you've learnt previously. (Make sure the character names don't appear twice.)"
   ]
  },
  {
   "cell_type": "code",
   "execution_count": 66,
   "metadata": {},
   "outputs": [
    {
     "name": "stdout",
     "output_type": "stream",
     "text": [
      "{'Ple.', 'Cic.', 'Cask.', 'Cin.', 'Dec.', 'Octa.', 'Fla.', 'King.', 'Treb.', 'Cato.', 'Art.', 'Cobl.', 'Bed.', 'Ant.', 'Cai.', 'Army.', 'Ser.', 'Mur.', 'Dard.', 'Rome.', 'Tit.', 'Clau.', 'Cas.', 'Calp.', 'Mess.', 'Pind.', 'Caes.', 'Met.', 'Oct.', 'Drum.', 'Sold.', 'Song.', 'Clit.', 'Vol.', 'Luc.', 'Cly.', 'Sir.', 'Poet.', 'Bru.', 'Cyn.', 'Var.', 'Deci.', 'Oath.', 'Cal.', 'Por.', 'Pub.', 'All.', 'Wife.', 'Stra.', 'Cob.', 'Lep.', 'Car.', 'Cass.', 'Pin.', 'Dyes.', 'Both.', 'Lord.', 'Brut.', 'Mes.'} 59\n"
     ]
    }
   ],
   "source": [
    "tokenizer = RegexpTokenizer(r'([A-Z][a-z]{2,3}\\.)') #Fill in with the write regular expression.\n",
    "\n",
    "word_tokens = set(tokenizer.tokenize(caesar))\n",
    "print(word_tokens, len(word_tokens))"
   ]
  },
  {
   "cell_type": "code",
   "execution_count": 92,
   "metadata": {},
   "outputs": [
    {
     "name": "stdout",
     "output_type": "stream",
     "text": [
      "{'Ple.', 'Cic.', 'Cask.', 'Cin.', 'Dec.', 'Octa.', 'Fla.', 'King.', 'Treb.', 'Cato.', 'Art.', 'Cobl.', 'Bed.', 'Ant.', 'Cai.', 'Army.', 'Ser.', 'Mur.', 'Dard.', 'Rome.', 'Tit.', 'Clau.', 'Cas.', 'Calp.', 'Mess.', 'Pind.', 'Caes.', 'Met.', 'Oct.', 'Drum.', 'Sold.', 'Song.', 'Clit.', 'Vol.', 'Luc.', 'Cly.', 'Sir.', 'Poet.', 'Bru.', 'Cyn.', 'Var.', 'Deci.', 'Oath.', 'Cal.', 'Por.', 'Pub.', 'All.', 'Wife.', 'Stra.', 'Cob.', 'Lep.', 'Car.', 'Cass.', 'Pin.', 'Dyes.', 'Both.', 'Lord.', 'Brut.', 'Mes.'}\n"
     ]
    }
   ],
   "source": [
    "characters = set(re.findall(r'([A-Z][a-z]{2,3}\\.)', caesar)) #Fill in with the write regular expression.\n",
    "\n",
    "print(characters)"
   ]
  }
 ],
 "metadata": {
  "kernelspec": {
   "display_name": "Python [default]",
   "language": "python",
   "name": "python3"
  },
  "language_info": {
   "codemirror_mode": {
    "name": "ipython",
    "version": 3
   },
   "file_extension": ".py",
   "mimetype": "text/x-python",
   "name": "python",
   "nbconvert_exporter": "python",
   "pygments_lexer": "ipython3",
   "version": "3.6.3"
  }
 },
 "nbformat": 4,
 "nbformat_minor": 2
}
