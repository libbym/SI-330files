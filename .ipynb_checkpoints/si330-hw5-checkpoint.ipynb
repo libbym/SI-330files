{
 "cells": [
  {
   "cell_type": "markdown",
   "metadata": {},
   "source": [
    "# SI 330: Homework 5: Intro to Pandas\n",
    "\n",
    "\n",
    "## Due: Friday, February 16, 2018,  11:59:00pm\n",
    "\n",
    "### Submission instructions</font>\n",
    "After completing this homework, you will turn in two files via Canvas ->  Assignments -> HW 5:\n",
    "Your Notebook, named si330-hw5-YOUR_UNIQUE_NAME.ipynb and\n",
    "the HTML file, named si330-hw5-YOUR_UNIQUE_NAME.html.\n",
    "\n",
    "### Name:  YOUR NAME GOES HERE\n",
    "### Uniqname: YOUR UNIQNAME GOES HERE\n",
    "### People you worked with: [if you didn't work with anyone else write \"I worked by myself\" here].\n",
    "\n",
    "\n",
    "## Learning Objectives\n",
    "After completing this Homework, you should know how to:\n",
    "* Get familiar with Pandas and work on a real dataset"
   ]
  },
  {
   "cell_type": "markdown",
   "metadata": {},
   "source": [
    "## Step 1. Load the data\n",
    "\n",
    "For this homework, we will use the data that was collected via [a survey about the attitudes towards mental health and frequency of mental health orders for workers in the tech industry](https://www.kaggle.com/osmi/mental-health-in-tech-2016/data). Here is the survey metadata:\n",
    "\n",
    "<b>Age</b> - Respondent age<br>\n",
    "<b>Gender</b> - Respondent gender<br>\n",
    "<b>Country</b> - Respondent country<br>\n",
    "<b>state</b> - If you live in the United States, which state or territory do you live in?<br>\n",
    "<b>self_employed</b> - Are you self-employed?<br>\n",
    "<b>family_history</b> - Do you have a family history of mental illness?<br>\n",
    "<b>treatment</b> - Have you sought treatment for a mental health condition?<br>\n",
    "<b>work_interfere</b> - you have a mental health condition, do you feel that it interferes with your work?<br>\n",
    "<b>no_employees</b> - many employees does your company or organization have?<br>\n",
    "<b>remote_work</b> - Do you work remotely (outside of an office) at least 50% of the time?<br>\n",
    "<b>tech_company</b> - Is your employer primarily a tech company/organization?<br>\n",
    "<b>benefits</b> - Does your employer provide mental health benefits?<br>\n",
    "<b>care_options</b> - Do you know the options for mental health care your employer provides?<br>\n",
    "<b>wellness_program</b> - Has your employer ever discussed mental health as part of an employee wellness program?<br>\n",
    "<b>seek_help</b> - Does your employer provide resources to learn more about mental health issues and how to seek help?<br>\n",
    "<b>anonymity</b> - Is your anonymity protected if you choose to take advantage of mental health or substance abuse treatment resources?<br>\n",
    "<b>leave</b> - How easy is it for you to take medical leave for a mental health condition?<br>\n",
    "<b>mental_health_consequence</b> - Do you think that discussing a mental health issue with your employer would have negative consequences?<br>\n",
    "<b>phys_health_consequence</b> - Do you think that discussing a physical health issue with your employer would have negative consequences?<br>\n",
    "<b>coworkers</b> - Would you be willing to discuss a mental health issue with your coworkers?<br>\n",
    "<b>supervisor</b> - Would you be willing to discuss a mental health issue with your direct supervisor(s)?<br>\n",
    "<b>mental_health_interview</b> - Would you bring up a mental health issue with a potential employer in an interview?<br>\n",
    "<b>phys_health_interview</b> - Would you bring up a physical health issue with a potential employer in an interview?<br>\n",
    "<b>mental_vs_physical</b> - Do you feel that your employer takes mental health as seriously as physical health?<br>\n",
    "<b>obs_consequence</b> - Have you heard of or observed negative consequences for coworkers with mental health conditions in your workplace?<br>\n",
    "<b>comments</b> - Any additional notes or comments\n",
    "\n"
   ]
  },
  {
   "cell_type": "markdown",
   "metadata": {},
   "source": [
    "### <font color=\"magenta\">Q1: Use Pandas to load the data from the file ```survey.csv```</font>\n",
    "Hint: use pd.read_csv()"
   ]
  },
  {
   "cell_type": "code",
   "execution_count": 1,
   "metadata": {
    "scrolled": true
   },
   "outputs": [
    {
     "data": {
      "text/html": [
       "<div>\n",
       "<style>\n",
       "    .dataframe thead tr:only-child th {\n",
       "        text-align: right;\n",
       "    }\n",
       "\n",
       "    .dataframe thead th {\n",
       "        text-align: left;\n",
       "    }\n",
       "\n",
       "    .dataframe tbody tr th {\n",
       "        vertical-align: top;\n",
       "    }\n",
       "</style>\n",
       "<table border=\"1\" class=\"dataframe\">\n",
       "  <thead>\n",
       "    <tr style=\"text-align: right;\">\n",
       "      <th></th>\n",
       "      <th>Timestamp</th>\n",
       "      <th>Age</th>\n",
       "      <th>Gender</th>\n",
       "      <th>Country</th>\n",
       "      <th>state</th>\n",
       "      <th>self_employed</th>\n",
       "      <th>family_history</th>\n",
       "      <th>treatment</th>\n",
       "      <th>work_interfere</th>\n",
       "      <th>no_employees</th>\n",
       "      <th>...</th>\n",
       "      <th>leave</th>\n",
       "      <th>mental_health_consequence</th>\n",
       "      <th>phys_health_consequence</th>\n",
       "      <th>coworkers</th>\n",
       "      <th>supervisor</th>\n",
       "      <th>mental_health_interview</th>\n",
       "      <th>phys_health_interview</th>\n",
       "      <th>mental_vs_physical</th>\n",
       "      <th>obs_consequence</th>\n",
       "      <th>comments</th>\n",
       "    </tr>\n",
       "  </thead>\n",
       "  <tbody>\n",
       "    <tr>\n",
       "      <th>0</th>\n",
       "      <td>2014-08-27 11:29:31</td>\n",
       "      <td>37</td>\n",
       "      <td>Female</td>\n",
       "      <td>United States</td>\n",
       "      <td>IL</td>\n",
       "      <td>NaN</td>\n",
       "      <td>No</td>\n",
       "      <td>Yes</td>\n",
       "      <td>Often</td>\n",
       "      <td>6-25</td>\n",
       "      <td>...</td>\n",
       "      <td>Somewhat easy</td>\n",
       "      <td>No</td>\n",
       "      <td>No</td>\n",
       "      <td>Some of them</td>\n",
       "      <td>Yes</td>\n",
       "      <td>No</td>\n",
       "      <td>Maybe</td>\n",
       "      <td>Yes</td>\n",
       "      <td>No</td>\n",
       "      <td>NaN</td>\n",
       "    </tr>\n",
       "    <tr>\n",
       "      <th>1</th>\n",
       "      <td>2014-08-27 11:29:37</td>\n",
       "      <td>44</td>\n",
       "      <td>M</td>\n",
       "      <td>United States</td>\n",
       "      <td>IN</td>\n",
       "      <td>NaN</td>\n",
       "      <td>No</td>\n",
       "      <td>No</td>\n",
       "      <td>Rarely</td>\n",
       "      <td>More than 1000</td>\n",
       "      <td>...</td>\n",
       "      <td>Don't know</td>\n",
       "      <td>Maybe</td>\n",
       "      <td>No</td>\n",
       "      <td>No</td>\n",
       "      <td>No</td>\n",
       "      <td>No</td>\n",
       "      <td>No</td>\n",
       "      <td>Don't know</td>\n",
       "      <td>No</td>\n",
       "      <td>NaN</td>\n",
       "    </tr>\n",
       "    <tr>\n",
       "      <th>2</th>\n",
       "      <td>2014-08-27 11:29:44</td>\n",
       "      <td>32</td>\n",
       "      <td>Male</td>\n",
       "      <td>Canada</td>\n",
       "      <td>NaN</td>\n",
       "      <td>NaN</td>\n",
       "      <td>No</td>\n",
       "      <td>No</td>\n",
       "      <td>Rarely</td>\n",
       "      <td>6-25</td>\n",
       "      <td>...</td>\n",
       "      <td>Somewhat difficult</td>\n",
       "      <td>No</td>\n",
       "      <td>No</td>\n",
       "      <td>Yes</td>\n",
       "      <td>Yes</td>\n",
       "      <td>Yes</td>\n",
       "      <td>Yes</td>\n",
       "      <td>No</td>\n",
       "      <td>No</td>\n",
       "      <td>NaN</td>\n",
       "    </tr>\n",
       "    <tr>\n",
       "      <th>3</th>\n",
       "      <td>2014-08-27 11:29:46</td>\n",
       "      <td>31</td>\n",
       "      <td>Male</td>\n",
       "      <td>United Kingdom</td>\n",
       "      <td>NaN</td>\n",
       "      <td>NaN</td>\n",
       "      <td>Yes</td>\n",
       "      <td>Yes</td>\n",
       "      <td>Often</td>\n",
       "      <td>26-100</td>\n",
       "      <td>...</td>\n",
       "      <td>Somewhat difficult</td>\n",
       "      <td>Yes</td>\n",
       "      <td>Yes</td>\n",
       "      <td>Some of them</td>\n",
       "      <td>No</td>\n",
       "      <td>Maybe</td>\n",
       "      <td>Maybe</td>\n",
       "      <td>No</td>\n",
       "      <td>Yes</td>\n",
       "      <td>NaN</td>\n",
       "    </tr>\n",
       "    <tr>\n",
       "      <th>4</th>\n",
       "      <td>2014-08-27 11:30:22</td>\n",
       "      <td>31</td>\n",
       "      <td>Male</td>\n",
       "      <td>United States</td>\n",
       "      <td>TX</td>\n",
       "      <td>NaN</td>\n",
       "      <td>No</td>\n",
       "      <td>No</td>\n",
       "      <td>Never</td>\n",
       "      <td>100-500</td>\n",
       "      <td>...</td>\n",
       "      <td>Don't know</td>\n",
       "      <td>No</td>\n",
       "      <td>No</td>\n",
       "      <td>Some of them</td>\n",
       "      <td>Yes</td>\n",
       "      <td>Yes</td>\n",
       "      <td>Yes</td>\n",
       "      <td>Don't know</td>\n",
       "      <td>No</td>\n",
       "      <td>NaN</td>\n",
       "    </tr>\n",
       "  </tbody>\n",
       "</table>\n",
       "<p>5 rows × 27 columns</p>\n",
       "</div>"
      ],
      "text/plain": [
       "             Timestamp  Age  Gender         Country state self_employed  \\\n",
       "0  2014-08-27 11:29:31   37  Female   United States    IL           NaN   \n",
       "1  2014-08-27 11:29:37   44       M   United States    IN           NaN   \n",
       "2  2014-08-27 11:29:44   32    Male          Canada   NaN           NaN   \n",
       "3  2014-08-27 11:29:46   31    Male  United Kingdom   NaN           NaN   \n",
       "4  2014-08-27 11:30:22   31    Male   United States    TX           NaN   \n",
       "\n",
       "  family_history treatment work_interfere    no_employees   ...     \\\n",
       "0             No       Yes          Often            6-25   ...      \n",
       "1             No        No         Rarely  More than 1000   ...      \n",
       "2             No        No         Rarely            6-25   ...      \n",
       "3            Yes       Yes          Often          26-100   ...      \n",
       "4             No        No          Never         100-500   ...      \n",
       "\n",
       "                leave mental_health_consequence phys_health_consequence  \\\n",
       "0       Somewhat easy                        No                      No   \n",
       "1          Don't know                     Maybe                      No   \n",
       "2  Somewhat difficult                        No                      No   \n",
       "3  Somewhat difficult                       Yes                     Yes   \n",
       "4          Don't know                        No                      No   \n",
       "\n",
       "      coworkers supervisor mental_health_interview phys_health_interview  \\\n",
       "0  Some of them        Yes                      No                 Maybe   \n",
       "1            No         No                      No                    No   \n",
       "2           Yes        Yes                     Yes                   Yes   \n",
       "3  Some of them         No                   Maybe                 Maybe   \n",
       "4  Some of them        Yes                     Yes                   Yes   \n",
       "\n",
       "  mental_vs_physical obs_consequence comments  \n",
       "0                Yes              No      NaN  \n",
       "1         Don't know              No      NaN  \n",
       "2                 No              No      NaN  \n",
       "3                 No             Yes      NaN  \n",
       "4         Don't know              No      NaN  \n",
       "\n",
       "[5 rows x 27 columns]"
      ]
     },
     "execution_count": 1,
     "metadata": {},
     "output_type": "execute_result"
    }
   ],
   "source": [
    "import pandas as pd\n",
    "import numpy as np\n",
    "\n",
    "# Solution block\n",
    "df = pd.read_csv(\"survey.csv\")\n",
    "df.head()"
   ]
  },
  {
   "cell_type": "markdown",
   "metadata": {},
   "source": [
    "## Step 2: Data cleaning\n",
    "\n",
    "### Step 2.1 Filter out the Age\n",
    "\n",
    "Print out the values in age column. You will notice that some of the values are less than 18 or greater than 90. These values are obviously incorrect and you should remove them from your dataset, as they are probably invalid.\n",
    "\n",
    "\n",
    "\n",
    "### <font color=\"magenta\">Q2: Filter the data to include only those rows from respondents aged 18 to 90.</font>\n"
   ]
  },
  {
   "cell_type": "code",
   "execution_count": 1,
   "metadata": {
    "collapsed": true
   },
   "outputs": [],
   "source": [
    "# insert your code here"
   ]
  },
  {
   "cell_type": "markdown",
   "metadata": {},
   "source": [
    "### Step 2.2 Clean the Gender column\n",
    "\n",
    "Next you will take a look at the gender column. This, very evidently, requires a lot of cleanup. Note that there are [guidelines](https://drive.google.com/open?id=1rgtwUwvdQpl-RpBsNVkdcBPT1pDmNXdH) published by the [Spectrum Center](https://spectrumcenter.umich.edu/) about how to ask questions about gender on surveys, but this survey was created elsewhere.  On the positive side, the survey used a free text field for people to enter their gender, which we need to figure out how to deal with. \n",
    "\n",
    "You should recode responses which appear that the respondent wanted to say Male such as Female / f / woman etc. to 'Female'; similarly you will recode Male / male / M / man etc. as 'Male', and all other responses such as non-binary, queer etc. to 'Gender non-binary'.  As in previous assignments it is up to you to decide which responses go into which category.  You should include an explanation and justification for your decisions.\n",
    "\n",
    "First get all the <b>unique</b> (Hint: unique()) responses in the Gender column of the dataset. Next, <b>create a new column called Gender_recoded</b> with the values 'Male', 'Female' or 'Gender non-binary' mapped according to your decisions as specified in the previous paragraph.\n",
    "\n",
    "### <font color=\"magenta\">Q3: Write code to list the unique values in the 'Gender' column"
   ]
  },
  {
   "cell_type": "code",
   "execution_count": 12,
   "metadata": {
    "collapsed": true
   },
   "outputs": [],
   "source": [
    "# insert your code here"
   ]
  },
  {
   "cell_type": "markdown",
   "metadata": {},
   "source": [
    "### <font color=\"magenta\">Q4: Write code to create a new column called 'Gender_recoded' that maps the 'Gender' responses into one of three categories: 'Female', 'Male' or 'Gender non-binary'</font>"
   ]
  },
  {
   "cell_type": "code",
   "execution_count": 9,
   "metadata": {
    "collapsed": true
   },
   "outputs": [],
   "source": [
    "# insert your code here"
   ]
  },
  {
   "cell_type": "markdown",
   "metadata": {},
   "source": [
    "## Step 3: Data manipulation to answer questions about the data\n",
    "Use the lab and lecture notes, as well as the readings, to help you determine how to answer the following questions.  Please format your output so it is readable by a non-technical audience (i.e. don't just dump the dataframe... use print and format to provide context and sentences."
   ]
  },
  {
   "cell_type": "markdown",
   "metadata": {},
   "source": [
    "###  <font color=\"magenta\"> Q5: How many different countries are represented in the survey responses?  \n"
   ]
  },
  {
   "cell_type": "code",
   "execution_count": 2,
   "metadata": {
    "collapsed": true
   },
   "outputs": [],
   "source": [
    "# insert your code here"
   ]
  },
  {
   "cell_type": "markdown",
   "metadata": {},
   "source": [
    "###  <font color=\"magenta\">Q6: What are they in order from most to least respondents?  Include the country name and number of responses in your output\n"
   ]
  },
  {
   "cell_type": "code",
   "execution_count": 3,
   "metadata": {
    "collapsed": true
   },
   "outputs": [],
   "source": [
    "# insert your code here"
   ]
  },
  {
   "cell_type": "markdown",
   "metadata": {},
   "source": [
    "\n",
    "###  <font color=\"magenta\">Q7: List the countries that had only one response."
   ]
  },
  {
   "cell_type": "code",
   "execution_count": 4,
   "metadata": {
    "collapsed": true
   },
   "outputs": [],
   "source": [
    "# insert your code here"
   ]
  },
  {
   "cell_type": "markdown",
   "metadata": {},
   "source": [
    "###  <font color=\"magenta\">Q8a: Find the percentage of respondents who work for companies that provide mental health insurance who reported that they have received mental health treatment. \n"
   ]
  },
  {
   "cell_type": "code",
   "execution_count": 5,
   "metadata": {
    "collapsed": true
   },
   "outputs": [],
   "source": [
    "# insert your code here"
   ]
  },
  {
   "cell_type": "markdown",
   "metadata": {},
   "source": [
    "###  <font color=\"magenta\">Q8b: How does that compare to the percentage of respondents who work for companies that do not provide mental health insurance who reported that they have received mental health treatment?"
   ]
  },
  {
   "cell_type": "code",
   "execution_count": 6,
   "metadata": {
    "collapsed": true
   },
   "outputs": [],
   "source": [
    "# insert your code here"
   ]
  },
  {
   "cell_type": "markdown",
   "metadata": {},
   "source": [
    "## Notes about going \"Above and Beyond\"\n",
    "\n",
    "Here are some sample questions, copied from [one of the kernels created to analyse this dataset](https://www.kaggle.com/jchen2186/data-visualization-with-python-seaborn),  to help you think about going above and beyond.  **Note that answering *these* questions will not earn you full Above and Beyond points**.  The idea is that *you* come up with questions as a result of thinking carefully about the data.  So you should use these question to inspire you to come up with your own.\n",
    "\n",
    "1. Is there a correlation between the company's support for helping those with mental health conditions and workers' willingness to reach out for help?\n",
    "1. Do self-employed workers have more or less trouble with reaching out for help?\n",
    "1. Are workers more likely to reach out for help if they work at a company that has fewer or more employees?\n",
    "1. Are workers who do have a family history of mental health conditions more likely to reach out for help than those who don't?\n",
    "1. Do a lot of companies provide help to people with mental health conditions?\n",
    "1. Are smaller or larger companies more likely to provide people with mental health conditions?\n",
    "1. Given a person's knowledge of his/her own mental health, what kind of company should he/she work at to be comfortable when asking for help?\n",
    "\n",
    "**IF YOU CHOOSE TO GO ABOVE AND BEYOND, YOU _MUST_ CHANGE THE FOLLOWING MARKDOWN BLOCK**"
   ]
  },
  {
   "cell_type": "markdown",
   "metadata": {},
   "source": [
    "## Above and Beyond\n",
    "\n",
    "Indicate here why you believe that your work should be considered \"above and beyond\"."
   ]
  },
  {
   "cell_type": "code",
   "execution_count": null,
   "metadata": {
    "collapsed": true
   },
   "outputs": [],
   "source": []
  }
 ],
 "metadata": {
  "kernelspec": {
   "display_name": "Python 3",
   "language": "python",
   "name": "python3"
  },
  "language_info": {
   "codemirror_mode": {
    "name": "ipython",
    "version": 3
   },
   "file_extension": ".py",
   "mimetype": "text/x-python",
   "name": "python",
   "nbconvert_exporter": "python",
   "pygments_lexer": "ipython3",
   "version": "3.6.3"
  }
 },
 "nbformat": 4,
 "nbformat_minor": 2
}
