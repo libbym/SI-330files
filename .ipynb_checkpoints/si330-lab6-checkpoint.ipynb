{
 "cells": [
  {
   "cell_type": "markdown",
   "metadata": {},
   "source": [
    "# Lab 6 - Pandas II\n",
    "\n",
    "\n",
    "## Due: Thursday, February 8th, 2018,  11:59:00pm\n",
    "\n",
    "### Submission instructions\n",
    "After completing this homework, you will turn in three files via Canvas ->  Assignments -> Lab 6:\n",
    "Your Notebook, named si330-lab6-YOUR_UNIQUE_NAME.ipynb and\n",
    "the HTML file, named si330-lab6-YOUR_UNIQUE_NAME.html\n",
    "\n",
    "### Name:  YOUR NAME GOES HERE\n",
    "### Uniqname: YOUR UNIQNAME GOES HERE\n",
    "### People you worked with: [if you didn't work with anyone else write \"I worked by myself\" here].\n",
    "\n",
    "\n",
    "## Objectives\n",
    "After completing this Lab, you should know how to:\n",
    "* Web scraping using BeautifulSoup and Pandas.\n"
   ]
  },
  {
   "cell_type": "code",
   "execution_count": null,
   "metadata": {
    "collapsed": true
   },
   "outputs": [],
   "source": [
    "from bs4 import BeautifulSoup\n",
    "import pandas as pd\n",
    "import requests"
   ]
  },
  {
   "cell_type": "markdown",
   "metadata": {},
   "source": [
    "## Step 1\n",
    "\n",
    "We will first import the table from the wikipedia page for the 2017 NBA Draft picks (https://en.wikipedia.org/wiki/2017_NBA_draft) using Beautiful Soup. After that we will attempt the same thing again using read_html and compare the results."
   ]
  },
  {
   "cell_type": "markdown",
   "metadata": {},
   "source": [
    "## Step 1.1 Reading HTML pages using BS4\n",
    "\n",
    "First we will read the entire contents of the webpage using BS4 and parse it into html. It might be useful to brush up on how BS4 works. You can find the documentation here: https://www.crummy.com/software/BeautifulSoup/bs4/doc/. The noteboook accompanying the lecture (https://umich.instructure.com/courses/189228/files/folder/Week%206?preview=7162322) provides a working example of how to use BS4 to retrieve data from html pages.\n",
    "\n",
    "**<font color=\"magenta\">1.1.1 Get the contents of the html page from the url provided and parse it using BeautifulSoup</font>**"
   ]
  },
  {
   "cell_type": "code",
   "execution_count": null,
   "metadata": {
    "collapsed": true
   },
   "outputs": [],
   "source": [
    "url = \"https://en.wikipedia.org/wiki/2017_NBA_draft\"\n",
    "# Write your code here."
   ]
  },
  {
   "cell_type": "markdown",
   "metadata": {},
   "source": [
    "This is a big page so **do not print it out**. To get a better idea of how the table is formatted, go to the html page and inspect the table you are interested in.\n",
    "\n",
    "There are several tables in this page. We want to read the draft pick data (the 3rd table) under the <i>Draft Selections</i> section. There are two other smaller tables before this in the same section.\n",
    "\n",
    "The table that we are interested in looks something like this -\n",
    "```\n",
    "<table class=\"wikitable sortable\" style=\"text-align:left\">\n",
    "    <tr>\n",
    "        <th style=\"width:20px;\">\n",
    "            <abbr title=\"Draft round\">\n",
    "            Rnd.\n",
    "            </abbr>\n",
    "        </th>\n",
    "       .\n",
    "       .\n",
    "       .\n",
    "   <tr>\n",
    "   .\n",
    "   .\n",
    "   .       \n",
    "<table>\n",
    "```\n",
    "\n",
    "This gives us a good idea of what to look for using BeautifulSoup.\n",
    "\n",
    "The first step would be to select and store the entire contents of this table in a variable using BS4. We can then use BS4 to get the headers and rows from this table, by considering both the tag and it's CSS classes. There are several BeautifulSoup methods that you can use here such as ```.select()``` or ```.find_all()```. Look up in the documentation how you would use these methods. **Which method did you pick? Explain why?**\n",
    "\n",
    "**<font color=\"magenta\">1.1.2 Write the code below to get the entire contents of the table.</font>**"
   ]
  },
  {
   "cell_type": "code",
   "execution_count": null,
   "metadata": {
    "collapsed": true
   },
   "outputs": [],
   "source": [
    "# change this\n",
    "draft_picks = None"
   ]
  },
  {
   "cell_type": "markdown",
   "metadata": {},
   "source": [
    "Now that you have the table, you will need to retrieve the headers. \n",
    "\n",
    "**<font color=\"magenta\">1.1.3 First find the row where the headers are stored, and then get the text using the ```.getText()``` method from all the cells in that row.</font>**"
   ]
  },
  {
   "cell_type": "code",
   "execution_count": null,
   "metadata": {
    "collapsed": true
   },
   "outputs": [],
   "source": [
    "# write your code to and store it in this list\n",
    "column_headers = []"
   ]
  },
  {
   "cell_type": "markdown",
   "metadata": {},
   "source": [
    "Next you will retrieve all the rows from the table and store it in a data structure.\n",
    "\n",
    "**<font color=\"magenta\">1.1.4 Create a data structure which stores the Round, Pick number, Player, Nationality and Team for all the rows.</font>**"
   ]
  },
  {
   "cell_type": "code",
   "execution_count": null,
   "metadata": {
    "collapsed": true
   },
   "outputs": [],
   "source": [
    "# Write your code here."
   ]
  },
  {
   "cell_type": "markdown",
   "metadata": {},
   "source": [
    "The data is a bit messy. For eg. the names are being repeated and concatenated together as strings.\n",
    "\n",
    "**<font color=\"magenta\">1.1.5 Try to retrieve the names of the top 10 draft picks. Use the ```.getText()``` to retrieve the text.</font>**"
   ]
  },
  {
   "cell_type": "code",
   "execution_count": null,
   "metadata": {
    "collapsed": true
   },
   "outputs": [],
   "source": [
    "# write your code here"
   ]
  },
  {
   "cell_type": "markdown",
   "metadata": {},
   "source": [
    "Now you will store all the data from the table in a data structure called ```player_data```. This is similar to what you did to get column headers, but you will need to do it for all the rows in the table.\n",
    "\n",
    "Once you have stored the data in ```player_data```, create a new dataframe using ```player_data```, where each row corresponds to a row from the table and the column names are the column headers. You will find that your results are a bit messy such as the Player Name, some of the column headers etc.\n",
    "\n",
    "**<font color=\"magenta\">1.1.6 Get the data from all the rows of the table and store it into player_data</font>**"
   ]
  },
  {
   "cell_type": "code",
   "execution_count": null,
   "metadata": {
    "collapsed": true
   },
   "outputs": [],
   "source": [
    "# Write your code here\n",
    "player_data = []\n",
    "\n",
    "for i in range (len(data_rows)):\n",
    "    for td in range (len(data_rows)):\n",
    "        td.getText() for td i"
   ]
  },
  {
   "cell_type": "code",
   "execution_count": null,
   "metadata": {
    "collapsed": true
   },
   "outputs": [],
   "source": [
    "df = pd.DataFrame(player_data, columns=column_headers)\n",
    "df.head()"
   ]
  },
  {
   "cell_type": "markdown",
   "metadata": {},
   "source": [
    "## Step 1.2\n",
    "\n",
    "Let's try the same thing using ```read_html```. Remember that read_html will retrieve all the tables from the webpage.\n",
    "\n",
    "**<font color=\"magenta\">1.2.1 Use ```.read_html()``` to read the tables from the web_page. Store the correct table into the dataframe.</font>**"
   ]
  },
  {
   "cell_type": "code",
   "execution_count": null,
   "metadata": {
    "collapsed": true
   },
   "outputs": [],
   "source": [
    "# Write your code here\n",
    "dataframe = None"
   ]
  },
  {
   "cell_type": "code",
   "execution_count": null,
   "metadata": {
    "collapsed": true
   },
   "outputs": [],
   "source": [
    "dataframe.head()"
   ]
  },
  {
   "cell_type": "markdown",
   "metadata": {},
   "source": [
    "## Step 2\n",
    "\n",
    "Next, you are going to analyse data from https://www.basketball-reference.com/draft/NBA_2017.html\n",
    "This table is a little complicated to read, so we have provided the data as a csv file. Download it from Canvas.\n",
    "The data is not complete and you will learn how to handle missing data points."
   ]
  },
  {
   "cell_type": "code",
   "execution_count": null,
   "metadata": {
    "collapsed": true
   },
   "outputs": [],
   "source": [
    "df = pd.read_csv('nba_draft.csv')"
   ]
  },
  {
   "cell_type": "markdown",
   "metadata": {},
   "source": [
    "There are a lot of missing points in the data such as the 24th row. \n",
    "\n",
    "**<font color=\"magenta\">2.1 Print out and see what that looks like.</font>**"
   ]
  },
  {
   "cell_type": "code",
   "execution_count": null,
   "metadata": {
    "collapsed": true
   },
   "outputs": [],
   "source": [
    "# Write your code here"
   ]
  },
  {
   "cell_type": "markdown",
   "metadata": {},
   "source": [
    "Now you want to remove all the Nan (Not a Number) values with zero in this case. Keep in mind that this is not going to be appropriate for all the columns, such as the column for college.\n",
    "\n",
    "**<font color=\"magenta\">Replace all the missing values with 0 for the appropriate columns. Hint: There is a pandas method which will do this for you.</font>**"
   ]
  },
  {
   "cell_type": "code",
   "execution_count": null,
   "metadata": {
    "collapsed": true
   },
   "outputs": [],
   "source": [
    "# Write your code here"
   ]
  },
  {
   "cell_type": "markdown",
   "metadata": {},
   "source": [
    "## Step 3. Visualization\n",
    "\n",
    "The data frame that we have here is multi-dimensional i.e. each row has data points which correspond to more than one dimensions (Pick, Minutes Played, Points, Rebounds, Assists, Minutes Played per Game, Points per Game, Rebounds per Game, Assists per Game). You might want to quickly check if there's any correlation / patterns between these dimensions. The easiest way to do this is to use **scatterplot matrix**.\n",
    "\n",
    "A scatter plot matrix shows relationships among several variables taken two at a time. Scatter plot matrices can reveal a wealth of information, including dependencies such as linear correlation, clusters, and outliers. You can explore the relationship between when a player was picked and how they perform over the rest of the season along various dimensions.\n",
    "\n",
    "You can easily implement this using seaborn. Go through this example first: https://seaborn.pydata.org/examples/scatterplot_matrix.html\n",
    "\n",
    "Create a Scatterplot matrix for the following dimensions: \n",
    "* Pick\n",
    "* Minutes Played per Game\n",
    "* Points per Game\n",
    "* Rebounds per Game\n",
    "* Assists per Game"
   ]
  },
  {
   "cell_type": "code",
   "execution_count": null,
   "metadata": {
    "collapsed": true
   },
   "outputs": [],
   "source": [
    "import seaborn as sns\n",
    "sns.set(style=\"ticks\")\n",
    "\n",
    "# Write your code to create the visualization"
   ]
  }
 ],
 "metadata": {
  "kernelspec": {
   "display_name": "Python 3",
   "language": "python",
   "name": "python3"
  },
  "language_info": {
   "codemirror_mode": {
    "name": "ipython",
    "version": 3
   },
   "file_extension": ".py",
   "mimetype": "text/x-python",
   "name": "python",
   "nbconvert_exporter": "python",
   "pygments_lexer": "ipython3",
   "version": "3.6.3"
  }
 },
 "nbformat": 4,
 "nbformat_minor": 2
}
