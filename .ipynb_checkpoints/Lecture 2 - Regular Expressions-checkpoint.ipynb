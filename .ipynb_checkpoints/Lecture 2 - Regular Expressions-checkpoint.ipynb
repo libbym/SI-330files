{
 "cells": [
  {
   "cell_type": "code",
   "execution_count": 1,
   "metadata": {
    "collapsed": true
   },
   "outputs": [],
   "source": [
    "import re"
   ]
  },
  {
   "cell_type": "code",
   "execution_count": 3,
   "metadata": {},
   "outputs": [
    {
     "name": "stdout",
     "output_type": "stream",
     "text": [
      "found simple\n"
     ]
    }
   ],
   "source": [
    "str = 'a simple example!'\n",
    "# want to see if ‘simple’ appears in the\\n\",\n",
    "# test string\\n\",\n",
    "match = re.search('simple', str)\n",
    "if match: \n",
    "    print('found', match.group())\n",
    "else:\n",
    "    print('did not find')"
   ]
  },
  {
   "cell_type": "code",
   "execution_count": 4,
   "metadata": {},
   "outputs": [
    {
     "name": "stdout",
     "output_type": "stream",
     "text": [
      "found dog\n"
     ]
    }
   ],
   "source": [
    "match = re.search(r'dog','The lazy dog went to sleep.')\n",
    "if match:\n",
    "    print('found', match.group())"
   ]
  },
  {
   "cell_type": "code",
   "execution_count": 7,
   "metadata": {},
   "outputs": [
    {
     "name": "stdout",
     "output_type": "stream",
     "text": [
      "santa@umich.edu.\n",
      "santa\n",
      "umich.edu.\n"
     ]
    }
   ],
   "source": [
    "str =  'My email address is santa@umich.edu. Hohoho.'\n",
    "match = re.search(r'([\\w.-]+)@([\\w.-]+)', str)\n",
    "if match:\n",
    "    print(match.group())   # the whole match\n",
    "    print(match.group(1))  # the username part\n",
    "    print(match.group(2))  # the hostname part\n",
    "else:\n",
    "    print(\"No match\")"
   ]
  },
  {
   "cell_type": "code",
   "execution_count": 8,
   "metadata": {},
   "outputs": [
    {
     "name": "stdout",
     "output_type": "stream",
     "text": [
      "ee\n"
     ]
    }
   ],
   "source": [
    "match = re.search(r'[aeiou]{2,}','The eerie wind said \"Oooo\" and \"Rrr\".')\n",
    "if match:\n",
    "    print(match.group())"
   ]
  },
  {
   "cell_type": "code",
   "execution_count": 10,
   "metadata": {},
   "outputs": [
    {
     "data": {
      "text/plain": [
       "['ee', 'ie', 'ai', 'ooo']"
      ]
     },
     "execution_count": 10,
     "metadata": {},
     "output_type": "execute_result"
    }
   ],
   "source": [
    "s = 'The eerie wind said \"Oooo\" and \"Rrr\".'\n",
    "re.findall(\"[aeiou]{2,}\", s)"
   ]
  },
  {
   "cell_type": "code",
   "execution_count": 12,
   "metadata": {},
   "outputs": [
    {
     "name": "stdout",
     "output_type": "stream",
     "text": [
      "ee\n",
      "ie\n",
      "ai\n",
      "ooo\n"
     ]
    }
   ],
   "source": [
    "matches = re.finditer(\"[aeiou]{2,}\", s)\n",
    "for m in matches:\n",
    "    print(m.group())"
   ]
  },
  {
   "cell_type": "code",
   "execution_count": null,
   "metadata": {
    "collapsed": true
   },
   "outputs": [],
   "source": []
  }
 ],
 "metadata": {
  "kernelspec": {
   "display_name": "Python 3",
   "language": "python",
   "name": "python3"
  },
  "language_info": {
   "codemirror_mode": {
    "name": "ipython",
    "version": 3
   },
   "file_extension": ".py",
   "mimetype": "text/x-python",
   "name": "python",
   "nbconvert_exporter": "python",
   "pygments_lexer": "ipython3",
   "version": "3.6.3"
  }
 },
 "nbformat": 4,
 "nbformat_minor": 2
}
