{
 "cells": [
  {
   "cell_type": "markdown",
   "metadata": {},
   "source": [
    "# SI 330: Homework 5: Intro to Pandas\n",
    "\n",
    "\n",
    "## Due: Friday, February 16, 2018,  11:59:00pm\n",
    "\n",
    "### Submission instructions</font>\n",
    "After completing this homework, you will turn in two files via Canvas ->  Assignments -> HW 5:\n",
    "Your Notebook, named si330-hw5-YOUR_UNIQUE_NAME.ipynb and\n",
    "the HTML file, named si330-hw5-YOUR_UNIQUE_NAME.html.\n",
    "\n",
    "### Name:  YOUR NAME GOES HERE\n",
    "### Uniqname: YOUR UNIQNAME GOES HERE\n",
    "### People you worked with: [if you didn't work with anyone else write \"I worked by myself\" here].\n",
    "\n",
    "\n",
    "## Learning Objectives\n",
    "After completing this Homework, you should know how to:\n",
    "* Get familiar with Pandas and work on a real dataset"
   ]
  },
  {
   "cell_type": "markdown",
   "metadata": {},
   "source": [
    "## Step 1. Load the data\n",
    "\n",
    "For this homework, we will use the data that was collected via [a survey about the attitudes towards mental health and frequency of mental health orders for workers in the tech industry](https://www.kaggle.com/osmi/mental-health-in-tech-2016/data). Here is the survey metadata:\n",
    "\n",
    "<b>Age</b> - Respondent age<br>\n",
    "<b>Gender</b> - Respondent gender<br>\n",
    "<b>Country</b> - Respondent country<br>\n",
    "<b>state</b> - If you live in the United States, which state or territory do you live in?<br>\n",
    "<b>self_employed</b> - Are you self-employed?<br>\n",
    "<b>family_history</b> - Do you have a family history of mental illness?<br>\n",
    "<b>treatment</b> - Have you sought treatment for a mental health condition?<br>\n",
    "<b>work_interfere</b> - you have a mental health condition, do you feel that it interferes with your work?<br>\n",
    "<b>no_employees</b> - many employees does your company or organization have?<br>\n",
    "<b>remote_work</b> - Do you work remotely (outside of an office) at least 50% of the time?<br>\n",
    "<b>tech_company</b> - Is your employer primarily a tech company/organization?<br>\n",
    "<b>benefits</b> - Does your employer provide mental health benefits?<br>\n",
    "<b>care_options</b> - Do you know the options for mental health care your employer provides?<br>\n",
    "<b>wellness_program</b> - Has your employer ever discussed mental health as part of an employee wellness program?<br>\n",
    "<b>seek_help</b> - Does your employer provide resources to learn more about mental health issues and how to seek help?<br>\n",
    "<b>anonymity</b> - Is your anonymity protected if you choose to take advantage of mental health or substance abuse treatment resources?<br>\n",
    "<b>leave</b> - How easy is it for you to take medical leave for a mental health condition?<br>\n",
    "<b>mental_health_consequence</b> - Do you think that discussing a mental health issue with your employer would have negative consequences?<br>\n",
    "<b>phys_health_consequence</b> - Do you think that discussing a physical health issue with your employer would have negative consequences?<br>\n",
    "<b>coworkers</b> - Would you be willing to discuss a mental health issue with your coworkers?<br>\n",
    "<b>supervisor</b> - Would you be willing to discuss a mental health issue with your direct supervisor(s)?<br>\n",
    "<b>mental_health_interview</b> - Would you bring up a mental health issue with a potential employer in an interview?<br>\n",
    "<b>phys_health_interview</b> - Would you bring up a physical health issue with a potential employer in an interview?<br>\n",
    "<b>mental_vs_physical</b> - Do you feel that your employer takes mental health as seriously as physical health?<br>\n",
    "<b>obs_consequence</b> - Have you heard of or observed negative consequences for coworkers with mental health conditions in your workplace?<br>\n",
    "<b>comments</b> - Any additional notes or comments\n",
    "\n"
   ]
  },
  {
   "cell_type": "markdown",
   "metadata": {},
   "source": [
    "### <font color=\"magenta\">Q1: Use Pandas to load the data from the file ```survey.csv```</font>\n",
    "Hint: use pd.read_csv()"
   ]
  },
  {
   "cell_type": "code",
   "execution_count": 2,
   "metadata": {
    "scrolled": true
   },
   "outputs": [
    {
     "data": {
      "text/html": [
       "<div>\n",
       "<style>\n",
       "    .dataframe thead tr:only-child th {\n",
       "        text-align: right;\n",
       "    }\n",
       "\n",
       "    .dataframe thead th {\n",
       "        text-align: left;\n",
       "    }\n",
       "\n",
       "    .dataframe tbody tr th {\n",
       "        vertical-align: top;\n",
       "    }\n",
       "</style>\n",
       "<table border=\"1\" class=\"dataframe\">\n",
       "  <thead>\n",
       "    <tr style=\"text-align: right;\">\n",
       "      <th></th>\n",
       "      <th>Timestamp</th>\n",
       "      <th>Age</th>\n",
       "      <th>Gender</th>\n",
       "      <th>Country</th>\n",
       "      <th>state</th>\n",
       "      <th>self_employed</th>\n",
       "      <th>family_history</th>\n",
       "      <th>treatment</th>\n",
       "      <th>work_interfere</th>\n",
       "      <th>no_employees</th>\n",
       "      <th>...</th>\n",
       "      <th>leave</th>\n",
       "      <th>mental_health_consequence</th>\n",
       "      <th>phys_health_consequence</th>\n",
       "      <th>coworkers</th>\n",
       "      <th>supervisor</th>\n",
       "      <th>mental_health_interview</th>\n",
       "      <th>phys_health_interview</th>\n",
       "      <th>mental_vs_physical</th>\n",
       "      <th>obs_consequence</th>\n",
       "      <th>comments</th>\n",
       "    </tr>\n",
       "  </thead>\n",
       "  <tbody>\n",
       "    <tr>\n",
       "      <th>0</th>\n",
       "      <td>2014-08-27 11:29:31</td>\n",
       "      <td>37</td>\n",
       "      <td>Female</td>\n",
       "      <td>United States</td>\n",
       "      <td>IL</td>\n",
       "      <td>NaN</td>\n",
       "      <td>No</td>\n",
       "      <td>Yes</td>\n",
       "      <td>Often</td>\n",
       "      <td>6-25</td>\n",
       "      <td>...</td>\n",
       "      <td>Somewhat easy</td>\n",
       "      <td>No</td>\n",
       "      <td>No</td>\n",
       "      <td>Some of them</td>\n",
       "      <td>Yes</td>\n",
       "      <td>No</td>\n",
       "      <td>Maybe</td>\n",
       "      <td>Yes</td>\n",
       "      <td>No</td>\n",
       "      <td>NaN</td>\n",
       "    </tr>\n",
       "    <tr>\n",
       "      <th>1</th>\n",
       "      <td>2014-08-27 11:29:37</td>\n",
       "      <td>44</td>\n",
       "      <td>M</td>\n",
       "      <td>United States</td>\n",
       "      <td>IN</td>\n",
       "      <td>NaN</td>\n",
       "      <td>No</td>\n",
       "      <td>No</td>\n",
       "      <td>Rarely</td>\n",
       "      <td>More than 1000</td>\n",
       "      <td>...</td>\n",
       "      <td>Don't know</td>\n",
       "      <td>Maybe</td>\n",
       "      <td>No</td>\n",
       "      <td>No</td>\n",
       "      <td>No</td>\n",
       "      <td>No</td>\n",
       "      <td>No</td>\n",
       "      <td>Don't know</td>\n",
       "      <td>No</td>\n",
       "      <td>NaN</td>\n",
       "    </tr>\n",
       "    <tr>\n",
       "      <th>2</th>\n",
       "      <td>2014-08-27 11:29:44</td>\n",
       "      <td>32</td>\n",
       "      <td>Male</td>\n",
       "      <td>Canada</td>\n",
       "      <td>NaN</td>\n",
       "      <td>NaN</td>\n",
       "      <td>No</td>\n",
       "      <td>No</td>\n",
       "      <td>Rarely</td>\n",
       "      <td>6-25</td>\n",
       "      <td>...</td>\n",
       "      <td>Somewhat difficult</td>\n",
       "      <td>No</td>\n",
       "      <td>No</td>\n",
       "      <td>Yes</td>\n",
       "      <td>Yes</td>\n",
       "      <td>Yes</td>\n",
       "      <td>Yes</td>\n",
       "      <td>No</td>\n",
       "      <td>No</td>\n",
       "      <td>NaN</td>\n",
       "    </tr>\n",
       "    <tr>\n",
       "      <th>3</th>\n",
       "      <td>2014-08-27 11:29:46</td>\n",
       "      <td>31</td>\n",
       "      <td>Male</td>\n",
       "      <td>United Kingdom</td>\n",
       "      <td>NaN</td>\n",
       "      <td>NaN</td>\n",
       "      <td>Yes</td>\n",
       "      <td>Yes</td>\n",
       "      <td>Often</td>\n",
       "      <td>26-100</td>\n",
       "      <td>...</td>\n",
       "      <td>Somewhat difficult</td>\n",
       "      <td>Yes</td>\n",
       "      <td>Yes</td>\n",
       "      <td>Some of them</td>\n",
       "      <td>No</td>\n",
       "      <td>Maybe</td>\n",
       "      <td>Maybe</td>\n",
       "      <td>No</td>\n",
       "      <td>Yes</td>\n",
       "      <td>NaN</td>\n",
       "    </tr>\n",
       "    <tr>\n",
       "      <th>4</th>\n",
       "      <td>2014-08-27 11:30:22</td>\n",
       "      <td>31</td>\n",
       "      <td>Male</td>\n",
       "      <td>United States</td>\n",
       "      <td>TX</td>\n",
       "      <td>NaN</td>\n",
       "      <td>No</td>\n",
       "      <td>No</td>\n",
       "      <td>Never</td>\n",
       "      <td>100-500</td>\n",
       "      <td>...</td>\n",
       "      <td>Don't know</td>\n",
       "      <td>No</td>\n",
       "      <td>No</td>\n",
       "      <td>Some of them</td>\n",
       "      <td>Yes</td>\n",
       "      <td>Yes</td>\n",
       "      <td>Yes</td>\n",
       "      <td>Don't know</td>\n",
       "      <td>No</td>\n",
       "      <td>NaN</td>\n",
       "    </tr>\n",
       "  </tbody>\n",
       "</table>\n",
       "<p>5 rows × 27 columns</p>\n",
       "</div>"
      ],
      "text/plain": [
       "             Timestamp  Age  Gender         Country state self_employed  \\\n",
       "0  2014-08-27 11:29:31   37  Female   United States    IL           NaN   \n",
       "1  2014-08-27 11:29:37   44       M   United States    IN           NaN   \n",
       "2  2014-08-27 11:29:44   32    Male          Canada   NaN           NaN   \n",
       "3  2014-08-27 11:29:46   31    Male  United Kingdom   NaN           NaN   \n",
       "4  2014-08-27 11:30:22   31    Male   United States    TX           NaN   \n",
       "\n",
       "  family_history treatment work_interfere    no_employees   ...     \\\n",
       "0             No       Yes          Often            6-25   ...      \n",
       "1             No        No         Rarely  More than 1000   ...      \n",
       "2             No        No         Rarely            6-25   ...      \n",
       "3            Yes       Yes          Often          26-100   ...      \n",
       "4             No        No          Never         100-500   ...      \n",
       "\n",
       "                leave mental_health_consequence phys_health_consequence  \\\n",
       "0       Somewhat easy                        No                      No   \n",
       "1          Don't know                     Maybe                      No   \n",
       "2  Somewhat difficult                        No                      No   \n",
       "3  Somewhat difficult                       Yes                     Yes   \n",
       "4          Don't know                        No                      No   \n",
       "\n",
       "      coworkers supervisor mental_health_interview phys_health_interview  \\\n",
       "0  Some of them        Yes                      No                 Maybe   \n",
       "1            No         No                      No                    No   \n",
       "2           Yes        Yes                     Yes                   Yes   \n",
       "3  Some of them         No                   Maybe                 Maybe   \n",
       "4  Some of them        Yes                     Yes                   Yes   \n",
       "\n",
       "  mental_vs_physical obs_consequence comments  \n",
       "0                Yes              No      NaN  \n",
       "1         Don't know              No      NaN  \n",
       "2                 No              No      NaN  \n",
       "3                 No             Yes      NaN  \n",
       "4         Don't know              No      NaN  \n",
       "\n",
       "[5 rows x 27 columns]"
      ]
     },
     "execution_count": 2,
     "metadata": {},
     "output_type": "execute_result"
    }
   ],
   "source": [
    "import pandas as pd\n",
    "import numpy as np\n",
    "\n",
    "# Solution block\n",
    "df = pd.read_csv(\"survey.csv\")\n",
    "df.head()\n",
    "\n",
    "# j = pd.DataFrame(df)\n",
    "# print (j)\n"
   ]
  },
  {
   "cell_type": "markdown",
   "metadata": {},
   "source": [
    "## Step 2: Data cleaning\n",
    "\n",
    "### Step 2.1 Filter out the Age\n",
    "\n",
    "Print out the values in age column. You will notice that some of the values are less than 18 or greater than 90. These values are obviously incorrect and you should remove them from your dataset, as they are probably invalid.\n",
    "\n",
    "\n",
    "\n",
    "### <font color=\"magenta\">Q2: Filter the data to include only those rows from respondents aged 18 to 90.</font>\n"
   ]
  },
  {
   "cell_type": "code",
   "execution_count": 3,
   "metadata": {},
   "outputs": [
    {
     "name": "stdout",
     "output_type": "stream",
     "text": [
      "<class 'pandas.core.series.Series'>\n",
      "<class 'numpy.ndarray'>\n"
     ]
    },
    {
     "data": {
      "text/plain": [
       "array([37, 44, 32, ..., 34, 46, 25])"
      ]
     },
     "execution_count": 3,
     "metadata": {},
     "output_type": "execute_result"
    }
   ],
   "source": [
    "age = df['Age']\n",
    "print(type(age))\n",
    "print(type(age.values))\n",
    "age.values"
   ]
  },
  {
   "cell_type": "code",
   "execution_count": 4,
   "metadata": {},
   "outputs": [
    {
     "name": "stdout",
     "output_type": "stream",
     "text": [
      "[37, 44, 32, 31, 31, 33, 35, 39, 42, 23, 31, 29, 42, 36, 27, 29, 23, 32, 46, 36, 29, 31, 46, 41, 33, 35, 33, 35, 34, 37, 32, 31, 30, 42, 40, 27, 29, 38, 50, 35, 24, 35, 27, 18, 30, 38, 28, 34, 26, 30, 22, 33, 31, 32, 28, 27, 32, 24, 26, 33, 44, 26, 27, 26, 35, 40, 23, 36, 31, 34, 28, 34, 23, 38, 33, 19, 25, 31, 32, 28, 38, 23, 30, 27, 33, 31, 39, 34, 29, 32, 31, 40, 34, 18, 25, 29, 24, 31, 33, 30, 26, 44, 25, 33, 29, 35, 35, 28, 34, 32, 22, 28, 45, 32, 28, 26, 21, 27, 18, 35, 29, 25, 33, 36, 27, 27, 27, 32, 31, 19, 33, 32, 27, 38, 24, 39, 28, 39, 29, 22, 38, 37, 35, -29, 30, 37, 24, 23, 30, 29, 19, 32, 28, 36, 37, 25, 27, 26, 27, 25, 36, 25, 31, 26, 33, 27, 34, 42, 23, 24, 26, 31, 22, 23, 34, 31, 28, 32, 45, 33, 29, 26, 28, 45, 43, 37, 24, 26, 23, 35, 38, 28, 28, 35, 32, 31, 35, 26, 27, 28, 27, 34, 41, 37, 34, 32, 21, 30, 24, 26, 40, 37, 26, 32, 32, 27, 30, 31, 29, 41, 34, 33, 28, 28, 23, 24, 32, 34, 24, 26, 36, 41, 38, 38, 30, 25, 37, 34, 37, 28, 22, 34, 33, 25, 27, 40, 21, 29, 32, 29, 23, 28, 31, 27, 24, 29, 23, 42, 24, 25, 27, 27, 30, 29, 43, 32, 41, 32, 37, 32, 30, 23, 30, 34, 38, 33, 34, 28, 28, 23, 22, 27, 18, 35, 25, 27, 26, 18, 38, 26, 30, 35, 45, 32, 56, 24, 30, 60, 33, 37, 23, 31, 26, 28, 37, 26, 30, 26, 25, 27, 25, 35, 36, 26, 27, 30, 29, 25, 22, 29, 41, 29, 32, 24, 25, 25, 30, 25, 30, 33, 24, 25, 31, 45, 29, 46, 30, 29, 24, 29, 35, 33, 27, 36, 33, 25, 23, 54, 22, 25, 29, 27, 30, 26, 25, 31, 33, 34, 34, 29, 33, 34, 26, 32, 329, 28, 35, 36, 21, 21, 22, 41, 55, 32, 21, 45, 27, 25, 34, 26, 41, 27, 31, 25, 26, 27, 42, 29, 25, 33, 40, 31, 26, 24, 29, 48, 35, 32, 29, 26, 28, 23, 35, 29, 26, 33, 33, 22, 30, 33, 31, 21, 31, 26, 30, 30, 23, 34, 55, 28, 26, 28, 32, 28, 21, 24, 26, 23, 24, 28, 24, 33, 34, 27, 28, 26, 20, 23, 29, 26, 36, 41, 33, 23, 39, 34, 26, 24, 37, 43, 40, 30, 34, 27, 36, 27, 35, 32, 37, 29, 33, 28, 26, 27, 38, 57, 28, 26, 42, 31, 58, 29, 39, 34, 57, 27, 23, 18, 30, 23, 43, 18, 29, 48, 43, 28, 30, 26, 33, 31, 30, 27, 24, 25, 23, 36, 25, 54, 34, 38, 40, 32, 25, 35, 46, 42, 32, 47, 22, 33, 25, 29, 39, 38, 43, 46, 38, 33, 34, 62, 23, 35, 25, 36, 41, 24, 51, 29, 31, 27, 31, 27, 23, 21, 27, 39, 26, 27, 22, 26, 31, 32, 28, 28, 23, 30, 36, 21, 30, 25, 32, 29, 21, 27, 32, 34, 33, 22, 24, 65, 27, 33, 36, 40, 28, 39, 32, 31, 38, 23, 42, 27, 26, 50, 37, 23, 33, 29, 34, 41, 50, 29, 35, 27, 40, 27, 29, 31, 43, 34, 29, 19, 41, 29, 23, 24, 31, 43, 31, 29, 35, 33, 30, 27, 32, 50, 24, 27, 27, 32, 42, 37, 30, 29, 30, 35, 35, 38, 22, 24, 22, 31, 23, 31, 28, 37, 34, 32, 28, 24, 56, 31, 34, 35, 28, 36, 30, 35, 49, 36, 35, 29, 57, 31, 37, 25, 30, 26, 22, 39, 29, 54, 34, 32, 25, 29, 32, 30, 31, 20, 27, 32, 26, 30, 30, 22, 24, 26, 43, 26, 23, 26, 26, 35, 28, 22, 29, 29, 45, 33, 38, 19, 29, 21, 23, 33, 49, 28, 27, 23, 29, 30, 28, 32, 32, 37, 39, 31, 29, 30, 33, 37, 23, 43, 32, 26, 32, 37, 29, 34, 27, 30, 29, 32, 25, 37, 29, 27, 33, 30, 29, 25, 33, 31, 21, 30, 29, 43, 37, 24, 29, 31, 5, 33, 43, 33, 27, 36, 37, 32, 39, 31, 36, 30, 28, 32, 35, 19, 33, 42, 37, 40, 36, 29, 38, 26, 34, 21, 31, 37, 37, 38, 27, 39, 33, 27, 36, 28, 39, 33, 32, 28, 37, 39, 43, 32, 27, 31, 43, 33, 34, 33, 25, 25, 32, 25, 37, 39, 29, 33, 37, 35, 22, 38, 32, 28, 27, 35, 29, 23, 39, 30, 32, 28, 40, 36, 27, 41, 29, 29, 35, 28, 36, 39, 39, 44, 26, 35, 40, 35, 38, 34, 43, 48, 20, 40, 29, 35, 29, 40, 29, 29, 34, 44, 24, 47, 43, 36, 43, 36, 31, 35, 33, 37, 34, 36, 40, 40, 42, 23, 21, 26, 31, 25, 51, 24, 33, 32, 32, 26, 23, 33, 46, 34, 35, 39, 32, 43, 56, 32, 41, 39, 37, 30, 31, 29, 23, 31, 29, 30, 37, 36, 35, 41, 31, 38, 26, 39, 42, 32, 29, 30, 40, 51, 33, 34, 50, 24, 25, 43, 25, 24, 51, 49, 30, 25, 36, 48, 48, 53, 24, 33, 25, 30, 30, 34, 31, 22, 28, 35, 28, 42, 33, 29, 43, 29, 25, 31, 35, 34, 43, 38, 26, 38, 42, 33, 32, 44, 28, 40, 31, 32, 28, 39, 45, 43, 35, 40, 34, 24, 61, 36, 38, 33, 30, 34, 26, 33, 32, 25, 35, 24, 55, 33, 26, 25, 45, 33, 43, 30, 40, 49, 29, 26, 38, 27, 26, 28, 40, 37, 34, 28, 27, 29, 39, 28, 23, 8, 38, 19, 30, 28, 20, 35, 39, 31, 32, 27, 25, 42, 34, 26, 35, 34, 38, 34, 39, 44, 40, 33, 24, 38, 31, 23, 26, 46, 30, 25, 19, 30, 32, 32, 37, 42, 25, 19, 40, 34, 26, 31, 40, 31, 36, 35, 26, 44, 34, 35, 28, 33, 40, 26, 29, 26, 33, 28, 41, 39, 26, 23, 35, 36, 42, 39, 27, 33, 31, 28, 29, 27, 44, 25, 24, 25, 34, 26, 48, 34, 39, 43, 41, 25, 31, 40, 43, 27, 37, 32, 25, 29, 30, 34, 32, 37, 41, 38, 32, 28, 11, 43, 32, 25, 37, 36, 24, 40, 29, 43, 29, 26, 33, 35, 45, 25, 50, 26, 33, 30, 33, 29, 37, 25, 40, 24, 40, 46, 38, 34, 32, 44, 33, 45, 35, 26, 20, -1, 37, 28, 42, 32, 36, 27, 27, 27, 25, 41, 23, 21, 26, 29, 28, 27, 23, 26, 38, 39, 35, 32, 32, 26, 38, 34, 39, 32, 37, 31, 30, 51, 29, 31, 31, 26, 46, 32, 29, 34, 26, 32, 29, 30, 40, 23, 20, 38, 26, 29, 40, 25, 32, 38, 72, 35, 28, 27, 56, 38, 31, 40, 44, 34, 37, 38, 27, 34, 35, 34, 32, 25, 28, 28, 31, 24, 34, 32, 34, 23, 33, 29, 24, 45, 34, 31, 33, 28, 27, 42, 28, 38, 46, 46, 41, 23, 24, 23, 39, 32, 25, 39, 23, 24, 25, 23, 24, 23, 60, 28, 28, 30, 31, 31, 28, 43, 32, 22, 32, 36, 41, 30, 30, 36, 29, 36, 26, 32, 34, 46, 25]\n"
     ]
    }
   ],
   "source": [
    "# insert your code here'\n",
    "age = df['Age']\n",
    "\n",
    "ages =[]\n",
    "for num in age.values:\n",
    "    if num >=18: \n",
    "        ages.append(num)\n",
    "    elif num <91:\n",
    "        ages.append(num)\n",
    "        \n",
    "\n",
    "\n",
    "\n",
    "# x = np.delete(df,(1), axis=1)\n",
    "\n",
    "\n",
    "ages.remove(99999999999)       \n",
    "ages.remove(-1726)       \n",
    "\n",
    "print (ages)       \n"
   ]
  },
  {
   "cell_type": "markdown",
   "metadata": {},
   "source": [
    "### Step 2.2 Clean the Gender column\n",
    "\n",
    "Next you will take a look at the gender column. This, very evidently, requires a lot of cleanup. Note that there are [guidelines](https://drive.google.com/open?id=1rgtwUwvdQpl-RpBsNVkdcBPT1pDmNXdH) published by the [Spectrum Center](https://spectrumcenter.umich.edu/) about how to ask questions about gender on surveys, but this survey was created elsewhere.  On the positive side, the survey used a free text field for people to enter their gender, which we need to figure out how to deal with. \n",
    "\n",
    "You should recode responses which appear that the respondent wanted to say Male such as Female / f / woman etc. to 'Female'; similarly you will recode Male / male / M / man etc. as 'Male', and all other responses such as non-binary, queer etc. to 'Gender non-binary'.  As in previous assignments it is up to you to decide which responses go into which category.  You should include an explanation and justification for your decisions.\n",
    "\n",
    "First get all the <b>unique</b> (Hint: unique()) responses in the Gender column of the dataset. Next, <b>create a new column called Gender_recoded</b> with the values 'Male', 'Female' or 'Gender non-binary' mapped according to your decisions as specified in the previous paragraph.\n",
    "\n",
    "### <font color=\"magenta\">Q3: Write code to list the unique values in the 'Gender' column"
   ]
  },
  {
   "cell_type": "code",
   "execution_count": 5,
   "metadata": {},
   "outputs": [
    {
     "ename": "SyntaxError",
     "evalue": "unexpected EOF while parsing (<ipython-input-5-6c42336c2315>, line 16)",
     "output_type": "error",
     "traceback": [
      "\u001b[0;36m  File \u001b[0;32m\"<ipython-input-5-6c42336c2315>\"\u001b[0;36m, line \u001b[0;32m16\u001b[0m\n\u001b[0;31m    # print(unique)\u001b[0m\n\u001b[0m                    ^\u001b[0m\n\u001b[0;31mSyntaxError\u001b[0m\u001b[0;31m:\u001b[0m unexpected EOF while parsing\n"
     ]
    }
   ],
   "source": [
    "# insert your code here\n",
    "gender = df['Gender']\n",
    "\n",
    "gender_column = []\n",
    "\n",
    "\n",
    "\n",
    "unique = gender.unique()\n",
    "print (type(unique)\n",
    "\n",
    "\n",
    "# for gender_id in unique:\n",
    "    \n",
    "#     print(gender_id)\n",
    "#     df.replace(to_replace= gender_id, value='Gender non-binary', inplace=False, limit=None, regex=False, method='pad', axis=None)\n",
    "\n",
    "        \n",
    "# print(unique) \n"
   ]
  },
  {
   "cell_type": "markdown",
   "metadata": {},
   "source": [
    "### <font color=\"magenta\">Q4: Write code to create a new column called 'Gender_recoded' that maps the 'Gender' responses into one of three categories: 'Female', 'Male' or 'Gender non-binary'</font>"
   ]
  },
  {
   "cell_type": "code",
   "execution_count": 17,
   "metadata": {},
   "outputs": [
    {
     "ename": "TypeError",
     "evalue": "assign() takes 1 positional argument but 2 were given",
     "output_type": "error",
     "traceback": [
      "\u001b[0;31m---------------------------------------------------------------------------\u001b[0m",
      "\u001b[0;31mTypeError\u001b[0m                                 Traceback (most recent call last)",
      "\u001b[0;32m<ipython-input-17-d19fec433533>\u001b[0m in \u001b[0;36m<module>\u001b[0;34m()\u001b[0m\n\u001b[1;32m      1\u001b[0m \u001b[0;31m# insert your code here\u001b[0m\u001b[0;34m\u001b[0m\u001b[0;34m\u001b[0m\u001b[0m\n\u001b[1;32m      2\u001b[0m \u001b[0;34m\u001b[0m\u001b[0m\n\u001b[0;32m----> 3\u001b[0;31m \u001b[0mdf\u001b[0m\u001b[0;34m.\u001b[0m\u001b[0massign\u001b[0m\u001b[0;34m(\u001b[0m\u001b[0;34m'Gender_recoded'\u001b[0m\u001b[0;34m)\u001b[0m\u001b[0;34m\u001b[0m\u001b[0m\n\u001b[0m",
      "\u001b[0;31mTypeError\u001b[0m: assign() takes 1 positional argument but 2 were given"
     ]
    }
   ],
   "source": [
    "# insert your code here\n",
    "\n",
    "df.assign('Gender_recoded'= gender_column )"
   ]
  },
  {
   "cell_type": "markdown",
   "metadata": {},
   "source": [
    "## Step 3: Data manipulation to answer questions about the data\n",
    "Use the lab and lecture notes, as well as the readings, to help you determine how to answer the following questions.  Please format your output so it is readable by a non-technical audience (i.e. don't just dump the dataframe... use print and format to provide context and sentences."
   ]
  },
  {
   "cell_type": "markdown",
   "metadata": {},
   "source": [
    "###  <font color=\"magenta\"> Q5: How many different countries are represented in the survey responses?  \n"
   ]
  },
  {
   "cell_type": "code",
   "execution_count": 58,
   "metadata": {},
   "outputs": [
    {
     "name": "stdout",
     "output_type": "stream",
     "text": [
      "48\n"
     ]
    }
   ],
   "source": [
    "# insert your code here\n",
    "\n",
    "country = df['Country']\n",
    "\n",
    "# print(country)\n",
    "\n",
    "lst =[]\n",
    "for name in country: \n",
    "    if name not in lst:\n",
    "        lst.append(name)\n",
    "\n",
    "print (len(lst))\n",
    "\n"
   ]
  },
  {
   "cell_type": "markdown",
   "metadata": {},
   "source": [
    "###  <font color=\"magenta\">Q6: What are they in order from most to least respondents?  Include the country name and number of responses in your output\n"
   ]
  },
  {
   "cell_type": "code",
   "execution_count": 70,
   "metadata": {},
   "outputs": [
    {
     "name": "stdout",
     "output_type": "stream",
     "text": [
      "United States\n"
     ]
    },
    {
     "ename": "KeyError",
     "evalue": "'United States'",
     "output_type": "error",
     "traceback": [
      "\u001b[0;31m---------------------------------------------------------------------------\u001b[0m",
      "\u001b[0;31mKeyError\u001b[0m                                  Traceback (most recent call last)",
      "\u001b[0;32m<ipython-input-70-dae7d643092d>\u001b[0m in \u001b[0;36m<module>\u001b[0;34m()\u001b[0m\n\u001b[1;32m     16\u001b[0m     \u001b[0mprint\u001b[0m \u001b[0;34m(\u001b[0m\u001b[0mname\u001b[0m\u001b[0;34m)\u001b[0m\u001b[0;34m\u001b[0m\u001b[0m\n\u001b[1;32m     17\u001b[0m     \u001b[0;32mif\u001b[0m \u001b[0mname\u001b[0m \u001b[0;32min\u001b[0m \u001b[0mlst\u001b[0m\u001b[0;34m:\u001b[0m\u001b[0;34m\u001b[0m\u001b[0m\n\u001b[0;32m---> 18\u001b[0;31m         \u001b[0mx\u001b[0m\u001b[0;34m[\u001b[0m\u001b[0mname\u001b[0m\u001b[0;34m]\u001b[0m\u001b[0;34m+=\u001b[0m\u001b[0;36m1\u001b[0m\u001b[0;34m\u001b[0m\u001b[0m\n\u001b[0m\u001b[1;32m     19\u001b[0m     \u001b[0;32melse\u001b[0m\u001b[0;34m:\u001b[0m\u001b[0;34m\u001b[0m\u001b[0m\n\u001b[1;32m     20\u001b[0m         \u001b[0mx\u001b[0m\u001b[0;34m[\u001b[0m\u001b[0mname\u001b[0m\u001b[0;34m]\u001b[0m \u001b[0;34m=\u001b[0m \u001b[0;36m0\u001b[0m\u001b[0;34m\u001b[0m\u001b[0m\n",
      "\u001b[0;31mKeyError\u001b[0m: 'United States'"
     ]
    }
   ],
   "source": [
    "# insert your code here\n",
    "from collections import defaultdict\n",
    "\n",
    "\n",
    "# dic = defaultdict(int) \n",
    "\n",
    "\n",
    "# for pair in country:\n",
    "#         dic[pair]=+1\n",
    "        \n",
    "# print(dic)\n",
    "\n",
    "\n",
    "for name in country: \n",
    "    x={}\n",
    "    print (name)\n",
    "    if name in lst:\n",
    "        x[name]+=1\n",
    "    else:\n",
    "        x[name] = 0\n",
    "        \n",
    "    \n",
    "print (x)   \n"
   ]
  },
  {
   "cell_type": "markdown",
   "metadata": {},
   "source": [
    "\n",
    "###  <font color=\"magenta\">Q7: List the countries that had only one response."
   ]
  },
  {
   "cell_type": "code",
   "execution_count": 4,
   "metadata": {
    "collapsed": true
   },
   "outputs": [],
   "source": [
    "# insert your code here"
   ]
  },
  {
   "cell_type": "markdown",
   "metadata": {},
   "source": [
    "###  <font color=\"magenta\">Q8a: Find the percentage of respondents who work for companies that provide mental health insurance who reported that they have received mental health treatment. \n"
   ]
  },
  {
   "cell_type": "code",
   "execution_count": 5,
   "metadata": {
    "collapsed": true
   },
   "outputs": [],
   "source": [
    "# insert your code here"
   ]
  },
  {
   "cell_type": "markdown",
   "metadata": {},
   "source": [
    "###  <font color=\"magenta\">Q8b: How does that compare to the percentage of respondents who work for companies that do not provide mental health insurance who reported that they have received mental health treatment?"
   ]
  },
  {
   "cell_type": "code",
   "execution_count": 6,
   "metadata": {
    "collapsed": true
   },
   "outputs": [],
   "source": [
    "# insert your code here"
   ]
  },
  {
   "cell_type": "markdown",
   "metadata": {},
   "source": [
    "## Notes about going \"Above and Beyond\"\n",
    "\n",
    "Here are some sample questions, copied from [one of the kernels created to analyse this dataset](https://www.kaggle.com/jchen2186/data-visualization-with-python-seaborn),  to help you think about going above and beyond.  **Note that answering *these* questions will not earn you full Above and Beyond points**.  The idea is that *you* come up with questions as a result of thinking carefully about the data.  So you should use these question to inspire you to come up with your own.\n",
    "\n",
    "1. Is there a correlation between the company's support for helping those with mental health conditions and workers' willingness to reach out for help?\n",
    "1. Do self-employed workers have more or less trouble with reaching out for help?\n",
    "1. Are workers more likely to reach out for help if they work at a company that has fewer or more employees?\n",
    "1. Are workers who do have a family history of mental health conditions more likely to reach out for help than those who don't?\n",
    "1. Do a lot of companies provide help to people with mental health conditions?\n",
    "1. Are smaller or larger companies more likely to provide people with mental health conditions?\n",
    "1. Given a person's knowledge of his/her own mental health, what kind of company should he/she work at to be comfortable when asking for help?\n",
    "\n",
    "**IF YOU CHOOSE TO GO ABOVE AND BEYOND, YOU _MUST_ CHANGE THE FOLLOWING MARKDOWN BLOCK**"
   ]
  },
  {
   "cell_type": "markdown",
   "metadata": {},
   "source": [
    "## Above and Beyond\n",
    "\n",
    "Indicate here why you believe that your work should be considered \"above and beyond\"."
   ]
  },
  {
   "cell_type": "code",
   "execution_count": null,
   "metadata": {
    "collapsed": true
   },
   "outputs": [],
   "source": []
  }
 ],
 "metadata": {
  "kernelspec": {
   "display_name": "Python 3",
   "language": "python",
   "name": "python3"
  },
  "language_info": {
   "codemirror_mode": {
    "name": "ipython",
    "version": 3
   },
   "file_extension": ".py",
   "mimetype": "text/x-python",
   "name": "python",
   "nbconvert_exporter": "python",
   "pygments_lexer": "ipython3",
   "version": "3.6.3"
  }
 },
 "nbformat": 4,
 "nbformat_minor": 2
}
