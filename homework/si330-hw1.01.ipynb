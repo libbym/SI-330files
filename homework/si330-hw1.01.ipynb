{
 "cells": [
  {
   "cell_type": "markdown",
   "metadata": {},
   "source": [
    "# Homework 1 - Data Structures and Sorting\n",
    "\n",
    "\n",
    "## Due: Friday, January 19, 2018,  11:59:00pm\n",
    "\n",
    "### Submission instructions\n",
    "After completing this homework, you will turn in two files via Canvas ->  Assignments -> Homework 1:\n",
    "Your Notebook, named si330-hw1-YOUR_UNIQUE_NAME.ipynb and\n",
    "the HTML file, named si330-hw1-YOUR_UNIQUE_NAME.html\n",
    "\n",
    "### Name:  YOUR NAME GOES HERE\n",
    "### Uniqname: YOUR UNIQNAME GOES HERE\n",
    "### People you worked with: [if you didn't work with anyone else write \"I worked by myself\" here].\n",
    "\n",
    "## Objectives\n",
    "After completing this homework assignment, you should know how to\n",
    "* use compound data structures\n",
    "* perform simple and complex sorting\n",
    "* use lambda functions\n",
    "\n",
    "In addition, this assignment will provide an opportunity to work with a large (100,000 row) data set.\n",
    "\n",
    "## Background\n",
    "\n",
    "Massive Open Online Courses (MOOCs) are a popular way for people to learn new skills.  The University of Michigan\n",
    "offers many different MOOCs, which are produced by faculty members and supported by the Office of Academic \n",
    "Innovation.\n",
    "\n",
    "MOOCs tend to be used by hundreds to hundreds of thousands of users.  These users leave \"digital exhaust\" when\n",
    "they work through the MOOC in the form of web server log entries.  We have obtained a small sample of these data\n",
    "files from Prof. Chris Brooks, who is a colleague here at UMSI.  The data files are de-identified: anything\n",
    "that could identify a person, such as their UMID or their IP address are \"hashed\" (encrypted).  Each line in the\n",
    "data file represents a \"page view\" by a user.  The schema for each line is:\n",
    "\n",
    "```umich_user_id, hashed_session_cookie_id, server_timestamp, hashed_ip, user_agent, url, initial_referrer_url, rowser_language, course_id, country_cd, region_cd, timezone, os, browser, key, value```\n",
    "\n",
    "Of note is the ```UMICH_USER_ID```, which identifies each user, and ```HASHED_SESSION_COOKIE_ID``` which identifies a session.\n",
    "Sessions are important:  they represent a collection of pageviews between the time that a user logs in and,\n",
    "usually, when they log out.\n",
    "\n",
    "We've already used the \"mooc_small.csv\" file in our lab.  We recommend that you continue to use that file for your\n",
    "development work and then switch to the \"mooc_big.csv\" file (which contains 100,000 lines of data) for your\n",
    "final analysis.  **Note that you must use the mooc_big.csv file for the work you submit.** \n",
    "\n",
    "In the lab, we went through the motions of some manipulation of the MOOC log data.  For this assignment, we'll be\n",
    "asking three real-world questions:\n",
    "\n",
    "1. How many different countries (based on ```COUNTRY_CD```) are represented in the data file?\n",
    "2. Which countries do most of the page views come from?\n",
    "3. For people accessing the MOOC from the US, what is the average number of page views per session?\n",
    "\n",
    "In addition to the MOOC data file, you're also going to use a file called ```countrycodes.tsv``` to map\n",
    "2-digit country codes to the full name of the country.  Why?  Because not everyone knows that PF is \n",
    "\"French Polynesia\"."
   ]
  },
  {
   "cell_type": "markdown",
   "metadata": {},
   "source": [
    "The rest of the notebook contains specific steps that you need to follow and complete.  Places where you need to \n",
    "do something are indicated in <font color=\"magenta\">magenta</font>."
   ]
  },
  {
   "cell_type": "markdown",
   "metadata": {},
   "source": [
    "First, let's load up the ```csv``` library; we're going to need it to read the comma- and tab-separated \n",
    "values files."
   ]
  },
  {
   "cell_type": "code",
   "execution_count": 25,
   "metadata": {
    "collapsed": true
   },
   "outputs": [],
   "source": [
    "import csv\n",
    "from collections import defaultdict"
   ]
  },
  {
   "cell_type": "markdown",
   "metadata": {},
   "source": [
    "#### Step 1. Import the data\n",
    "\n",
    "You'll load the data from the two files ```mooc_big.csv``` and ```countrycodes.tsv``` into two separate \n",
    "data structures. \n",
    "\n",
    "Let's start with ```countrycodes.tsv```.  Remember, we're going to use that file to map from the \n",
    "2-digit country code to the country name (e.g. from \"CA\" to \"Canada\").  \n",
    "\n"
   ]
  },
  {
   "cell_type": "markdown",
   "metadata": {},
   "source": [
    "\n",
    " <font color=\"magenta\">Modify the next block of code so that it loads ```countrycodes.tsv``` into a data structure\n",
    "    that would allow you to look up the country name that corresponds to the 2-digit country code.</font>"
   ]
  },
  {
   "cell_type": "code",
   "execution_count": 21,
   "metadata": {},
   "outputs": [],
   "source": [
    "country_names = {}  \n",
    "\n",
    "with open(\"countrycodes.tsv\", \"r\") as csvfile:\n",
    "    reader = csv.DictReader(csvfile, delimiter = \"\\t\", quotechar = '\"')\n",
    "    for row in reader:\n",
    "        country_names[row['ISO ALPHA-2 Code']] = row ['Country or Area Name']\n",
    "        "
   ]
  },
  {
   "cell_type": "markdown",
   "metadata": {},
   "source": [
    "Now load the MOOC log data into an appropriate data structure (start with the mooc_small.csv file, then remember to change to mooc_big.csv). For this file, you should store all the rows in a data structure."
   ]
  },
  {
   "cell_type": "markdown",
   "metadata": {},
   "source": [
    "\n",
    " <font color=\"magenta\">Modify the next block of code so that it loads the MOOC log data into a data structure \n",
    "   that will allow you to answer the three real-world questions.</font>"
   ]
  },
  {
   "cell_type": "code",
   "execution_count": 22,
   "metadata": {},
   "outputs": [],
   "source": [
    "mooc_data_file_name = \"mooc.csv\" # Remember to change this later\n",
    "\n",
    "mooc_data = []\n",
    "with open(mooc_data_file_name, \"r\") as csvfile:\n",
    "    reader = csv.DictReader(csvfile, delimiter = \",\", quotechar = '\"')\n",
    "    for row in reader:\n",
    "        mooc_data.append(row)"
   ]
  },
  {
   "cell_type": "markdown",
   "metadata": {},
   "source": [
    "#### Step 2. Manipulating and interpreting the data to answer our questions\n",
    "\n",
    "Now that we have our data loaded, we can start to answer the real-world questions.\n",
    "\n",
    "Recall that the first question\n",
    "is <b>\"How many different countries (based on COUNTRY_CD) are represented in the data file?\"</b>\n",
    "\n",
    "To do this, you're going to have to figure out how many unique country codes there are in the MOOC log file. There are few different ways to do this, but you probably want to use either a ```set``` or a ```dict```."
   ]
  },
  {
   "cell_type": "markdown",
   "metadata": {},
   "source": [
    "<font color=\"magenta\">Modify the following code block so that the print statement at the end prints\n",
    "    the number of countries represented in the MOOC log file.</font>"
   ]
  },
  {
   "cell_type": "code",
   "execution_count": 26,
   "metadata": {},
   "outputs": [
    {
     "name": "stdout",
     "output_type": "stream",
     "text": [
      "There are 19 unique countries in the MOOC log data file.\n"
     ]
    }
   ],
   "source": [
    "countries = defaultdict(int)\n",
    "\n",
    "for row in mooc_data:\n",
    "    code=(row['country_cd'])\n",
    "    countries[code]+=1\n",
    "    \n",
    "        \n",
    "    pass # Change this line to include code that will populate your data structure\n",
    "\n",
    "# Do not change the following line\n",
    "print(\"There are {0} unique countries in the MOOC log data file.\".format(len(countries)))"
   ]
  },
  {
   "cell_type": "markdown",
   "metadata": {},
   "source": [
    "Next you want to find out the <b>top 5 countries with the most page views</b>. For this, you should implement a composite data structure which stores, for each country, details of each log - ```UMICH User ID``` and ```hashed_session_cookie_id```. There are different ways that you can do this. One way would be by using a ```dictionary of lists```. Think about how you would populate this list.\n",
    "\n",
    "After that you will sort the data structure using ```sorted```. You will need to write down the code to provide the ```sorted``` function with a key parameter using the ```lambda``` function. This will specify the operation to be performed on the data structure for sorting (what the data structure will be sorted by)."
   ]
  },
  {
   "cell_type": "markdown",
   "metadata": {},
   "source": [
    "<font color=\"magenta\">Modify the following code block so that the print statement at the end prints\n",
    "    the top 5 of countries represented in the MOOC log file, and the corresponding number of users.</font>"
   ]
  },
  {
   "cell_type": "code",
   "execution_count": 47,
   "metadata": {},
   "outputs": [
    {
     "name": "stdout",
     "output_type": "stream",
     "text": [
      "OrderedDict([('umich_user_id', '0ea5cc6ff0ca76782e6c0a81f070cae9cf0971d9'), ('hashed_session_cookie_id', '67aeaede0738f24452327c34871463f0df2ad14f'), ('server_timestamp', 'Thu Jan 01 03:00:00 EST 2015'), ('hashed_ip', '18408ad2c5c0688ea5c09af9f468780eac9f4db6'), ('user_agent', 'Mozilla/5.0 (Macintosh; Intel Mac OS X 10.10; rv:34.0) Gecko/20100101 Firefox/34.0'), ('url', 'https://www.coursera.org/learn/negotiation-skills/lecture/5hVbj/contract-performance-review-and-evaluation'), ('initial_referrer_url', 'https://www.google.com/url?sa=t&rct=j&q=&esrc=s&source=web&cd=1&ved=0CB8QFjAA&url=https%3A%2F%2Fwww.coursera.org%2F&ei=nOaQVMDjNcGwogTy9YK4DA&usg=AFQjCNEAm-45Muq_nX5INW96szY5GEJGUg&sig2=jbFxMTxvkK2gQnbgTEs63Q&bvm=bv.82001339,d.cGU'), ('browser_language', 'fr,fr-fr;q=0.8,en-us;q=0.5,en;q=0.3'), ('course_id', 'v0l76HmGEeSi3yIACzSGcw'), ('country_cd', 'PF'), ('region_cd', 'V'), ('timezone', 'Pacific/Tahiti'), ('os', 'Mac OS X'), ('browser', 'Firefox'), ('key', 'pageview'), ('value', '{}')])\n",
      "OrderedDict([('umich_user_id', '0ea5cc6ff0ca76782e6c0a81f070cae9cf0971d9'), ('hashed_session_cookie_id', '67aeaede0738f24452327c34871463f0df2ad14f'), ('server_timestamp', 'Thu Jan 01 03:00:02 EST 2015'), ('hashed_ip', '18408ad2c5c0688ea5c09af9f468780eac9f4db6'), ('user_agent', 'Mozilla/5.0 (Macintosh; Intel Mac OS X 10.10; rv:34.0) Gecko/20100101 Firefox/34.0'), ('url', 'https://www.coursera.org/learn/negotiation-skills/supplement/NnHUS/suggested-readings'), ('initial_referrer_url', 'https://www.google.com/url?sa=t&rct=j&q=&esrc=s&source=web&cd=1&ved=0CB8QFjAA&url=https%3A%2F%2Fwww.coursera.org%2F&ei=nOaQVMDjNcGwogTy9YK4DA&usg=AFQjCNEAm-45Muq_nX5INW96szY5GEJGUg&sig2=jbFxMTxvkK2gQnbgTEs63Q&bvm=bv.82001339,d.cGU'), ('browser_language', 'fr,fr-fr;q=0.8,en-us;q=0.5,en;q=0.3'), ('course_id', 'v0l76HmGEeSi3yIACzSGcw'), ('country_cd', 'PF'), ('region_cd', 'V'), ('timezone', 'Pacific/Tahiti'), ('os', 'Mac OS X'), ('browser', 'Firefox'), ('key', 'pageview'), ('value', '{}')])\n",
      "OrderedDict([('umich_user_id', '5450de1c9e1874d613a9649a39352a10313a3b8f'), ('hashed_session_cookie_id', 'd136ec74794fa1f8897f065b2377c891d18baa0b'), ('server_timestamp', 'Thu Jan 01 03:00:04 EST 2015'), ('hashed_ip', '70fc3eb2f8ee1362c902a16875aa95ee1d7e8311'), ('user_agent', 'Mozilla/5.0 (X11; Linux x86_64) AppleWebKit/534.24 (KHTML, like Gecko) Chrome/11.0.696.34 Safari/534.24'), ('url', 'https://www.coursera.org/learn/negotiation-skills/lecture/el26b/a-dispute-resolution-or-deal-making-negotiation'), ('initial_referrer_url', ''), ('browser_language', 'it-IT, en-US'), ('course_id', 'v0l76HmGEeSi3yIACzSGcw'), ('country_cd', 'IT'), ('region_cd', 'GE'), ('timezone', 'Europe/Rome'), ('os', 'Linux'), ('browser', 'Chrome'), ('key', 'pageview'), ('value', '{}')])\n",
      "OrderedDict([('umich_user_id', '0ea5cc6ff0ca76782e6c0a81f070cae9cf0971d9'), ('hashed_session_cookie_id', '67aeaede0738f24452327c34871463f0df2ad14f'), ('server_timestamp', 'Thu Jan 01 03:00:04 EST 2015'), ('hashed_ip', '18408ad2c5c0688ea5c09af9f468780eac9f4db6'), ('user_agent', 'Mozilla/5.0 (Macintosh; Intel Mac OS X 10.10; rv:34.0) Gecko/20100101 Firefox/34.0'), ('url', 'https://www.coursera.org/learn/negotiation-skills/lecture/5hVbj/contract-performance-review-and-evaluation'), ('initial_referrer_url', 'https://www.google.com/url?sa=t&rct=j&q=&esrc=s&source=web&cd=1&ved=0CB8QFjAA&url=https%3A%2F%2Fwww.coursera.org%2F&ei=nOaQVMDjNcGwogTy9YK4DA&usg=AFQjCNEAm-45Muq_nX5INW96szY5GEJGUg&sig2=jbFxMTxvkK2gQnbgTEs63Q&bvm=bv.82001339,d.cGU'), ('browser_language', 'fr,fr-fr;q=0.8,en-us;q=0.5,en;q=0.3'), ('course_id', 'v0l76HmGEeSi3yIACzSGcw'), ('country_cd', 'PF'), ('region_cd', 'V'), ('timezone', 'Pacific/Tahiti'), ('os', 'Mac OS X'), ('browser', 'Firefox'), ('key', 'pageview'), ('value', '{}')])\n",
      "OrderedDict([('umich_user_id', '25424b1007637699cf0c672edc7a64c2b65268fa'), ('hashed_session_cookie_id', '1f0971d7bd2f12a3c3a85ba8870b0e9d8d2b4515'), ('server_timestamp', 'Thu Jan 01 03:00:26 EST 2015'), ('hashed_ip', 'e3979d142d5e89fa418e94246c06380244af8791'), ('user_agent', 'Mozilla/5.0 (Windows NT 6.3; WOW64) AppleWebKit/537.36 (KHTML, like Gecko) Chrome/39.0.2171.95 Safari/537.36'), ('url', 'https://www.coursera.org/learn/negotiation-skills'), ('initial_referrer_url', ''), ('browser_language', 'en-US,en;q=0.8'), ('course_id', 'v0l76HmGEeSi3yIACzSGcw'), ('country_cd', 'US'), ('region_cd', 'CA'), ('timezone', 'America/Los_Angeles'), ('os', 'Windows 8.1'), ('browser', 'Chrome'), ('key', 'pageview'), ('value', '{}')])\n",
      "OrderedDict([('umich_user_id', 'a95f04999ccf8fcd0f26fb0851745073a147e009'), ('hashed_session_cookie_id', '54cbc9f31590f6474470e6383cbebe873a886bb4'), ('server_timestamp', 'Thu Jan 01 03:00:34 EST 2015'), ('hashed_ip', '9b90b5884c380ceade68c7a53cb2b7eb7d71af48'), ('user_agent', 'Mozilla/5.0 (Macintosh; Intel Mac OS X 10_9_5) AppleWebKit/600.1.17 (KHTML, like Gecko) Version/7.1 Safari/537.85.10'), ('url', 'https://www.coursera.org/learn/negotiation-skills/exam/b5WId/final-exam'), ('initial_referrer_url', ''), ('browser_language', 'en-us'), ('course_id', 'v0l76HmGEeSi3yIACzSGcw'), ('country_cd', 'CZ'), ('region_cd', 'JM'), ('timezone', 'Europe/Prague'), ('os', 'Mac OS X'), ('browser', 'Safari'), ('key', 'pageview'), ('value', '{}')])\n",
      "OrderedDict([('umich_user_id', '4ea0a18ab02a30290dda02bdb2da8a7a6a469245'), ('hashed_session_cookie_id', '1e86f379401775771d13576803485e4ae71d6289'), ('server_timestamp', 'Thu Jan 01 03:00:42 EST 2015'), ('hashed_ip', '8795ecd8d6d73a7ae74052696b2d9cf011972f46'), ('user_agent', 'Mozilla/5.0 (Windows NT 6.1; WOW64; rv:34.0) Gecko/20100101 Firefox/34.0'), ('url', 'https://www.coursera.org/learn/insidetheinternet/lecture/X3vkG/doug-van-houweling-nsfnet'), ('initial_referrer_url', 'https://blu179.mail.live.com/?tid=cm-fwr30aJ5BGkjgAcxO2nYA2&fid=flinbox'), ('browser_language', 'en-US,en;q=0.5'), ('course_id', '2UHGXkNtEeSfwCIACxeXRw'), ('country_cd', 'US'), ('region_cd', 'CA'), ('timezone', 'America/Los_Angeles'), ('os', 'Windows 7'), ('browser', 'Firefox'), ('key', 'pageview'), ('value', '{}')])\n",
      "OrderedDict([('umich_user_id', '25424b1007637699cf0c672edc7a64c2b65268fa'), ('hashed_session_cookie_id', '1f0971d7bd2f12a3c3a85ba8870b0e9d8d2b4515'), ('server_timestamp', 'Thu Jan 01 03:00:44 EST 2015'), ('hashed_ip', 'e3979d142d5e89fa418e94246c06380244af8791'), ('user_agent', 'Mozilla/5.0 (Windows NT 6.3; WOW64) AppleWebKit/537.36 (KHTML, like Gecko) Chrome/39.0.2171.95 Safari/537.36'), ('url', 'https://www.coursera.org/learn/negotiation-skills/outline'), ('initial_referrer_url', ''), ('browser_language', 'en-US,en;q=0.8'), ('course_id', 'v0l76HmGEeSi3yIACzSGcw'), ('country_cd', 'US'), ('region_cd', 'CA'), ('timezone', 'America/Los_Angeles'), ('os', 'Windows 8.1'), ('browser', 'Chrome'), ('key', 'pageview'), ('value', '{}')])\n",
      "OrderedDict([('umich_user_id', '44185055eece5d1bc7986d743d240a7633d968ff'), ('hashed_session_cookie_id', 'c13cb2cdb6e7ebbc4e1e434a29e449e221f3c5d3'), ('server_timestamp', 'Thu Jan 01 03:01:19 EST 2015'), ('hashed_ip', '3fc4059d61afa8089bd3753aaa6be568e848c95b'), ('user_agent', 'Mozilla/5.0 (Windows NT 6.1; WOW64) AppleWebKit/537.36 (KHTML, like Gecko) Chrome/39.0.2171.95 Safari/537.36'), ('url', 'https://www.coursera.org/learn/insidetheinternet/outline'), ('initial_referrer_url', 'https://www.google.com/'), ('browser_language', 'en-US,en;q=0.8'), ('course_id', '2UHGXkNtEeSfwCIACxeXRw'), ('country_cd', 'US'), ('region_cd', 'TX'), ('timezone', 'America/Chicago'), ('os', 'Windows 7'), ('browser', 'Chrome'), ('key', 'pageview'), ('value', '{}')])\n",
      "OrderedDict([('umich_user_id', '005aa91c779e6fe84b49398793dbda670dd6c352'), ('hashed_session_cookie_id', '4e459fb2bc2cef1844be08ed0956defc5a2903f0'), ('server_timestamp', 'Thu Jan 01 03:01:32 EST 2015'), ('hashed_ip', '74aa3722f6f0388b18ffe5eec9f02f1810f7f3ee'), ('user_agent', 'Mozilla/5.0 (Windows NT 6.1; WOW64; Trident/7.0; BOIE9;ENGB; rv:11.0) like Gecko'), ('url', 'https://www.coursera.org/learn/negotiation-skills/outline'), ('initial_referrer_url', 'https://uk-mg42.mail.yahoo.com/neo/launch?.rand=6ngnbir6p7jl0'), ('browser_language', 'en-GB'), ('course_id', 'v0l76HmGEeSi3yIACzSGcw'), ('country_cd', 'NO'), ('region_cd', '16'), ('timezone', 'Europe/Oslo'), ('os', 'Windows 7'), ('browser', 'IE'), ('key', 'pageview'), ('value', '{}')])\n",
      "OrderedDict([('umich_user_id', '005aa91c779e6fe84b49398793dbda670dd6c352'), ('hashed_session_cookie_id', '4e459fb2bc2cef1844be08ed0956defc5a2903f0'), ('server_timestamp', 'Thu Jan 01 03:02:24 EST 2015'), ('hashed_ip', '74aa3722f6f0388b18ffe5eec9f02f1810f7f3ee'), ('user_agent', 'Mozilla/5.0 (Windows NT 6.1; WOW64; Trident/7.0; BOIE9;ENGB; rv:11.0) like Gecko'), ('url', 'https://www.coursera.org/learn/negotiation-skills/exam/b5WId/final-exam'), ('initial_referrer_url', 'https://uk-mg42.mail.yahoo.com/neo/launch?.rand=6ngnbir6p7jl0'), ('browser_language', 'en-GB'), ('course_id', 'v0l76HmGEeSi3yIACzSGcw'), ('country_cd', 'NO'), ('region_cd', '16'), ('timezone', 'Europe/Oslo'), ('os', 'Windows 7'), ('browser', 'IE'), ('key', 'pageview'), ('value', '{}')])\n",
      "OrderedDict([('umich_user_id', '005aa91c779e6fe84b49398793dbda670dd6c352'), ('hashed_session_cookie_id', '4e459fb2bc2cef1844be08ed0956defc5a2903f0'), ('server_timestamp', 'Thu Jan 01 03:02:29 EST 2015'), ('hashed_ip', '74aa3722f6f0388b18ffe5eec9f02f1810f7f3ee'), ('user_agent', 'Mozilla/5.0 (Windows NT 6.1; WOW64; Trident/7.0; BOIE9;ENGB; rv:11.0) like Gecko'), ('url', 'https://www.coursera.org/learn/negotiation-skills/outline'), ('initial_referrer_url', 'https://uk-mg42.mail.yahoo.com/neo/launch?.rand=6ngnbir6p7jl0'), ('browser_language', 'en-GB'), ('course_id', 'v0l76HmGEeSi3yIACzSGcw'), ('country_cd', 'NO'), ('region_cd', '16'), ('timezone', 'Europe/Oslo'), ('os', 'Windows 7'), ('browser', 'IE'), ('key', 'pageview'), ('value', '{}')])\n",
      "OrderedDict([('umich_user_id', 'bb116a9af763fa2f53139c1dfa851c760a667169'), ('hashed_session_cookie_id', '7ddb832b815685736d5ae2f9c7643f17aebe7182'), ('server_timestamp', 'Thu Jan 01 03:03:44 EST 2015'), ('hashed_ip', '7708a07814cdec58094b42408fabcad34800869b'), ('user_agent', 'Mozilla/5.0 (Windows NT 6.1; WOW64) AppleWebKit/537.36 (KHTML, like Gecko) Chrome/39.0.2171.95 Safari/537.36'), ('url', 'https://www.coursera.org/learn/negotiation-skills/lecture/Vl1rf/using-power-in-negotiations'), ('initial_referrer_url', 'https://www.google.de/'), ('browser_language', 'de-DE,de;q=0.8,en-US;q=0.6,en;q=0.4'), ('course_id', 'v0l76HmGEeSi3yIACzSGcw'), ('country_cd', 'DE'), ('region_cd', 'HE'), ('timezone', 'Europe/Berlin'), ('os', 'Windows 7'), ('browser', 'Chrome'), ('key', 'pageview'), ('value', '{}')])\n",
      "OrderedDict([('umich_user_id', 'e996e19bc246066a26ed666c53bab9b78c0df08a'), ('hashed_session_cookie_id', '5cbb4c477ac4d403634badcdfb56e337c6f3bb3a'), ('server_timestamp', 'Thu Jan 01 03:03:48 EST 2015'), ('hashed_ip', '7bbfdc57215184c3839a750fa8980743c5f42228'), ('user_agent', 'Mozilla/5.0 (Windows NT 6.1) AppleWebKit/537.36 (KHTML, like Gecko) Chrome/39.0.2171.95 Safari/537.36'), ('url', 'https://www.coursera.org/learn/negotiation-skills/outline'), ('initial_referrer_url', 'https://www.google.com.eg/'), ('browser_language', 'en-US,en;q=0.8'), ('course_id', 'v0l76HmGEeSi3yIACzSGcw'), ('country_cd', 'EG'), ('region_cd', ''), ('timezone', 'Africa/Cairo'), ('os', 'Windows 7'), ('browser', 'Chrome'), ('key', 'pageview'), ('value', '{}')])\n",
      "OrderedDict([('umich_user_id', '95cffc5948af183853735930299a0bc48c1cdc6c'), ('hashed_session_cookie_id', 'e0f1598cc697187a9ab35f12562f7ad7ce2dcc2a'), ('server_timestamp', 'Thu Jan 01 03:04:10 EST 2015'), ('hashed_ip', '1f280e42265dffbc7464f7e0922c17370910fdd4'), ('user_agent', 'Mozilla/5.0 (Macintosh; Intel Mac OS X 10_9_2) AppleWebKit/537.36 (KHTML, like Gecko) Chrome/39.0.2171.95 Safari/537.36'), ('url', 'https://www.coursera.org/learn/insidetheinternet/lecture/hZzwh/bonus-office-hours-ann-arbor-michigan-usa'), ('initial_referrer_url', 'https://www.google.com/'), ('browser_language', 'en-US,en;q=0.8'), ('course_id', '2UHGXkNtEeSfwCIACxeXRw'), ('country_cd', 'US'), ('region_cd', ''), ('timezone', ''), ('os', 'Mac OS X'), ('browser', 'Chrome'), ('key', 'pageview'), ('value', '{}')])\n",
      "OrderedDict([('umich_user_id', '0ea5cc6ff0ca76782e6c0a81f070cae9cf0971d9'), ('hashed_session_cookie_id', '67aeaede0738f24452327c34871463f0df2ad14f'), ('server_timestamp', 'Thu Jan 01 03:00:06 EST 2015'), ('hashed_ip', '18408ad2c5c0688ea5c09af9f468780eac9f4db6'), ('user_agent', 'Mozilla/5.0 (Macintosh; Intel Mac OS X 10.10; rv:34.0) Gecko/20100101 Firefox/34.0'), ('url', 'https://www.coursera.org/learn/negotiation-skills/lecture/mqVC6/mediation-conclusion'), ('initial_referrer_url', 'https://www.google.com/url?sa=t&rct=j&q=&esrc=s&source=web&cd=1&ved=0CB8QFjAA&url=https%3A%2F%2Fwww.coursera.org%2F&ei=nOaQVMDjNcGwogTy9YK4DA&usg=AFQjCNEAm-45Muq_nX5INW96szY5GEJGUg&sig2=jbFxMTxvkK2gQnbgTEs63Q&bvm=bv.82001339,d.cGU'), ('browser_language', 'fr,fr-fr;q=0.8,en-us;q=0.5,en;q=0.3'), ('course_id', 'v0l76HmGEeSi3yIACzSGcw'), ('country_cd', 'PF'), ('region_cd', 'V'), ('timezone', 'Pacific/Tahiti'), ('os', 'Mac OS X'), ('browser', 'Firefox'), ('key', 'pageview'), ('value', '{}')])\n",
      "OrderedDict([('umich_user_id', '17c1eed00cc46d9dfe62d95570d1b8e8846d5239'), ('hashed_session_cookie_id', '2285f0a0087920291134f157ae2b000ba64b393a'), ('server_timestamp', 'Thu Jan 01 03:00:07 EST 2015'), ('hashed_ip', 'd50dfc3839f658097a7a2b249ca9576efeb68c85'), ('user_agent', 'Mozilla/5.0 (Windows NT 6.1; WOW64) AppleWebKit/537.36 (KHTML, like Gecko) Chrome/39.0.2171.95 Safari/537.36 OPR/26.0.1656.60'), ('url', 'https://www.coursera.org/learn/negotiation-skills'), ('initial_referrer_url', ''), ('browser_language', 'ru-RU,ru;q=0.8,en-US;q=0.6,en;q=0.4'), ('course_id', 'v0l76HmGEeSi3yIACzSGcw'), ('country_cd', 'BY'), ('region_cd', 'HM'), ('timezone', 'Europe/Minsk'), ('os', 'Windows 7'), ('browser', 'Opera'), ('key', 'pageview'), ('value', '{}')])\n",
      "OrderedDict([('umich_user_id', '0ea5cc6ff0ca76782e6c0a81f070cae9cf0971d9'), ('hashed_session_cookie_id', '67aeaede0738f24452327c34871463f0df2ad14f'), ('server_timestamp', 'Thu Jan 01 03:00:09 EST 2015'), ('hashed_ip', '18408ad2c5c0688ea5c09af9f468780eac9f4db6'), ('user_agent', 'Mozilla/5.0 (Macintosh; Intel Mac OS X 10.10; rv:34.0) Gecko/20100101 Firefox/34.0'), ('url', 'https://www.coursera.org/learn/negotiation-skills/lecture/5hVbj/contract-performance-review-and-evaluation'), ('initial_referrer_url', 'https://www.google.com/url?sa=t&rct=j&q=&esrc=s&source=web&cd=1&ved=0CB8QFjAA&url=https%3A%2F%2Fwww.coursera.org%2F&ei=nOaQVMDjNcGwogTy9YK4DA&usg=AFQjCNEAm-45Muq_nX5INW96szY5GEJGUg&sig2=jbFxMTxvkK2gQnbgTEs63Q&bvm=bv.82001339,d.cGU'), ('browser_language', 'fr,fr-fr;q=0.8,en-us;q=0.5,en;q=0.3'), ('course_id', 'v0l76HmGEeSi3yIACzSGcw'), ('country_cd', 'PF'), ('region_cd', 'V'), ('timezone', 'Pacific/Tahiti'), ('os', 'Mac OS X'), ('browser', 'Firefox'), ('key', 'pageview'), ('value', '{}')])\n",
      "OrderedDict([('umich_user_id', '90e1b71e4948330711a9bb9f2df6818532945829'), ('hashed_session_cookie_id', '3082f82c66a577f54e3e0ce4f1671047e21b7980'), ('server_timestamp', 'Thu Jan 01 03:00:17 EST 2015'), ('hashed_ip', '6ed467a5d5f2ec846a467fe0755171265f7daeab'), ('user_agent', 'Mozilla/5.0 (Windows NT 6.3; WOW64; Trident/7.0; rv:11.0) like Gecko'), ('url', 'https://www.coursera.org/learn/negotiation-skills/lecture/75Tqz/your-batna-in-a-dispute-resolution-negotiation'), ('initial_referrer_url', ''), ('browser_language', 'en-US,en;q=0.5'), ('course_id', 'v0l76HmGEeSi3yIACzSGcw'), ('country_cd', 'US'), ('region_cd', 'CA'), ('timezone', 'America/Los_Angeles'), ('os', 'Windows 8.1'), ('browser', 'IE'), ('key', 'pageview'), ('value', '{}')])\n",
      "OrderedDict([('umich_user_id', '81f41b99410e89adfd934416faf87e361da5815f'), ('hashed_session_cookie_id', '7de0afe50af895c1263819be547c10c6650e0dbb'), ('server_timestamp', 'Thu Jan 01 03:00:47 EST 2015'), ('hashed_ip', 'c2101730393547a1fa497fdf2cf7773c7666e010'), ('user_agent', 'Mozilla/5.0 (Windows NT 6.1; WOW64) AppleWebKit/537.36 (KHTML, like Gecko) Chrome/39.0.2171.95 Safari/537.36'), ('url', 'https://www.coursera.org/learn/negotiation-skills/lecture/c5G27/business-vs-legal-objectives-in-contracting'), ('initial_referrer_url', ''), ('browser_language', 'en-US,en;q=0.8,es;q=0.6'), ('course_id', 'v0l76HmGEeSi3yIACzSGcw'), ('country_cd', 'US'), ('region_cd', 'FL'), ('timezone', 'America/New_York'), ('os', 'Windows 7'), ('browser', 'Chrome'), ('key', 'pageview'), ('value', '{}')])\n",
      "OrderedDict([('umich_user_id', '005aa91c779e6fe84b49398793dbda670dd6c352'), ('hashed_session_cookie_id', '4e459fb2bc2cef1844be08ed0956defc5a2903f0'), ('server_timestamp', 'Thu Jan 01 03:00:52 EST 2015'), ('hashed_ip', '74aa3722f6f0388b18ffe5eec9f02f1810f7f3ee'), ('user_agent', 'Mozilla/5.0 (Windows NT 6.1; WOW64; Trident/7.0; BOIE9;ENGB; rv:11.0) like Gecko'), ('url', 'https://www.coursera.org/learn/negotiation-skills'), ('initial_referrer_url', 'https://uk-mg42.mail.yahoo.com/neo/launch?.rand=6ngnbir6p7jl0'), ('browser_language', 'en-GB'), ('course_id', 'v0l76HmGEeSi3yIACzSGcw'), ('country_cd', 'NO'), ('region_cd', '16'), ('timezone', 'Europe/Oslo'), ('os', 'Windows 7'), ('browser', 'IE'), ('key', 'pageview'), ('value', '{}')])\n",
      "OrderedDict([('umich_user_id', 'fa5a26c846e2b93a84c3e04a00215d3dc71bb6a4'), ('hashed_session_cookie_id', '0b42fdb57ee661987ff0b5f61ac6233ffc690e10'), ('server_timestamp', 'Thu Jan 01 03:00:58 EST 2015'), ('hashed_ip', 'd63bcc2c19c3fef8fe412d0c2f741285ae904514'), ('user_agent', 'Mozilla/5.0 (Windows NT 6.1; WOW64; Trident/7.0; rv:11.0) like Gecko'), ('url', 'https://www.coursera.org/learn/negotiation-skills/lecture/KKMyw/getting-to-know-the-other-side'), ('initial_referrer_url', ''), ('browser_language', 'en-AU'), ('course_id', 'v0l76HmGEeSi3yIACzSGcw'), ('country_cd', 'AU'), ('region_cd', 'QLD'), ('timezone', 'Australia/Brisbane'), ('os', 'Windows 7'), ('browser', 'IE'), ('key', 'pageview'), ('value', '{}')])\n",
      "OrderedDict([('umich_user_id', 'a9cd5f536994465902b0984126da044efd240878'), ('hashed_session_cookie_id', 'ab4c0f7de5b299ee1a0834367f3309602d66f6a0'), ('server_timestamp', 'Thu Jan 01 03:01:26 EST 2015'), ('hashed_ip', '11ea21a130eb4c8329478ab5178b14a674bf0dd7'), ('user_agent', 'Mozilla/5.0 (Windows NT 6.3; WOW64) AppleWebKit/537.36 (KHTML, like Gecko) Chrome/39.0.2171.95 Safari/537.36'), ('url', 'https://www.coursera.org/learn/insidetheinternet/lecture/H6V0k/high-stakes-research-in-computing-and-communication'), ('initial_referrer_url', 'https://col126.mail.live.com/?tid=cmO5mqKHSQ5BGc0gAeC8ux6A2&fid=flinbox'), ('browser_language', 'en-US,en;q=0.8,ar;q=0.6'), ('course_id', '2UHGXkNtEeSfwCIACxeXRw'), ('country_cd', 'PS'), ('region_cd', ''), ('timezone', ''), ('os', 'Windows 8.1'), ('browser', 'Chrome'), ('key', 'pageview'), ('value', '{}')])\n",
      "OrderedDict([('umich_user_id', 'a95f04999ccf8fcd0f26fb0851745073a147e009'), ('hashed_session_cookie_id', '54cbc9f31590f6474470e6383cbebe873a886bb4'), ('server_timestamp', 'Thu Jan 01 03:01:31 EST 2015'), ('hashed_ip', '9b90b5884c380ceade68c7a53cb2b7eb7d71af48'), ('user_agent', 'Mozilla/5.0 (Macintosh; Intel Mac OS X 10_9_5) AppleWebKit/600.1.17 (KHTML, like Gecko) Version/7.1 Safari/537.85.10'), ('url', 'https://www.coursera.org/learn/negotiation-skills/outline'), ('initial_referrer_url', ''), ('browser_language', 'en-us'), ('course_id', 'v0l76HmGEeSi3yIACzSGcw'), ('country_cd', 'CZ'), ('region_cd', 'JM'), ('timezone', 'Europe/Prague'), ('os', 'Mac OS X'), ('browser', 'Safari'), ('key', 'pageview'), ('value', '{}')])\n",
      "OrderedDict([('umich_user_id', 'a95f04999ccf8fcd0f26fb0851745073a147e009'), ('hashed_session_cookie_id', '54cbc9f31590f6474470e6383cbebe873a886bb4'), ('server_timestamp', 'Thu Jan 01 03:01:45 EST 2015'), ('hashed_ip', '9b90b5884c380ceade68c7a53cb2b7eb7d71af48'), ('user_agent', 'Mozilla/5.0 (Macintosh; Intel Mac OS X 10_9_5) AppleWebKit/600.1.17 (KHTML, like Gecko) Version/7.1 Safari/537.85.10'), ('url', 'https://www.coursera.org/learn/negotiation-skills/supplement/vv331/about-the-course'), ('initial_referrer_url', ''), ('browser_language', 'en-us'), ('course_id', 'v0l76HmGEeSi3yIACzSGcw'), ('country_cd', 'CZ'), ('region_cd', 'JM'), ('timezone', 'Europe/Prague'), ('os', 'Mac OS X'), ('browser', 'Safari'), ('key', 'pageview'), ('value', '{}')])\n",
      "OrderedDict([('umich_user_id', 'a9cd5f536994465902b0984126da044efd240878'), ('hashed_session_cookie_id', 'ab4c0f7de5b299ee1a0834367f3309602d66f6a0'), ('server_timestamp', 'Thu Jan 01 03:02:35 EST 2015'), ('hashed_ip', '11ea21a130eb4c8329478ab5178b14a674bf0dd7'), ('user_agent', 'Mozilla/5.0 (Windows NT 6.3; WOW64) AppleWebKit/537.36 (KHTML, like Gecko) Chrome/39.0.2171.95 Safari/537.36'), ('url', 'https://www.coursera.org/learn/insidetheinternet/outline'), ('initial_referrer_url', 'https://col126.mail.live.com/?tid=cmO5mqKHSQ5BGc0gAeC8ux6A2&fid=flinbox'), ('browser_language', 'en-US,en;q=0.8,ar;q=0.6'), ('course_id', '2UHGXkNtEeSfwCIACxeXRw'), ('country_cd', 'PS'), ('region_cd', ''), ('timezone', ''), ('os', 'Windows 8.1'), ('browser', 'Chrome'), ('key', 'pageview'), ('value', '{}')])\n",
      "OrderedDict([('umich_user_id', 'f9a7816134e0397b5f380ab082cdef5b37d3a323'), ('hashed_session_cookie_id', 'e14ea3bffc200b2316f2d7d8e6b750c00cbddd50'), ('server_timestamp', 'Thu Jan 01 03:02:44 EST 2015'), ('hashed_ip', '6659657c26360c551d89f8b5ec6c18b1ad39a66c'), ('user_agent', 'Mozilla/5.0 (X11; Linux x86_64) AppleWebKit/537.36 (KHTML, like Gecko) Chrome/39.0.2171.65 Safari/537.36'), ('url', 'https://www.coursera.org/learn/negotiation-skills/lecture/o4ajG/should-i-negotiate'), ('initial_referrer_url', ''), ('browser_language', 'en-US,en;q=0.8,ja;q=0.6,zh-CN;q=0.4,zh-TW;q=0.2'), ('course_id', 'v0l76HmGEeSi3yIACzSGcw'), ('country_cd', 'US'), ('region_cd', 'CA'), ('timezone', 'America/Los_Angeles'), ('os', 'Linux'), ('browser', 'Chrome'), ('key', 'pageview'), ('value', '{}')])\n",
      "OrderedDict([('umich_user_id', '44185055eece5d1bc7986d743d240a7633d968ff'), ('hashed_session_cookie_id', 'c13cb2cdb6e7ebbc4e1e434a29e449e221f3c5d3'), ('server_timestamp', 'Thu Jan 01 03:04:00 EST 2015'), ('hashed_ip', '3fc4059d61afa8089bd3753aaa6be568e848c95b'), ('user_agent', 'Mozilla/5.0 (Windows NT 6.1; WOW64) AppleWebKit/537.36 (KHTML, like Gecko) Chrome/39.0.2171.95 Safari/537.36'), ('url', 'https://www.coursera.org/learn/insidetheinternet/outline'), ('initial_referrer_url', 'https://www.google.com/'), ('browser_language', 'en-US,en;q=0.8'), ('course_id', '2UHGXkNtEeSfwCIACxeXRw'), ('country_cd', 'US'), ('region_cd', 'TX'), ('timezone', 'America/Chicago'), ('os', 'Windows 7'), ('browser', 'Chrome'), ('key', 'pageview'), ('value', '{}')])\n",
      "OrderedDict([('umich_user_id', '7fe732fdcf374ef1ea747a19e1eb28478c6ad656'), ('hashed_session_cookie_id', 'fd224a925d745145f025929b0ae8cffd4b526034'), ('server_timestamp', 'Thu Jan 01 03:04:16 EST 2015'), ('hashed_ip', '88cf42327ab209049617aa3fed8f8180106ef333'), ('user_agent', 'Mozilla/5.0 (Windows NT 6.3; WOW64) AppleWebKit/537.36 (KHTML, like Gecko) Chrome/39.0.2171.95 Safari/537.36'), ('url', 'https://www.coursera.org/learn/insidetheinternet/lecture/TJF4v/larry-smarr-ncsa'), ('initial_referrer_url', 'https://www.google.com/'), ('browser_language', 'en-US,en;q=0.8'), ('course_id', '2UHGXkNtEeSfwCIACxeXRw'), ('country_cd', 'US'), ('region_cd', 'MN'), ('timezone', 'America/Chicago'), ('os', 'Windows 8.1'), ('browser', 'Chrome'), ('key', 'pageview'), ('value', '{}')])\n",
      "OrderedDict([('umich_user_id', 'd96e283f9c70149eb110d1c56ceece3e3d925939'), ('hashed_session_cookie_id', '75516f5d21fdeb441eebc14f8f2ec8fbbc7cfbf7'), ('server_timestamp', 'Thu Jan 01 03:04:18 EST 2015'), ('hashed_ip', '6825f3093396463ce5f463e8c6e540b88f02dfe4'), ('user_agent', 'Mozilla/5.0 (Windows NT 6.0) AppleWebKit/537.36 (KHTML, like Gecko) Chrome/39.0.2171.95 Safari/537.36'), ('url', 'https://www.coursera.org/learn/negotiation-skills/outline'), ('initial_referrer_url', ''), ('browser_language', 'pl-PL,pl;q=0.8,en-US;q=0.6,en;q=0.4'), ('course_id', 'v0l76HmGEeSi3yIACzSGcw'), ('country_cd', 'PL'), ('region_cd', 'DS'), ('timezone', 'Europe/Warsaw'), ('os', 'Windows Vista'), ('browser', 'Chrome'), ('key', 'pageview'), ('value', '{}')])\n",
      "OrderedDict([('umich_user_id', '17c1eed00cc46d9dfe62d95570d1b8e8846d5239'), ('hashed_session_cookie_id', '2285f0a0087920291134f157ae2b000ba64b393a'), ('server_timestamp', 'Thu Jan 01 03:04:52 EST 2015'), ('hashed_ip', 'd50dfc3839f658097a7a2b249ca9576efeb68c85'), ('user_agent', 'Mozilla/5.0 (Windows NT 6.1; WOW64) AppleWebKit/537.36 (KHTML, like Gecko) Chrome/39.0.2171.95 Safari/537.36 OPR/26.0.1656.60'), ('url', 'https://www.coursera.org/learn/negotiation-skills/lecture/75Tqz/your-batna-in-a-dispute-resolution-negotiation'), ('initial_referrer_url', ''), ('browser_language', 'ru-RU,ru;q=0.8,en-US;q=0.6,en;q=0.4'), ('course_id', 'v0l76HmGEeSi3yIACzSGcw'), ('country_cd', 'BY'), ('region_cd', 'HM'), ('timezone', 'Europe/Minsk'), ('os', 'Windows 7'), ('browser', 'Opera'), ('key', 'pageview'), ('value', '{}')])\n",
      "OrderedDict([('umich_user_id', '95cffc5948af183853735930299a0bc48c1cdc6c'), ('hashed_session_cookie_id', 'e0f1598cc697187a9ab35f12562f7ad7ce2dcc2a'), ('server_timestamp', 'Thu Jan 01 03:04:59 EST 2015'), ('hashed_ip', '1f280e42265dffbc7464f7e0922c17370910fdd4'), ('user_agent', 'Mozilla/5.0 (Macintosh; Intel Mac OS X 10_9_2) AppleWebKit/537.36 (KHTML, like Gecko) Chrome/39.0.2171.95 Safari/537.36'), ('url', 'https://www.coursera.org/learn/insidetheinternet/exam/1vrNr/technology-transport-control-protocol-tcp'), ('initial_referrer_url', 'https://www.google.com/'), ('browser_language', 'en-US,en;q=0.8'), ('course_id', '2UHGXkNtEeSfwCIACxeXRw'), ('country_cd', 'US'), ('region_cd', ''), ('timezone', ''), ('os', 'Mac OS X'), ('browser', 'Chrome'), ('key', 'pageview'), ('value', '{}')])\n",
      "OrderedDict([('umich_user_id', 'ac0f295a5dfc41c87aa8f4865d35b0d00124fc19'), ('hashed_session_cookie_id', '9a2f0c129a93a10bc9151617f55675998bf13fc1'), ('server_timestamp', 'Thu Jan 01 03:05:06 EST 2015'), ('hashed_ip', 'be71d193d077b708402437fcae9736419e2f5f13'), ('user_agent', 'Mozilla/5.0 (Macintosh; Intel Mac OS X 10_9_5) AppleWebKit/600.1.17 (KHTML, like Gecko) Version/7.1 Safari/537.85.10'), ('url', 'https://www.coursera.org/learn/negotiation-skills/lecture/8NvOu/introduction-to-psychological-tools-mythical-fixed-pie-assumption'), ('initial_referrer_url', 'https://uk-mg5.mail.yahoo.com/neo/launch?retry_ssl=1'), ('browser_language', 'en-us'), ('course_id', 'v0l76HmGEeSi3yIACzSGcw'), ('country_cd', 'GD'), ('region_cd', ''), ('timezone', 'America/Grenada'), ('os', 'Mac OS X'), ('browser', 'Safari'), ('key', 'pageview'), ('value', '{}')])\n",
      "OrderedDict([('umich_user_id', 'c7e0b7e873392815abee61a53c231a1d5866a659'), ('hashed_session_cookie_id', 'd8fe83dbeba4af9b001d3ad8f8aa8940b40e06ce'), ('server_timestamp', 'Thu Jan 01 03:05:25 EST 2015'), ('hashed_ip', '64d473856d2caec33da6e02eda9c608d7a9a87e4'), ('user_agent', 'Mozilla/5.0 (X11; Linux x86_64) AppleWebKit/537.36 (KHTML, like Gecko) Ubuntu Chromium/39.0.2171.65 Chrome/39.0.2171.65 Safari/537.36'), ('url', 'https://www.coursera.org/learn/insidetheinternet'), ('initial_referrer_url', 'https://www.google.com/'), ('browser_language', 'zh-CN,zh;q=0.8,en;q=0.6,zh-TW;q=0.4'), ('course_id', '2UHGXkNtEeSfwCIACxeXRw'), ('country_cd', 'US'), ('region_cd', 'IN'), ('timezone', 'America/Indiana/Indianapolis'), ('os', 'Ubuntu'), ('browser', 'Chromium'), ('key', 'pageview'), ('value', '{}')])\n",
      "OrderedDict([('umich_user_id', 'bb116a9af763fa2f53139c1dfa851c760a667169'), ('hashed_session_cookie_id', '7ddb832b815685736d5ae2f9c7643f17aebe7182'), ('server_timestamp', 'Thu Jan 01 03:05:46 EST 2015'), ('hashed_ip', '7708a07814cdec58094b42408fabcad34800869b'), ('user_agent', 'Mozilla/5.0 (Windows NT 6.1; WOW64) AppleWebKit/537.36 (KHTML, like Gecko) Chrome/39.0.2171.95 Safari/537.36'), ('url', 'https://www.coursera.org/learn/negotiation-skills/outline'), ('initial_referrer_url', 'https://www.google.de/'), ('browser_language', 'de-DE,de;q=0.8,en-US;q=0.6,en;q=0.4'), ('course_id', 'v0l76HmGEeSi3yIACzSGcw'), ('country_cd', 'DE'), ('region_cd', 'HE'), ('timezone', 'Europe/Berlin'), ('os', 'Windows 7'), ('browser', 'Chrome'), ('key', 'pageview'), ('value', '{}')])\n",
      "OrderedDict([('umich_user_id', 'bb116a9af763fa2f53139c1dfa851c760a667169'), ('hashed_session_cookie_id', '7ddb832b815685736d5ae2f9c7643f17aebe7182'), ('server_timestamp', 'Thu Jan 01 03:05:51 EST 2015'), ('hashed_ip', '7708a07814cdec58094b42408fabcad34800869b'), ('user_agent', 'Mozilla/5.0 (Windows NT 6.1; WOW64) AppleWebKit/537.36 (KHTML, like Gecko) Chrome/39.0.2171.95 Safari/537.36'), ('url', 'https://www.coursera.org/learn/negotiation-skills/lecture/6d4cE/psychological-tools-overconfidence'), ('initial_referrer_url', 'https://www.google.de/'), ('browser_language', 'de-DE,de;q=0.8,en-US;q=0.6,en;q=0.4'), ('course_id', 'v0l76HmGEeSi3yIACzSGcw'), ('country_cd', 'DE'), ('region_cd', 'HE'), ('timezone', 'Europe/Berlin'), ('os', 'Windows 7'), ('browser', 'Chrome'), ('key', 'pageview'), ('value', '{}')])\n",
      "OrderedDict([('umich_user_id', '665ae36273cd614008b2ef7a203867c901bf01d2'), ('hashed_session_cookie_id', '54620b3e3fa20977f6ee65904451000dd786eb5b'), ('server_timestamp', 'Thu Jan 01 03:05:56 EST 2015'), ('hashed_ip', '56b6746181cbdeaf9984f814c012328fe680ff18'), ('user_agent', 'Mozilla/5.0 (Windows NT 6.3; WOW64) AppleWebKit/537.36 (KHTML, like Gecko) Chrome/39.0.2171.95 Safari/537.36'), ('url', 'https://www.coursera.org/learn/negotiation-skills/lecture/el26b/a-dispute-resolution-or-deal-making-negotiation'), ('initial_referrer_url', ''), ('browser_language', 'fr-FR,fr;q=0.8,en-US;q=0.6,en;q=0.4'), ('course_id', 'v0l76HmGEeSi3yIACzSGcw'), ('country_cd', 'CA'), ('region_cd', 'QC'), ('timezone', 'America/Toronto'), ('os', 'Windows 8.1'), ('browser', 'Chrome'), ('key', 'pageview'), ('value', '{}')])\n",
      "OrderedDict([('umich_user_id', '1066a697903937dcb2bba46698b65c9067602b13'), ('hashed_session_cookie_id', '9431b24e18b18ea6b5aea81920abd33fb9ce55ee'), ('server_timestamp', 'Thu Jan 01 03:06:21 EST 2015'), ('hashed_ip', '65bd9edcd8e0e83778c61d2af5290be4cff9a4bc'), ('user_agent', 'Mozilla/5.0 (Windows NT 6.1; WOW64; rv:34.0) Gecko/20100101 Firefox/34.0'), ('url', 'https://www.coursera.org/learn/negotiation-skills/lecture/2qWYi/adr-tools'), ('initial_referrer_url', ''), ('browser_language', 'en-US,en;q=0.5'), ('course_id', 'v0l76HmGEeSi3yIACzSGcw'), ('country_cd', 'US'), ('region_cd', 'TX'), ('timezone', 'America/Chicago'), ('os', 'Windows 7'), ('browser', 'Firefox'), ('key', 'pageview'), ('value', '{}')])\n",
      "OrderedDict([('umich_user_id', 'c7e0b7e873392815abee61a53c231a1d5866a659'), ('hashed_session_cookie_id', 'd8fe83dbeba4af9b001d3ad8f8aa8940b40e06ce'), ('server_timestamp', 'Thu Jan 01 03:06:48 EST 2015'), ('hashed_ip', '64d473856d2caec33da6e02eda9c608d7a9a87e4'), ('user_agent', 'Mozilla/5.0 (X11; Linux x86_64) AppleWebKit/537.36 (KHTML, like Gecko) Ubuntu Chromium/39.0.2171.65 Chrome/39.0.2171.65 Safari/537.36'), ('url', 'https://www.coursera.org/learn/insidetheinternet'), ('initial_referrer_url', 'https://www.google.com/'), ('browser_language', 'zh-CN,zh;q=0.8,en;q=0.6,zh-TW;q=0.4'), ('course_id', '2UHGXkNtEeSfwCIACxeXRw'), ('country_cd', 'US'), ('region_cd', 'IN'), ('timezone', 'America/Indiana/Indianapolis'), ('os', 'Ubuntu'), ('browser', 'Chromium'), ('key', 'pageview'), ('value', '{}')])\n",
      "OrderedDict([('umich_user_id', 'ba41844ae5dba3fe42d7cc13c124d68062656cd2'), ('hashed_session_cookie_id', 'be2995de750dbb6be66de692c494158971d3660b'), ('server_timestamp', 'Thu Jan 01 03:06:56 EST 2015'), ('hashed_ip', '3c2303ced52367eb860c5c4b8a0d8b2fb47a8a29'), ('user_agent', 'Mozilla/5.0 (iPhone; CPU iPhone OS 8_1_1 like Mac OS X) AppleWebKit/600.1.4 (KHTML, like Gecko) Version/8.0 Mobile/12B435 Safari/600.1.4'), ('url', 'https://www.coursera.org/learn/negotiation-skills/lecture/yzGYu/analyzing-the-negotiation'), ('initial_referrer_url', ''), ('browser_language', 'en-us'), ('course_id', 'v0l76HmGEeSi3yIACzSGcw'), ('country_cd', 'US'), ('region_cd', 'TX'), ('timezone', 'America/Chicago'), ('os', 'iOS'), ('browser', 'Mobile Safari'), ('key', 'pageview'), ('value', '{}')])\n",
      "OrderedDict([('umich_user_id', 'c7e0b7e873392815abee61a53c231a1d5866a659'), ('hashed_session_cookie_id', 'd8fe83dbeba4af9b001d3ad8f8aa8940b40e06ce'), ('server_timestamp', 'Thu Jan 01 03:07:00 EST 2015'), ('hashed_ip', '64d473856d2caec33da6e02eda9c608d7a9a87e4'), ('user_agent', 'Mozilla/5.0 (X11; Linux x86_64) AppleWebKit/537.36 (KHTML, like Gecko) Ubuntu Chromium/39.0.2171.65 Chrome/39.0.2171.65 Safari/537.36'), ('url', 'https://www.coursera.org/learn/insidetheinternet/lecture/H5xsU/welcome-to-class'), ('initial_referrer_url', 'https://www.google.com/'), ('browser_language', 'zh-CN,zh;q=0.8,en;q=0.6,zh-TW;q=0.4'), ('course_id', '2UHGXkNtEeSfwCIACxeXRw'), ('country_cd', 'US'), ('region_cd', 'IN'), ('timezone', 'America/Indiana/Indianapolis'), ('os', 'Ubuntu'), ('browser', 'Chromium'), ('key', 'pageview'), ('value', '{}')])\n",
      "OrderedDict([('umich_user_id', 'c43cc28e3cc1bcba91108a8d7363221e390da9cd'), ('hashed_session_cookie_id', 'cd09ea076541584eaad669aaf2b2d755859f4d1c'), ('server_timestamp', 'Thu Jan 01 03:07:01 EST 2015'), ('hashed_ip', '3d2718c86b7714ec5eb794efb9f8adf69e2dfb3e'), ('user_agent', 'Mozilla/5.0 (Windows NT 6.1) AppleWebKit/537.36 (KHTML, like Gecko) Chrome/39.0.2171.95 Safari/537.36'), ('url', 'https://www.coursera.org/learn/negotiation-skills/outline'), ('initial_referrer_url', ''), ('browser_language', 'pt-BR,pt;q=0.8,en-US;q=0.6,en;q=0.4'), ('course_id', 'v0l76HmGEeSi3yIACzSGcw'), ('country_cd', 'BR'), ('region_cd', 'BA'), ('timezone', 'America/Bahia'), ('os', 'Windows 7'), ('browser', 'Chrome'), ('key', 'pageview'), ('value', '{}')])\n",
      "OrderedDict([('umich_user_id', 'c7e0b7e873392815abee61a53c231a1d5866a659'), ('hashed_session_cookie_id', 'd8fe83dbeba4af9b001d3ad8f8aa8940b40e06ce'), ('server_timestamp', 'Thu Jan 01 03:07:24 EST 2015'), ('hashed_ip', '64d473856d2caec33da6e02eda9c608d7a9a87e4'), ('user_agent', 'Mozilla/5.0 (X11; Linux x86_64) AppleWebKit/537.36 (KHTML, like Gecko) Ubuntu Chromium/39.0.2171.65 Chrome/39.0.2171.65 Safari/537.36'), ('url', 'https://www.coursera.org/learn/insidetheinternet/outline'), ('initial_referrer_url', 'https://www.google.com/'), ('browser_language', 'zh-CN,zh;q=0.8,en;q=0.6,zh-TW;q=0.4'), ('course_id', '2UHGXkNtEeSfwCIACxeXRw'), ('country_cd', 'US'), ('region_cd', 'IN'), ('timezone', 'America/Indiana/Indianapolis'), ('os', 'Ubuntu'), ('browser', 'Chromium'), ('key', 'pageview'), ('value', '{}')])\n",
      "OrderedDict([('umich_user_id', '10980ee1943f363a092467cd9c66bea3304d523a'), ('hashed_session_cookie_id', '67c6ddbf996571213039c6aa62625fad479f68ac'), ('server_timestamp', 'Thu Jan 01 03:08:00 EST 2015'), ('hashed_ip', 'a4c6bea6830c81d97ae9633afc0dec81394cefcd'), ('user_agent', 'Mozilla/5.0 (Windows NT 6.1; WOW64; rv:34.0) Gecko/20100101 Firefox/34.0'), ('url', 'https://www.coursera.org/learn/insidetheinternet/lecture/H6V0k/high-stakes-research-in-computing-and-communication'), ('initial_referrer_url', 'https://www.coursera.org/specialization/payment/jhudatascience/1?utm_source=email&utm_medium=growth&utm_campaign=dss2F'), ('browser_language', 'en-US,en;q=0.5'), ('course_id', '2UHGXkNtEeSfwCIACxeXRw'), ('country_cd', 'CA'), ('region_cd', 'QC'), ('timezone', 'America/Toronto'), ('os', 'Windows 7'), ('browser', 'Firefox'), ('key', 'pageview'), ('value', '{}')])\n",
      "OrderedDict([('umich_user_id', '6834ae47d226b2053f130fb9e52eab3c63212ca1'), ('hashed_session_cookie_id', '269aa6af8470f7c178f15ba9fe201963d71844d9'), ('server_timestamp', 'Thu Jan 01 03:08:27 EST 2015'), ('hashed_ip', '649d5e8f92f7eda8884104b3a10f9906c2c78fee'), ('user_agent', 'Mozilla/5.0 (Windows NT 6.3; WOW64; rv:32.0) Gecko/20100101 Firefox/32.0'), ('url', 'https://www.coursera.org/learn/negotiation-skills/lecture/xaCpq/a-position-based-or-interest-based-negotiation'), ('initial_referrer_url', ''), ('browser_language', 'en-US,en;q=0.5'), ('course_id', 'v0l76HmGEeSi3yIACzSGcw'), ('country_cd', 'US'), ('region_cd', 'CA'), ('timezone', 'America/Los_Angeles'), ('os', 'Windows 8.1'), ('browser', 'Firefox'), ('key', 'pageview'), ('value', '{}')])\n",
      "OrderedDict([('umich_user_id', '95cffc5948af183853735930299a0bc48c1cdc6c'), ('hashed_session_cookie_id', 'e0f1598cc697187a9ab35f12562f7ad7ce2dcc2a'), ('server_timestamp', 'Thu Jan 01 03:05:03 EST 2015'), ('hashed_ip', '1f280e42265dffbc7464f7e0922c17370910fdd4'), ('user_agent', 'Mozilla/5.0 (Macintosh; Intel Mac OS X 10_9_2) AppleWebKit/537.36 (KHTML, like Gecko) Chrome/39.0.2171.95 Safari/537.36'), ('url', 'https://www.coursera.org/learn/insidetheinternet/lecture/cjHpu/application-layer'), ('initial_referrer_url', 'https://www.google.com/'), ('browser_language', 'en-US,en;q=0.8'), ('course_id', '2UHGXkNtEeSfwCIACxeXRw'), ('country_cd', 'US'), ('region_cd', ''), ('timezone', ''), ('os', 'Mac OS X'), ('browser', 'Chrome'), ('key', 'pageview'), ('value', '{}')])\n",
      "OrderedDict([('umich_user_id', '17c1eed00cc46d9dfe62d95570d1b8e8846d5239'), ('hashed_session_cookie_id', '2285f0a0087920291134f157ae2b000ba64b393a'), ('server_timestamp', 'Thu Jan 01 03:05:12 EST 2015'), ('hashed_ip', 'd50dfc3839f658097a7a2b249ca9576efeb68c85'), ('user_agent', 'Mozilla/5.0 (Windows NT 6.1; WOW64) AppleWebKit/537.36 (KHTML, like Gecko) Chrome/39.0.2171.95 Safari/537.36 OPR/26.0.1656.60'), ('url', 'https://www.coursera.org/learn/negotiation-skills/lecture/75Tqz/your-batna-in-a-dispute-resolution-negotiation'), ('initial_referrer_url', ''), ('browser_language', 'ru-RU,ru;q=0.8,en-US;q=0.6,en;q=0.4'), ('course_id', 'v0l76HmGEeSi3yIACzSGcw'), ('country_cd', 'BY'), ('region_cd', 'HM'), ('timezone', 'Europe/Minsk'), ('os', 'Windows 7'), ('browser', 'Opera'), ('key', 'pageview'), ('value', '{}')])\n",
      "OrderedDict([('umich_user_id', '17c1eed00cc46d9dfe62d95570d1b8e8846d5239'), ('hashed_session_cookie_id', '2285f0a0087920291134f157ae2b000ba64b393a'), ('server_timestamp', 'Thu Jan 01 03:05:13 EST 2015'), ('hashed_ip', 'd50dfc3839f658097a7a2b249ca9576efeb68c85'), ('user_agent', 'Mozilla/5.0 (Windows NT 6.1; WOW64) AppleWebKit/537.36 (KHTML, like Gecko) Chrome/39.0.2171.95 Safari/537.36 OPR/26.0.1656.60'), ('url', 'https://www.coursera.org/learn/negotiation-skills/outline'), ('initial_referrer_url', ''), ('browser_language', 'ru-RU,ru;q=0.8,en-US;q=0.6,en;q=0.4'), ('course_id', 'v0l76HmGEeSi3yIACzSGcw'), ('country_cd', 'BY'), ('region_cd', 'HM'), ('timezone', 'Europe/Minsk'), ('os', 'Windows 7'), ('browser', 'Opera'), ('key', 'pageview'), ('value', '{}')])\n",
      "OrderedDict([('umich_user_id', 'ef31598a0a50ca98c411d19de710dc9d1f19d413'), ('hashed_session_cookie_id', '07767224b0f2c0a6ee3698b4b465a344dcf9075f'), ('server_timestamp', 'Thu Jan 01 03:05:31 EST 2015'), ('hashed_ip', '948ffbbd78bc234827b983d5f7dbffb0b08c63d1'), ('user_agent', 'Mozilla/5.0 (Windows NT 6.1; WOW64) AppleWebKit/537.36 (KHTML, like Gecko) Chrome/39.0.2171.95 Safari/537.36'), ('url', 'https://www.coursera.org/learn/negotiation-skills/lecture/iLFug/how-to-handle-ethical-issues'), ('initial_referrer_url', 'https://www.google.com.au/'), ('browser_language', 'en-GB,en-US;q=0.8,en;q=0.6'), ('course_id', 'v0l76HmGEeSi3yIACzSGcw'), ('country_cd', 'AU'), ('region_cd', 'NSW'), ('timezone', 'Australia/Sydney'), ('os', 'Windows 7'), ('browser', 'Chrome'), ('key', 'pageview'), ('value', '{}')])\n",
      "OrderedDict([('umich_user_id', 'b8ee892ce61b98c391c7f49dac24a32569548d15'), ('hashed_session_cookie_id', '5928fa145b3ac755fd12565b6fdeea5746f5fcfa'), ('server_timestamp', 'Thu Jan 01 03:06:03 EST 2015'), ('hashed_ip', '921dc33eedb147e074840dc8e954da730c3af781'), ('user_agent', 'Mozilla/5.0 (Windows NT 6.3; WOW64; Trident/7.0; MALNJS; rv:11.0) like Gecko'), ('url', 'https://www.coursera.org/learn/insidetheinternet/outline'), ('initial_referrer_url', ''), ('browser_language', 'en-US'), ('course_id', '2UHGXkNtEeSfwCIACxeXRw'), ('country_cd', 'US'), ('region_cd', 'IN'), ('timezone', 'America/Indiana/Indianapolis'), ('os', 'Windows 8.1'), ('browser', 'IE'), ('key', 'pageview'), ('value', '{}')])\n",
      "OrderedDict([('umich_user_id', '1066a697903937dcb2bba46698b65c9067602b13'), ('hashed_session_cookie_id', '9431b24e18b18ea6b5aea81920abd33fb9ce55ee'), ('server_timestamp', 'Thu Jan 01 03:06:14 EST 2015'), ('hashed_ip', '65bd9edcd8e0e83778c61d2af5290be4cff9a4bc'), ('user_agent', 'Mozilla/5.0 (Windows NT 6.1; WOW64; rv:34.0) Gecko/20100101 Firefox/34.0'), ('url', 'https://www.coursera.org/learn/negotiation-skills/lecture/2qWYi/adr-tools'), ('initial_referrer_url', ''), ('browser_language', 'en-US,en;q=0.5'), ('course_id', 'v0l76HmGEeSi3yIACzSGcw'), ('country_cd', 'US'), ('region_cd', 'TX'), ('timezone', 'America/Chicago'), ('os', 'Windows 7'), ('browser', 'Firefox'), ('key', 'pageview'), ('value', '{}')])\n",
      "OrderedDict([('umich_user_id', 'bb116a9af763fa2f53139c1dfa851c760a667169'), ('hashed_session_cookie_id', '7ddb832b815685736d5ae2f9c7643f17aebe7182'), ('server_timestamp', 'Thu Jan 01 03:06:15 EST 2015'), ('hashed_ip', '7708a07814cdec58094b42408fabcad34800869b'), ('user_agent', 'Mozilla/5.0 (Windows NT 6.1; WOW64) AppleWebKit/537.36 (KHTML, like Gecko) Chrome/39.0.2171.95 Safari/537.36'), ('url', 'https://www.coursera.org/learn/negotiation-skills/outline'), ('initial_referrer_url', 'https://www.google.de/'), ('browser_language', 'de-DE,de;q=0.8,en-US;q=0.6,en;q=0.4'), ('course_id', 'v0l76HmGEeSi3yIACzSGcw'), ('country_cd', 'DE'), ('region_cd', 'HE'), ('timezone', 'Europe/Berlin'), ('os', 'Windows 7'), ('browser', 'Chrome'), ('key', 'pageview'), ('value', '{}')])\n",
      "OrderedDict([('umich_user_id', 'c7e0b7e873392815abee61a53c231a1d5866a659'), ('hashed_session_cookie_id', 'd8fe83dbeba4af9b001d3ad8f8aa8940b40e06ce'), ('server_timestamp', 'Thu Jan 01 03:06:51 EST 2015'), ('hashed_ip', '64d473856d2caec33da6e02eda9c608d7a9a87e4'), ('user_agent', 'Mozilla/5.0 (X11; Linux x86_64) AppleWebKit/537.36 (KHTML, like Gecko) Ubuntu Chromium/39.0.2171.65 Chrome/39.0.2171.65 Safari/537.36'), ('url', 'https://www.coursera.org/learn/insidetheinternet/outline'), ('initial_referrer_url', 'https://www.google.com/'), ('browser_language', 'zh-CN,zh;q=0.8,en;q=0.6,zh-TW;q=0.4'), ('course_id', '2UHGXkNtEeSfwCIACxeXRw'), ('country_cd', 'US'), ('region_cd', 'IN'), ('timezone', 'America/Indiana/Indianapolis'), ('os', 'Ubuntu'), ('browser', 'Chromium'), ('key', 'pageview'), ('value', '{}')])\n",
      "OrderedDict([('umich_user_id', 'ef31598a0a50ca98c411d19de710dc9d1f19d413'), ('hashed_session_cookie_id', '07767224b0f2c0a6ee3698b4b465a344dcf9075f'), ('server_timestamp', 'Thu Jan 01 03:07:05 EST 2015'), ('hashed_ip', '948ffbbd78bc234827b983d5f7dbffb0b08c63d1'), ('user_agent', 'Mozilla/5.0 (Windows NT 6.1; WOW64) AppleWebKit/537.36 (KHTML, like Gecko) Chrome/39.0.2171.95 Safari/537.36'), ('url', 'https://www.coursera.org/learn/negotiation-skills/lecture/iLFug/how-to-handle-ethical-issues'), ('initial_referrer_url', 'https://www.google.com.au/'), ('browser_language', 'en-GB,en-US;q=0.8,en;q=0.6'), ('course_id', 'v0l76HmGEeSi3yIACzSGcw'), ('country_cd', 'AU'), ('region_cd', 'NSW'), ('timezone', 'Australia/Sydney'), ('os', 'Windows 7'), ('browser', 'Chrome'), ('key', 'pageview'), ('value', '{}')])\n",
      "OrderedDict([('umich_user_id', 'c7e0b7e873392815abee61a53c231a1d5866a659'), ('hashed_session_cookie_id', 'd8fe83dbeba4af9b001d3ad8f8aa8940b40e06ce'), ('server_timestamp', 'Thu Jan 01 03:07:06 EST 2015'), ('hashed_ip', '64d473856d2caec33da6e02eda9c608d7a9a87e4'), ('user_agent', 'Mozilla/5.0 (X11; Linux x86_64) AppleWebKit/537.36 (KHTML, like Gecko) Ubuntu Chromium/39.0.2171.65 Chrome/39.0.2171.65 Safari/537.36'), ('url', 'https://www.coursera.org/learn/insidetheinternet/lecture/sU7ms/bonus-office-hours-manila-philippines'), ('initial_referrer_url', 'https://www.google.com/'), ('browser_language', 'zh-CN,zh;q=0.8,en;q=0.6,zh-TW;q=0.4'), ('course_id', '2UHGXkNtEeSfwCIACxeXRw'), ('country_cd', 'US'), ('region_cd', 'IN'), ('timezone', 'America/Indiana/Indianapolis'), ('os', 'Ubuntu'), ('browser', 'Chromium'), ('key', 'pageview'), ('value', '{}')])\n",
      "OrderedDict([('umich_user_id', '386a04196edf58eb3c6cd05e391b4b709ae9f42f'), ('hashed_session_cookie_id', 'a3bf32e63dd62b37c3fb987de0945b36c63be022'), ('server_timestamp', 'Thu Jan 01 03:07:16 EST 2015'), ('hashed_ip', '1b83e10f671d4ab1eaca4a0985e826804aa809b6'), ('user_agent', 'Mozilla/5.0 (Macintosh; Intel Mac OS X 10_10_1) AppleWebKit/600.2.5 (KHTML, like Gecko) Version/8.0.2 Safari/600.2.5'), ('url', 'https://www.coursera.org/learn/insidetheinternet/lecture/bF2dU/post-war-computing-and-communication'), ('initial_referrer_url', 'https://www.google.ca/url?sa=t&rct=j&q=&esrc=s&source=web&cd=1&ved=0CD0QFjAA&url=https%3A%2F%2Fwww.coursera.org%2F&ei=JjOcVLnpMJa2yASDkIKQCQ&usg=AFQjCNEAm-45Muq_nX5INW96szY5GEJGUg&bvm=bv.82001339,d.aWw'), ('browser_language', 'en-us'), ('course_id', '2UHGXkNtEeSfwCIACxeXRw'), ('country_cd', 'CA'), ('region_cd', 'NB'), ('timezone', 'America/Moncton'), ('os', 'Mac OS X'), ('browser', 'Safari'), ('key', 'pageview'), ('value', '{}')])\n",
      "OrderedDict([('umich_user_id', '44185055eece5d1bc7986d743d240a7633d968ff'), ('hashed_session_cookie_id', 'c13cb2cdb6e7ebbc4e1e434a29e449e221f3c5d3'), ('server_timestamp', 'Thu Jan 01 03:07:31 EST 2015'), ('hashed_ip', '3fc4059d61afa8089bd3753aaa6be568e848c95b'), ('user_agent', 'Mozilla/5.0 (Windows NT 6.1; WOW64) AppleWebKit/537.36 (KHTML, like Gecko) Chrome/39.0.2171.95 Safari/537.36'), ('url', 'https://www.coursera.org/learn/negotiation-skills/lecture/VSZIG/overview-course-goal-and-game-plan'), ('initial_referrer_url', 'https://www.google.com/'), ('browser_language', 'en-US,en;q=0.8'), ('course_id', 'v0l76HmGEeSi3yIACzSGcw'), ('country_cd', 'US'), ('region_cd', 'TX'), ('timezone', 'America/Chicago'), ('os', 'Windows 7'), ('browser', 'Chrome'), ('key', 'pageview'), ('value', '{}')])\n",
      "OrderedDict([('umich_user_id', '86dfa2d0e72d7818baf945a60070b79980fbb691'), ('hashed_session_cookie_id', '31e5655913d22596d2bf5272537ee2e9aa7fc529'), ('server_timestamp', 'Thu Jan 01 03:08:28 EST 2015'), ('hashed_ip', 'a32ec474ba972ebf9461b45d2b13956452fed5b3'), ('user_agent', 'Mozilla/5.0 (Macintosh; Intel Mac OS X 10_10_1) AppleWebKit/600.2.5 (KHTML, like Gecko) Version/8.0.2 Safari/600.2.5'), ('url', 'https://www.coursera.org/learn/negotiation-skills/lecture/xaCpq/a-position-based-or-interest-based-negotiation'), ('initial_referrer_url', 'https://duckduckgo.com/'), ('browser_language', 'en-us'), ('course_id', 'v0l76HmGEeSi3yIACzSGcw'), ('country_cd', 'CA'), ('region_cd', 'AB'), ('timezone', 'America/Edmonton'), ('os', 'Mac OS X'), ('browser', 'Safari'), ('key', 'pageview'), ('value', '{}')])\n",
      "OrderedDict([('umich_user_id', 'bec8d341e667a015f933c171705ab73c3affdf03'), ('hashed_session_cookie_id', '91888d8dd66a003b86c29f6558d037227143d5bf'), ('server_timestamp', 'Thu Jan 01 03:09:18 EST 2015'), ('hashed_ip', '9610df05237e09498fc5799ec0266dc4b76292e6'), ('user_agent', 'Mozilla/5.0 (Windows NT 6.3; Win64; x64; Trident/7.0; rv:11.0) like Gecko'), ('url', 'https://www.coursera.org/learn/insidetheinternet/lecture/lY9Uw/security-public-private-key-secure-sockets'), ('initial_referrer_url', ''), ('browser_language', 'en-US'), ('course_id', '2UHGXkNtEeSfwCIACxeXRw'), ('country_cd', 'US'), ('region_cd', 'TX'), ('timezone', 'America/Chicago'), ('os', 'Windows 8.1'), ('browser', 'IE'), ('key', 'pageview'), ('value', '{}')])\n",
      "OrderedDict([('umich_user_id', '826865822b68f6a6662f6dbbadad268801c140a3'), ('hashed_session_cookie_id', 'a8408e904017fee7e764aad8d9fd826de4ca1039'), ('server_timestamp', 'Thu Jan 01 03:09:40 EST 2015'), ('hashed_ip', 'f858d3efd341eecfb1d7ac3fe207c87aa3bb3165'), ('user_agent', 'Mozilla/5.0 (Windows NT 6.1; WOW64) AppleWebKit/537.36 (KHTML, like Gecko) Chrome/39.0.2171.95 Safari/537.36'), ('url', 'https://www.coursera.org/learn/negotiation-skills/outline'), ('initial_referrer_url', 'https://www.google.com.au/'), ('browser_language', 'en-US,en;q=0.8'), ('course_id', 'v0l76HmGEeSi3yIACzSGcw'), ('country_cd', 'AU'), ('region_cd', 'VIC'), ('timezone', 'Australia/Melbourne'), ('os', 'Windows 7'), ('browser', 'Chrome'), ('key', 'pageview'), ('value', '{}')])\n",
      "OrderedDict([('umich_user_id', '1e791177b039f48de777a632003765c1ee10f349'), ('hashed_session_cookie_id', 'f9535cf29cd4615ab9d4d6255daa2856cdb22d2b'), ('server_timestamp', 'Thu Jan 01 03:10:17 EST 2015'), ('hashed_ip', '2c32206475f896b5c0fd9c75405251dc0b78c410'), ('user_agent', 'Mozilla/5.0 (Macintosh; Intel Mac OS X 10_7_5) AppleWebKit/536.30.1 (KHTML, like Gecko) Version/6.0.5 Safari/536.30.1'), ('url', 'https://www.coursera.org/learn/negotiation-skills/lecture/Et54E/cross-cultural-negotiations'), ('initial_referrer_url', ''), ('browser_language', 'en-us'), ('course_id', 'v0l76HmGEeSi3yIACzSGcw'), ('country_cd', 'US'), ('region_cd', 'AZ'), ('timezone', 'America/Phoenix'), ('os', 'Mac OS X'), ('browser', 'Safari'), ('key', 'pageview'), ('value', '{}')])\n",
      "OrderedDict([('umich_user_id', '7c08d6e31857a6cf120b5a22b5c659ead920e4dc'), ('hashed_session_cookie_id', '7a7a18ff09da50f0f019dd8e54f00e8e930f0a77'), ('server_timestamp', 'Thu Jan 01 03:10:25 EST 2015'), ('hashed_ip', '10020663d09d46332410620ed630c32c23fd9d88'), ('user_agent', 'Mozilla/5.0 (Macintosh; Intel Mac OS X 10_10_1) AppleWebKit/537.36 (KHTML, like Gecko) Chrome/39.0.2171.95 Safari/537.36'), ('url', 'https://www.coursera.org/learn/negotiation-skills/lecture/o4ajG/should-i-negotiate'), ('initial_referrer_url', ''), ('browser_language', 'zh-CN,zh;q=0.8,en;q=0.6,zh-TW;q=0.4,es;q=0.2'), ('course_id', 'v0l76HmGEeSi3yIACzSGcw'), ('country_cd', 'US'), ('region_cd', 'CA'), ('timezone', 'America/Los_Angeles'), ('os', 'Mac OS X'), ('browser', 'Chrome'), ('key', 'pageview'), ('value', '{}')])\n",
      "OrderedDict([('umich_user_id', 'e4f952f0d86e23b93f89af96eb7b92ab5354b281'), ('hashed_session_cookie_id', '13e7352214c0b6492f6d96e368a0627c5474db7e'), ('server_timestamp', 'Thu Jan 01 03:10:34 EST 2015'), ('hashed_ip', '3018b01256be7f1b4f3fc7e477ee225028da23d5'), ('user_agent', 'Mozilla/5.0 (Windows NT 6.3; WOW64) AppleWebKit/537.36 (KHTML, like Gecko) Chrome/35.0.1916.114 Safari/537.36'), ('url', 'https://www.coursera.org/learn/negotiation-skills/lecture/xaCpq/a-position-based-or-interest-based-negotiation'), ('initial_referrer_url', 'https://www.coursera.org/courses'), ('browser_language', 'en-US,en;q=0.8'), ('course_id', 'v0l76HmGEeSi3yIACzSGcw'), ('country_cd', 'CA'), ('region_cd', 'AB'), ('timezone', 'America/Edmonton'), ('os', 'Windows 8.1'), ('browser', 'Chrome'), ('key', 'pageview'), ('value', '{}')])\n",
      "OrderedDict([('umich_user_id', 'e4f952f0d86e23b93f89af96eb7b92ab5354b281'), ('hashed_session_cookie_id', '13e7352214c0b6492f6d96e368a0627c5474db7e'), ('server_timestamp', 'Thu Jan 01 03:11:06 EST 2015'), ('hashed_ip', '3018b01256be7f1b4f3fc7e477ee225028da23d5'), ('user_agent', 'Mozilla/5.0 (Windows NT 6.3; WOW64) AppleWebKit/537.36 (KHTML, like Gecko) Chrome/35.0.1916.114 Safari/537.36'), ('url', 'https://www.coursera.org/learn/negotiation-skills/outline'), ('initial_referrer_url', 'https://www.coursera.org/courses'), ('browser_language', 'en-US,en;q=0.8'), ('course_id', 'v0l76HmGEeSi3yIACzSGcw'), ('country_cd', 'CA'), ('region_cd', 'AB'), ('timezone', 'America/Edmonton'), ('os', 'Windows 8.1'), ('browser', 'Chrome'), ('key', 'pageview'), ('value', '{}')])\n",
      "OrderedDict([('umich_user_id', '70d530b2e677aa82a680b36ba534dbabc884e010'), ('hashed_session_cookie_id', '85bf1f93b06602d828147c5b2ffabb066e63c4b1'), ('server_timestamp', 'Thu Jan 01 03:11:51 EST 2015'), ('hashed_ip', 'de1eb574eb369304d79f0950be875ffd8762bfdc'), ('user_agent', 'Mozilla/5.0 (Windows NT 6.3; WOW64; rv:34.0) Gecko/20100101 Firefox/34.0'), ('url', 'https://www.coursera.org/learn/negotiation-skills/supplement/1bv5B/checklist-of-ethical-standards-and-guidelines'), ('initial_referrer_url', 'https://www.google.com/url?sa=t&rct=j&q=&esrc=s&source=web&cd=1&ved=0CCAQFjAA&url=https%3A%2F%2Fwww.coursera.org%2F&ei=gXOHVIKtMI-byASzjIHQBA&usg=AFQjCNEAm-45Muq_nX5INW96szY5GEJGUg&sig2=7L7HbTyEjgsz0B23OVxOvQ&bvm=bv.81449611,d.aWw'), ('browser_language', 'zh-cn,zh;q=0.8,en-us;q=0.5,en;q=0.3'), ('course_id', 'v0l76HmGEeSi3yIACzSGcw'), ('country_cd', 'US'), ('region_cd', 'IL'), ('timezone', 'America/Chicago'), ('os', 'Windows 8.1'), ('browser', 'Firefox'), ('key', 'pageview'), ('value', '{}')])\n",
      "OrderedDict([('umich_user_id', '70d530b2e677aa82a680b36ba534dbabc884e010'), ('hashed_session_cookie_id', '85bf1f93b06602d828147c5b2ffabb066e63c4b1'), ('server_timestamp', 'Thu Jan 01 03:12:06 EST 2015'), ('hashed_ip', 'de1eb574eb369304d79f0950be875ffd8762bfdc'), ('user_agent', 'Mozilla/5.0 (Windows NT 6.3; WOW64; rv:34.0) Gecko/20100101 Firefox/34.0'), ('url', 'https://www.coursera.org/learn/negotiation-skills/outline'), ('initial_referrer_url', 'https://www.google.com/url?sa=t&rct=j&q=&esrc=s&source=web&cd=1&ved=0CCAQFjAA&url=https%3A%2F%2Fwww.coursera.org%2F&ei=gXOHVIKtMI-byASzjIHQBA&usg=AFQjCNEAm-45Muq_nX5INW96szY5GEJGUg&sig2=7L7HbTyEjgsz0B23OVxOvQ&bvm=bv.81449611,d.aWw'), ('browser_language', 'zh-cn,zh;q=0.8,en-us;q=0.5,en;q=0.3'), ('course_id', 'v0l76HmGEeSi3yIACzSGcw'), ('country_cd', 'US'), ('region_cd', 'IL'), ('timezone', 'America/Chicago'), ('os', 'Windows 8.1'), ('browser', 'Firefox'), ('key', 'pageview'), ('value', '{}')])\n",
      "OrderedDict([('umich_user_id', '1066a697903937dcb2bba46698b65c9067602b13'), ('hashed_session_cookie_id', '9431b24e18b18ea6b5aea81920abd33fb9ce55ee'), ('server_timestamp', 'Thu Jan 01 03:12:08 EST 2015'), ('hashed_ip', '65bd9edcd8e0e83778c61d2af5290be4cff9a4bc'), ('user_agent', 'Mozilla/5.0 (Windows NT 6.1; WOW64; rv:34.0) Gecko/20100101 Firefox/34.0'), ('url', 'https://www.coursera.org/learn/negotiation-skills/lecture/w2y9F/arbitration'), ('initial_referrer_url', ''), ('browser_language', 'en-US,en;q=0.5'), ('course_id', 'v0l76HmGEeSi3yIACzSGcw'), ('country_cd', 'US'), ('region_cd', 'TX'), ('timezone', 'America/Chicago'), ('os', 'Windows 7'), ('browser', 'Firefox'), ('key', 'pageview'), ('value', '{}')])\n",
      "OrderedDict([('umich_user_id', '95b5bdb0c8007d9deb2adfdbc585300ca4346b9f'), ('hashed_session_cookie_id', '180f89f7d0a6277dde30d3f1805e57745e8521bb'), ('server_timestamp', 'Thu Jan 01 03:12:45 EST 2015'), ('hashed_ip', '076ef764c4a83b53ca88f01e31b711b5e108cfd4'), ('user_agent', 'Mozilla/5.0 (Windows NT 6.3; WOW64) AppleWebKit/537.36 (KHTML, like Gecko) Chrome/39.0.2171.95 Safari/537.36'), ('url', 'https://www.coursera.org/learn/insidetheinternet/lecture/EFUNt/the-domain-name-system'), ('initial_referrer_url', 'https://www.google.com/'), ('browser_language', 'en-US,en;q=0.8'), ('course_id', '2UHGXkNtEeSfwCIACxeXRw'), ('country_cd', 'US'), ('region_cd', 'CA'), ('timezone', 'America/Los_Angeles'), ('os', 'Windows 8.1'), ('browser', 'Chrome'), ('key', 'pageview'), ('value', '{}')])\n",
      "OrderedDict([('umich_user_id', 'bb116a9af763fa2f53139c1dfa851c760a667169'), ('hashed_session_cookie_id', '7ddb832b815685736d5ae2f9c7643f17aebe7182'), ('server_timestamp', 'Thu Jan 01 03:13:19 EST 2015'), ('hashed_ip', '7708a07814cdec58094b42408fabcad34800869b'), ('user_agent', 'Mozilla/5.0 (Windows NT 6.1; WOW64) AppleWebKit/537.36 (KHTML, like Gecko) Chrome/39.0.2171.95 Safari/537.36'), ('url', 'https://www.coursera.org/learn/negotiation-skills/outline'), ('initial_referrer_url', 'https://www.google.de/'), ('browser_language', 'de-DE,de;q=0.8,en-US;q=0.6,en;q=0.4'), ('course_id', 'v0l76HmGEeSi3yIACzSGcw'), ('country_cd', 'DE'), ('region_cd', 'HE'), ('timezone', 'Europe/Berlin'), ('os', 'Windows 7'), ('browser', 'Chrome'), ('key', 'pageview'), ('value', '{}')])\n",
      "OrderedDict([('umich_user_id', 'f9fe5547b353ab80baf63dbfd586d691bf8d3826'), ('hashed_session_cookie_id', '86b3e78c06b7744ad022d2e2f5f3b486e189a20c'), ('server_timestamp', 'Thu Jan 01 03:13:37 EST 2015'), ('hashed_ip', '09616913a0539fb66d76043556590d27d0e4d415'), ('user_agent', 'Mozilla/5.0 (iPad; CPU OS 8_1_2 like Mac OS X) AppleWebKit/536.26 (KHTML, like Gecko) GSA/3.1.0.23513 Mobile/12B440 Safari/8536.25'), ('url', 'https://www.coursera.org/learn/negotiation-skills/lecture/UsCPE/negotiation-debrief-psychological-tools'), ('initial_referrer_url', 'http://www.google.com/'), ('browser_language', 'en-US,en'), ('course_id', 'v0l76HmGEeSi3yIACzSGcw'), ('country_cd', 'CN'), ('region_cd', '44'), ('timezone', 'Asia/Shanghai'), ('os', 'iOS'), ('browser', 'Mobile Safari'), ('key', 'pageview'), ('value', '{}')])\n",
      "OrderedDict([('umich_user_id', '2ec5a8127aee5cb07eaa35ca3abc03d3c4179171'), ('hashed_session_cookie_id', '7c73da7b3f4e620ee3e39424f070d1f23c19fd17'), ('server_timestamp', 'Thu Jan 01 03:14:44 EST 2015'), ('hashed_ip', '7c6f62d582e5c01e264df90fff24f7ab90c32496'), ('user_agent', 'Mozilla/5.0 (Windows NT 6.2; WOW64; rv:34.0) Gecko/20100101 Firefox/34.0'), ('url', 'https://www.coursera.org/learn/negotiation-skills'), ('initial_referrer_url', ''), ('browser_language', 'en-US,en;q=0.5'), ('course_id', 'v0l76HmGEeSi3yIACzSGcw'), ('country_cd', 'JM'), ('region_cd', '01'), ('timezone', 'America/Jamaica'), ('os', 'Windows 8'), ('browser', 'Firefox'), ('key', 'pageview'), ('value', '{}')])\n",
      "OrderedDict([('umich_user_id', '2ec5a8127aee5cb07eaa35ca3abc03d3c4179171'), ('hashed_session_cookie_id', '7c73da7b3f4e620ee3e39424f070d1f23c19fd17'), ('server_timestamp', 'Thu Jan 01 03:15:22 EST 2015'), ('hashed_ip', '7c6f62d582e5c01e264df90fff24f7ab90c32496'), ('user_agent', 'Mozilla/5.0 (Windows NT 6.2; WOW64; rv:34.0) Gecko/20100101 Firefox/34.0'), ('url', 'https://www.coursera.org/learn/negotiation-skills/outline'), ('initial_referrer_url', ''), ('browser_language', 'en-US,en;q=0.5'), ('course_id', 'v0l76HmGEeSi3yIACzSGcw'), ('country_cd', 'JM'), ('region_cd', '01'), ('timezone', 'America/Jamaica'), ('os', 'Windows 8'), ('browser', 'Firefox'), ('key', 'pageview'), ('value', '{}')])\n",
      "OrderedDict([('umich_user_id', 'e271b54251df988396ca1e32076867dd4ba78ff0'), ('hashed_session_cookie_id', '995c2bf6d36d8c8bf1822591baabc306b2489d7e'), ('server_timestamp', 'Thu Jan 01 03:15:28 EST 2015'), ('hashed_ip', '6b4b0b75d14f39fcf984869a2aacb471575d9dc4'), ('user_agent', 'Mozilla/5.0 (Windows NT 6.1; WOW64; rv:34.0) Gecko/20100101 Firefox/34.0'), ('url', 'https://www.coursera.org/learn/negotiation-skills/lecture/yoMMQ/using-decision-trees-to-complete-your-batna-analysis'), ('initial_referrer_url', 'http://sputnikipogrom.com/science/26955/scientific-breakthrough-of-2014'), ('browser_language', 'en-US,en;q=0.5'), ('course_id', 'v0l76HmGEeSi3yIACzSGcw'), ('country_cd', 'JP'), ('region_cd', '13'), ('timezone', 'Asia/Tokyo'), ('os', 'Windows 7'), ('browser', 'Firefox'), ('key', 'pageview'), ('value', '{}')])\n",
      "OrderedDict([('umich_user_id', '782769c43c43978564e030eedc6be9cd2ed6e304'), ('hashed_session_cookie_id', '534c0fb67b85f11cd69ca7561aeb476c6f3a53bf'), ('server_timestamp', 'Thu Jan 01 03:15:31 EST 2015'), ('hashed_ip', 'a6e1282d022e02cfa125f260cfc22ec82ed2c863'), ('user_agent', 'Mozilla/5.0 (Macintosh; Intel Mac OS X 10_9_5) AppleWebKit/600.2.5 (KHTML, like Gecko) Version/7.1.2 Safari/537.85.11'), ('url', 'https://www.coursera.org/learn/negotiation-skills/lecture/NSKIZ/negotiation-debrief-planning-for-negotiation-conclusion'), ('initial_referrer_url', 'https://www.google.com.au/url?sa=t&rct=j&q=&esrc=s&source=web&cd=1&ved=0CCkQFjAA&url=https%3A%2F%2Fwww.coursera.org%2F&ei=bcPjUpfTN46Tigfh3oGAAw&usg=AFQjCNEAm-45Muq_nX5INW96szY5GEJGUg&bvm=bv.59930103,d.aGc'), ('browser_language', 'en-us'), ('course_id', 'v0l76HmGEeSi3yIACzSGcw'), ('country_cd', 'AU'), ('region_cd', 'QLD'), ('timezone', 'Australia/Brisbane'), ('os', 'Mac OS X'), ('browser', 'Safari'), ('key', 'pageview'), ('value', '{}')])\n",
      "OrderedDict([('umich_user_id', '32b73c34b1f858c72bfdb95114891bcc90f6856d'), ('hashed_session_cookie_id', '24cc88336a3001ccf50873a464ae952d57732a13'), ('server_timestamp', 'Thu Jan 01 03:16:39 EST 2015'), ('hashed_ip', 'f1d20373f4556a0b7f5964feac133bf6e3b7ce64'), ('user_agent', 'Mozilla/5.0 (iPad; CPU OS 7_0_6 like Mac OS X) AppleWebKit/537.51.1 (KHTML, like Gecko) Version/7.0 Mobile/11B651 Safari/9537.53'), ('url', 'https://www.coursera.org/learn/negotiation-skills/lecture/yzGYu/analyzing-the-negotiation'), ('initial_referrer_url', 'https://www.google.com/'), ('browser_language', 'zh-cn'), ('course_id', 'v0l76HmGEeSi3yIACzSGcw'), ('country_cd', 'US'), ('region_cd', 'MI'), ('timezone', 'America/Detroit'), ('os', 'iOS'), ('browser', 'Mobile Safari'), ('key', 'pageview'), ('value', '{}')])\n",
      "OrderedDict([('umich_user_id', 'e4f952f0d86e23b93f89af96eb7b92ab5354b281'), ('hashed_session_cookie_id', '13e7352214c0b6492f6d96e368a0627c5474db7e'), ('server_timestamp', 'Thu Jan 01 03:10:31 EST 2015'), ('hashed_ip', '3018b01256be7f1b4f3fc7e477ee225028da23d5'), ('user_agent', 'Mozilla/5.0 (Windows NT 6.3; WOW64) AppleWebKit/537.36 (KHTML, like Gecko) Chrome/35.0.1916.114 Safari/537.36'), ('url', 'https://www.coursera.org/learn/negotiation-skills/outline'), ('initial_referrer_url', 'https://www.coursera.org/courses'), ('browser_language', 'en-US,en;q=0.8'), ('course_id', 'v0l76HmGEeSi3yIACzSGcw'), ('country_cd', 'CA'), ('region_cd', 'AB'), ('timezone', 'America/Edmonton'), ('os', 'Windows 8.1'), ('browser', 'Chrome'), ('key', 'pageview'), ('value', '{}')])\n",
      "OrderedDict([('umich_user_id', '92a9df503fa2657333a42331ebd41fdb72b81ab6'), ('hashed_session_cookie_id', '517381338e18ea883d22efd94b92cc17e04df632'), ('server_timestamp', 'Thu Jan 01 03:10:39 EST 2015'), ('hashed_ip', 'ca9128fa3a04e681d40bfecda2d3c20cb8320c55'), ('user_agent', 'Mozilla/5.0 (Windows NT 6.3; WOW64) AppleWebKit/537.36 (KHTML, like Gecko) Chrome/39.0.2171.95 Safari/537.36'), ('url', 'https://www.coursera.org/learn/negotiation-skills/lecture/o4ajG/should-i-negotiate'), ('initial_referrer_url', ''), ('browser_language', 'en-US,en;q=0.8'), ('course_id', 'v0l76HmGEeSi3yIACzSGcw'), ('country_cd', 'LB'), ('region_cd', ''), ('timezone', 'Asia/Beirut'), ('os', 'Windows 8.1'), ('browser', 'Chrome'), ('key', 'pageview'), ('value', '{}')])\n",
      "OrderedDict([('umich_user_id', 'e4f952f0d86e23b93f89af96eb7b92ab5354b281'), ('hashed_session_cookie_id', '13e7352214c0b6492f6d96e368a0627c5474db7e'), ('server_timestamp', 'Thu Jan 01 03:11:12 EST 2015'), ('hashed_ip', '3018b01256be7f1b4f3fc7e477ee225028da23d5'), ('user_agent', 'Mozilla/5.0 (Windows NT 6.3; WOW64) AppleWebKit/537.36 (KHTML, like Gecko) Chrome/35.0.1916.114 Safari/537.36'), ('url', 'https://www.coursera.org/learn/negotiation-skills/lecture/xaCpq/a-position-based-or-interest-based-negotiation'), ('initial_referrer_url', 'https://www.coursera.org/courses'), ('browser_language', 'en-US,en;q=0.8'), ('course_id', 'v0l76HmGEeSi3yIACzSGcw'), ('country_cd', 'CA'), ('region_cd', 'AB'), ('timezone', 'America/Edmonton'), ('os', 'Windows 8.1'), ('browser', 'Chrome'), ('key', 'pageview'), ('value', '{}')])\n",
      "OrderedDict([('umich_user_id', '70d530b2e677aa82a680b36ba534dbabc884e010'), ('hashed_session_cookie_id', '85bf1f93b06602d828147c5b2ffabb066e63c4b1'), ('server_timestamp', 'Thu Jan 01 03:11:35 EST 2015'), ('hashed_ip', 'de1eb574eb369304d79f0950be875ffd8762bfdc'), ('user_agent', 'Mozilla/5.0 (Windows NT 6.3; WOW64; rv:34.0) Gecko/20100101 Firefox/34.0'), ('url', 'https://www.coursera.org/learn/negotiation-skills/supplement/vv331/about-the-course'), ('initial_referrer_url', 'https://www.google.com/url?sa=t&rct=j&q=&esrc=s&source=web&cd=1&ved=0CCAQFjAA&url=https%3A%2F%2Fwww.coursera.org%2F&ei=gXOHVIKtMI-byASzjIHQBA&usg=AFQjCNEAm-45Muq_nX5INW96szY5GEJGUg&sig2=7L7HbTyEjgsz0B23OVxOvQ&bvm=bv.81449611,d.aWw'), ('browser_language', 'zh-cn,zh;q=0.8,en-us;q=0.5,en;q=0.3'), ('course_id', 'v0l76HmGEeSi3yIACzSGcw'), ('country_cd', 'US'), ('region_cd', 'IL'), ('timezone', 'America/Chicago'), ('os', 'Windows 8.1'), ('browser', 'Firefox'), ('key', 'pageview'), ('value', '{}')])\n",
      "OrderedDict([('umich_user_id', '1066a697903937dcb2bba46698b65c9067602b13'), ('hashed_session_cookie_id', '9431b24e18b18ea6b5aea81920abd33fb9ce55ee'), ('server_timestamp', 'Thu Jan 01 03:11:58 EST 2015'), ('hashed_ip', '65bd9edcd8e0e83778c61d2af5290be4cff9a4bc'), ('user_agent', 'Mozilla/5.0 (Windows NT 6.1; WOW64; rv:34.0) Gecko/20100101 Firefox/34.0'), ('url', 'https://www.coursera.org/learn/negotiation-skills/lecture/w2y9F/arbitration'), ('initial_referrer_url', ''), ('browser_language', 'en-US,en;q=0.5'), ('course_id', 'v0l76HmGEeSi3yIACzSGcw'), ('country_cd', 'US'), ('region_cd', 'TX'), ('timezone', 'America/Chicago'), ('os', 'Windows 7'), ('browser', 'Firefox'), ('key', 'pageview'), ('value', '{}')])\n",
      "OrderedDict([('umich_user_id', '17c1eed00cc46d9dfe62d95570d1b8e8846d5239'), ('hashed_session_cookie_id', '2285f0a0087920291134f157ae2b000ba64b393a'), ('server_timestamp', 'Thu Jan 01 03:12:42 EST 2015'), ('hashed_ip', 'd50dfc3839f658097a7a2b249ca9576efeb68c85'), ('user_agent', 'Mozilla/5.0 (Windows NT 6.1; WOW64) AppleWebKit/537.36 (KHTML, like Gecko) Chrome/39.0.2171.95 Safari/537.36 OPR/26.0.1656.60'), ('url', 'https://www.coursera.org/learn/negotiation-skills/lecture/yoMMQ/using-decision-trees-to-complete-your-batna-analysis'), ('initial_referrer_url', ''), ('browser_language', 'ru-RU,ru;q=0.8,en-US;q=0.6,en;q=0.4'), ('course_id', 'v0l76HmGEeSi3yIACzSGcw'), ('country_cd', 'BY'), ('region_cd', 'HM'), ('timezone', 'Europe/Minsk'), ('os', 'Windows 7'), ('browser', 'Opera'), ('key', 'pageview'), ('value', '{}')])\n",
      "OrderedDict([('umich_user_id', 'bb116a9af763fa2f53139c1dfa851c760a667169'), ('hashed_session_cookie_id', '7ddb832b815685736d5ae2f9c7643f17aebe7182'), ('server_timestamp', 'Thu Jan 01 03:13:22 EST 2015'), ('hashed_ip', '7708a07814cdec58094b42408fabcad34800869b'), ('user_agent', 'Mozilla/5.0 (Windows NT 6.1; WOW64) AppleWebKit/537.36 (KHTML, like Gecko) Chrome/39.0.2171.95 Safari/537.36'), ('url', 'https://www.coursera.org/learn/negotiation-skills/lecture/ERoTz/psychological-tools-reciprocation-contrast-principle-and-big-picture-perspective'), ('initial_referrer_url', 'https://www.google.de/'), ('browser_language', 'de-DE,de;q=0.8,en-US;q=0.6,en;q=0.4'), ('course_id', 'v0l76HmGEeSi3yIACzSGcw'), ('country_cd', 'DE'), ('region_cd', 'HE'), ('timezone', 'Europe/Berlin'), ('os', 'Windows 7'), ('browser', 'Chrome'), ('key', 'pageview'), ('value', '{}')])\n",
      "OrderedDict([('umich_user_id', '5ea1e0b32644f577a0f9f08f43d793a7f8c864ef'), ('hashed_session_cookie_id', '2448920bcb6e09febf42be2aed0e21403dc6d341'), ('server_timestamp', 'Thu Jan 01 03:13:34 EST 2015'), ('hashed_ip', 'b27d72b10cfe5f6a0500149e4ab4e5e9196d2725'), ('user_agent', 'Mozilla/5.0 (Windows NT 5.1) AppleWebKit/537.36 (KHTML, like Gecko) Chrome/39.0.2171.95 Safari/537.36'), ('url', 'https://www.coursera.org/learn/negotiation-skills/supplement/Q04MT/developing-your-negotiating-power'), ('initial_referrer_url', 'https://www.google.com/'), ('browser_language', 'en-US,en;q=0.8'), ('course_id', 'v0l76HmGEeSi3yIACzSGcw'), ('country_cd', 'US'), ('region_cd', 'OR'), ('timezone', 'America/Los_Angeles'), ('os', 'Windows XP'), ('browser', 'Chrome'), ('key', 'pageview'), ('value', '{}')])\n",
      "OrderedDict([('umich_user_id', '5ea1e0b32644f577a0f9f08f43d793a7f8c864ef'), ('hashed_session_cookie_id', '2448920bcb6e09febf42be2aed0e21403dc6d341'), ('server_timestamp', 'Thu Jan 01 03:13:36 EST 2015'), ('hashed_ip', 'b27d72b10cfe5f6a0500149e4ab4e5e9196d2725'), ('user_agent', 'Mozilla/5.0 (Windows NT 5.1) AppleWebKit/537.36 (KHTML, like Gecko) Chrome/39.0.2171.95 Safari/537.36'), ('url', 'https://www.coursera.org/learn/negotiation-skills/lecture/KKMyw/getting-to-know-the-other-side'), ('initial_referrer_url', 'https://www.google.com/'), ('browser_language', 'en-US,en;q=0.8'), ('course_id', 'v0l76HmGEeSi3yIACzSGcw'), ('country_cd', 'US'), ('region_cd', 'OR'), ('timezone', 'America/Los_Angeles'), ('os', 'Windows XP'), ('browser', 'Chrome'), ('key', 'pageview'), ('value', '{}')])\n",
      "OrderedDict([('umich_user_id', '02b921627914e08b888160fafef88ab27dc9338c'), ('hashed_session_cookie_id', '16fd08976714a28c8b9a311b971ab8d032ad34b3'), ('server_timestamp', 'Thu Jan 01 03:13:44 EST 2015'), ('hashed_ip', '6634e0e08f528c75ee6b7f5fb50e129fbc9707d5'), ('user_agent', 'Mozilla/5.0 (Windows NT 6.1; WOW64) AppleWebKit/537.36 (KHTML, like Gecko) Chrome/39.0.2171.95 Safari/537.36'), ('url', 'https://www.coursera.org/learn/insidetheinternet/lecture/BMfdW/brendan-eich-inventor-of-javascript'), ('initial_referrer_url', ''), ('browser_language', 'en-US,en;q=0.8'), ('course_id', '2UHGXkNtEeSfwCIACxeXRw'), ('country_cd', 'US'), ('region_cd', 'CA'), ('timezone', 'America/Los_Angeles'), ('os', 'Windows 7'), ('browser', 'Chrome'), ('key', 'pageview'), ('value', '{}')])\n",
      "OrderedDict([('umich_user_id', 'fc4d9f2f92b758747eb2009b966ba95a51d67b30'), ('hashed_session_cookie_id', 'ebefdfb28631be26a5847d2d9a7d40572435c708'), ('server_timestamp', 'Thu Jan 01 03:15:14 EST 2015'), ('hashed_ip', 'bdbb7a363541c407e7ca84a0f2f6f5cc5e1cf025'), ('user_agent', 'Mozilla/5.0 (Windows NT 6.1) AppleWebKit/537.36 (KHTML, like Gecko) Maxthon/4.4.3.4000 Chrome/30.0.1599.101 Safari/537.36'), ('url', 'https://www.coursera.org/learn/negotiation-skills/lecture/vItZ3/introduction-to-the-university-of-michigan'), ('initial_referrer_url', ''), ('browser_language', 'en-US'), ('course_id', 'v0l76HmGEeSi3yIACzSGcw'), ('country_cd', 'IQ'), ('region_cd', ''), ('timezone', 'Asia/Baghdad'), ('os', 'Windows 7'), ('browser', 'Maxthon'), ('key', 'pageview'), ('value', '{}')])\n",
      "OrderedDict([('umich_user_id', '6dc77e5d88674d7358f7a6f4fb40323a150d5b19'), ('hashed_session_cookie_id', 'c055b9f6461b606aa4a7cb7509e654febe1e24dc'), ('server_timestamp', 'Thu Jan 01 03:15:38 EST 2015'), ('hashed_ip', '9610df05237e09498fc5799ec0266dc4b76292e6'), ('user_agent', 'Mozilla/5.0 (X11; Ubuntu; Linux x86_64; rv:34.0) Gecko/20100101 Firefox/34.0'), ('url', 'https://www.coursera.org/learn/insidetheinternet/lecture/bF2dU/post-war-computing-and-communication'), ('initial_referrer_url', 'https://www.google.com/url?sa=t&rct=j&q=&esrc=s&source=web&cd=1&ved=0CCEQFjAA&url=https%3A%2F%2Fwww.coursera.org%2F&ei=AX6kVPb6M8WpgwT8s4DoBQ&usg=AFQjCNEAm-45Muq_nX5INW96szY5GEJGUg&sig2=LOD3iDX5yPHjZjxSs1-fpQ&bvm=bv.82001339,d.eXY'), ('browser_language', 'en-US,en;q=0.5'), ('course_id', '2UHGXkNtEeSfwCIACxeXRw'), ('country_cd', 'US'), ('region_cd', 'TX'), ('timezone', 'America/Chicago'), ('os', 'Ubuntu'), ('browser', 'Firefox'), ('key', 'pageview'), ('value', '{}')])\n",
      "OrderedDict([('umich_user_id', '5450de1c9e1874d613a9649a39352a10313a3b8f'), ('hashed_session_cookie_id', 'd136ec74794fa1f8897f065b2377c891d18baa0b'), ('server_timestamp', 'Thu Jan 01 03:15:40 EST 2015'), ('hashed_ip', '70fc3eb2f8ee1362c902a16875aa95ee1d7e8311'), ('user_agent', 'Mozilla/5.0 (X11; Linux x86_64) AppleWebKit/534.24 (KHTML, like Gecko) Chrome/11.0.696.34 Safari/534.24'), ('url', 'https://www.coursera.org/learn/negotiation-skills/lecture/el26b/a-dispute-resolution-or-deal-making-negotiation'), ('initial_referrer_url', ''), ('browser_language', 'it-IT, en-US'), ('course_id', 'v0l76HmGEeSi3yIACzSGcw'), ('country_cd', 'IT'), ('region_cd', 'GE'), ('timezone', 'Europe/Rome'), ('os', 'Linux'), ('browser', 'Chrome'), ('key', 'pageview'), ('value', '{}')])\n",
      "OrderedDict([('umich_user_id', '6bcf7e85ae9729ca950c0397c8e3e940d58c2cdf'), ('hashed_session_cookie_id', '84e60e1d375cce8ccfe2de1c467c0350c5f2e6e1'), ('server_timestamp', 'Thu Jan 01 03:16:19 EST 2015'), ('hashed_ip', '037b9b13bb0baeb3eb49da94a3b2e0796a32ce9e'), ('user_agent', 'Mozilla/5.0 (Windows NT 6.3; WOW64) AppleWebKit/537.36 (KHTML, like Gecko) Chrome/39.0.2171.95 Safari/537.36'), ('url', 'https://www.coursera.org/learn/negotiation-skills/lecture/75Tqz/your-batna-in-a-dispute-resolution-negotiation'), ('initial_referrer_url', ''), ('browser_language', 'ja,en-US;q=0.8,en;q=0.6'), ('course_id', 'v0l76HmGEeSi3yIACzSGcw'), ('country_cd', 'JP'), ('region_cd', '13'), ('timezone', 'Asia/Tokyo'), ('os', 'Windows 8.1'), ('browser', 'Chrome'), ('key', 'pageview'), ('value', '{}')])\n",
      "OrderedDict([('umich_user_id', '7fe732fdcf374ef1ea747a19e1eb28478c6ad656'), ('hashed_session_cookie_id', 'fd224a925d745145f025929b0ae8cffd4b526034'), ('server_timestamp', 'Thu Jan 01 03:17:07 EST 2015'), ('hashed_ip', '88cf42327ab209049617aa3fed8f8180106ef333'), ('user_agent', 'Mozilla/5.0 (Windows NT 6.3; WOW64) AppleWebKit/537.36 (KHTML, like Gecko) Chrome/39.0.2171.95 Safari/537.36'), ('url', 'https://www.coursera.org/learn/insidetheinternet/lecture/fmBMA/history-through-nsfnet'), ('initial_referrer_url', 'https://www.google.com/'), ('browser_language', 'en-US,en;q=0.8'), ('course_id', '2UHGXkNtEeSfwCIACxeXRw'), ('country_cd', 'US'), ('region_cd', 'MN'), ('timezone', 'America/Chicago'), ('os', 'Windows 8.1'), ('browser', 'Chrome'), ('key', 'pageview'), ('value', '{}')])\n",
      "OrderedDict([('umich_user_id', 'c652fdea90bf6770420eb55236382b5353b347e6'), ('hashed_session_cookie_id', '83be29373983a06d43b27717193329fa26cfeee1'), ('server_timestamp', 'Thu Jan 01 03:17:10 EST 2015'), ('hashed_ip', '4a986e78bd240adc57811f3bc334dc55fb92967a'), ('user_agent', 'Mozilla/5.0 (X11; Linux x86_64) AppleWebKit/537.36 (KHTML, like Gecko) Chrome/39.0.2171.95 Safari/537.36'), ('url', 'https://www.coursera.org/learn/negotiation-skills'), ('initial_referrer_url', ''), ('browser_language', 'en-US,en;q=0.8'), ('course_id', 'v0l76HmGEeSi3yIACzSGcw'), ('country_cd', 'US'), ('region_cd', 'CA'), ('timezone', 'America/Los_Angeles'), ('os', 'Linux'), ('browser', 'Chrome'), ('key', 'pageview'), ('value', '{}')])\n",
      "OrderedDict([('umich_user_id', '386a04196edf58eb3c6cd05e391b4b709ae9f42f'), ('hashed_session_cookie_id', 'a3bf32e63dd62b37c3fb987de0945b36c63be022'), ('server_timestamp', 'Thu Jan 01 03:17:14 EST 2015'), ('hashed_ip', '1b83e10f671d4ab1eaca4a0985e826804aa809b6'), ('user_agent', 'Mozilla/5.0 (Macintosh; Intel Mac OS X 10_10_1) AppleWebKit/600.2.5 (KHTML, like Gecko) Version/8.0.2 Safari/600.2.5'), ('url', 'https://www.coursera.org/learn/insidetheinternet/lecture/tNMDL/using-the-michigan-terminal-system-through-6-00'), ('initial_referrer_url', 'https://www.google.ca/url?sa=t&rct=j&q=&esrc=s&source=web&cd=1&ved=0CD0QFjAA&url=https%3A%2F%2Fwww.coursera.org%2F&ei=JjOcVLnpMJa2yASDkIKQCQ&usg=AFQjCNEAm-45Muq_nX5INW96szY5GEJGUg&bvm=bv.82001339,d.aWw'), ('browser_language', 'en-us'), ('course_id', '2UHGXkNtEeSfwCIACxeXRw'), ('country_cd', 'CA'), ('region_cd', 'NB'), ('timezone', 'America/Moncton'), ('os', 'Mac OS X'), ('browser', 'Safari'), ('key', 'pageview'), ('value', '{}')])\n",
      "OrderedDict([('umich_user_id', '386a04196edf58eb3c6cd05e391b4b709ae9f42f'), ('hashed_session_cookie_id', 'a3bf32e63dd62b37c3fb987de0945b36c63be022'), ('server_timestamp', 'Thu Jan 01 03:17:23 EST 2015'), ('hashed_ip', '1b83e10f671d4ab1eaca4a0985e826804aa809b6'), ('user_agent', 'Mozilla/5.0 (Macintosh; Intel Mac OS X 10_10_1) AppleWebKit/600.2.5 (KHTML, like Gecko) Version/8.0.2 Safari/600.2.5'), ('url', 'https://www.coursera.org/learn/insidetheinternet/outline'), ('initial_referrer_url', 'https://www.google.ca/url?sa=t&rct=j&q=&esrc=s&source=web&cd=1&ved=0CD0QFjAA&url=https%3A%2F%2Fwww.coursera.org%2F&ei=JjOcVLnpMJa2yASDkIKQCQ&usg=AFQjCNEAm-45Muq_nX5INW96szY5GEJGUg&bvm=bv.82001339,d.aWw'), ('browser_language', 'en-us'), ('course_id', '2UHGXkNtEeSfwCIACxeXRw'), ('country_cd', 'CA'), ('region_cd', 'NB'), ('timezone', 'America/Moncton'), ('os', 'Mac OS X'), ('browser', 'Safari'), ('key', 'pageview'), ('value', '{}')])\n",
      "OrderedDict([('umich_user_id', '4ea0a18ab02a30290dda02bdb2da8a7a6a469245'), ('hashed_session_cookie_id', '1e86f379401775771d13576803485e4ae71d6289'), ('server_timestamp', 'Thu Jan 01 03:17:47 EST 2015'), ('hashed_ip', '8795ecd8d6d73a7ae74052696b2d9cf011972f46'), ('user_agent', 'Mozilla/5.0 (Windows NT 6.1; WOW64; rv:34.0) Gecko/20100101 Firefox/34.0'), ('url', 'https://www.coursera.org/learn/insidetheinternet/lecture/ll0J8/bonus-katie-hafner-where-wizards-stay-up-late'), ('initial_referrer_url', 'https://blu179.mail.live.com/?tid=cm-fwr30aJ5BGkjgAcxO2nYA2&fid=flinbox'), ('browser_language', 'en-US,en;q=0.5'), ('course_id', '2UHGXkNtEeSfwCIACxeXRw'), ('country_cd', 'US'), ('region_cd', 'CA'), ('timezone', 'America/Los_Angeles'), ('os', 'Windows 7'), ('browser', 'Firefox'), ('key', 'pageview'), ('value', '{}')])\n",
      "OrderedDict([('umich_user_id', 'bb116a9af763fa2f53139c1dfa851c760a667169'), ('hashed_session_cookie_id', '7ddb832b815685736d5ae2f9c7643f17aebe7182'), ('server_timestamp', 'Thu Jan 01 03:18:20 EST 2015'), ('hashed_ip', '7708a07814cdec58094b42408fabcad34800869b'), ('user_agent', 'Mozilla/5.0 (Windows NT 6.1; WOW64) AppleWebKit/537.36 (KHTML, like Gecko) Chrome/39.0.2171.95 Safari/537.36'), ('url', 'https://www.coursera.org/learn/negotiation-skills/outline?module=yxckJ'), ('initial_referrer_url', 'https://www.google.de/'), ('browser_language', 'de-DE,de;q=0.8,en-US;q=0.6,en;q=0.4'), ('course_id', 'v0l76HmGEeSi3yIACzSGcw'), ('country_cd', 'DE'), ('region_cd', 'HE'), ('timezone', 'Europe/Berlin'), ('os', 'Windows 7'), ('browser', 'Chrome'), ('key', 'pageview'), ('value', '{}')])\n",
      "OrderedDict([('umich_user_id', 'ac0f295a5dfc41c87aa8f4865d35b0d00124fc19'), ('hashed_session_cookie_id', '9a2f0c129a93a10bc9151617f55675998bf13fc1'), ('server_timestamp', 'Thu Jan 01 03:18:22 EST 2015'), ('hashed_ip', 'be71d193d077b708402437fcae9736419e2f5f13'), ('user_agent', 'Mozilla/5.0 (Macintosh; Intel Mac OS X 10_9_5) AppleWebKit/600.1.17 (KHTML, like Gecko) Version/7.1 Safari/537.85.10'), ('url', 'https://www.coursera.org/learn/negotiation-skills/lecture/SUsyN/psychological-tools-anchoring'), ('initial_referrer_url', 'https://uk-mg5.mail.yahoo.com/neo/launch?retry_ssl=1'), ('browser_language', 'en-us'), ('course_id', 'v0l76HmGEeSi3yIACzSGcw'), ('country_cd', 'GD'), ('region_cd', ''), ('timezone', 'America/Grenada'), ('os', 'Mac OS X'), ('browser', 'Safari'), ('key', 'pageview'), ('value', '{}')])\n",
      "OrderedDict([('umich_user_id', '152b5f9c93e7b076b88f235b8581b9945f77c2e8'), ('hashed_session_cookie_id', '8b8f69d5e541cf6147bc971ad60f9ac51e9a17d5'), ('server_timestamp', 'Thu Jan 01 03:18:53 EST 2015'), ('hashed_ip', '37f1a8d093fb0f1d1306172aee0825040ac25921'), ('user_agent', 'Mozilla/5.0 (Macintosh; Intel Mac OS X 10_10_1) AppleWebKit/600.2.5 (KHTML, like Gecko) Version/8.0.2 Safari/600.2.5'), ('url', 'https://www.coursera.org/learn/insidetheinternet/lecture/JPGKf/the-internetwork-ip'), ('initial_referrer_url', ''), ('browser_language', 'en-us'), ('course_id', '2UHGXkNtEeSfwCIACxeXRw'), ('country_cd', 'US'), ('region_cd', 'OR'), ('timezone', 'America/Los_Angeles'), ('os', 'Mac OS X'), ('browser', 'Safari'), ('key', 'pageview'), ('value', '{}')])\n",
      "OrderedDict([('umich_user_id', '152b5f9c93e7b076b88f235b8581b9945f77c2e8'), ('hashed_session_cookie_id', '8b8f69d5e541cf6147bc971ad60f9ac51e9a17d5'), ('server_timestamp', 'Thu Jan 01 03:18:58 EST 2015'), ('hashed_ip', '37f1a8d093fb0f1d1306172aee0825040ac25921'), ('user_agent', 'Mozilla/5.0 (Macintosh; Intel Mac OS X 10_10_1) AppleWebKit/600.2.5 (KHTML, like Gecko) Version/8.0.2 Safari/600.2.5'), ('url', 'https://www.coursera.org/learn/insidetheinternet/exam/rZylc/technology-internets-and-packets'), ('initial_referrer_url', ''), ('browser_language', 'en-us'), ('course_id', '2UHGXkNtEeSfwCIACxeXRw'), ('country_cd', 'US'), ('region_cd', 'OR'), ('timezone', 'America/Los_Angeles'), ('os', 'Mac OS X'), ('browser', 'Safari'), ('key', 'pageview'), ('value', '{}')])\n",
      "OrderedDict([('umich_user_id', '3e09689513e561c8381174b3d25a4ae779211159'), ('hashed_session_cookie_id', '0369fdb7b2b70f63dc904ee1b893715ae9dbe148'), ('server_timestamp', 'Thu Jan 01 03:19:40 EST 2015'), ('hashed_ip', '842d5e218ac94e1b1c50464a6eb283339e6fe400'), ('user_agent', 'Mozilla/5.0 (Windows NT 6.1; WOW64) AppleWebKit/537.36 (KHTML, like Gecko) Chrome/39.0.2171.95 Safari/537.36'), ('url', 'https://www.coursera.org/learn/insidetheinternet/outline'), ('initial_referrer_url', 'https://www.google.com/'), ('browser_language', 'en-US,en;q=0.8,es;q=0.6'), ('course_id', '2UHGXkNtEeSfwCIACxeXRw'), ('country_cd', 'US'), ('region_cd', 'CA'), ('timezone', 'America/Los_Angeles'), ('os', 'Windows 7'), ('browser', 'Chrome'), ('key', 'pageview'), ('value', '{}')])\n",
      "OrderedDict([('umich_user_id', 'bb116a9af763fa2f53139c1dfa851c760a667169'), ('hashed_session_cookie_id', '7ddb832b815685736d5ae2f9c7643f17aebe7182'), ('server_timestamp', 'Thu Jan 01 03:19:43 EST 2015'), ('hashed_ip', '7708a07814cdec58094b42408fabcad34800869b'), ('user_agent', 'Mozilla/5.0 (Windows NT 6.1; WOW64) AppleWebKit/537.36 (KHTML, like Gecko) Chrome/39.0.2171.95 Safari/537.36'), ('url', 'https://www.coursera.org/learn/negotiation-skills/lecture/c5G27/business-vs-legal-objectives-in-contracting'), ('initial_referrer_url', 'https://www.google.de/'), ('browser_language', 'de-DE,de;q=0.8,en-US;q=0.6,en;q=0.4'), ('course_id', 'v0l76HmGEeSi3yIACzSGcw'), ('country_cd', 'DE'), ('region_cd', 'HE'), ('timezone', 'Europe/Berlin'), ('os', 'Windows 7'), ('browser', 'Chrome'), ('key', 'pageview'), ('value', '{}')])\n",
      "United States of America 44\n",
      "Canada 10\n",
      "Germany 8\n",
      "French Polynesia 5\n",
      "Belarus 5\n"
     ]
    }
   ],
   "source": [
    "country_user_data = defaultdict(list) \n",
    "\n",
    "for i in mooc_data:\n",
    "    print(i)\n",
    "    code=(i['country_cd'])\n",
    "    user_id = (i['umich_user_id'])\n",
    "    cookie_id = (i['hashed_session_cookie_id'])\n",
    "    values = (user_id,cookie_id)\n",
    "    country_user_data[code].append(values)\n",
    "    \n",
    "    \n",
    "\n",
    "\n",
    "#Write down the code for the lambda function to sort 'country_user_data' by the number of users from that country.\n",
    "sorted_country_user_data = sorted(country_user_data.items(), key=lambda x:len(x[1]), reverse = True) \n",
    "# print (sorted_country_user_data)\n",
    "                                  \n",
    "# Do not change the following lines of code. \n",
    "# This should output the top 5 countries, along with the number of users from each of those countries.\n",
    "                                  \n",
    "for i in range(5):\n",
    "    print(country_names[sorted_country_user_data[i][0]], len(sorted_country_user_data[i][1]))"
   ]
  },
  {
   "cell_type": "markdown",
   "metadata": {},
   "source": [
    "From this step on, you will be working on ```country_user_data``` data structure.\n",
    "\n",
    "Here, you will need to <b>filter the data so you only have entries from the US (i.e. where COUNTRY_CD is US)</b>. You need to retrieve the number of logs for a user, for each session i.e. which have the same ```hashed_session_cookie_id```.\n",
    "\n",
    "From ```country_user_data``` data structure retrieve the entries from US. Using ```defaultdict``` you should count the number of logs (number of rows) in a session ```hashed_session_cookie_id``` into a new data structure. The number of logs/rows will give you the number of pages the user has viewed in one session."
   ]
  },
  {
   "cell_type": "markdown",
   "metadata": {},
   "source": [
    "<font color=\"magenta\">Modify the following code block so the data structure us_data contains only the entries for people from the US.</font>"
   ]
  },
  {
   "cell_type": "code",
   "execution_count": 50,
   "metadata": {},
   "outputs": [
    {
     "name": "stdout",
     "output_type": "stream",
     "text": [
      "defaultdict(<class 'int'>, {'1f0971d7bd2f12a3c3a85ba8870b0e9d8d2b4515': 2, '1e86f379401775771d13576803485e4ae71d6289': 2, 'c13cb2cdb6e7ebbc4e1e434a29e449e221f3c5d3': 3, 'e0f1598cc697187a9ab35f12562f7ad7ce2dcc2a': 3, '3082f82c66a577f54e3e0ce4f1671047e21b7980': 1, '7de0afe50af895c1263819be547c10c6650e0dbb': 1, 'e14ea3bffc200b2316f2d7d8e6b750c00cbddd50': 1, 'fd224a925d745145f025929b0ae8cffd4b526034': 2, 'd8fe83dbeba4af9b001d3ad8f8aa8940b40e06ce': 6, '9431b24e18b18ea6b5aea81920abd33fb9ce55ee': 4, 'be2995de750dbb6be66de692c494158971d3660b': 1, '269aa6af8470f7c178f15ba9fe201963d71844d9': 1, '5928fa145b3ac755fd12565b6fdeea5746f5fcfa': 1, '91888d8dd66a003b86c29f6558d037227143d5bf': 1, 'f9535cf29cd4615ab9d4d6255daa2856cdb22d2b': 1, '7a7a18ff09da50f0f019dd8e54f00e8e930f0a77': 1, '85bf1f93b06602d828147c5b2ffabb066e63c4b1': 3, '180f89f7d0a6277dde30d3f1805e57745e8521bb': 1, '24cc88336a3001ccf50873a464ae952d57732a13': 1, '2448920bcb6e09febf42be2aed0e21403dc6d341': 2, '16fd08976714a28c8b9a311b971ab8d032ad34b3': 1, 'c055b9f6461b606aa4a7cb7509e654febe1e24dc': 1, '83be29373983a06d43b27717193329fa26cfeee1': 1, '8b8f69d5e541cf6147bc971ad60f9ac51e9a17d5': 2, '0369fdb7b2b70f63dc904ee1b893715ae9dbe148': 1})\n"
     ]
    }
   ],
   "source": [
    "us_data = defaultdict(int) #Change none to the appropriate data structure\n",
    "for row in country_user_data['US']:\n",
    "#     print(row)\n",
    "    us_data[row[1]]+=1\n",
    "print (us_data)\n",
    "    "
   ]
  },
  {
   "cell_type": "markdown",
   "metadata": {},
   "source": [
    "Now, you need to calculate the <b>average number of pageviews per session</b> for users in the US. ```numpy``` which will be covered later has an in-built method. For now, you will iterate over the values, sum them up, and divide by the number of values. Recall ```sum``` and ```len``` methods in python."
   ]
  },
  {
   "cell_type": "markdown",
   "metadata": {},
   "source": [
    "<font color=\"magenta\">In the following block of code put in the formula for calculating the average.</font>"
   ]
  },
  {
   "cell_type": "code",
   "execution_count": 55,
   "metadata": {},
   "outputs": [
    {
     "name": "stdout",
     "output_type": "stream",
     "text": [
      "dict_items([('1f0971d7bd2f12a3c3a85ba8870b0e9d8d2b4515', 2), ('1e86f379401775771d13576803485e4ae71d6289', 2), ('c13cb2cdb6e7ebbc4e1e434a29e449e221f3c5d3', 3), ('e0f1598cc697187a9ab35f12562f7ad7ce2dcc2a', 3), ('3082f82c66a577f54e3e0ce4f1671047e21b7980', 1), ('7de0afe50af895c1263819be547c10c6650e0dbb', 1), ('e14ea3bffc200b2316f2d7d8e6b750c00cbddd50', 1), ('fd224a925d745145f025929b0ae8cffd4b526034', 2), ('d8fe83dbeba4af9b001d3ad8f8aa8940b40e06ce', 6), ('9431b24e18b18ea6b5aea81920abd33fb9ce55ee', 4), ('be2995de750dbb6be66de692c494158971d3660b', 1), ('269aa6af8470f7c178f15ba9fe201963d71844d9', 1), ('5928fa145b3ac755fd12565b6fdeea5746f5fcfa', 1), ('91888d8dd66a003b86c29f6558d037227143d5bf', 1), ('f9535cf29cd4615ab9d4d6255daa2856cdb22d2b', 1), ('7a7a18ff09da50f0f019dd8e54f00e8e930f0a77', 1), ('85bf1f93b06602d828147c5b2ffabb066e63c4b1', 3), ('180f89f7d0a6277dde30d3f1805e57745e8521bb', 1), ('24cc88336a3001ccf50873a464ae952d57732a13', 1), ('2448920bcb6e09febf42be2aed0e21403dc6d341', 2), ('16fd08976714a28c8b9a311b971ab8d032ad34b3', 1), ('c055b9f6461b606aa4a7cb7509e654febe1e24dc', 1), ('83be29373983a06d43b27717193329fa26cfeee1', 1), ('8b8f69d5e541cf6147bc971ad60f9ac51e9a17d5', 2), ('0369fdb7b2b70f63dc904ee1b893715ae9dbe148', 1)])\n"
     ]
    }
   ],
   "source": [
    "print (us_data.items())"
   ]
  },
  {
   "cell_type": "code",
   "execution_count": 54,
   "metadata": {},
   "outputs": [
    {
     "name": "stdout",
     "output_type": "stream",
     "text": [
      "1.76\n"
     ]
    }
   ],
   "source": [
    "\n",
    "avg_page_views_per_session = (sum(us_data.values())) / len(us_data.values())\n",
    "\n",
    "print(avg_page_views_per_session)"
   ]
  },
  {
   "cell_type": "markdown",
   "metadata": {},
   "source": [
    "Finally, you want to <b>sort the sessions to retrieve the ones have maximum number of logs</b>. Implement a ```sorted``` function, pass the appropriate ```lambda``` function to the ```key``` parameter and store it into the data structure ```sorted_us_data```."
   ]
  },
  {
   "cell_type": "markdown",
   "metadata": {},
   "source": [
    "<font color=\"magenta\">In the following block, write down the code for the sorted function. The print statement should output the top 5 hashed_session_cooke_id and the corresponding number of logs for that session.</font>"
   ]
  },
  {
   "cell_type": "code",
   "execution_count": 59,
   "metadata": {},
   "outputs": [
    {
     "name": "stdout",
     "output_type": "stream",
     "text": [
      "[('d8fe83dbeba4af9b001d3ad8f8aa8940b40e06ce', 6), ('9431b24e18b18ea6b5aea81920abd33fb9ce55ee', 4), ('c13cb2cdb6e7ebbc4e1e434a29e449e221f3c5d3', 3), ('e0f1598cc697187a9ab35f12562f7ad7ce2dcc2a', 3), ('85bf1f93b06602d828147c5b2ffabb066e63c4b1', 3), ('1f0971d7bd2f12a3c3a85ba8870b0e9d8d2b4515', 2), ('1e86f379401775771d13576803485e4ae71d6289', 2), ('fd224a925d745145f025929b0ae8cffd4b526034', 2), ('2448920bcb6e09febf42be2aed0e21403dc6d341', 2), ('8b8f69d5e541cf6147bc971ad60f9ac51e9a17d5', 2), ('3082f82c66a577f54e3e0ce4f1671047e21b7980', 1), ('7de0afe50af895c1263819be547c10c6650e0dbb', 1), ('e14ea3bffc200b2316f2d7d8e6b750c00cbddd50', 1), ('be2995de750dbb6be66de692c494158971d3660b', 1), ('269aa6af8470f7c178f15ba9fe201963d71844d9', 1), ('5928fa145b3ac755fd12565b6fdeea5746f5fcfa', 1), ('91888d8dd66a003b86c29f6558d037227143d5bf', 1), ('f9535cf29cd4615ab9d4d6255daa2856cdb22d2b', 1), ('7a7a18ff09da50f0f019dd8e54f00e8e930f0a77', 1), ('180f89f7d0a6277dde30d3f1805e57745e8521bb', 1), ('24cc88336a3001ccf50873a464ae952d57732a13', 1), ('16fd08976714a28c8b9a311b971ab8d032ad34b3', 1), ('c055b9f6461b606aa4a7cb7509e654febe1e24dc', 1), ('83be29373983a06d43b27717193329fa26cfeee1', 1), ('0369fdb7b2b70f63dc904ee1b893715ae9dbe148', 1)]\n",
      "('d8fe83dbeba4af9b001d3ad8f8aa8940b40e06ce', 6)\n",
      "('9431b24e18b18ea6b5aea81920abd33fb9ce55ee', 4)\n",
      "('c13cb2cdb6e7ebbc4e1e434a29e449e221f3c5d3', 3)\n",
      "('e0f1598cc697187a9ab35f12562f7ad7ce2dcc2a', 3)\n",
      "('85bf1f93b06602d828147c5b2ffabb066e63c4b1', 3)\n"
     ]
    }
   ],
   "source": [
    "sorted_us_data = sorted (us_data.items(),key =lambda x:x[1], reverse =True)\n",
    "print(sorted_us_data)\n",
    "\n",
    "for i in range(5):\n",
    "    print(sorted_us_data[i]) #This will print out the top 5 sessions with their hashed_session_cookie_id and no. of log entries"
   ]
  },
  {
   "cell_type": "code",
   "execution_count": null,
   "metadata": {
    "collapsed": true
   },
   "outputs": [],
   "source": []
  }
 ],
 "metadata": {
  "kernelspec": {
   "display_name": "Python 3",
   "language": "python",
   "name": "python3"
  },
  "language_info": {
   "codemirror_mode": {
    "name": "ipython",
    "version": 3
   },
   "file_extension": ".py",
   "mimetype": "text/x-python",
   "name": "python",
   "nbconvert_exporter": "python",
   "pygments_lexer": "ipython3",
   "version": "3.6.3"
  }
 },
 "nbformat": 4,
 "nbformat_minor": 2
}
