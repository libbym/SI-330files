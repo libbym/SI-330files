{
 "cells": [
  {
   "cell_type": "markdown",
   "metadata": {},
   "source": [
    "# Homework 1 - Data Structures and Sorting\n",
    "\n",
    "\n",
    "## Due: Friday, January 19, 2018,  11:59:00pm\n",
    "\n",
    "### Submission instructions\n",
    "After completing this homework, you will turn in two files via Canvas ->  Assignments -> Homework 1:\n",
    "Your Notebook, named si330-hw1-YOUR_UNIQUE_NAME.ipynb and\n",
    "the HTML file, named si330-hw1-YOUR_UNIQUE_NAME.html\n",
    "\n",
    "### Name:  YOUR NAME GOES HERE\n",
    "### Uniqname: YOUR UNIQNAME GOES HERE\n",
    "### People you worked with: [if you didn't work with anyone else write \"I worked by myself\" here].\n",
    "\n",
    "## Objectives\n",
    "After completing this homework assignment, you should know how to\n",
    "* use compound data structures\n",
    "* perform simple and complex sorting\n",
    "* use lambda functions\n",
    "\n",
    "In addition, this assignment will provide an opportunity to work with a large (100,000 row) data set.\n",
    "\n",
    "## Background\n",
    "\n",
    "Massive Open Online Courses (MOOCs) are a popular way for people to learn new skills.  The University of Michigan\n",
    "offers many different MOOCs, which are produced by faculty members and supported by the Office of Academic \n",
    "Innovation.\n",
    "\n",
    "MOOCs tend to be used by hundreds to hundreds of thousands of users.  These users leave \"digital exhaust\" when\n",
    "they work through the MOOC in the form of web server log entries.  We have obtained a small sample of these data\n",
    "files from Prof. Chris Brooks, who is a colleague here at UMSI.  The data files are de-identified: anything\n",
    "that could identify a person, such as their UMID or their IP address are \"hashed\" (encrypted).  Each line in the\n",
    "data file represents a \"page view\" by a user.  The schema for each line is:\n",
    "\n",
    "```umich_user_id, hashed_session_cookie_id, server_timestamp, hashed_ip, user_agent, url, initial_referrer_url, rowser_language, course_id, country_cd, region_cd, timezone, os, browser, key, value```\n",
    "\n",
    "Of note is the ```UMICH_USER_ID```, which identifies each user, and ```HASHED_SESSION_COOKIE_ID``` which identifies a session.\n",
    "Sessions are important:  they represent a collection of pageviews between the time that a user logs in and,\n",
    "usually, when they log out.\n",
    "\n",
    "We've already used the \"mooc_small.csv\" file in our lab.  We recommend that you continue to use that file for your\n",
    "development work and then switch to the \"mooc_big.csv\" file (which contains 100,000 lines of data) for your\n",
    "final analysis.  **Note that you must use the mooc_big.csv file for the work you submit.** \n",
    "\n",
    "In the lab, we went through the motions of some manipulation of the MOOC log data.  For this assignment, we'll be\n",
    "asking three real-world questions:\n",
    "\n",
    "1. How many different countries (based on ```COUNTRY_CD```) are represented in the data file?\n",
    "2. Which countries do most of the page views come from?\n",
    "3. For people accessing the MOOC from the US, what is the average number of page views per session?\n",
    "\n",
    "In addition to the MOOC data file, you're also going to use a file called ```countrycodes.tsv``` to map\n",
    "2-digit country codes to the full name of the country.  Why?  Because not everyone knows that PF is \n",
    "\"French Polynesia\"."
   ]
  },
  {
   "cell_type": "markdown",
   "metadata": {},
   "source": [
    "The rest of the notebook contains specific steps that you need to follow and complete.  Places where you need to \n",
    "do something are indicated in <font color=\"magenta\">magenta</font>."
   ]
  },
  {
   "cell_type": "markdown",
   "metadata": {},
   "source": [
    "First, let's load up the ```csv``` library; we're going to need it to read the comma- and tab-separated \n",
    "values files."
   ]
  },
  {
   "cell_type": "code",
   "execution_count": 1,
   "metadata": {
    "collapsed": true
   },
   "outputs": [],
   "source": [
    "import csv\n",
    "from collections import defaultdict"
   ]
  },
  {
   "cell_type": "markdown",
   "metadata": {},
   "source": [
    "#### Step 1. Import the data\n",
    "\n",
    "You'll load the data from the two files ```mooc_big.csv``` and ```countrycodes.tsv``` into two separate \n",
    "data structures. \n",
    "\n",
    "Let's start with ```countrycodes.tsv```.  Remember, we're going to use that file to map from the \n",
    "2-digit country code to the country name (e.g. from \"CA\" to \"Canada\").  \n",
    "\n"
   ]
  },
  {
   "cell_type": "markdown",
   "metadata": {},
   "source": [
    "\n",
    " <font color=\"magenta\">Modify the next block of code so that it loads ```countrycodes.tsv``` into a data structure\n",
    "    that would allow you to look up the country name that corresponds to the 2-digit country code.</font>"
   ]
  },
  {
   "cell_type": "code",
   "execution_count": 4,
   "metadata": {
    "collapsed": true
   },
   "outputs": [],
   "source": [
    "country_names = None # Change \"None\" to the appropriate data structure\n",
    "\n",
    "with open(\"countrycodes.tsv\", \"r\") as csvfile:\n",
    "    reader = csv.DictReader(csvfile, delimiter = \"\\t\", quotechar = '\"')\n",
    "    for row in reader:\n",
    "        \n",
    "        pass # Change this line to populate the data structure you created above with the data from the file"
   ]
  },
  {
   "cell_type": "markdown",
   "metadata": {},
   "source": [
    "Now load the MOOC log data into an appropriate data structure (start with the mooc_small.csv file, then remember to change to mooc_big.csv). For this file, you should store all the rows in a data structure."
   ]
  },
  {
   "cell_type": "markdown",
   "metadata": {},
   "source": [
    "\n",
    " <font color=\"magenta\">Modify the next block of code so that it loads the MOOC log data into a data structure \n",
    "   that will allow you to answer the three real-world questions.</font>"
   ]
  },
  {
   "cell_type": "code",
   "execution_count": 6,
   "metadata": {
    "collapsed": true
   },
   "outputs": [],
   "source": [
    "mooc_data_file_name = \"mooc.csv\" # Remember to change this later\n",
    "\n",
    "mooc_data = None # Change \"None\" to the appropriate data structure\n",
    "\n",
    "with open(mooc_data_file_name, \"r\") as csvfile:\n",
    "    reader = csv.DictReader(csvfile, delimiter = \",\", quotechar = '\"')\n",
    "    for row in reader:\n",
    "        pass; # Change this line to populate the data structure you created above with data from the file\n"
   ]
  },
  {
   "cell_type": "markdown",
   "metadata": {},
   "source": [
    "#### Step 2. Manipulating and interpreting the data to answer our questions\n",
    "\n",
    "Now that we have our data loaded, we can start to answer the real-world questions.\n",
    "\n",
    "Recall that the first question\n",
    "is <b>\"How many different countries (based on COUNTRY_CD) are represented in the data file?\"</b>\n",
    "\n",
    "To do this, you're going to have to figure out how many unique country codes there are in the MOOC log file. There are few different ways to do this, but you probably want to use either a ```set``` or a ```dict```."
   ]
  },
  {
   "cell_type": "markdown",
   "metadata": {},
   "source": [
    "<font color=\"magenta\">Modify the following code block so that the print statement at the end prints\n",
    "    the number of countries represented in the MOOC log file.</font>"
   ]
  },
  {
   "cell_type": "code",
   "execution_count": 8,
   "metadata": {
    "collapsed": true
   },
   "outputs": [
    {
     "ename": "TypeError",
     "evalue": "object of type 'NoneType' has no len()",
     "output_type": "error",
     "traceback": [
      "\u001b[0;31m---------------------------------------------------------------------------\u001b[0m",
      "\u001b[0;31mTypeError\u001b[0m                                 Traceback (most recent call last)",
      "\u001b[0;32m<ipython-input-8-09f04cc4a507>\u001b[0m in \u001b[0;36m<module>\u001b[0;34m()\u001b[0m\n\u001b[1;32m      5\u001b[0m \u001b[0;34m\u001b[0m\u001b[0m\n\u001b[1;32m      6\u001b[0m \u001b[0;31m# Do not change the following line\u001b[0m\u001b[0;34m\u001b[0m\u001b[0;34m\u001b[0m\u001b[0m\n\u001b[0;32m----> 7\u001b[0;31m \u001b[0mprint\u001b[0m\u001b[0;34m(\u001b[0m\u001b[0;34m\"There are {0} unique countries in the MOOC log data file.\"\u001b[0m\u001b[0;34m.\u001b[0m\u001b[0mformat\u001b[0m\u001b[0;34m(\u001b[0m\u001b[0mlen\u001b[0m\u001b[0;34m(\u001b[0m\u001b[0mcountries\u001b[0m\u001b[0;34m)\u001b[0m\u001b[0;34m)\u001b[0m\u001b[0;34m)\u001b[0m\u001b[0;34m\u001b[0m\u001b[0m\n\u001b[0m",
      "\u001b[0;31mTypeError\u001b[0m: object of type 'NoneType' has no len()"
     ]
    }
   ],
   "source": [
    "countries = None # Change \"None\" to an appropriate data structure\n",
    "\n",
    "for row in mooc_data:\n",
    "    pass # Change this line to include code that will populate your data structure\n",
    "\n",
    "# Do not change the following line\n",
    "print(\"There are {0} unique countries in the MOOC log data file.\".format(len(countries)))"
   ]
  },
  {
   "cell_type": "markdown",
   "metadata": {},
   "source": [
    "Next you want to find out the <b>top 5 countries with the most page views</b>. For this, you should implement a composite data structure which stores, for each country, details of each log - ```UMICH User ID``` and ```hashed_session_cookie_id```. There are different ways that you can do this. One way would be by using a ```dictionary of lists```. Think about how you would populate this list.\n",
    "\n",
    "After that you will sort the data structure using ```sorted```. You will need to write down the code to provide the ```sorted``` function with a key parameter using the ```lambda``` function. This will specify the operation to be performed on the data structure for sorting (what the data structure will be sorted by)."
   ]
  },
  {
   "cell_type": "markdown",
   "metadata": {},
   "source": [
    "<font color=\"magenta\">Modify the following code block so that the print statement at the end prints\n",
    "    the top 5 of countries represented in the MOOC log file, and the corresponding number of users.</font>"
   ]
  },
  {
   "cell_type": "code",
   "execution_count": 10,
   "metadata": {
    "collapsed": true
   },
   "outputs": [
    {
     "ename": "TypeError",
     "evalue": "'NoneType' object is not iterable",
     "output_type": "error",
     "traceback": [
      "\u001b[0;31m---------------------------------------------------------------------------\u001b[0m",
      "\u001b[0;31mTypeError\u001b[0m                                 Traceback (most recent call last)",
      "\u001b[0;32m<ipython-input-10-f52c710a412d>\u001b[0m in \u001b[0;36m<module>\u001b[0;34m()\u001b[0m\n\u001b[1;32m      5\u001b[0m \u001b[0;34m\u001b[0m\u001b[0m\n\u001b[1;32m      6\u001b[0m \u001b[0;31m#Write down the code for the lambda function to sort 'country_user_data' by the number of users from that country.\u001b[0m\u001b[0;34m\u001b[0m\u001b[0;34m\u001b[0m\u001b[0m\n\u001b[0;32m----> 7\u001b[0;31m \u001b[0msorted_country_user_data\u001b[0m \u001b[0;34m=\u001b[0m \u001b[0msorted\u001b[0m\u001b[0;34m(\u001b[0m\u001b[0mcountry_user_data\u001b[0m\u001b[0;34m)\u001b[0m\u001b[0;34m\u001b[0m\u001b[0m\n\u001b[0m\u001b[1;32m      8\u001b[0m \u001b[0;34m\u001b[0m\u001b[0m\n\u001b[1;32m      9\u001b[0m \u001b[0;31m# Do not change the following lines of code.\u001b[0m\u001b[0;34m\u001b[0m\u001b[0;34m\u001b[0m\u001b[0m\n",
      "\u001b[0;31mTypeError\u001b[0m: 'NoneType' object is not iterable"
     ]
    }
   ],
   "source": [
    "country_user_data = None # Change \"None\" to an appropriate data structure\n",
    "\n",
    "for i in mooc_data:\n",
    "    pass # Include code that will populate your data structure\n",
    "\n",
    "#Write down the code for the lambda function to sort 'country_user_data' by the number of users from that country.\n",
    "sorted_country_user_data = sorted(country_user_data) \n",
    "\n",
    "# Do not change the following lines of code. \n",
    "# This should output the top 5 countries, along with the number of users from each of those countries.\n",
    "for i in range(5):\n",
    "    print(country_names[sorted_country_user_data[i][0]], len(sorted_country_user_data[i][1]))"
   ]
  },
  {
   "cell_type": "markdown",
   "metadata": {},
   "source": [
    "From this step on, you will be working on ```country_user_data``` data structure.\n",
    "\n",
    "Here, you will need to <b>filter the data so you only have entries from the US (i.e. where COUNTRY_CD is US)</b>. You need to retrieve the number of logs for a user, for each session i.e. which have the same ```hashed_session_cookie_id```.\n",
    "\n",
    "From ```country_user_data``` data structure retrieve the entries from US. Using ```defaultdict``` you should count the number of logs (number of rows) in a session ```hashed_session_cookie_id``` into a new data structure. The number of logs/rows will give you the number of pages the user has viewed in one session."
   ]
  },
  {
   "cell_type": "markdown",
   "metadata": {},
   "source": [
    "<font color=\"magenta\">Modify the following code block so the data structure us_data contains only the entries for people from the US.</font>"
   ]
  },
  {
   "cell_type": "code",
   "execution_count": 66,
   "metadata": {
    "collapsed": true
   },
   "outputs": [],
   "source": [
    "us_data = defaultdict(None) #Change none to the appropriate data structure\n",
    "for row in country_user_data['US']:\n",
    "    pass #Write your code here to store the number of log entries per session in us_data"
   ]
  },
  {
   "cell_type": "markdown",
   "metadata": {},
   "source": [
    "Now, you need to calculate the <b>average number of pageviews per session</b> for users in the US. ```numpy``` which will be covered later has an in-built method. For now, you will iterate over the values, sum them up, and divide by the number of values. Recall ```sum``` and ```len``` methods in python."
   ]
  },
  {
   "cell_type": "markdown",
   "metadata": {},
   "source": [
    "<font color=\"magenta\">In the following block of code put in the formula for calculating the average.</font>"
   ]
  },
  {
   "cell_type": "code",
   "execution_count": 91,
   "metadata": {},
   "outputs": [
    {
     "name": "stdout",
     "output_type": "stream",
     "text": [
      "None\n"
     ]
    }
   ],
   "source": [
    "avg_page_views_per_session = None # Put in the code to get the average number of page views per session for MOOC users from the US\n",
    "print(avg_page_views_per_session)"
   ]
  },
  {
   "cell_type": "markdown",
   "metadata": {},
   "source": [
    "Finally, you want to <b>sort the sessions to retrieve the ones have maximum number of logs</b>. Implement a ```sorted``` function, pass the appropriate ```lambda``` function to the ```key``` parameter and store it into the data structure ```sorted_us_data```."
   ]
  },
  {
   "cell_type": "markdown",
   "metadata": {},
   "source": [
    "<font color=\"magenta\">In the following block, write down the code for the sorted function. The print statement should output the top 5 hashed_session_cooke_id and the corresponding number of logs for that session.</font>"
   ]
  },
  {
   "cell_type": "code",
   "execution_count": null,
   "metadata": {
    "collapsed": true
   },
   "outputs": [],
   "source": [
    "sorted_us_data = None   # Change this line to include a sorted function.\n",
    "\n",
    "for i in range(5):\n",
    "    print(sorted_us_data[i]) #This will print out the top 5 sessions with their hashed_session_cookie_id and no. of log entries"
   ]
  }
 ],
 "metadata": {
  "kernelspec": {
   "display_name": "Python 3",
   "language": "python",
   "name": "python3"
  },
  "language_info": {
   "codemirror_mode": {
    "name": "ipython",
    "version": 3
   },
   "file_extension": ".py",
   "mimetype": "text/x-python",
   "name": "python",
   "nbconvert_exporter": "python",
   "pygments_lexer": "ipython3",
   "version": "3.6.3"
  }
 },
 "nbformat": 4,
 "nbformat_minor": 2
}
