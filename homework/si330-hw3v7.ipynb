{
 "cells": [
  {
   "cell_type": "markdown",
   "metadata": {},
   "source": [
    "# SI 330: Homework 3 - To tokenize, or not to tokenize, that is the question: Natural language processing of Shakespearean text with NLTK\n",
    "\n",
    "\n",
    "## Due: Friday, February 2, 2018,  11:59:00pm\n",
    "\n",
    "### Submission instructions\n",
    "After completing this homework, you will turn in three files via Canvas ->  Assignments -> Lab 3:\n",
    "Your Notebook, named si330-hw3-YOUR_UNIQUE_NAME.ipynb and\n",
    "the HTML file, named si330-hw3-YOUR_UNIQUE_NAME.html\n",
    "\n",
    "### Name:  Libby Murray \n",
    "### Uniqname: 90594386\n",
    "### People you worked with: Rhea Cheeti\n",
    "\n",
    "## Top-Level Goal\n",
    "To use NLP techniques to determine which characters in Shakespeare's play \"Hamlet\" are most similar to each other, based on their spoken lines.\n",
    "\n",
    "## Learning Objectives\n",
    "After completing this Lab, you should know how to:\n",
    "* use NLTK to normalize and tokenize text data\n",
    "* calculate type-token ratios (TTR)\n",
    "* use NLTK to extract n-grams\n",
    "* calculate document similarity using cosines\n",
    "\n",
    "\n",
    "### Note: Suggestions for going \"Above and Beyond\" 80% are highlighted throughout this notebook."
   ]
  },
  {
   "cell_type": "markdown",
   "metadata": {},
   "source": [
    "### Outline of Steps For Analysis\n",
    "Here's an overview of the steps that you'll need to do to complete this lab.\n",
    "1. Load the raw text\n",
    "2. Iterate through the text, extracting the character and the lines that they say and tokenize the spoken lines.\n",
    "3. Normalize the text\n",
    "4. Remove stopwords\n",
    "5. Calculate type-token ration for each character\n",
    "6. (Only when repeating for bigrams and trigrams): Generate n-grams\n",
    "7. Calculate cosine similarity between each character (we supply the functions to do this)\n",
    "8. List the top 10 most similar characters, based on cosine similarity of the lines they say\n",
    "9. Visualize the results (we supply the code)\n",
    "10. Repeat steps 4 to 7 with bigrams (n-grams where n=2) and trigrams (n-grams where n=3)\n",
    "\n",
    "Each of these steps is detailed below."
   ]
  },
  {
   "cell_type": "markdown",
   "metadata": {},
   "source": [
    "Before we start the analysis, let's load the libraries that we'll need.  You should recognize re, nltk, and defaultdict (from collections).  We're also going to peek into the future of this course and use some functionality from pandas (which some of you have already used) and we're going to do some plotting so we'll use matplotlib and Seaborn.  You'll learn more about those later in the course; for now, we're just going to give you code that uses those libraries."
   ]
  },
  {
   "cell_type": "markdown",
   "metadata": {},
   "source": [
    "**NOTE: If the next code cell fails because of missing libraries, install them like you installed nltk (look at the lab for instructions on how to do that)**"
   ]
  },
  {
   "cell_type": "code",
   "execution_count": 1,
   "metadata": {
    "collapsed": true
   },
   "outputs": [],
   "source": [
    "import re\n",
    "import nltk\n",
    "import numpy as np\n",
    "import pandas as pd\n",
    "import seaborn as sns\n",
    "from matplotlib import pyplot\n",
    "from collections import defaultdict\n",
    "%matplotlib inline"
   ]
  },
  {
   "cell_type": "markdown",
   "metadata": {},
   "source": [
    "## Step 1: Load the text\n",
    "\n",
    "Just like we did in the lab, we're going to load the text from one of NLTK's corpora (in this case, the tragic play \"Hamlet\") into a variable and print the first 500 or so characters.\n",
    "\n",
    "**NOTE: If you print substantially more than 500 characters, make sure you clear your output before saving your\n",
    "notebook.  Failing to do so may make your notebook unopenable in future sessions.**"
   ]
  },
  {
   "cell_type": "code",
   "execution_count": 2,
   "metadata": {},
   "outputs": [
    {
     "name": "stdout",
     "output_type": "stream",
     "text": [
      "[The Tragedie of Hamlet by William Shakespeare 1599]\n",
      "\n",
      "\n",
      "Actus Primus. Scoena Prima.\n",
      "\n",
      "Enter Barnardo and Francisco two Centinels.\n",
      "\n",
      "  Barnardo. Who's there?\n",
      "  Fran. Nay answer me: Stand & vnfold\n",
      "your selfe\n",
      "\n",
      "   Bar. Long liue the King\n",
      "\n",
      "   Fran. Barnardo?\n",
      "  Bar. He\n",
      "\n",
      "   Fran. You come most carefully vpon your houre\n",
      "\n",
      "   Bar. 'Tis now strook twelue, get thee to bed Francisco\n",
      "\n",
      "   Fran. For this releefe much thankes: 'Tis bitter cold,\n",
      "And I am sicke at heart\n",
      "\n",
      "   Barn. Haue you had quiet Guard?\n",
      "  Fran. Not\n"
     ]
    }
   ],
   "source": [
    "raw_text = nltk.corpus.gutenberg.raw('shakespeare-hamlet.txt')\n",
    "    \n",
    "\n",
    "# Print the first 500 characters of the text.\n",
    "print(raw_text[:500])"
   ]
  },
  {
   "cell_type": "markdown",
   "metadata": {},
   "source": [
    "Next, we will retrieve the lines of a all the characters from the play and store in a dictionary.  You should store each sentence as a list. The value of your dictionary should be a list of lists for the character.\n",
    "\n",
    "## Step 2: Split lines into character names and spoken lines and tokenize the spoken lines into \n",
    "\n",
    "\n",
    "\n",
    "We suggest you use a dictionary with the key being the character name and the value being a list of lists that correspond the sentences (the outer list) and the tokenized words (the inner lists)</font>\n",
    "So you might get a dictionary with keys and values that look something like:\n",
    "\n",
    "```\n",
    "{'Bap': [['say', 'what', 'is', 'horatio', 'there'],\n",
    "              ['welcome', 'horatio', 'welcome', 'good', 'marcellus'],\n",
    "              ['i', 'haue', 'seene', 'nothing']]}\n",
    "```\n",
    "### <font color=\"magenta\">Copy and modify the code you created in the lab to split the character name from their lines.</font>"
   ]
  },
  {
   "cell_type": "code",
   "execution_count": 23,
   "metadata": {},
   "outputs": [],
   "source": [
    "#retrieve the lines of a all the characters from the play and store in a dictionary.\n",
    "#you should store each sentence as a list\n",
    "\n",
    "from nltk.tokenize import RegexpTokenizer\n",
    "from nltk.corpus import stopwords\n",
    "\n",
    "tokenizer = RegexpTokenizer(r'\\s{2,}([A-Z][a-z]{2,}\\.)(.*?)(?=\\s{2,})')  \n",
    "\n",
    "word_tokens = tokenizer.tokenize(raw_text)\n",
    "\n",
    "# print(word_tokens)\n",
    "\n",
    "\n",
    "\n"
   ]
  },
  {
   "cell_type": "markdown",
   "metadata": {},
   "source": [
    "When you do this, you will notice that there seem to be a number of different abbreviations used for the same\n",
    "characters.  For example, \"Clown\" is referred to as \"Clo\", \"Clown\" and \"Clowne\".  You should merge those multiple\n",
    "abbreviations into the same character, using your best judgement about which ones are the same.  It would be best (**Above and Beyond**) to look up the actual list of characters (use Google) and map the abbreviations onto the\n",
    "full names of the characters.  You should also use this opportunity to eliminate stage directions that managed\n",
    "to slip through your regular expression and any other questionable lines.\n",
    "\n",
    "One way to do this is to create a dictionary that maps abbreviations onto the canonical names and look up the values for each abbreviation.\n",
    "\n",
    "### <font color=\"magenta\">Write code to combine lines from different abbreviations of the same character name.</font>"
   ]
  },
  {
   "cell_type": "code",
   "execution_count": 24,
   "metadata": {
    "collapsed": true
   },
   "outputs": [],
   "source": [
    "name_lookup = {'Barnardo.': 'Bernardo', \n",
    "               'Fran.': 'Francisco', \n",
    "               'Bar.': 'Bernardo',\n",
    "               'Barn.': 'Bernardo', \n",
    "               'Hor.': 'Horatio',\n",
    "               'Mar.': 'Marcellus',\n",
    "               'Fra.': 'Francisco',\n",
    "               'Hora.': 'Horatio',\n",
    "               'Exeunt.': None,\n",
    "               'King.': 'Claudius',\n",
    "               'Volt.': 'Voltimand',\n",
    "               'Laer.': 'Laertes',\n",
    "               'Pol.': 'Polonius',\n",
    "               'Ham.': 'Hamlet',\n",
    "               'Queen.': 'Gertrude', \n",
    "               'Both.': None,\n",
    "               'All.' : None,\n",
    "               'Ophel.': 'Ophelia', \n",
    "               'Ophe.': 'Ophelia',\n",
    "               'Polon.': 'Polonius',\n",
    "               'Horat.': 'Horatio',\n",
    "               'Gho.': 'Ghost',\n",
    "               'Ghost.': 'Ghost',\n",
    "               'Marcell.': 'Marcellus', \n",
    "               'Reynol.': 'Reynaldo',\n",
    "               'Rosin.': 'Rosencratz',\n",
    "               'Guil.': 'Guildenstern',\n",
    "               'Queene.': 'Gertrude',\n",
    "               'Guild.': 'Guildenstern',\n",
    "               'Play.': 'Player Queen',\n",
    "               'Player.': 'Player Queen',\n",
    "               'Bap.': 'Baptista',\n",
    "               'Bapt.': 'Baptista',\n",
    "               'Lucian.': 'Lucianus',\n",
    "               'Hamlet.': 'Hamlet',\n",
    "               'For.': 'Fortinbras',\n",
    "               'Cap.': 'Captain',\n",
    "               'Mes.': 'Messenger',\n",
    "               'Ser.': 'Servant', \n",
    "               'Say.': 'Sailer',\n",
    "               'Kin.': 'Claudius',\n",
    "               'Clown.': 'Gravediggers',\n",
    "               'Other.': None, \n",
    "               'Clo.': 'Gravediggers', \n",
    "               'Sings.': 'Musician',\n",
    "               'Priest.': 'Priest',\n",
    "               'Gen.': 'Gentlemen', \n",
    "               'Osr.': 'Osric', \n",
    "               'Osricke.': 'Osric',\n",
    "               'Dyes.': 'Dyes',\n",
    "               'Fortin.': 'Fortinbras',\n",
    "               'Amb.': 'Ambassador'}\n"
   ]
  },
  {
   "cell_type": "markdown",
   "metadata": {},
   "source": [
    "## Step 3: Normalize text\n",
    "You know how to do this: use ```str.lower()```.\n",
    "### <font color=\"magenta\">Use str.lower() to normalize the spoken lines"
   ]
  },
  {
   "cell_type": "code",
   "execution_count": 31,
   "metadata": {},
   "outputs": [],
   "source": [
    "name_dict = defaultdict(list)\n",
    "\n",
    "for pair in word_tokens:\n",
    "    if name_lookup[pair[0]]:\n",
    "        name = name_lookup[pair[0]]\n",
    "    val = pair[1].lower()\n",
    "    tokenizer2 = RegexpTokenizer(r'[A-Za-z]+') \n",
    "    word_tokens2 = tokenizer2.tokenize(val)\n",
    "    name_dict[name].append(word_tokens2)\n",
    "\n",
    "# print(name_dict)  "
   ]
  },
  {
   "cell_type": "markdown",
   "metadata": {},
   "source": [
    "## Step 4: Remove stopwords\n",
    "\n",
    "You used stopwords in an earlier assignment.\n",
    "**NOTE: When you work with bigrams and trigrams (see step 10), you should remove bigrams that\n",
    "contain stopwords.  For example ('a','zebra') would be removed because 'a' is in the stopword list**.\n",
    "\n",
    "\n",
    "### <font color=\"magenta\">Remove stopwords from your list of words.</font>"
   ]
  },
  {
   "cell_type": "code",
   "execution_count": 33,
   "metadata": {},
   "outputs": [],
   "source": [
    "from nltk.corpus import stopwords\n",
    "stop_words = stopwords.words('english')\n",
    "\n",
    "filtered_wordsdict = defaultdict(list)\n",
    "\n",
    "for k, v in name_dict.items():\n",
    "    for lst in v:\n",
    "        for word in lst:\n",
    "            if word not in stop_words:\n",
    "                filtered_words[k].append(word)\n",
    "                \n",
    "# print (filtered_words)"
   ]
  },
  {
   "cell_type": "markdown",
   "metadata": {},
   "source": [
    "## Step 5:  Calculate type-token ratios for each character"
   ]
  },
  {
   "cell_type": "markdown",
   "metadata": {},
   "source": [
    "We would like to compare the Type-Token Ratio (TTR) for the different cast members.\n",
    "### <font color=\"magenta\">Use the dictionary created previously and calculate total number of word types, word tokens, and type-token ratio for each character.</font>\n",
    "\n",
    "Print the results in a readable, attractive format.</font>"
   ]
  },
  {
   "cell_type": "code",
   "execution_count": 34,
   "metadata": {},
   "outputs": [
    {
     "name": "stdout",
     "output_type": "stream",
     "text": [
      "Bernardo:,\n",
      " total number of word types = 76,\n",
      " word tokens = 184,\n",
      " type-token ratio = 0.41304347826086957\n",
      "Francisco:,\n",
      " total number of word types = 28,\n",
      " word tokens = 62,\n",
      " type-token ratio = 0.45161290322580644\n",
      "Horatio:,\n",
      " total number of word types = 569,\n",
      " word tokens = 1740,\n",
      " type-token ratio = 0.32701149425287357\n",
      "Marcellus:,\n",
      " total number of word types = 165,\n",
      " word tokens = 402,\n",
      " type-token ratio = 0.41044776119402987\n",
      "Claudius:,\n",
      " total number of word types = 1125,\n",
      " word tokens = 4066,\n",
      " type-token ratio = 0.2766847024102312\n",
      "Voltimand:,\n",
      " total number of word types = 77,\n",
      " word tokens = 160,\n",
      " type-token ratio = 0.48125\n",
      "Laertes:,\n",
      " total number of word types = 484,\n",
      " word tokens = 1414,\n",
      " type-token ratio = 0.3422913719943423\n",
      "Polonius:,\n",
      " total number of word types = 747,\n",
      " word tokens = 2584,\n",
      " type-token ratio = 0.28908668730650156\n",
      "Hamlet:,\n",
      " total number of word types = 2368,\n",
      " word tokens = 10776,\n",
      " type-token ratio = 0.21974758723088345\n",
      "Gertrude:,\n",
      " total number of word types = 141,\n",
      " word tokens = 314,\n",
      " type-token ratio = 0.44904458598726116\n",
      "Ophelia:,\n",
      " total number of word types = 404,\n",
      " word tokens = 1198,\n",
      " type-token ratio = 0.337228714524207\n",
      "Ghost:,\n",
      " total number of word types = 293,\n",
      " word tokens = 780,\n",
      " type-token ratio = 0.37564102564102564\n",
      "Reynaldo:,\n",
      " total number of word types = 15,\n",
      " word tokens = 60,\n",
      " type-token ratio = 0.25\n",
      "Rosencratz:,\n",
      " total number of word types = 251,\n",
      " word tokens = 628,\n",
      " type-token ratio = 0.3996815286624204\n",
      "Guildenstern:,\n",
      " total number of word types = 125,\n",
      " word tokens = 300,\n",
      " type-token ratio = 0.4166666666666667\n",
      "Player Queen:,\n",
      " total number of word types = 9,\n",
      " word tokens = 20,\n",
      " type-token ratio = 0.45\n",
      "Baptista:,\n",
      " total number of word types = 89,\n",
      " word tokens = 210,\n",
      " type-token ratio = 0.4238095238095238\n",
      "Lucianus:,\n",
      " total number of word types = 33,\n",
      " word tokens = 68,\n",
      " type-token ratio = 0.4852941176470588\n",
      "Fortinbras:,\n",
      " total number of word types = 93,\n",
      " word tokens = 210,\n",
      " type-token ratio = 0.44285714285714284\n",
      "Captain:,\n",
      " total number of word types = 2,\n",
      " word tokens = 4,\n",
      " type-token ratio = 0.5\n",
      "Messenger:,\n",
      " total number of word types = 49,\n",
      " word tokens = 116,\n",
      " type-token ratio = 0.4224137931034483\n",
      "Servant:,\n",
      " total number of word types = 5,\n",
      " word tokens = 10,\n",
      " type-token ratio = 0.5\n",
      "Sailer:,\n",
      " total number of word types = 16,\n",
      " word tokens = 36,\n",
      " type-token ratio = 0.4444444444444444\n",
      "Gravediggers:,\n",
      " total number of word types = 259,\n",
      " word tokens = 784,\n",
      " type-token ratio = 0.33035714285714285\n",
      "Priest:,\n",
      " total number of word types = 46,\n",
      " word tokens = 96,\n",
      " type-token ratio = 0.4791666666666667\n",
      "Gentlemen:,\n",
      " total number of word types = 3,\n",
      " word tokens = 6,\n",
      " type-token ratio = 0.5\n",
      "Osric:,\n",
      " total number of word types = 110,\n",
      " word tokens = 282,\n",
      " type-token ratio = 0.3900709219858156\n",
      "Ambassador:,\n",
      " total number of word types = 20,\n",
      " word tokens = 40,\n",
      " type-token ratio = 0.5\n"
     ]
    }
   ],
   "source": [
    "for k, v in filtered_words.items():\n",
    "    unique_words = defaultdict(int)\n",
    "    for word in v:\n",
    "        unique_words[word] += 1\n",
    "    type_token_ratio = len(unique_words)/sum(unique_words.values())\n",
    "    print(\"{}:,\\n total number of word types = {},\\n word tokens = {},\\n type-token ratio = {}\".format(k, len(unique_words), sum(unique_words.values()), type_token_ratio))\n",
    "\n",
    "        "
   ]
  },
  {
   "cell_type": "markdown",
   "metadata": {},
   "source": [
    "## Step 6: Generate n-grams (only when doing Step 10, see below)\n",
    "\n",
    "The ```nltk.ngrams(words,n)``` function takes a list of words and a value of n, where n=2 for bigrams and n=3 for trigrams, and return a list of n-tuples.  You can use it to generate bigrams and trigrams.\n",
    "### <font color=\"magenta\">Use ```nltk.ngrams()``` to generate bigrams and trigrams as appropriate."
   ]
  },
  {
   "cell_type": "code",
   "execution_count": 35,
   "metadata": {
    "collapsed": true,
    "scrolled": true
   },
   "outputs": [],
   "source": [
    "words = []\n",
    "for lsts in name_dict.values():\n",
    "    for lst in lsts:\n",
    "        for word in lst:\n",
    "            words.append(word)\n",
    "            \n",
    "bigrams = list(nltk.ngrams(words, 2))\n",
    "trigrams = list(nltk.ngrams(words, 3))\n",
    "\n",
    "filt_bigrams = []\n",
    "for pair in bigrams:\n",
    "    if pair[0] not in stop_words:\n",
    "         if pair[1] not in stop_words:\n",
    "                filt_bigrams.append(pair)\n",
    "                \n",
    "filt_trigrams = []\n",
    "for trip in trigrams:\n",
    "    if trip[0] not in stop_words:\n",
    "         if trip[1] not in stop_words:\n",
    "                if trip[2] not in stop_words:\n",
    "                    filt_trigrams.append(trip)\n"
   ]
  },
  {
   "cell_type": "markdown",
   "metadata": {},
   "source": [
    "## Step 7: Cosine similarity\n",
    "We want to compare the similarity of two n-gram vectors.  A document is a collection of words so we can create a _vector_ of that document with as many dimensions as there are words, and a value (the word count) that represents the length of the vector on that axis.\n",
    "\n",
    "Consider the following text:\n",
    ">\"This course is awesome.\"\n",
    "\n",
    "We could create a vector representation of the normalized (i.e. lowercased) version of it:\n",
    "\n",
    "|Word|Count|\n",
    "|---|---|\n",
    "|this | 1 | \n",
    "| course | 1 | \n",
    "| is | 1 |\n",
    "| awesome | 1 |\n",
    "\n",
    "Now let's take another text:\n",
    "\n",
    ">\"This course is a lot of work.\"\n",
    "\n",
    "The vector representation of that (normalized) text would be:\n",
    "\n",
    "| Word | Count | \n",
    "| --- | --- |\n",
    "| this | 1 |\n",
    "| course | 1 |\n",
    "| is | 1 | \n",
    "| a | 1 |\n",
    "| lot | 1 | \n",
    "| of | 1 |\n",
    "| work | 1 |\n",
    "\n",
    "If we \"align\" the two vectors, we get:\n",
    "\n",
    "| Word | Count(D1) | Count(D2) |\n",
    "| --- | --- | --- |\n",
    "| this | 1 | 1 |\n",
    "| course | 1 | 1 |\n",
    "| is | 1 | 1 |\n",
    "| awesome | 1 | 0 |\n",
    "| a | 0 | 1 |\n",
    "| lot | 0 | 1 | \n",
    "| of | 0 | 1 |\n",
    "| work | 0 | 1 |\n",
    "\n",
    "To calculate the cosine similarity, we take the dot product (also known as the inner product) of the two\n",
    "vectors and \"normalize\" it to the length of the two vectors.\n",
    "\n",
    "#### $cos(\\theta)  = {\\mathbf{A} \\cdot \\mathbf{B} \\over \\|\\mathbf{A}\\| \\|\\mathbf{B}\\|}$\n",
    "\n",
    "Here D1.D2 is the inner product. Let's say we have two word_count dictionaries, D1 = {\"and\": 3,\"of\": 2,\"the\": 5} and D2 =  {\"and\": 4,\"in\": 1,\"of\": 1,\"this\": 2}. The inner product for D1 and D2 = 14.0 \n",
    "\n",
    "#### $cos(\\theta) = 1$ means that the two documents are identical\n",
    "#### $cos(\\theta) = 0$ means that the two documents have no words in common\n",
    "\n",
    "We have created the function <b>```cosine_similarity```</b> for you which will calculate the similarity measure. You will need to pass two dictionaries into the function, where the key is the n-gram and the value is the count for the n-gram."
   ]
  },
  {
   "cell_type": "code",
   "execution_count": 16,
   "metadata": {
    "collapsed": true
   },
   "outputs": [],
   "source": [
    "import math\n",
    "\n",
    "def cosine_similarity(D1,D2):\n",
    "    \"\"\"\n",
    "    The input is a list of (word,freq) pairs.\n",
    "    Return the angle between these two vectors.\n",
    "    \"\"\"\n",
    "    numerator = inner_product(D1,D2)\n",
    "    denominator = math.sqrt(inner_product(D1,D1)*inner_product(D2,D2))\n",
    "    #return (math.acos(numerator/denominator)/math.pi) * 180\n",
    "    return (numerator/denominator)\n",
    "\n",
    "def inner_product(D1,D2):\n",
    "    \"\"\"\n",
    "    Inner product between two vectors, where vectors\n",
    "    are represented as dictionaries of (word,freq) pairs.\n",
    "    Example: inner_product({\"and\":3,\"of\":2,\"the\":5},\n",
    "                           {\"and\":4,\"in\":1,\"of\":1,\"this\":2}) = 14.0 \n",
    "    \"\"\"\n",
    "    sum = 0.0\n",
    "    for key in D1:\n",
    "        if key in D2:\n",
    "            sum += D1[key] * D2[key]\n",
    "    return sum"
   ]
  },
  {
   "cell_type": "markdown",
   "metadata": {},
   "source": [
    "Using the example from above:"
   ]
  },
  {
   "cell_type": "code",
   "execution_count": 17,
   "metadata": {},
   "outputs": [
    {
     "ename": "NameError",
     "evalue": "name 'd2' is not defined",
     "output_type": "error",
     "traceback": [
      "\u001b[0;31m---------------------------------------------------------------------------\u001b[0m",
      "\u001b[0;31mNameError\u001b[0m                                 Traceback (most recent call last)",
      "\u001b[0;32m<ipython-input-17-0c822ef4ccad>\u001b[0m in \u001b[0;36m<module>\u001b[0;34m()\u001b[0m\n\u001b[1;32m      1\u001b[0m \u001b[0md1\u001b[0m \u001b[0;34m=\u001b[0m \u001b[0;34m{\u001b[0m\u001b[0;34m\"this\"\u001b[0m\u001b[0;34m:\u001b[0m \u001b[0;36m1\u001b[0m\u001b[0;34m,\u001b[0m \u001b[0;34m\"course\"\u001b[0m\u001b[0;34m:\u001b[0m \u001b[0;36m1\u001b[0m\u001b[0;34m,\u001b[0m \u001b[0;34m\"is\"\u001b[0m\u001b[0;34m:\u001b[0m \u001b[0;36m1\u001b[0m\u001b[0;34m,\u001b[0m \u001b[0;34m\"awesome\"\u001b[0m\u001b[0;34m:\u001b[0m \u001b[0;36m1\u001b[0m\u001b[0;34m,\u001b[0m \u001b[0;34m\"a\"\u001b[0m\u001b[0;34m:\u001b[0m \u001b[0;36m0\u001b[0m\u001b[0;34m,\u001b[0m \u001b[0;34m\"lot\"\u001b[0m\u001b[0;34m:\u001b[0m \u001b[0;36m0\u001b[0m\u001b[0;34m,\u001b[0m \u001b[0;34m\"of\"\u001b[0m\u001b[0;34m:\u001b[0m \u001b[0;36m0\u001b[0m\u001b[0;34m,\u001b[0m \u001b[0;34m\"work\"\u001b[0m\u001b[0;34m:\u001b[0m \u001b[0;36m0\u001b[0m\u001b[0;34m}\u001b[0m\u001b[0;34m\u001b[0m\u001b[0m\n\u001b[1;32m      2\u001b[0m \u001b[0md1\u001b[0m \u001b[0;34m=\u001b[0m \u001b[0;34m{\u001b[0m\u001b[0;34m\"this\"\u001b[0m\u001b[0;34m:\u001b[0m \u001b[0;36m1\u001b[0m\u001b[0;34m,\u001b[0m \u001b[0;34m\"course\"\u001b[0m\u001b[0;34m:\u001b[0m \u001b[0;36m1\u001b[0m\u001b[0;34m,\u001b[0m \u001b[0;34m\"is\"\u001b[0m\u001b[0;34m:\u001b[0m \u001b[0;36m1\u001b[0m\u001b[0;34m,\u001b[0m \u001b[0;34m\"awesome\"\u001b[0m\u001b[0;34m:\u001b[0m \u001b[0;36m0\u001b[0m\u001b[0;34m,\u001b[0m \u001b[0;34m\"a\"\u001b[0m\u001b[0;34m:\u001b[0m \u001b[0;36m1\u001b[0m\u001b[0;34m,\u001b[0m \u001b[0;34m\"lot\"\u001b[0m\u001b[0;34m:\u001b[0m \u001b[0;36m1\u001b[0m\u001b[0;34m,\u001b[0m \u001b[0;34m\"of\"\u001b[0m\u001b[0;34m:\u001b[0m \u001b[0;36m1\u001b[0m\u001b[0;34m,\u001b[0m \u001b[0;34m\"work\"\u001b[0m\u001b[0;34m:\u001b[0m \u001b[0;36m1\u001b[0m\u001b[0;34m}\u001b[0m\u001b[0;34m\u001b[0m\u001b[0m\n\u001b[0;32m----> 3\u001b[0;31m \u001b[0mcosine_similarity\u001b[0m\u001b[0;34m(\u001b[0m\u001b[0md1\u001b[0m\u001b[0;34m,\u001b[0m\u001b[0md2\u001b[0m\u001b[0;34m)\u001b[0m\u001b[0;34m\u001b[0m\u001b[0m\n\u001b[0m",
      "\u001b[0;31mNameError\u001b[0m: name 'd2' is not defined"
     ]
    }
   ],
   "source": [
    "d1 = {\"this\": 1, \"course\": 1, \"is\": 1, \"awesome\": 1, \"a\": 0, \"lot\": 0, \"of\": 0, \"work\": 0}\n",
    "d1 = {\"this\": 1, \"course\": 1, \"is\": 1, \"awesome\": 0, \"a\": 1, \"lot\": 1, \"of\": 1, \"work\": 1}\n",
    "cosine_similarity(d1,d2)"
   ]
  },
  {
   "cell_type": "markdown",
   "metadata": {},
   "source": [
    "If we have two vectors that point in the same direction but are different lengths, the\n",
    "angle between them is 0 (i.e. they are identical):"
   ]
  },
  {
   "cell_type": "code",
   "execution_count": 18,
   "metadata": {
    "scrolled": true
   },
   "outputs": [
    {
     "data": {
      "text/plain": [
       "1.0"
      ]
     },
     "execution_count": 18,
     "metadata": {},
     "output_type": "execute_result"
    }
   ],
   "source": [
    "d1 = {'a': 20, 'b': 30, 'c': 44}\n",
    "d2 = {'a': 10, 'b': 15, 'c': 22}\n",
    "cosine_similarity(d1,d2)"
   ]
  },
  {
   "cell_type": "markdown",
   "metadata": {},
   "source": [
    "### <font color=\"magenta\">Use the cosine_similarity function to generate a dictionary whose keys are 2-tuples of characters and values are the cosine similarity between them</font>\n",
    "Elements should look something like:\n",
    "```\n",
    "(('King', 'Polonius'), 0.8332402081352969)\n",
    "```"
   ]
  },
  {
   "cell_type": "code",
   "execution_count": 36,
   "metadata": {},
   "outputs": [],
   "source": [
    "import itertools\n",
    "from operator import itemgetter\n",
    "chars = {}\n",
    "for k, v in filtered_words.items():\n",
    "    unique_words = defaultdict(int)\n",
    "    for word in v:\n",
    "        unique_words[word] += 1\n",
    "    chars[k] = unique_words\n",
    "\n",
    "similarities = {}\n",
    "\n",
    "what = list(itertools.product(chars.keys(), chars.keys()))\n",
    "\n",
    "for tup in what:\n",
    "    if tup[0] == tup[1]:\n",
    "        what.remove(tup)\n",
    "\n",
    "for tup in what:\n",
    "    first = tup[0]\n",
    "    second = tup[1]\n",
    "    similarities[(first, second)] = cosine_similarity(chars[first], chars[second])\n"
   ]
  },
  {
   "cell_type": "markdown",
   "metadata": {},
   "source": [
    "## Step 8: Print the top 10 most similar characters, based on cosine similarity of what they said"
   ]
  },
  {
   "cell_type": "code",
   "execution_count": 20,
   "metadata": {},
   "outputs": [
    {
     "name": "stdout",
     "output_type": "stream",
     "text": [
      "[(('Reynaldo', 'Guildenstern'), 0.739438993994632), (('Guildenstern', 'Reynaldo'), 0.739438993994632), (('Horatio', 'Reynaldo'), 0.7240090400962719), (('Reynaldo', 'Horatio'), 0.7240090400962719), (('Claudius', 'Hamlet'), 0.7067509189143314), (('Hamlet', 'Claudius'), 0.7067509189143314), (('Ophelia', 'Reynaldo'), 0.6953361604026007), (('Reynaldo', 'Ophelia'), 0.6953361604026007), (('Horatio', 'Ophelia'), 0.6947864245205476), (('Ophelia', 'Horatio'), 0.6947864245205476), (('Reynaldo', 'Rosencratz'), 0.6892687004455571), (('Rosencratz', 'Reynaldo'), 0.6892687004455571), (('Horatio', 'Rosencratz'), 0.678659944986035), (('Rosencratz', 'Horatio'), 0.678659944986035), (('Reynaldo', 'Gentlemen'), 0.6603381797442178), (('Gentlemen', 'Reynaldo'), 0.6603381797442178), (('Reynaldo', 'Captain'), 0.6469966392206304), (('Captain', 'Reynaldo'), 0.6469966392206304), (('Polonius', 'Hamlet'), 0.6388044769571106), (('Hamlet', 'Polonius'), 0.6388044769571106)]\n"
     ]
    }
   ],
   "source": [
    "similar = sorted(similarities.items(), key = lambda x: x[1], reverse = True)\n",
    "print (similar[:20])"
   ]
  },
  {
   "cell_type": "markdown",
   "metadata": {},
   "source": [
    "## Step 9: Visualize the similarity matrix\n",
    "We're jumping ahead a bit in this step, but we're supplying the code for you.  Assuming your data is in the\n",
    "format specified in Step 7 (above), you should be able to simply run the next code block to generate a \n",
    "heatmap of the correlation matrix."
   ]
  },
  {
   "cell_type": "code",
   "execution_count": 21,
   "metadata": {},
   "outputs": [
    {
     "data": {
      "image/png": "[encoded data removed]",
      "text/plain": [
       "<matplotlib.figure.Figure at 0x1a1743dfd0>"
      ]
     },
     "metadata": {},
     "output_type": "display_data"
    }
   ],
   "source": [
    "# You should not have to modify the following code\n",
    "ser = pd.Series(list(similarities.values()),\n",
    "                  index=pd.MultiIndex.from_tuples(similarities.keys()))\n",
    "df = ser.unstack().fillna(0)\n",
    "df.shape\n",
    "sns.set(rc={\"figure.figsize\": (16, 16)})\n",
    "sns.heatmap(df,cmap=\"Blues\");"
   ]
  },
  {
   "cell_type": "markdown",
   "metadata": {},
   "source": [
    "## Step 10: Repeat Steps 6-9 two more times, once using bigrams and once using trigrams (instead of single words)"
   ]
  },
  {
   "cell_type": "markdown",
   "metadata": {},
   "source": [
    "**NOTE: You can copy the code and run it  or you can go _Above and Beyond_ and refactor your code above so that you create functions that take parameters (line the n for n-grams) and then call those functions**"
   ]
  },
  {
   "cell_type": "markdown",
   "metadata": {},
   "source": [
    "### Above and Beyond Possibility\n",
    "You might want to consider running the above analyses on other Shakespearean tragedies and compare the results to these."
   ]
  },
  {
   "cell_type": "code",
   "execution_count": null,
   "metadata": {
    "collapsed": true
   },
   "outputs": [],
   "source": []
  }
 ],
 "metadata": {
  "kernelspec": {
   "display_name": "Python 3",
   "language": "python",
   "name": "python3"
  },
  "language_info": {
   "codemirror_mode": {
    "name": "ipython",
    "version": 3
   },
   "file_extension": ".py",
   "mimetype": "text/x-python",
   "name": "python",
   "nbconvert_exporter": "python",
   "pygments_lexer": "ipython3",
   "version": "3.6.3"
  }
 },
 "nbformat": 4,
 "nbformat_minor": 2
}
