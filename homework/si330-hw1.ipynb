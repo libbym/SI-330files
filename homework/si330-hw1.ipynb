{
 "cells": [
  {
   "cell_type": "raw",
   "metadata": {},
   "source": [
    "# Homework 1 - Data Structures and Sorting\n",
    "\n",
    "\n",
    "## Due: Friday, January 19, 2018,  11:59:00pm\n",
    "\n",
    "### Submission instructions\n",
    "After completing this homework, you will turn in two files via Canvas ->  Assignments -> Homework 1:\n",
    "Your Notebook, named si330-hw1-YOUR_UNIQUE_NAME.ipynb and\n",
    "the HTML file, named si330-hw1-YOUR_UNIQUE_NAME.html\n",
    "\n",
    "### Name:  YOUR NAME GOES HERE\n",
    "### Uniqname: YOUR UNIQNAME GOES HERE\n",
    "### People you worked with: [if you didn't work with anyone else write \"I worked by myself\" here].Rhea CHEETI\n",
    "\n",
    "## Objectives\n",
    "After completing this homework assignment, you should know how to\n",
    "* use compound data structures\n",
    "* perform simple and complex sorting\n",
    "* use lambda functions\n",
    "\n",
    "In addition, this assignment will provide an opportunity to work with a large (100,000 row) data set.\n",
    "\n",
    "## Background\n",
    "\n",
    "Massive Open Online Courses (MOOCs) are a popular way for people to learn new skills.  The University of Michigan\n",
    "offers many different MOOCs, which are produced by faculty members and supported by the Office of Academic \n",
    "Innovation.\n",
    "\n",
    "MOOCs tend to be used by hundreds to hundreds of thousands of users.  These users leave \"digital exhaust\" when\n",
    "they work through the MOOC in the form of web server log entries.  We have obtained a small sample of these data\n",
    "files from Prof. Chris Brooks, who is a colleague here at UMSI.  The data files are de-identified: anything\n",
    "that could identify a person, such as their UMID or their IP address are \"hashed\" (encrypted).  Each line in the\n",
    "data file represents a \"page view\" by a user.  The schema for each line is:\n",
    "\n",
    "```umich_user_id, hashed_session_cookie_id, server_timestamp, hashed_ip, user_agent, url, initial_referrer_url, rowser_language, course_id, country_cd, region_cd, timezone, os, browser, key, value```\n",
    "\n",
    "Of note is the ```UMICH_USER_ID```, which identifies each user, and ```HASHED_SESSION_COOKIE_ID``` which identifies a session.\n",
    "Sessions are important:  they represent a collection of pageviews between the time that a user logs in and,\n",
    "usually, when they log out.\n",
    "\n",
    "We've already used the \"mooc_small.csv\" file in our lab.  We recommend that you continue to use that file for your\n",
    "development work and then switch to the \"mooc_big.csv\" file (which contains 100,000 lines of data) for your\n",
    "final analysis.  **Note that you must use the mooc_big.csv file for the work you submit.** \n",
    "\n",
    "In the lab, we went through the motions of some manipulation of the MOOC log data.  For this assignment, we'll be\n",
    "asking three real-world questions:\n",
    "\n",
    "1. How many different countries (based on ```COUNTRY_CD```) are represented in the data file?\n",
    "2. Which countries do most of the page views come from?\n",
    "3. For people accessing the MOOC from the US, what is the average number of page views per session?\n",
    "\n",
    "In addition to the MOOC data file, you're also going to use a file called ```countrycodes.tsv``` to map\n",
    "2-digit country codes to the full name of the country.  Why?  Because not everyone knows that PF is \n",
    "\"French Polynesia\"."
   ]
  },
  {
   "cell_type": "markdown",
   "metadata": {},
   "source": [
    "The rest of the notebook contains specific steps that you need to follow and complete.  Places where you need to \n",
    "do something are indicated in <font color=\"magenta\">magenta</font>."
   ]
  },
  {
   "cell_type": "markdown",
   "metadata": {},
   "source": [
    "First, let's load up the ```csv``` library; we're going to need it to read the comma- and tab-separated \n",
    "values files."
   ]
  },
  {
   "cell_type": "code",
   "execution_count": 3,
   "metadata": {
    "collapsed": true
   },
   "outputs": [],
   "source": [
    "import csv\n",
    "from collections import defaultdict"
   ]
  },
  {
   "cell_type": "markdown",
   "metadata": {},
   "source": [
    "#### Step 1. Import the data\n",
    "\n",
    "You'll load the data from the two files ```mooc_big.csv``` and ```countrycodes.tsv``` into two separate \n",
    "data structures. \n",
    "\n",
    "Let's start with ```countrycodes.tsv```.  Remember, we're going to use that file to map from the \n",
    "2-digit country code to the country name (e.g. from \"CA\" to \"Canada\").  \n",
    "\n"
   ]
  },
  {
   "cell_type": "markdown",
   "metadata": {},
   "source": [
    "\n",
    " <font color=\"magenta\">Modify the next block of code so that it loads ```countrycodes.tsv``` into a data structure\n",
    "    that would allow you to look up the country name that corresponds to the 2-digit country code.</font>"
   ]
  },
  {
   "cell_type": "code",
   "execution_count": 5,
   "metadata": {
    "collapsed": true
   },
   "outputs": [],
   "source": [
    "country_names = {}\n",
    "\n",
    "with open(\"countrycodes.tsv\", \"r\") as csvfile:\n",
    "    reader = csv.DictReader(csvfile, delimiter = \"\\t\", quotechar = '\"')\n",
    "    for row in reader:\n",
    "        country_names[row['ISO ALPHA-2 Code']] = row ['Country or Area Name']\n",
    "\n",
    "\n"
   ]
  },
  {
   "cell_type": "markdown",
   "metadata": {},
   "source": [
    "Now load the MOOC log data into an appropriate data structure (start with the mooc_small.csv file, then remember to change to mooc_big.csv). For this file, you should store all the rows in a data structure."
   ]
  },
  {
   "cell_type": "markdown",
   "metadata": {},
   "source": [
    "\n",
    " <font color=\"magenta\">Modify the next block of code so that it loads the MOOC log data into a data structure \n",
    "   that will allow you to answer the three real-world questions.</font>"
   ]
  },
  {
   "cell_type": "code",
   "execution_count": 6,
   "metadata": {
    "collapsed": true,
    "scrolled": true
   },
   "outputs": [],
   "source": [
    "mooc_data_file_name = \"mooc.csv\"\n",
    "\n",
    "mooc_data = [] #data structure\n",
    "\n",
    "with open(mooc_data_file_name, \"r\") as csvfile:\n",
    "    reader = csv.DictReader(csvfile, delimiter = \",\", quotechar = '\"')\n",
    "    for row in reader:\n",
    "        mooc_data.append(row) # Change this line to populate the data structure you created above with data from the file\n"
   ]
  },
  {
   "cell_type": "markdown",
   "metadata": {},
   "source": [
    "#### Step 2. Manipulating and interpreting the data to answer our questions\n",
    "\n",
    "Now that we have our data loaded, we can start to answer the real-world questions.\n",
    "\n",
    "Recall that the first question\n",
    "is <b>\"How many different countries (based on COUNTRY_CD) are represented in the data file?\"</b>\n",
    "\n",
    "To do this, you're going to have to figure out how many unique country codes there are in the MOOC log file. There are few different ways to do this, but you probably want to use either a ```set``` or a ```dict```."
   ]
  },
  {
   "cell_type": "markdown",
   "metadata": {},
   "source": [
    "<font color=\"magenta\">Modify the following code block so that the print statement at the end prints\n",
    "    the number of countries represented in the MOOC log file.</font>"
   ]
  },
  {
   "cell_type": "code",
   "execution_count": 8,
   "metadata": {},
   "outputs": [
    {
     "name": "stdout",
     "output_type": "stream",
     "text": [
      "defaultdict(<class 'int'>, {'PF': 5, 'IT': 2, 'US': 44, 'CZ': 3, 'NO': 4, 'DE': 8, 'EG': 1, 'BY': 5, 'AU': 5, 'PS': 2, 'PL': 1, 'GD': 2, 'CA': 10, 'BR': 1, 'CN': 1, 'JM': 2, 'JP': 2, 'LB': 1, 'IQ': 1})\n",
      "19\n"
     ]
    }
   ],
   "source": [
    "# figure out how many unique country codes there are in the MOOC log file\n",
    "\n",
    "countries = defaultdict(int) # data structure\n",
    "\n",
    "for row in mooc_data:\n",
    "    code = row['country_cd']\n",
    "    countries[code]+=1\n",
    "    \n",
    "print (countries)\n",
    "print (len(countries))\n"
   ]
  },
  {
   "cell_type": "markdown",
   "metadata": {},
   "source": [
    "Next you want to find out the <b>top 5 countries with the most page views</b>. For this, you should implement a composite data structure which stores, for each country, details of each log - ```UMICH User ID``` and ```hashed_session_cookie_id```. There are different ways that you can do this. One way would be by using a ```dictionary of lists```. Think about how you would populate this list.\n",
    "\n",
    "After that you will sort the data structure using ```sorted```. You will need to write down the code to provide the ```sorted``` function with a key parameter using the ```lambda``` function. This will specify the operation to be performed on the data structure for sorting (what the data structure will be sorted by)."
   ]
  },
  {
   "cell_type": "markdown",
   "metadata": {},
   "source": [
    "<font color=\"magenta\">Modify the following code block so that the print statement at the end prints\n",
    "    the top 5 of countries represented in the MOOC log file, and the corresponding number of users.</font>"
   ]
  },
  {
   "cell_type": "code",
   "execution_count": 9,
   "metadata": {
    "scrolled": true
   },
   "outputs": [
    {
     "name": "stdout",
     "output_type": "stream",
     "text": [
      "United States of America 44\n",
      "Canada 10\n",
      "Germany 8\n",
      "French Polynesia 5\n",
      "Belarus 5\n",
      "defaultdict(<class 'list'>, {'PF': [('0ea5cc6ff0ca76782e6c0a81f070cae9cf0971d9', '67aeaede0738f24452327c34871463f0df2ad14f'), ('0ea5cc6ff0ca76782e6c0a81f070cae9cf0971d9', '67aeaede0738f24452327c34871463f0df2ad14f'), ('0ea5cc6ff0ca76782e6c0a81f070cae9cf0971d9', '67aeaede0738f24452327c34871463f0df2ad14f'), ('0ea5cc6ff0ca76782e6c0a81f070cae9cf0971d9', '67aeaede0738f24452327c34871463f0df2ad14f'), ('0ea5cc6ff0ca76782e6c0a81f070cae9cf0971d9', '67aeaede0738f24452327c34871463f0df2ad14f')], 'IT': [('5450de1c9e1874d613a9649a39352a10313a3b8f', 'd136ec74794fa1f8897f065b2377c891d18baa0b'), ('5450de1c9e1874d613a9649a39352a10313a3b8f', 'd136ec74794fa1f8897f065b2377c891d18baa0b')], 'US': [('25424b1007637699cf0c672edc7a64c2b65268fa', '1f0971d7bd2f12a3c3a85ba8870b0e9d8d2b4515'), ('4ea0a18ab02a30290dda02bdb2da8a7a6a469245', '1e86f379401775771d13576803485e4ae71d6289'), ('25424b1007637699cf0c672edc7a64c2b65268fa', '1f0971d7bd2f12a3c3a85ba8870b0e9d8d2b4515'), ('44185055eece5d1bc7986d743d240a7633d968ff', 'c13cb2cdb6e7ebbc4e1e434a29e449e221f3c5d3'), ('95cffc5948af183853735930299a0bc48c1cdc6c', 'e0f1598cc697187a9ab35f12562f7ad7ce2dcc2a'), ('90e1b71e4948330711a9bb9f2df6818532945829', '3082f82c66a577f54e3e0ce4f1671047e21b7980'), ('81f41b99410e89adfd934416faf87e361da5815f', '7de0afe50af895c1263819be547c10c6650e0dbb'), ('f9a7816134e0397b5f380ab082cdef5b37d3a323', 'e14ea3bffc200b2316f2d7d8e6b750c00cbddd50'), ('44185055eece5d1bc7986d743d240a7633d968ff', 'c13cb2cdb6e7ebbc4e1e434a29e449e221f3c5d3'), ('7fe732fdcf374ef1ea747a19e1eb28478c6ad656', 'fd224a925d745145f025929b0ae8cffd4b526034'), ('95cffc5948af183853735930299a0bc48c1cdc6c', 'e0f1598cc697187a9ab35f12562f7ad7ce2dcc2a'), ('c7e0b7e873392815abee61a53c231a1d5866a659', 'd8fe83dbeba4af9b001d3ad8f8aa8940b40e06ce'), ('1066a697903937dcb2bba46698b65c9067602b13', '9431b24e18b18ea6b5aea81920abd33fb9ce55ee'), ('c7e0b7e873392815abee61a53c231a1d5866a659', 'd8fe83dbeba4af9b001d3ad8f8aa8940b40e06ce'), ('ba41844ae5dba3fe42d7cc13c124d68062656cd2', 'be2995de750dbb6be66de692c494158971d3660b'), ('c7e0b7e873392815abee61a53c231a1d5866a659', 'd8fe83dbeba4af9b001d3ad8f8aa8940b40e06ce'), ('c7e0b7e873392815abee61a53c231a1d5866a659', 'd8fe83dbeba4af9b001d3ad8f8aa8940b40e06ce'), ('6834ae47d226b2053f130fb9e52eab3c63212ca1', '269aa6af8470f7c178f15ba9fe201963d71844d9'), ('95cffc5948af183853735930299a0bc48c1cdc6c', 'e0f1598cc697187a9ab35f12562f7ad7ce2dcc2a'), ('b8ee892ce61b98c391c7f49dac24a32569548d15', '5928fa145b3ac755fd12565b6fdeea5746f5fcfa'), ('1066a697903937dcb2bba46698b65c9067602b13', '9431b24e18b18ea6b5aea81920abd33fb9ce55ee'), ('c7e0b7e873392815abee61a53c231a1d5866a659', 'd8fe83dbeba4af9b001d3ad8f8aa8940b40e06ce'), ('c7e0b7e873392815abee61a53c231a1d5866a659', 'd8fe83dbeba4af9b001d3ad8f8aa8940b40e06ce'), ('44185055eece5d1bc7986d743d240a7633d968ff', 'c13cb2cdb6e7ebbc4e1e434a29e449e221f3c5d3'), ('bec8d341e667a015f933c171705ab73c3affdf03', '91888d8dd66a003b86c29f6558d037227143d5bf'), ('1e791177b039f48de777a632003765c1ee10f349', 'f9535cf29cd4615ab9d4d6255daa2856cdb22d2b'), ('7c08d6e31857a6cf120b5a22b5c659ead920e4dc', '7a7a18ff09da50f0f019dd8e54f00e8e930f0a77'), ('70d530b2e677aa82a680b36ba534dbabc884e010', '85bf1f93b06602d828147c5b2ffabb066e63c4b1'), ('70d530b2e677aa82a680b36ba534dbabc884e010', '85bf1f93b06602d828147c5b2ffabb066e63c4b1'), ('1066a697903937dcb2bba46698b65c9067602b13', '9431b24e18b18ea6b5aea81920abd33fb9ce55ee'), ('95b5bdb0c8007d9deb2adfdbc585300ca4346b9f', '180f89f7d0a6277dde30d3f1805e57745e8521bb'), ('32b73c34b1f858c72bfdb95114891bcc90f6856d', '24cc88336a3001ccf50873a464ae952d57732a13'), ('70d530b2e677aa82a680b36ba534dbabc884e010', '85bf1f93b06602d828147c5b2ffabb066e63c4b1'), ('1066a697903937dcb2bba46698b65c9067602b13', '9431b24e18b18ea6b5aea81920abd33fb9ce55ee'), ('5ea1e0b32644f577a0f9f08f43d793a7f8c864ef', '2448920bcb6e09febf42be2aed0e21403dc6d341'), ('5ea1e0b32644f577a0f9f08f43d793a7f8c864ef', '2448920bcb6e09febf42be2aed0e21403dc6d341'), ('02b921627914e08b888160fafef88ab27dc9338c', '16fd08976714a28c8b9a311b971ab8d032ad34b3'), ('6dc77e5d88674d7358f7a6f4fb40323a150d5b19', 'c055b9f6461b606aa4a7cb7509e654febe1e24dc'), ('7fe732fdcf374ef1ea747a19e1eb28478c6ad656', 'fd224a925d745145f025929b0ae8cffd4b526034'), ('c652fdea90bf6770420eb55236382b5353b347e6', '83be29373983a06d43b27717193329fa26cfeee1'), ('4ea0a18ab02a30290dda02bdb2da8a7a6a469245', '1e86f379401775771d13576803485e4ae71d6289'), ('152b5f9c93e7b076b88f235b8581b9945f77c2e8', '8b8f69d5e541cf6147bc971ad60f9ac51e9a17d5'), ('152b5f9c93e7b076b88f235b8581b9945f77c2e8', '8b8f69d5e541cf6147bc971ad60f9ac51e9a17d5'), ('3e09689513e561c8381174b3d25a4ae779211159', '0369fdb7b2b70f63dc904ee1b893715ae9dbe148')], 'CZ': [('a95f04999ccf8fcd0f26fb0851745073a147e009', '54cbc9f31590f6474470e6383cbebe873a886bb4'), ('a95f04999ccf8fcd0f26fb0851745073a147e009', '54cbc9f31590f6474470e6383cbebe873a886bb4'), ('a95f04999ccf8fcd0f26fb0851745073a147e009', '54cbc9f31590f6474470e6383cbebe873a886bb4')], 'NO': [('005aa91c779e6fe84b49398793dbda670dd6c352', '4e459fb2bc2cef1844be08ed0956defc5a2903f0'), ('005aa91c779e6fe84b49398793dbda670dd6c352', '4e459fb2bc2cef1844be08ed0956defc5a2903f0'), ('005aa91c779e6fe84b49398793dbda670dd6c352', '4e459fb2bc2cef1844be08ed0956defc5a2903f0'), ('005aa91c779e6fe84b49398793dbda670dd6c352', '4e459fb2bc2cef1844be08ed0956defc5a2903f0')], 'DE': [('bb116a9af763fa2f53139c1dfa851c760a667169', '7ddb832b815685736d5ae2f9c7643f17aebe7182'), ('bb116a9af763fa2f53139c1dfa851c760a667169', '7ddb832b815685736d5ae2f9c7643f17aebe7182'), ('bb116a9af763fa2f53139c1dfa851c760a667169', '7ddb832b815685736d5ae2f9c7643f17aebe7182'), ('bb116a9af763fa2f53139c1dfa851c760a667169', '7ddb832b815685736d5ae2f9c7643f17aebe7182'), ('bb116a9af763fa2f53139c1dfa851c760a667169', '7ddb832b815685736d5ae2f9c7643f17aebe7182'), ('bb116a9af763fa2f53139c1dfa851c760a667169', '7ddb832b815685736d5ae2f9c7643f17aebe7182'), ('bb116a9af763fa2f53139c1dfa851c760a667169', '7ddb832b815685736d5ae2f9c7643f17aebe7182'), ('bb116a9af763fa2f53139c1dfa851c760a667169', '7ddb832b815685736d5ae2f9c7643f17aebe7182')], 'EG': [('e996e19bc246066a26ed666c53bab9b78c0df08a', '5cbb4c477ac4d403634badcdfb56e337c6f3bb3a')], 'BY': [('17c1eed00cc46d9dfe62d95570d1b8e8846d5239', '2285f0a0087920291134f157ae2b000ba64b393a'), ('17c1eed00cc46d9dfe62d95570d1b8e8846d5239', '2285f0a0087920291134f157ae2b000ba64b393a'), ('17c1eed00cc46d9dfe62d95570d1b8e8846d5239', '2285f0a0087920291134f157ae2b000ba64b393a'), ('17c1eed00cc46d9dfe62d95570d1b8e8846d5239', '2285f0a0087920291134f157ae2b000ba64b393a'), ('17c1eed00cc46d9dfe62d95570d1b8e8846d5239', '2285f0a0087920291134f157ae2b000ba64b393a')], 'AU': [('fa5a26c846e2b93a84c3e04a00215d3dc71bb6a4', '0b42fdb57ee661987ff0b5f61ac6233ffc690e10'), ('ef31598a0a50ca98c411d19de710dc9d1f19d413', '07767224b0f2c0a6ee3698b4b465a344dcf9075f'), ('ef31598a0a50ca98c411d19de710dc9d1f19d413', '07767224b0f2c0a6ee3698b4b465a344dcf9075f'), ('826865822b68f6a6662f6dbbadad268801c140a3', 'a8408e904017fee7e764aad8d9fd826de4ca1039'), ('782769c43c43978564e030eedc6be9cd2ed6e304', '534c0fb67b85f11cd69ca7561aeb476c6f3a53bf')], 'PS': [('a9cd5f536994465902b0984126da044efd240878', 'ab4c0f7de5b299ee1a0834367f3309602d66f6a0'), ('a9cd5f536994465902b0984126da044efd240878', 'ab4c0f7de5b299ee1a0834367f3309602d66f6a0')], 'PL': [('d96e283f9c70149eb110d1c56ceece3e3d925939', '75516f5d21fdeb441eebc14f8f2ec8fbbc7cfbf7')], 'GD': [('ac0f295a5dfc41c87aa8f4865d35b0d00124fc19', '9a2f0c129a93a10bc9151617f55675998bf13fc1'), ('ac0f295a5dfc41c87aa8f4865d35b0d00124fc19', '9a2f0c129a93a10bc9151617f55675998bf13fc1')], 'CA': [('665ae36273cd614008b2ef7a203867c901bf01d2', '54620b3e3fa20977f6ee65904451000dd786eb5b'), ('10980ee1943f363a092467cd9c66bea3304d523a', '67c6ddbf996571213039c6aa62625fad479f68ac'), ('386a04196edf58eb3c6cd05e391b4b709ae9f42f', 'a3bf32e63dd62b37c3fb987de0945b36c63be022'), ('86dfa2d0e72d7818baf945a60070b79980fbb691', '31e5655913d22596d2bf5272537ee2e9aa7fc529'), ('e4f952f0d86e23b93f89af96eb7b92ab5354b281', '13e7352214c0b6492f6d96e368a0627c5474db7e'), ('e4f952f0d86e23b93f89af96eb7b92ab5354b281', '13e7352214c0b6492f6d96e368a0627c5474db7e'), ('e4f952f0d86e23b93f89af96eb7b92ab5354b281', '13e7352214c0b6492f6d96e368a0627c5474db7e'), ('e4f952f0d86e23b93f89af96eb7b92ab5354b281', '13e7352214c0b6492f6d96e368a0627c5474db7e'), ('386a04196edf58eb3c6cd05e391b4b709ae9f42f', 'a3bf32e63dd62b37c3fb987de0945b36c63be022'), ('386a04196edf58eb3c6cd05e391b4b709ae9f42f', 'a3bf32e63dd62b37c3fb987de0945b36c63be022')], 'BR': [('c43cc28e3cc1bcba91108a8d7363221e390da9cd', 'cd09ea076541584eaad669aaf2b2d755859f4d1c')], 'CN': [('f9fe5547b353ab80baf63dbfd586d691bf8d3826', '86b3e78c06b7744ad022d2e2f5f3b486e189a20c')], 'JM': [('2ec5a8127aee5cb07eaa35ca3abc03d3c4179171', '7c73da7b3f4e620ee3e39424f070d1f23c19fd17'), ('2ec5a8127aee5cb07eaa35ca3abc03d3c4179171', '7c73da7b3f4e620ee3e39424f070d1f23c19fd17')], 'JP': [('e271b54251df988396ca1e32076867dd4ba78ff0', '995c2bf6d36d8c8bf1822591baabc306b2489d7e'), ('6bcf7e85ae9729ca950c0397c8e3e940d58c2cdf', '84e60e1d375cce8ccfe2de1c467c0350c5f2e6e1')], 'LB': [('92a9df503fa2657333a42331ebd41fdb72b81ab6', '517381338e18ea883d22efd94b92cc17e04df632')], 'IQ': [('fc4d9f2f92b758747eb2009b966ba95a51d67b30', 'ebefdfb28631be26a5847d2d9a7d40572435c708')]})\n"
     ]
    }
   ],
   "source": [
    "\n",
    "\n",
    "\n",
    "##After, sort the data structure using sorted\n",
    "country_user_data = defaultdict(list) #appropriate data structure\n",
    "\n",
    "for i in range(len(mooc_data)):\n",
    "    ## for each country, UMICH User ID & hashed_session_cookie_id\n",
    "    user_id = mooc_data[i]['umich_user_id']\n",
    "    cookie_id = mooc_data[i]['hashed_session_cookie_id']\n",
    "    code = mooc_data[i]['country_cd']\n",
    "    \n",
    "    info =(user_id,cookie_id)\n",
    "    \n",
    "    country_user_data[code].append(info)#code that will populate your data structure\n",
    "    \n",
    "\n",
    "# print(country_user_data)\n",
    "\n",
    "# # #Write down the code for the lambda function to sort 'country_user_data' by the number of users from that country.\n",
    "sorted_country_user_data = sorted(country_user_data.items(), key= lambda x:len(x[1]), reverse =True) \n",
    "\n",
    "# print(sorted_country_user_data)\n",
    "\n",
    "# Do not change the following lines of code. \n",
    "# This should output the top 5 countries, along with the number of users from each of those countries.\n",
    "for i in range(5):\n",
    "    print(country_names[sorted_country_user_data[i][0]], len(sorted_country_user_data[i][1]))\n",
    "    \n",
    "print (country_user_data)"
   ]
  },
  {
   "cell_type": "markdown",
   "metadata": {},
   "source": [
    "From this step on, you will be working on ```country_user_data``` data structure.\n",
    "\n",
    "Here, you will need to <b>filter the data so you only have entries from the US (i.e. where COUNTRY_CD is US)</b>. You need to retrieve the number of logs for a user, for each session i.e. which have the same ```hashed_session_cookie_id```.\n",
    "\n",
    "From ```country_user_data``` data structure retrieve the entries from US. Using ```defaultdict``` you should count the number of logs (number of rows) in a session ```hashed_session_cookie_id``` into a new data structure. The number of logs/rows will give you the number of pages the user has viewed in one session."
   ]
  },
  {
   "cell_type": "markdown",
   "metadata": {},
   "source": [
    "<font color=\"magenta\">Modify the following code block so the data structure us_data contains only the entries for people from the US.</font>"
   ]
  },
  {
   "cell_type": "code",
   "execution_count": 88,
   "metadata": {
    "collapsed": true
   },
   "outputs": [],
   "source": [
    "us_data = defaultdict(int) #Change none to the appropriate data structure\n",
    "for row in country_user_data['US']:\n",
    "    us_data[row[1]]+=1 #store the number of log entries per session in us_data\n",
    "   "
   ]
  },
  {
   "cell_type": "markdown",
   "metadata": {},
   "source": [
    "Now, you need to calculate the <b>average number of pageviews per session</b> for users in the US. ```numpy``` which will be covered later has an in-built method. For now, you will iterate over the values, sum them up, and divide by the number of values. Recall ```sum``` and ```len``` methods in python."
   ]
  },
  {
   "cell_type": "markdown",
   "metadata": {},
   "source": [
    "<font color=\"magenta\">In the following block of code put in the formula for calculating the average.</font>"
   ]
  },
  {
   "cell_type": "code",
   "execution_count": 80,
   "metadata": {},
   "outputs": [
    {
     "name": "stdout",
     "output_type": "stream",
     "text": [
      "1.76\n"
     ]
    }
   ],
   "source": [
    "\n",
    "counter = 0\n",
    "for item in us_data:\n",
    "     counter = counter + (us_data[item])     \n",
    "\n",
    "avg_page_views_per_session = (counter / (len(us_data)) ) # Put in the code to get the average number of page views per session for MOOC users from the US\n",
    "print(avg_page_views_per_session)"
   ]
  },
  {
   "cell_type": "markdown",
   "metadata": {},
   "source": [
    "Finally, you want to <b>sort the sessions to retrieve the ones have maximum number of logs</b>. Implement a ```sorted``` function, pass the appropriate ```lambda``` function to the ```key``` parameter and store it into the data structure ```sorted_us_data```."
   ]
  },
  {
   "cell_type": "markdown",
   "metadata": {},
   "source": [
    "<font color=\"magenta\">In the following block, write down the code for the sorted function. The print statement should output the top 5 hashed_session_cooke_id and the corresponding number of logs for that session.</font>"
   ]
  },
  {
   "cell_type": "code",
   "execution_count": 87,
   "metadata": {},
   "outputs": [
    {
     "name": "stdout",
     "output_type": "stream",
     "text": [
      "('d8fe83dbeba4af9b001d3ad8f8aa8940b40e06ce', 6)\n",
      "('9431b24e18b18ea6b5aea81920abd33fb9ce55ee', 4)\n",
      "('c13cb2cdb6e7ebbc4e1e434a29e449e221f3c5d3', 3)\n",
      "('e0f1598cc697187a9ab35f12562f7ad7ce2dcc2a', 3)\n",
      "('85bf1f93b06602d828147c5b2ffabb066e63c4b1', 3)\n"
     ]
    }
   ],
   "source": [
    "sorted_us_data = sorted(us_data.items(), key=lambda x:x[1], reverse =True)   # Change this line to include a sorted function.\n",
    "\n",
    "for i in range(5):\n",
    "    print(sorted_us_data[i]) #This will print out the top 5 sessions with their hashed_session_cookie_id and no. of log entries"
   ]
  },
  {
   "cell_type": "code",
   "execution_count": 98,
   "metadata": {},
   "outputs": [
    {
     "name": "stdout",
     "output_type": "stream",
     "text": [
      "('US', 44)\n",
      "defaultdict(<class 'int'>, {})\n",
      "('CA', 10)\n",
      "defaultdict(<class 'int'>, {})\n",
      "('DE', 8)\n",
      "defaultdict(<class 'int'>, {})\n",
      "('PF', 5)\n",
      "defaultdict(<class 'int'>, {})\n",
      "('BY', 5)\n",
      "defaultdict(<class 'int'>, {})\n"
     ]
    }
   ],
   "source": [
    "#the top 5 countries with the highiest amount of unique country codes in the MOOC log file\n",
    "\n",
    "sorted_mooc_countries = sorted(countries.items(), key = lambda x:x[1], reverse=True)\n",
    "for i in range(5):\n",
    "    print(sorted_mooc_countries[i])\n",
    "    country = sorted_mooc_countries[i][0]\n",
    "    country_dict =defaultdict(int)\n",
    "    for row in country_user_data[country]:\n",
    "        us_data[row[1]]+=1\n",
    "    print (country_dict)\n",
    "\n"
   ]
  },
  {
   "cell_type": "code",
   "execution_count": null,
   "metadata": {
    "collapsed": true
   },
   "outputs": [],
   "source": []
  }
 ],
 "metadata": {
  "kernelspec": {
   "display_name": "Python 3",
   "language": "python",
   "name": "python3"
  },
  "language_info": {
   "codemirror_mode": {
    "name": "ipython",
    "version": 3
   },
   "file_extension": ".py",
   "mimetype": "text/x-python",
   "name": "python",
   "nbconvert_exporter": "python",
   "pygments_lexer": "ipython3",
   "version": "3.6.3"
  }
 },
 "nbformat": 4,
 "nbformat_minor": 2
}
